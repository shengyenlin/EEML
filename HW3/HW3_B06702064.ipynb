{
 "cells": [
  {
   "cell_type": "code",
   "execution_count": 1,
   "metadata": {},
   "outputs": [],
   "source": [
    "import os\n",
    "import random\n",
    "import glob\n",
    "import gc\n",
    "import csv\n",
    "import torch\n",
    "import time\n",
    "import optuna\n",
    "import numpy as np\n",
    "import pandas as pd\n",
    "import matplotlib.pyplot as plt\n",
    "from sklearn.model_selection import train_test_split\n",
    "from sklearn.utils import class_weight\n",
    "from sklearn.metrics import confusion_matrix\n",
    "from math import floor\n",
    "\n",
    "import torch\n",
    "import torch.nn as nn\n",
    "import torch.optim as optim\n",
    "from torchvision import transforms\n",
    "from torch.utils.data import DataLoader, Dataset\n",
    "from torchsummary import summary\n",
    "\n",
    "from PIL import Image\n",
    "import seaborn as sns\n",
    "import plotly.io as pio\n",
    "pio.renderers.default = \"vscode\""
   ]
  },
  {
   "cell_type": "code",
   "execution_count": 2,
   "metadata": {},
   "outputs": [],
   "source": [
    "TRA_PATH = 'data/train/'\n",
    "TST_PATH = 'data/test/'\n",
    "LABEL_PATH = 'data/train.csv'\n",
    "SEED = 5566\n",
    "use_gpu = torch.cuda.is_available()\n",
    "device = torch.device(\"cuda\" if use_gpu else \"cpu\")\n",
    "torch.backends.cudnn.deterministic = True\n",
    "torch.backends.cudnn.benchmark = False\n",
    "torch.manual_seed(SEED)\n",
    "torch.cuda.manual_seed_all(SEED)\n",
    "random.seed(SEED)\n",
    "np.random.seed(SEED)"
   ]
  },
  {
   "cell_type": "code",
   "execution_count": 3,
   "metadata": {},
   "outputs": [],
   "source": [
    "emotion_cat = {0:'Anger', 1:'Disgust', 2:'Fear', 3:'Happiness', 4: 'Sadness', 5: 'Surprise', 6: 'Neutral'}\n",
    "\n",
    "def load_train_data(label_path):\n",
    "    train_label = pd.read_csv(label_path)['label'].values.tolist()\n",
    "    train_image = [f'data/train/{i+7000}.jpg' for i in range(len(train_label))]\n",
    "    return train_image, train_label\n",
    "\n",
    "def load_test_data(img_path):\n",
    "    test_set = [f'{img_path}/{i}.jpg' for i in range(7000)]\n",
    "    return test_set"
   ]
  },
  {
   "cell_type": "code",
   "execution_count": 4,
   "metadata": {},
   "outputs": [],
   "source": [
    "class FaceExpressionDataset(Dataset):\n",
    "    def __init__(self, data, label, augment=None):\n",
    "        self.data = data\n",
    "        self.label = label\n",
    "        self.augment = augment\n",
    "\n",
    "    def __len__(self):\n",
    "        return len(self.data)\n",
    "    \n",
    "    def read_img(self, idx):\n",
    "        img = Image.open(self.data[idx])\n",
    "        img = torch.from_numpy(np.array(img)).float()\n",
    "        if not self.augment is None:\n",
    "            img = self.augment(img)\n",
    "        return img\n",
    "    \n",
    "    def __getitem__(self, idx):\n",
    "        img = self.read_img(idx)\n",
    "        label = self.label[idx]\n",
    "        return img, label\n",
    "    \n",
    "class TestingDataset(Dataset):\n",
    "    def __init__(self, data, augment=None):\n",
    "        self.data = data\n",
    "        self.augment = augment\n",
    "\n",
    "    def __len__(self):\n",
    "        return len(self.data)\n",
    "    \n",
    "    def read_img(self, idx):\n",
    "        img = Image.open(self.data[idx])\n",
    "        img = torch.from_numpy(np.array(img)).float()\n",
    "        if not self.augment is None:\n",
    "            img = self.augment(img)\n",
    "        return img\n",
    "    \n",
    "    def __getitem__(self, idx):\n",
    "        img = self.read_img(idx)\n",
    "        return img"
   ]
  },
  {
   "cell_type": "code",
   "execution_count": 5,
   "metadata": {},
   "outputs": [],
   "source": [
    "train_image, train_label = load_train_data(LABEL_PATH)\n",
    "test_set = load_test_data(TST_PATH) \n",
    "train_image, valid_image, train_label, valid_label = train_test_split(train_image, train_label, stratify=train_label)"
   ]
  },
  {
   "cell_type": "code",
   "execution_count": 5,
   "metadata": {},
   "outputs": [
    {
     "ename": "NameError",
     "evalue": "name 'FaceExpressionDataset' is not defined",
     "output_type": "error",
     "traceback": [
      "\u001b[0;31m---------------------------------------------------------------------------\u001b[0m",
      "\u001b[0;31mNameError\u001b[0m                                 Traceback (most recent call last)",
      "\u001b[0;32m<ipython-input-5-626277ccb580>\u001b[0m in \u001b[0;36m<module>\u001b[0;34m()\u001b[0m\n\u001b[1;32m     20\u001b[0m                 ])\n\u001b[1;32m     21\u001b[0m             }\n\u001b[0;32m---> 22\u001b[0;31m \u001b[0mtrain_dataset\u001b[0m \u001b[0;34m=\u001b[0m \u001b[0mFaceExpressionDataset\u001b[0m\u001b[0;34m(\u001b[0m\u001b[0mtrain_image\u001b[0m\u001b[0;34m,\u001b[0m \u001b[0mtrain_label\u001b[0m\u001b[0;34m,\u001b[0m \u001b[0mimage_transforms\u001b[0m\u001b[0;34m[\u001b[0m\u001b[0;34m\"train\"\u001b[0m\u001b[0;34m]\u001b[0m\u001b[0;34m)\u001b[0m\u001b[0;34m\u001b[0m\u001b[0;34m\u001b[0m\u001b[0m\n\u001b[0m\u001b[1;32m     23\u001b[0m \u001b[0mvalid_dataset\u001b[0m \u001b[0;34m=\u001b[0m \u001b[0mFaceExpressionDataset\u001b[0m\u001b[0;34m(\u001b[0m\u001b[0mvalid_image\u001b[0m\u001b[0;34m,\u001b[0m \u001b[0mvalid_label\u001b[0m\u001b[0;34m,\u001b[0m \u001b[0mimage_transforms\u001b[0m\u001b[0;34m[\u001b[0m\u001b[0;34m\"valid\"\u001b[0m\u001b[0;34m]\u001b[0m\u001b[0;34m)\u001b[0m\u001b[0;34m\u001b[0m\u001b[0;34m\u001b[0m\u001b[0m\n\u001b[1;32m     24\u001b[0m \u001b[0mtest_dataset\u001b[0m \u001b[0;34m=\u001b[0m \u001b[0mTestingDataset\u001b[0m\u001b[0;34m(\u001b[0m\u001b[0mtest_set\u001b[0m\u001b[0;34m,\u001b[0m \u001b[0mimage_transforms\u001b[0m\u001b[0;34m[\u001b[0m\u001b[0;34m\"test\"\u001b[0m\u001b[0;34m]\u001b[0m\u001b[0;34m)\u001b[0m\u001b[0;34m\u001b[0m\u001b[0;34m\u001b[0m\u001b[0m\n",
      "\u001b[0;31mNameError\u001b[0m: name 'FaceExpressionDataset' is not defined"
     ]
    }
   ],
   "source": [
    "#運用資料集的圖片算出\n",
    "mean_img = 0.5081561803817749\n",
    "std_img = 0.2644411027431488\n",
    "image_transforms = {'train':transforms.Compose([\n",
    "                transforms.ToPILImage(),\n",
    "                transforms.RandomVerticalFlip(),\n",
    "                transforms.RandomRotation(degrees = (-20, 20)),\n",
    "                transforms.ToTensor(),\n",
    "                transforms.Normalize(mean=mean_img, std=std_img)\n",
    "                     ]),\n",
    "            'valid': transforms.Compose([\n",
    "                transforms.ToPILImage(),\n",
    "                transforms.ToTensor(),\n",
    "                transforms.Normalize(mean=mean_img, std=std_img)\n",
    "                    ]),\n",
    "            'test': transforms.Compose([\n",
    "                transforms.ToPILImage(),\n",
    "                transforms.ToTensor(),\n",
    "                transforms.Normalize(mean=mean_img, std=std_img)\n",
    "                ])\n",
    "            }\n",
    "train_dataset = FaceExpressionDataset(train_image, train_label, image_transforms[\"train\"])\n",
    "valid_dataset = FaceExpressionDataset(valid_image, valid_label, image_transforms[\"valid\"])\n",
    "test_dataset = TestingDataset(test_set, image_transforms[\"test\"])"
   ]
  },
  {
   "cell_type": "code",
   "execution_count": 4,
   "metadata": {},
   "outputs": [],
   "source": [
    "class FaceExpressionNet(nn.Module):\n",
    "    def __init__(self):\n",
    "        super(FaceExpressionNet, self).__init__()\n",
    "\n",
    "        ###########################general information###########################\n",
    "        self.conv1_out_channels = 64\n",
    "        self.leakyReLU1_slope = 0.05\n",
    "        self.conv1_dropout_rate = 0.2\n",
    "\n",
    "        self.conv0 = nn.Sequential(\n",
    "            nn.Conv2d(1, self.conv1_out_channels, kernel_size=5, padding=2),\n",
    "            nn.LeakyReLU(negative_slope=self.leakyReLU1_slope),\n",
    "            nn.BatchNorm2d(self.conv1_out_channels),\n",
    "            nn.Dropout2d(0.2)\n",
    "        )\n",
    "        self.conv1 = nn.Sequential(\n",
    "            nn.Conv2d(self.conv1_out_channels, self.conv1_out_channels, kernel_size=5, padding=2),\n",
    "            nn.LeakyReLU(negative_slope=self.leakyReLU1_slope),\n",
    "            nn.BatchNorm2d(self.conv1_out_channels),\n",
    "            nn.MaxPool2d(2),\n",
    "            nn.Dropout2d(0.25)\n",
    "        )\n",
    "\n",
    "        #########################location information######################\n",
    "        self.conv2_out_channels = 512\n",
    "        self.leakyReLU2_slope = 0.05\n",
    "        self.conv2_dropout_rate = 0.5\n",
    "        \n",
    "        self.conv2 = nn.Sequential(\n",
    "            nn.Conv2d(self.conv1_out_channels, 128, kernel_size=3, padding=1),\n",
    "            nn.LeakyReLU(negative_slope=self.leakyReLU2_slope),\n",
    "            nn.BatchNorm2d(128),\n",
    "            nn.MaxPool2d(2),\n",
    "            nn.Dropout2d(0.3)\n",
    "        )\n",
    "        self.conv3 = nn.Sequential(\n",
    "            nn.Conv2d(128, self.conv2_out_channels, kernel_size=3, padding=1),\n",
    "            nn.LeakyReLU(negative_slope=self.leakyReLU2_slope),\n",
    "            nn.BatchNorm2d(self.conv2_out_channels),\n",
    "            nn.MaxPool2d(2),\n",
    "            nn.Dropout2d(0.4)\n",
    "        )\n",
    "        self.conv4 = nn.Sequential(\n",
    "            nn.Conv2d(self.conv2_out_channels, self.conv2_out_channels, kernel_size=3,padding=1),\n",
    "            nn.LeakyReLU(negative_slope=self.leakyReLU2_slope),\n",
    "            nn.BatchNorm2d(self.conv2_out_channels),\n",
    "            nn.MaxPool2d(2),\n",
    "            nn.Dropout2d(0.5)\n",
    "        )\n",
    "        self.fc1 = nn.Sequential(\n",
    "            nn.Linear(4*4*self.conv2_out_channels, self.conv2_out_channels),\n",
    "            nn.ReLU(),\n",
    "            nn.BatchNorm1d(self.conv2_out_channels),\n",
    "            nn.Dropout(0.5)\n",
    "        )\n",
    "        self.fc2 = nn.Sequential(\n",
    "            nn.Linear(self.conv2_out_channels, self.conv2_out_channels),\n",
    "            nn.ReLU(),\n",
    "            nn.BatchNorm1d(self.conv2_out_channels),\n",
    "            nn.Dropout(0.5)\n",
    "        )\n",
    "        self.fc3 = nn.Linear(self.conv2_out_channels, 7)\n",
    "\n",
    "    def forward(self, x):\n",
    "        x = self.conv0(x)\n",
    "        x = self.conv1(x)\n",
    "        x = self.conv2(x)\n",
    "        x = self.conv3(x)\n",
    "        x = self.conv4(x)\n",
    "        x = x.view(-1, 4*4*self.conv2_out_channels)\n",
    "        x = self.fc1(x)\n",
    "        x = self.fc2(x)\n",
    "        x = self.fc3(x)\n",
    "        return x"
   ]
  },
  {
   "cell_type": "code",
   "execution_count": 8,
   "metadata": {},
   "outputs": [],
   "source": [
    "def train(train_loader, model, loss_fn, optimizer, device):\n",
    "    model.train()\n",
    "    gc.collect()\n",
    "    torch.cuda.empty_cache()\n",
    "    train_loss = []\n",
    "    train_acc = []\n",
    "    for (img, label) in train_loader:\n",
    "        img = img.to(device)\n",
    "        label = label.to(device)\n",
    "        optimizer.zero_grad()\n",
    "        output = model(img)\n",
    "        loss = loss_fn(output, label)\n",
    "        loss.backward()            \n",
    "        optimizer.step()\n",
    "        with torch.no_grad():\n",
    "            predict = torch.argmax(output, dim=-1)\n",
    "            acc = np.mean((label == predict).cpu().numpy())\n",
    "            train_acc.append(acc)\n",
    "            train_loss.append(loss.item())\n",
    "        del img, label, output, loss, predict, acc\n",
    "        torch.cuda.empty_cache()\n",
    "    train_acc = np.mean(train_acc)\n",
    "    train_loss = np.mean(train_loss)\n",
    "    return train_acc, train_loss\n",
    "    \n",
    "    \n",
    "def valid(valid_loader, model, loss_fn, device):\n",
    "    model.eval()\n",
    "    with torch.no_grad():\n",
    "        valid_loss = []\n",
    "        valid_acc = []\n",
    "        for idx, (img, label) in enumerate(valid_loader):\n",
    "            img = img.to(device)\n",
    "            label = label.to(device)\n",
    "            output = model(img)\n",
    "            loss = loss_fn(output, label)\n",
    "            predict = torch.argmax(output, dim=-1)\n",
    "            acc = (label == predict).cpu().tolist()\n",
    "            valid_loss.append(loss.item())\n",
    "            valid_acc += acc\n",
    "            del img, label, output, loss, predict, acc\n",
    "            torch.cuda.empty_cache()\n",
    "\n",
    "    valid_acc = np.mean(valid_acc)\n",
    "    valid_loss = np.mean(valid_loss)\n",
    "    gc.collect()\n",
    "    torch.cuda.empty_cache()\n",
    "    return valid_acc, valid_loss\n",
    "\n",
    "def save_checkpoint(model, prefix='model_b06702064'):\n",
    "    checkpoint_path = f'{prefix}.pth'\n",
    "    torch.save(model.state_dict(), checkpoint_path)\n",
    "    #print('model saved to %s' % checkpoint_path)"
   ]
  },
  {
   "cell_type": "code",
   "execution_count": null,
   "metadata": {},
   "outputs": [],
   "source": [
    "def init_weights(m):\n",
    "    if isinstance(m, nn.Linear) or isinstance(m, nn.Conv2d):\n",
    "        torch.nn.init.xavier_uniform_(m.weight)\n",
    "        m.bias.data.fill_(0.01)\n",
    "\n",
    "model = FaceExpressionNet()\n",
    "model.apply(init_weights)\n",
    "model.to(device)\n",
    "\n",
    "#tunning\n",
    "optimizer_name = \"Adam\"\n",
    "lr = 0.01\n",
    "batch_size = 128\n",
    "\n",
    "optimizer = getattr(optim, optimizer_name)(model.parameters(), lr=lr)\n",
    "loss_fn = nn.CrossEntropyLoss()\n",
    "\n",
    "num_epoch = 500\n",
    "\n",
    "#build data loader\n",
    "train_loader = DataLoader(train_dataset, batch_size=batch_size, shuffle=True)\n",
    "valid_loader = DataLoader(valid_dataset, batch_size=batch_size, shuffle=False)      \n",
    "\n",
    "#record\n",
    "acc_record = []\n",
    "best_valid_acc = 0\n",
    "best_valid_loss = 999999\n",
    "best_epoch = 0\n",
    "\n",
    "no_update_cnt = 0\n",
    "patience = 10\n",
    "x = time.time()\n",
    "for epoch in range(num_epoch):\n",
    "\n",
    "    train_acc, train_loss = train(train_loader, model, loss_fn, optimizer, device)\n",
    "    valid_acc, valid_loss = valid(valid_loader, model, loss_fn, device)\n",
    "    acc_record.append(valid_acc)\n",
    "    if valid_acc > best_valid_acc:\n",
    "        model_name = \"model_best\"\n",
    "        save_checkpoint(model, optimizer, prefix=model_name)\n",
    "        best_valid_loss = valid_loss\n",
    "        best_valid_acc = valid_acc\n",
    "        best_epoch = epoch\n",
    "        no_update_cnt = 0\n",
    "    else:\n",
    "        no_update_cnt += 1\n",
    "    y = time.time()\n",
    "    time_train = (y - x) / 60\n",
    "    print(f\"Epoch {epoch}: {round(time_train, 2)} min elapsed, train acc: {round(train_acc * 100, 2)}%, train loss: {round(train_loss, 3)}, valid acc: {round(valid_acc * 100, 2)}%, valid loss: {round(valid_loss, 3)}\")\n",
    "    gc.collect()\n",
    "    torch.cuda.empty_cache()\n",
    "    #Early stop\n",
    "    if no_update_cnt > patience:\n",
    "        break\n",
    "\n",
    "print('########################################################')\n",
    "print(\"Finish model tuning\")\n",
    "print(f\"Best epoch is {best_epoch}, Accuracy: {best_valid_acc}, Loss: {best_valid_loss}\")\n",
    "print('########################################################')"
   ]
  },
  {
   "cell_type": "markdown",
   "metadata": {},
   "source": [
    "# Validation"
   ]
  },
  {
   "cell_type": "code",
   "execution_count": 11,
   "metadata": {},
   "outputs": [],
   "source": [
    "def predict(data_loader, model, device, isValid = False, isTesting = False):\n",
    "    with torch.no_grad():\n",
    "        predict_result = []\n",
    "        if isValid:\n",
    "            for (img, label) in data_loader:\n",
    "                img = img.to(device)\n",
    "                output = model(img)\n",
    "                predict = torch.argmax(output, dim=-1).tolist()\n",
    "                predict_result += predict\n",
    "        if isTesting:\n",
    "            for img in data_loader:\n",
    "                img = img.to(device)\n",
    "                output = model(img)\n",
    "                predict = torch.argmax(output, dim=-1).tolist()\n",
    "                predict_result += predict\n",
    "    return predict_result"
   ]
  },
  {
   "cell_type": "code",
   "execution_count": 20,
   "metadata": {},
   "outputs": [],
   "source": [
    "model = FaceExpressionNet()\n",
    "model.load_state_dict(torch.load(\"./model_best.pth\"))\n",
    "model = model.to(device)\n",
    "batch_size = 1024\n",
    "valid_loader = DataLoader(valid_dataset, batch_size=batch_size, shuffle=False)\n",
    "valid_pred = predict(valid_loader, model, device, isValid = True)"
   ]
  },
  {
   "cell_type": "code",
   "execution_count": 29,
   "metadata": {},
   "outputs": [
    {
     "data": {
      "image/png": "[encoded data removed]",
      "text/plain": [
       "<Figure size 648x432 with 2 Axes>"
      ]
     },
     "metadata": {
      "needs_background": "light"
     },
     "output_type": "display_data"
    }
   ],
   "source": [
    "cf_matrix = confusion_matrix(valid_label, valid_pred)                                \n",
    "# 計算每個class的accuracy\n",
    "per_cls_acc = cf_matrix.diagonal()/cf_matrix.sum(axis=0)\n",
    "emotion_cat = {0:'Anger', 1:'Disgust', 2:'Fear', 3:'Happiness', 4: 'Sadness', 5: 'Surprise', 6: 'Neutral'}                  \n",
    "class_names = list(emotion_cat.values())\n",
    "\n",
    "df_cm = pd.DataFrame(cf_matrix, class_names, class_names)     \n",
    "plt.figure(figsize = (9,6))\n",
    "sns.heatmap(df_cm, annot=True, fmt=\"d\", cmap=\"YlGnBu\")\n",
    "plt.xlabel(\"model prediction\")\n",
    "plt.ylabel(\"label (ground truth)\")\n",
    "plt.savefig(\"confusion_matrix.png\")"
   ]
  },
  {
   "cell_type": "markdown",
   "metadata": {},
   "source": [
    "# Tesing"
   ]
  },
  {
   "cell_type": "code",
   "execution_count": 12,
   "metadata": {},
   "outputs": [],
   "source": [
    "def write_to_csv(predict_result, file_name='./submission_1113.csv'):\n",
    "    with open(file_name, 'w', newline='') as csvfile:\n",
    "        writer = csv.writer(csvfile)\n",
    "        writer.writerow(['id', 'label'])\n",
    "        for i in range(len(predict_result)):\n",
    "            writer.writerow([str(i), str(predict_result[i])])"
   ]
  },
  {
   "cell_type": "code",
   "execution_count": 13,
   "metadata": {},
   "outputs": [],
   "source": [
    "model = FaceExpressionNet()\n",
    "model.load_state_dict(torch.load(\"./model_best.pth\"))\n",
    "model = model.to(device)\n",
    "batch_size = 1024\n",
    "test_loader = DataLoader(test_dataset, batch_size=batch_size, shuffle=False)\n",
    "test_pred = predict(test_loader, model, device, isValid = False, isTesting = True)\n",
    "write_to_csv(test_pred, './submission.csv')"
   ]
  },
  {
   "cell_type": "markdown",
   "metadata": {},
   "source": [
    "# 讀取npy檔案來預測結果"
   ]
  },
  {
   "cell_type": "code",
   "execution_count": 6,
   "metadata": {},
   "outputs": [],
   "source": [
    "X_train = np.load('X_train.npy')\n",
    "X_test = np.load('X_test.npy')\n",
    "y_train = np.load(\"y_train.npy\")"
   ]
  },
  {
   "cell_type": "code",
   "execution_count": 7,
   "metadata": {},
   "outputs": [],
   "source": [
    "class FaceExpressionDataset(Dataset):\n",
    "    def __init__(self, X, y, augment=None):\n",
    "        self.X = X\n",
    "        self.y = y\n",
    "        self.augment = augment\n",
    "\n",
    "    def __len__(self):\n",
    "        return len(self.X)\n",
    "    \n",
    "    def read_img(self, idx):\n",
    "        img = self.X[idx]\n",
    "        if not self.augment is None:\n",
    "            img = self.augment(img)\n",
    "        img = img.float()\n",
    "        return img\n",
    "    \n",
    "    def __getitem__(self, idx):\n",
    "        img = self.read_img(idx)\n",
    "        label = self.y[idx]\n",
    "        return img, label\n",
    "    \n",
    "class TestingDataset(Dataset):\n",
    "    def __init__(self, X, augment=None):\n",
    "        self.X = X\n",
    "        self.augment = augment\n",
    "\n",
    "    def __len__(self):\n",
    "        return len(self.X)\n",
    "\n",
    "    def read_img(self, idx):\n",
    "        img = self.X[idx]\n",
    "        if not self.augment is None:\n",
    "            img = self.augment(img)\n",
    "        img = img.float()\n",
    "        return img\n",
    "        \n",
    "    def __getitem__(self, idx):\n",
    "        img = self.read_img(idx)\n",
    "        return img"
   ]
  },
  {
   "cell_type": "code",
   "execution_count": 8,
   "metadata": {},
   "outputs": [],
   "source": [
    "X_train, X_valid, y_train, y_valid = train_test_split(X_train, y_train, stratify=y_train)\n",
    "train_dataset = FaceExpressionDataset(X_train, y_train, image_transforms[\"train\"])\n",
    "\n",
    "valid_dataset = FaceExpressionDataset(X_valid, y_valid, image_transforms[\"valid\"])\n",
    "test_dataset = TestingDataset(X_test, image_transforms[\"test\"])"
   ]
  },
  {
   "cell_type": "code",
   "execution_count": 9,
   "metadata": {},
   "outputs": [],
   "source": [
    "def predict(data_loader, model, device, isValid = False, isTesting = False):\n",
    "    with torch.no_grad():\n",
    "        predict_result = []\n",
    "        if isValid:\n",
    "            for (img, label) in data_loader:\n",
    "                img = img.to(device)\n",
    "                output = model(img)\n",
    "                predict = torch.argmax(output, dim=-1).tolist()\n",
    "                predict_result += predict\n",
    "        if isTesting:\n",
    "            for img in data_loader:\n",
    "                img = img.to(device)\n",
    "                output = model(img)\n",
    "                predict = torch.argmax(output, dim=-1).tolist()\n",
    "                predict_result += predict\n",
    "    return predict_result"
   ]
  },
  {
   "cell_type": "code",
   "execution_count": 10,
   "metadata": {},
   "outputs": [],
   "source": [
    "model = FaceExpressionNet()\n",
    "model.load_state_dict(torch.load(\"./model_best.pth\"))\n",
    "model = model.to(device)\n",
    "batch_size = 1024\n",
    "valid_loader = DataLoader(valid_dataset, batch_size=batch_size, shuffle=False)\n",
    "valid_pred = predict(valid_loader, model, device, isValid = True)"
   ]
  },
  {
   "cell_type": "code",
   "execution_count": 14,
   "metadata": {},
   "outputs": [
    {
     "name": "stdout",
     "output_type": "stream",
     "text": [
      "0.5754638604264747\n"
     ]
    }
   ],
   "source": [
    "valid_label = np.array(valid_dataset.y)\n",
    "correct = sum((valid_pred == valid_label))\n",
    "print(correct/len(valid_label))"
   ]
  },
  {
   "cell_type": "code",
   "execution_count": 13,
   "metadata": {},
   "outputs": [
    {
     "data": {
      "image/png": "[encoded data removed]",
      "text/plain": [
       "<Figure size 648x432 with 2 Axes>"
      ]
     },
     "metadata": {
      "needs_background": "light"
     },
     "output_type": "display_data"
    }
   ],
   "source": [
    "cf_matrix = confusion_matrix(valid_label, valid_pred)                                \n",
    "# 計算每個class的accuracy\n",
    "per_cls_acc = cf_matrix.diagonal()/cf_matrix.sum(axis=0)\n",
    "emotion_cat = {0:'Anger', 1:'Disgust', 2:'Fear', 3:'Happiness', 4: 'Sadness', 5: 'Surprise', 6: 'Neutral'}                  \n",
    "class_names = list(emotion_cat.values())\n",
    "\n",
    "df_cm = pd.DataFrame(cf_matrix, class_names, class_names)     \n",
    "plt.figure(figsize = (9,6))\n",
    "sns.heatmap(df_cm, annot=True, fmt=\"d\", cmap=\"YlGnBu\")\n",
    "plt.xlabel(\"model prediction\")\n",
    "plt.ylabel(\"label (ground truth)\")\n",
    "plt.savefig(\"confusion_matrix.png\")"
   ]
  },
  {
   "cell_type": "code",
   "execution_count": 45,
   "metadata": {},
   "outputs": [],
   "source": [
    "#Testing\n",
    "def write_to_csv(predict_result, file_name):\n",
    "    with open(file_name, 'w', newline='') as csvfile:\n",
    "        writer = csv.writer(csvfile)\n",
    "        writer.writerow(['id', 'label'])\n",
    "        for i in range(len(predict_result)):\n",
    "            writer.writerow([str(i), str(predict_result[i])])\n",
    "\n",
    "model = FaceExpressionNet()\n",
    "model.load_state_dict(torch.load(\"./model_best.pth\"))\n",
    "model = model.to(device)\n",
    "batch_size = 1024\n",
    "test_loader = DataLoader(test_dataset, batch_size=batch_size, shuffle=False)\n",
    "test_pred = predict(test_loader, model, device, isValid = False, isTesting = True)\n",
    "write_to_csv(test_pred, './submission_npy.csv')"
   ]
  }
 ],
 "metadata": {
  "interpreter": {
   "hash": "949777d72b0d2535278d3dc13498b2535136f6dfe0678499012e853ee9abcab1"
  },
  "kernelspec": {
   "display_name": "Python 3.7.12 64-bit",
   "language": "python",
   "name": "python3"
  },
  "language_info": {
   "codemirror_mode": {
    "name": "ipython",
    "version": 3
   },
   "file_extension": ".py",
   "mimetype": "text/x-python",
   "name": "python",
   "nbconvert_exporter": "python",
   "pygments_lexer": "ipython3",
   "version": "3.7.12"
  },
  "orig_nbformat": 4
 },
 "nbformat": 4,
 "nbformat_minor": 2
}
