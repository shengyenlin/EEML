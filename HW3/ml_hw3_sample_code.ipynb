{
  "nbformat": 4,
  "nbformat_minor": 0,
  "metadata": {
    "colab": {
      "name": "ml_hw3_sample_code.ipynb",
      "provenance": [],
      "collapsed_sections": []
    },
    "kernelspec": {
      "display_name": "Python 3",
      "language": "python",
      "name": "python3"
    },
    "language_info": {
      "codemirror_mode": {
        "name": "ipython",
        "version": 3
      },
      "file_extension": ".py",
      "mimetype": "text/x-python",
      "name": "python",
      "nbconvert_exporter": "python",
      "pygments_lexer": "ipython3",
      "version": "3.6.8"
    }
  },
  "cells": [
    {
      "cell_type": "markdown",
      "metadata": {
        "id": "VDVwVcC2ofHK"
      },
      "source": [
        "## ML HW3 sample code"
      ]
    },
    {
      "cell_type": "markdown",
      "metadata": {
        "id": "1rV0FCmEOSz0"
      },
      "source": [
        "#### Import packages"
      ]
    },
    {
      "cell_type": "code",
      "metadata": {
        "id": "sMsNXtVLopQ2"
      },
      "source": [
        "import os\n",
        "import random\n",
        "import glob\n",
        "import csv\n",
        "import torch\n",
        "import torch.nn as nn\n",
        "import numpy as np\n",
        "import pandas as pd\n",
        "\n",
        "from torch.optim import Adam\n",
        "from torchvision import transforms\n",
        "from torch.utils.data import DataLoader, Dataset\n",
        "from PIL import Image"
      ],
      "execution_count": null,
      "outputs": []
    },
    {
      "cell_type": "markdown",
      "metadata": {
        "id": "FbV9AEejOSz2"
      },
      "source": [
        "#### Set arguments and random seed"
      ]
    },
    {
      "cell_type": "code",
      "metadata": {
        "id": "U9hIGGaiOSz2"
      },
      "source": [
        "TRA_PATH = 'data/train/'\n",
        "TST_PATH = 'data/test/'\n",
        "LABEL_PATH = 'data/train.csv'\n",
        "DEVICE_ID = 2\n",
        "SEED = 5566\n",
        "NUM_ECPOCH = 300\n",
        "\n",
        "torch.cuda.set_device(DEVICE_ID)\n",
        "use_gpu = torch.cuda.is_available()\n",
        "device = torch.device(\"cuda\" if use_gpu else \"cpu\")\n",
        "\n",
        "torch.backends.cudnn.deterministic = True\n",
        "torch.backends.cudnn.benchmark = False\n",
        "torch.manual_seed(SEED)\n",
        "torch.cuda.manual_seed_all(SEED)\n",
        "random.seed(SEED)\n",
        "np.random.seed(SEED)"
      ],
      "execution_count": null,
      "outputs": []
    },
    {
      "cell_type": "markdown",
      "metadata": {
        "id": "F6fQ5BNqozM0"
      },
      "source": [
        "#### Process data"
      ]
    },
    {
      "cell_type": "code",
      "metadata": {
        "id": "G7-7syI4L9XE"
      },
      "source": [
        "def load_train_data(img_path, label_path, valid_ratio=0.12):\n",
        "    train_label = pd.read_csv(label_path)['label'].values.tolist()\n",
        "    train_image = [f'data/train/{i+7000}.jpg' for i in range(len(train_label))]\n",
        "    \n",
        "    train_data = list(zip(train_image, train_label))\n",
        "    random.shuffle(train_data)\n",
        "    \n",
        "    split_len = int(len(train_data) * valid_ratio)\n",
        "    train_set = train_data[split_len:]\n",
        "    valid_set = train_data[:split_len]\n",
        "    \n",
        "    return train_set, valid_set\n",
        "\n",
        "def load_test_data(img_path):\n",
        "    test_set = [f'{img_path}/{i}.jpg' for i in range(7000)]\n",
        "    return test_set\n",
        "    \n",
        "def compute_statistics(dataset):\n",
        "    data = []\n",
        "    for (img_path, label) in dataset:\n",
        "        data.append(np.array(Image.open(img_path)))\n",
        "    data = np.array(data)\n",
        "    return data.mean(), data.std()"
      ],
      "execution_count": null,
      "outputs": []
    },
    {
      "cell_type": "code",
      "metadata": {
        "id": "XyGNv3zQOSz4"
      },
      "source": [
        "train_set, valid_set = load_train_data(TRA_PATH, LABEL_PATH)\n",
        "test_set = load_test_data(TST_PATH)\n",
        "transform = None\n",
        "# transform = transforms.Compose([TODO])"
      ],
      "execution_count": null,
      "outputs": []
    },
    {
      "cell_type": "markdown",
      "metadata": {
        "id": "voXR5jPVPnxp"
      },
      "source": [
        "#### Customize dataset"
      ]
    },
    {
      "cell_type": "code",
      "metadata": {
        "id": "VyMfGXwgMWQV"
      },
      "source": [
        "class FaceExpressionDataset(Dataset):\n",
        "    def __init__(self, data, augment=None):\n",
        "        self.data = data\n",
        "        self.augment = augment\n",
        "\n",
        "    def __len__(self):\n",
        "        return len(self.data)\n",
        "    \n",
        "    def normalize(self, data):\n",
        "        # TODO\n",
        "        return data\n",
        "    \n",
        "    def read_img(self, idx):\n",
        "        img = Image.open(self.data[idx][0])\n",
        "        if not self.augment is None:\n",
        "            img = self.augment(img)\n",
        "        img = torch.from_numpy(np.array(img)).float()\n",
        "        img = img.unsqueeze(0).float()\n",
        "        img = self.normalize(img)\n",
        "        return img\n",
        "    \n",
        "    def __getitem__(self, idx):\n",
        "        img = self.read_img(idx)\n",
        "        label = self.data[idx][1]\n",
        "        return img, label\n",
        "    \n",
        "class TestingDataset(Dataset):\n",
        "    def __init__(self, data, augment=None):\n",
        "        self.data = data\n",
        "        self.augment = augment\n",
        "\n",
        "    def __len__(self):\n",
        "        return len(self.data)\n",
        "    \n",
        "    def normalize(self, data):\n",
        "        # TODO\n",
        "        return data\n",
        "    \n",
        "    def read_img(self, idx):\n",
        "        img = Image.open(self.data[idx])\n",
        "        if not self.augment is None:\n",
        "            img = self.augment(img)\n",
        "        img = torch.from_numpy(np.array(img)).float()\n",
        "        img = img.unsqueeze(0).float()\n",
        "        img = self.normalize(img)\n",
        "        return img\n",
        "        \n",
        "    def __getitem__(self, idx):\n",
        "        img = self.read_img(idx)\n",
        "        return img"
      ],
      "execution_count": null,
      "outputs": []
    },
    {
      "cell_type": "code",
      "metadata": {
        "id": "Dm6AqmFzOSz6"
      },
      "source": [
        "train_dataset = FaceExpressionDataset(train_set, transform)\n",
        "train_loader = DataLoader(train_dataset, batch_size=128, shuffle=True)\n",
        "\n",
        "valid_dataset = FaceExpressionDataset(valid_set)\n",
        "valid_loader = DataLoader(valid_dataset, batch_size=128, shuffle=False)\n",
        "\n",
        "test_dataset = TestingDataset(test_set)\n",
        "test_loader = DataLoader(test_dataset, batch_size=128, shuffle=False)                  "
      ],
      "execution_count": null,
      "outputs": []
    },
    {
      "cell_type": "markdown",
      "metadata": {
        "id": "SLA_KBidRF73"
      },
      "source": [
        "#### Define module class"
      ]
    },
    {
      "cell_type": "code",
      "metadata": {
        "id": "3QwewjIWP39y"
      },
      "source": [
        "class FaceExpressionNet(nn.Module):\n",
        "    def __init__(self):\n",
        "        super(FaceExpressionNet, self).__init__()\n",
        "        # TODO\n",
        "        self.conv = nn.Sequential(\n",
        "            nn.Conv2d(1, 32, kernel_size=5, padding=2),\n",
        "            nn.BatchNorm2d(32, eps=1e-05, affine=True),\n",
        "            nn.LeakyReLU(negative_slope=0.05),\n",
        "            nn.MaxPool2d(2),     \n",
        "        )\n",
        "        self.fc = nn.Sequential(\n",
        "            nn.Linear(32768, 256),\n",
        "            nn.ReLU(),\n",
        "            torch.nn.Dropout(0.3),\n",
        "            nn.Linear(256, 7)\n",
        "        )\n",
        "\n",
        "    def forward(self, x):\n",
        "        #image size (64,64)\n",
        "        x = self.conv(x) #(32,32)\n",
        "        x = x.flatten(start_dim=1)\n",
        "        x = self.fc(x)\n",
        "        return x"
      ],
      "execution_count": null,
      "outputs": []
    },
    {
      "cell_type": "markdown",
      "metadata": {
        "id": "jyyjQS2eOSz7"
      },
      "source": [
        "#### Define training and testing process"
      ]
    },
    {
      "cell_type": "code",
      "metadata": {
        "id": "oFCMvUe0OSz7"
      },
      "source": [
        "def train(train_loader, model, loss_fn, use_gpu=True):\n",
        "    model.train()\n",
        "    train_loss = []\n",
        "    train_acc = []\n",
        "    for (img, label) in train_loader:\n",
        "        if use_gpu:\n",
        "            img = img.to(device)\n",
        "            label = label.to(device)\n",
        "        optimizer.zero_grad()\n",
        "        output = model(img)\n",
        "        loss = loss_fn(output, label)\n",
        "        loss.backward()            \n",
        "        optimizer.step()\n",
        "        with torch.no_grad():\n",
        "            predict = torch.argmax(output, dim=-1)\n",
        "            acc = np.mean((label == predict).cpu().numpy())\n",
        "            train_acc.append(acc)\n",
        "            train_loss.append(loss.item())\n",
        "    print(\"Epoch: {}, train Loss: {:.4f}, train Acc: {:.4f}\".format(epoch + 1, np.mean(train_loss), np.mean(train_acc)))\n",
        "    \n",
        "def valid(valid_loader, model, loss_fn, use_gpu=True):\n",
        "    model.eval()\n",
        "    with torch.no_grad():\n",
        "        valid_loss = []\n",
        "        valid_acc = []\n",
        "        for idx, (img, label) in enumerate(valid_loader):\n",
        "            if use_gpu:\n",
        "                img = img.to(device)\n",
        "                label = label.to(device)\n",
        "            output = model(img)\n",
        "            loss = loss_fn(output, label)\n",
        "            predict = torch.argmax(output, dim=-1)\n",
        "            acc = (label == predict).cpu().tolist()\n",
        "            valid_loss.append(loss.item())\n",
        "            valid_acc += acc\n",
        "       \n",
        "        valid_acc = np.mean(valid_acc)\n",
        "        valid_loss = np.mean(valid_loss)\n",
        "        print(\"Epoch: {}, valid Loss: {:.4f}, valid Acc: {:.4f}\".format(epoch + 1, valid_loss, valid_acc))\n",
        "    return valid_acc\n",
        "\n",
        "def save_checkpoint(valid_acc, acc_record, epoch, prefix='model'):\n",
        "#     you can define the condition to save model :)\n",
        "    if valid_acc >= np.mean(acc_record[-5:]):    \n",
        "        checkpoint_path = f'{prefix}.pth'\n",
        "        torch.save(model.state_dict(), checkpoint_path)\n",
        "        print('model saved to %s' % checkpoint_path)\n",
        "\n",
        "def early_stop(valid_acc):\n",
        "    # TODO\n",
        "    return False"
      ],
      "execution_count": null,
      "outputs": []
    },
    {
      "cell_type": "code",
      "metadata": {
        "id": "pBHN_XSsTF6p"
      },
      "source": [
        "if __name__ == '__main__':\n",
        "    model = FaceExpressionNet()\n",
        "    if use_gpu:\n",
        "        model.to(device)\n",
        "\n",
        "    optimizer = torch.optim.Adam(model.parameters(), lr=0.001)\n",
        "    loss_fn = nn.CrossEntropyLoss()\n",
        "    \n",
        "    acc_record = []\n",
        "    \n",
        "    for epoch in range(NUM_ECPOCH):\n",
        "        train(train_loader, model, loss_fn, use_gpu)\n",
        "        valid_acc = valid(valid_loader, model, loss_fn, use_gpu=True)\n",
        "        acc_record.append(valid_acc)\n",
        "        \n",
        "        save_checkpoint(valid_acc, acc_record, epoch, prefix='model')\n",
        "        if early_stop(valid_acc):\n",
        "            break\n",
        "        \n",
        "        print('########################################################')"
      ],
      "execution_count": null,
      "outputs": []
    },
    {
      "cell_type": "code",
      "metadata": {
        "id": "AqMcl44nOSz9"
      },
      "source": [
        "def test(test_loader, model, file_name='predict.csv'):\n",
        "    with torch.no_grad():\n",
        "        predict_result = []\n",
        "        for idx, img in enumerate(test_loader):\n",
        "            if use_gpu:\n",
        "                img = img.to(device)\n",
        "            output = model(img)\n",
        "            predict = torch.argmax(output, dim=-1).tolist()\n",
        "            predict_result += predict\n",
        "        \n",
        "    with open(file_name, 'w', newline='') as csvfile:\n",
        "        writer = csv.writer(csvfile)\n",
        "        writer.writerow(['id', 'label'])\n",
        "        for i in range(len(predict_result)):\n",
        "            writer.writerow([str(i), str(predict_result[i])])"
      ],
      "execution_count": null,
      "outputs": []
    },
    {
      "cell_type": "code",
      "metadata": {
        "id": "ZqtDLxvkOSz9"
      },
      "source": [
        "test(test_loader, model)"
      ],
      "execution_count": null,
      "outputs": []
    }
  ]
}