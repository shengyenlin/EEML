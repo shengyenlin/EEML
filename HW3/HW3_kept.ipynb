{
 "cells": [
  {
   "cell_type": "markdown",
   "metadata": {},
   "source": [
    "#### Customize dataset"
   ]
  },
  {
   "cell_type": "code",
   "execution_count": null,
   "metadata": {},
   "outputs": [],
   "source": [
    "class FaceExpressionDataset(Dataset):\n",
    "    def __init__(self, data, augment=None):\n",
    "        self.data = data\n",
    "        self.augment = augment\n",
    "\n",
    "    def __len__(self):\n",
    "        return len(self.data)\n",
    "    \n",
    "    def normalize(self, data):\n",
    "        # TODO\n",
    "        return data\n",
    "    \n",
    "    def read_img(self, idx):\n",
    "        img = Image.open(self.data[idx][0])\n",
    "        if not self.augment is None:\n",
    "            img = self.augment(img)\n",
    "        img = torch.from_numpy(np.array(img)).float()\n",
    "        img = img.unsqueeze(0).float()\n",
    "        img = self.normalize(img)\n",
    "        return img\n",
    "    \n",
    "    def __getitem__(self, idx):\n",
    "        img = self.read_img(idx)\n",
    "        label = self.data[idx][1]\n",
    "        return img, label\n",
    "    \n",
    "class TestingDataset(Dataset):\n",
    "    def __init__(self, data, augment=None):\n",
    "        self.data = data\n",
    "        self.augment = augment\n",
    "\n",
    "    def __len__(self):\n",
    "        return len(self.data)\n",
    "    \n",
    "    def normalize(self, data):\n",
    "        # TODO\n",
    "        return data\n",
    "    \n",
    "    def read_img(self, idx):\n",
    "        img = Image.open(self.data[idx])\n",
    "        if not self.augment is None:\n",
    "            img = self.augment(img)\n",
    "        img = torch.from_numpy(np.array(img)).float()\n",
    "        img = img.unsqueeze(0).float()\n",
    "        img = self.normalize(img)\n",
    "        return img\n",
    "        \n",
    "    def __getitem__(self, idx):\n",
    "        img = self.read_img(idx)\n",
    "        return img"
   ]
  },
  {
   "cell_type": "markdown",
   "metadata": {},
   "source": [
    "# Tuning result"
   ]
  },
  {
   "cell_type": "markdown",
   "metadata": {},
   "source": [
    "## 1107 14:38\n",
    "- trail: 5"
   ]
  },
  {
   "cell_type": "code",
   "execution_count": null,
   "metadata": {},
   "outputs": [
    {
     "data": {
      "text/plain": [
       "{'batch_size': 512,\n",
       " 'conv1_out_ch': 2,\n",
       " 'conv2_out_ch': 16,\n",
       " 'lr': 6.0137978981262786e-05,\n",
       " 'optimizer': 'Adam'}"
      ]
     },
     "metadata": {},
     "output_type": "display_data"
    }
   ],
   "source": [
    "study.best_params"
   ]
  },
  {
   "cell_type": "code",
   "execution_count": null,
   "metadata": {},
   "outputs": [
    {
     "data": {
      "text/html": [
       "<div>\n",
       "<style scoped>\n",
       "    .dataframe tbody tr th:only-of-type {\n",
       "        vertical-align: middle;\n",
       "    }\n",
       "\n",
       "    .dataframe tbody tr th {\n",
       "        vertical-align: top;\n",
       "    }\n",
       "\n",
       "    .dataframe thead th {\n",
       "        text-align: right;\n",
       "    }\n",
       "</style>\n",
       "<table border=\"1\" class=\"dataframe\">\n",
       "  <thead>\n",
       "    <tr style=\"text-align: right;\">\n",
       "      <th></th>\n",
       "      <th>number</th>\n",
       "      <th>value</th>\n",
       "      <th>datetime_start</th>\n",
       "      <th>datetime_complete</th>\n",
       "      <th>duration</th>\n",
       "      <th>params_batch_size</th>\n",
       "      <th>params_conv1_out_ch</th>\n",
       "      <th>params_conv2_out_ch</th>\n",
       "      <th>params_lr</th>\n",
       "      <th>params_optimizer</th>\n",
       "      <th>state</th>\n",
       "    </tr>\n",
       "  </thead>\n",
       "  <tbody>\n",
       "    <tr>\n",
       "      <th>0</th>\n",
       "      <td>0</td>\n",
       "      <td>0.251869</td>\n",
       "      <td>2021-11-07 06:17:52.686653</td>\n",
       "      <td>2021-11-07 06:19:50.360925</td>\n",
       "      <td>0 days 00:01:57.674272</td>\n",
       "      <td>64</td>\n",
       "      <td>2</td>\n",
       "      <td>24</td>\n",
       "      <td>0.000087</td>\n",
       "      <td>SGD</td>\n",
       "      <td>COMPLETE</td>\n",
       "    </tr>\n",
       "    <tr>\n",
       "      <th>1</th>\n",
       "      <td>1</td>\n",
       "      <td>0.490584</td>\n",
       "      <td>2021-11-07 06:19:50.362266</td>\n",
       "      <td>2021-11-07 06:23:48.735354</td>\n",
       "      <td>0 days 00:03:58.373088</td>\n",
       "      <td>512</td>\n",
       "      <td>2</td>\n",
       "      <td>16</td>\n",
       "      <td>0.000060</td>\n",
       "      <td>Adam</td>\n",
       "      <td>COMPLETE</td>\n",
       "    </tr>\n",
       "    <tr>\n",
       "      <th>2</th>\n",
       "      <td>2</td>\n",
       "      <td>0.251869</td>\n",
       "      <td>2021-11-07 06:23:48.737321</td>\n",
       "      <td>2021-11-07 06:25:08.657314</td>\n",
       "      <td>0 days 00:01:19.919993</td>\n",
       "      <td>448</td>\n",
       "      <td>6</td>\n",
       "      <td>24</td>\n",
       "      <td>0.024294</td>\n",
       "      <td>Adam</td>\n",
       "      <td>COMPLETE</td>\n",
       "    </tr>\n",
       "    <tr>\n",
       "      <th>3</th>\n",
       "      <td>3</td>\n",
       "      <td>0.251869</td>\n",
       "      <td>2021-11-07 06:25:08.658656</td>\n",
       "      <td>2021-11-07 06:26:29.154554</td>\n",
       "      <td>0 days 00:01:20.495898</td>\n",
       "      <td>512</td>\n",
       "      <td>4</td>\n",
       "      <td>16</td>\n",
       "      <td>0.000540</td>\n",
       "      <td>SGD</td>\n",
       "      <td>COMPLETE</td>\n",
       "    </tr>\n",
       "    <tr>\n",
       "      <th>4</th>\n",
       "      <td>4</td>\n",
       "      <td>0.251869</td>\n",
       "      <td>2021-11-07 06:26:29.156464</td>\n",
       "      <td>2021-11-07 06:31:07.052974</td>\n",
       "      <td>0 days 00:04:37.896510</td>\n",
       "      <td>384</td>\n",
       "      <td>4</td>\n",
       "      <td>20</td>\n",
       "      <td>0.000082</td>\n",
       "      <td>SGD</td>\n",
       "      <td>COMPLETE</td>\n",
       "    </tr>\n",
       "  </tbody>\n",
       "</table>\n",
       "</div>"
      ],
      "text/plain": [
       "   number     value  ... params_optimizer     state\n",
       "0       0  0.251869  ...              SGD  COMPLETE\n",
       "1       1  0.490584  ...             Adam  COMPLETE\n",
       "2       2  0.251869  ...             Adam  COMPLETE\n",
       "3       3  0.251869  ...              SGD  COMPLETE\n",
       "4       4  0.251869  ...              SGD  COMPLETE\n",
       "\n",
       "[5 rows x 11 columns]"
      ]
     },
     "metadata": {},
     "output_type": "display_data"
    }
   ],
   "source": [
    "df = study.trials_dataframe()\n",
    "df.tail(5)"
   ]
  },
  {
   "cell_type": "code",
   "execution_count": null,
   "metadata": {},
   "outputs": [
    {
     "data": {
      "application/vnd.plotly.v1+json": {
       "config": {
        "plotlyServerURL": "https://plot.ly"
       },
       "data": [
        {
         "mode": "markers",
         "name": "Objective Value",
         "type": "scatter",
         "x": [
          0,
          1,
          2,
          3,
          4
         ],
         "y": [
          0.2518692882857934,
          0.49058432567155913,
          0.2518692882857934,
          0.2518692882857934,
          0.2518692882857934
         ]
        },
        {
         "name": "Best Value",
         "type": "scatter",
         "x": [
          0,
          1,
          2,
          3,
          4
         ],
         "y": [
          0.2518692882857934,
          0.49058432567155913,
          0.49058432567155913,
          0.49058432567155913,
          0.49058432567155913
         ]
        }
       ],
       "layout": {
        "template": {
         "data": {
          "bar": [
           {
            "error_x": {
             "color": "#2a3f5f"
            },
            "error_y": {
             "color": "#2a3f5f"
            },
            "marker": {
             "line": {
              "color": "#E5ECF6",
              "width": 0.5
             }
            },
            "type": "bar"
           }
          ],
          "barpolar": [
           {
            "marker": {
             "line": {
              "color": "#E5ECF6",
              "width": 0.5
             }
            },
            "type": "barpolar"
           }
          ],
          "carpet": [
           {
            "aaxis": {
             "endlinecolor": "#2a3f5f",
             "gridcolor": "white",
             "linecolor": "white",
             "minorgridcolor": "white",
             "startlinecolor": "#2a3f5f"
            },
            "baxis": {
             "endlinecolor": "#2a3f5f",
             "gridcolor": "white",
             "linecolor": "white",
             "minorgridcolor": "white",
             "startlinecolor": "#2a3f5f"
            },
            "type": "carpet"
           }
          ],
          "choropleth": [
           {
            "colorbar": {
             "outlinewidth": 0,
             "ticks": ""
            },
            "type": "choropleth"
           }
          ],
          "contour": [
           {
            "colorbar": {
             "outlinewidth": 0,
             "ticks": ""
            },
            "colorscale": [
             [
              0,
              "#0d0887"
             ],
             [
              0.1111111111111111,
              "#46039f"
             ],
             [
              0.2222222222222222,
              "#7201a8"
             ],
             [
              0.3333333333333333,
              "#9c179e"
             ],
             [
              0.4444444444444444,
              "#bd3786"
             ],
             [
              0.5555555555555556,
              "#d8576b"
             ],
             [
              0.6666666666666666,
              "#ed7953"
             ],
             [
              0.7777777777777778,
              "#fb9f3a"
             ],
             [
              0.8888888888888888,
              "#fdca26"
             ],
             [
              1,
              "#f0f921"
             ]
            ],
            "type": "contour"
           }
          ],
          "contourcarpet": [
           {
            "colorbar": {
             "outlinewidth": 0,
             "ticks": ""
            },
            "type": "contourcarpet"
           }
          ],
          "heatmap": [
           {
            "colorbar": {
             "outlinewidth": 0,
             "ticks": ""
            },
            "colorscale": [
             [
              0,
              "#0d0887"
             ],
             [
              0.1111111111111111,
              "#46039f"
             ],
             [
              0.2222222222222222,
              "#7201a8"
             ],
             [
              0.3333333333333333,
              "#9c179e"
             ],
             [
              0.4444444444444444,
              "#bd3786"
             ],
             [
              0.5555555555555556,
              "#d8576b"
             ],
             [
              0.6666666666666666,
              "#ed7953"
             ],
             [
              0.7777777777777778,
              "#fb9f3a"
             ],
             [
              0.8888888888888888,
              "#fdca26"
             ],
             [
              1,
              "#f0f921"
             ]
            ],
            "type": "heatmap"
           }
          ],
          "heatmapgl": [
           {
            "colorbar": {
             "outlinewidth": 0,
             "ticks": ""
            },
            "colorscale": [
             [
              0,
              "#0d0887"
             ],
             [
              0.1111111111111111,
              "#46039f"
             ],
             [
              0.2222222222222222,
              "#7201a8"
             ],
             [
              0.3333333333333333,
              "#9c179e"
             ],
             [
              0.4444444444444444,
              "#bd3786"
             ],
             [
              0.5555555555555556,
              "#d8576b"
             ],
             [
              0.6666666666666666,
              "#ed7953"
             ],
             [
              0.7777777777777778,
              "#fb9f3a"
             ],
             [
              0.8888888888888888,
              "#fdca26"
             ],
             [
              1,
              "#f0f921"
             ]
            ],
            "type": "heatmapgl"
           }
          ],
          "histogram": [
           {
            "marker": {
             "colorbar": {
              "outlinewidth": 0,
              "ticks": ""
             }
            },
            "type": "histogram"
           }
          ],
          "histogram2d": [
           {
            "colorbar": {
             "outlinewidth": 0,
             "ticks": ""
            },
            "colorscale": [
             [
              0,
              "#0d0887"
             ],
             [
              0.1111111111111111,
              "#46039f"
             ],
             [
              0.2222222222222222,
              "#7201a8"
             ],
             [
              0.3333333333333333,
              "#9c179e"
             ],
             [
              0.4444444444444444,
              "#bd3786"
             ],
             [
              0.5555555555555556,
              "#d8576b"
             ],
             [
              0.6666666666666666,
              "#ed7953"
             ],
             [
              0.7777777777777778,
              "#fb9f3a"
             ],
             [
              0.8888888888888888,
              "#fdca26"
             ],
             [
              1,
              "#f0f921"
             ]
            ],
            "type": "histogram2d"
           }
          ],
          "histogram2dcontour": [
           {
            "colorbar": {
             "outlinewidth": 0,
             "ticks": ""
            },
            "colorscale": [
             [
              0,
              "#0d0887"
             ],
             [
              0.1111111111111111,
              "#46039f"
             ],
             [
              0.2222222222222222,
              "#7201a8"
             ],
             [
              0.3333333333333333,
              "#9c179e"
             ],
             [
              0.4444444444444444,
              "#bd3786"
             ],
             [
              0.5555555555555556,
              "#d8576b"
             ],
             [
              0.6666666666666666,
              "#ed7953"
             ],
             [
              0.7777777777777778,
              "#fb9f3a"
             ],
             [
              0.8888888888888888,
              "#fdca26"
             ],
             [
              1,
              "#f0f921"
             ]
            ],
            "type": "histogram2dcontour"
           }
          ],
          "mesh3d": [
           {
            "colorbar": {
             "outlinewidth": 0,
             "ticks": ""
            },
            "type": "mesh3d"
           }
          ],
          "parcoords": [
           {
            "line": {
             "colorbar": {
              "outlinewidth": 0,
              "ticks": ""
             }
            },
            "type": "parcoords"
           }
          ],
          "pie": [
           {
            "automargin": true,
            "type": "pie"
           }
          ],
          "scatter": [
           {
            "marker": {
             "colorbar": {
              "outlinewidth": 0,
              "ticks": ""
             }
            },
            "type": "scatter"
           }
          ],
          "scatter3d": [
           {
            "line": {
             "colorbar": {
              "outlinewidth": 0,
              "ticks": ""
             }
            },
            "marker": {
             "colorbar": {
              "outlinewidth": 0,
              "ticks": ""
             }
            },
            "type": "scatter3d"
           }
          ],
          "scattercarpet": [
           {
            "marker": {
             "colorbar": {
              "outlinewidth": 0,
              "ticks": ""
             }
            },
            "type": "scattercarpet"
           }
          ],
          "scattergeo": [
           {
            "marker": {
             "colorbar": {
              "outlinewidth": 0,
              "ticks": ""
             }
            },
            "type": "scattergeo"
           }
          ],
          "scattergl": [
           {
            "marker": {
             "colorbar": {
              "outlinewidth": 0,
              "ticks": ""
             }
            },
            "type": "scattergl"
           }
          ],
          "scattermapbox": [
           {
            "marker": {
             "colorbar": {
              "outlinewidth": 0,
              "ticks": ""
             }
            },
            "type": "scattermapbox"
           }
          ],
          "scatterpolar": [
           {
            "marker": {
             "colorbar": {
              "outlinewidth": 0,
              "ticks": ""
             }
            },
            "type": "scatterpolar"
           }
          ],
          "scatterpolargl": [
           {
            "marker": {
             "colorbar": {
              "outlinewidth": 0,
              "ticks": ""
             }
            },
            "type": "scatterpolargl"
           }
          ],
          "scatterternary": [
           {
            "marker": {
             "colorbar": {
              "outlinewidth": 0,
              "ticks": ""
             }
            },
            "type": "scatterternary"
           }
          ],
          "surface": [
           {
            "colorbar": {
             "outlinewidth": 0,
             "ticks": ""
            },
            "colorscale": [
             [
              0,
              "#0d0887"
             ],
             [
              0.1111111111111111,
              "#46039f"
             ],
             [
              0.2222222222222222,
              "#7201a8"
             ],
             [
              0.3333333333333333,
              "#9c179e"
             ],
             [
              0.4444444444444444,
              "#bd3786"
             ],
             [
              0.5555555555555556,
              "#d8576b"
             ],
             [
              0.6666666666666666,
              "#ed7953"
             ],
             [
              0.7777777777777778,
              "#fb9f3a"
             ],
             [
              0.8888888888888888,
              "#fdca26"
             ],
             [
              1,
              "#f0f921"
             ]
            ],
            "type": "surface"
           }
          ],
          "table": [
           {
            "cells": {
             "fill": {
              "color": "#EBF0F8"
             },
             "line": {
              "color": "white"
             }
            },
            "header": {
             "fill": {
              "color": "#C8D4E3"
             },
             "line": {
              "color": "white"
             }
            },
            "type": "table"
           }
          ]
         },
         "layout": {
          "annotationdefaults": {
           "arrowcolor": "#2a3f5f",
           "arrowhead": 0,
           "arrowwidth": 1
          },
          "coloraxis": {
           "colorbar": {
            "outlinewidth": 0,
            "ticks": ""
           }
          },
          "colorscale": {
           "diverging": [
            [
             0,
             "#8e0152"
            ],
            [
             0.1,
             "#c51b7d"
            ],
            [
             0.2,
             "#de77ae"
            ],
            [
             0.3,
             "#f1b6da"
            ],
            [
             0.4,
             "#fde0ef"
            ],
            [
             0.5,
             "#f7f7f7"
            ],
            [
             0.6,
             "#e6f5d0"
            ],
            [
             0.7,
             "#b8e186"
            ],
            [
             0.8,
             "#7fbc41"
            ],
            [
             0.9,
             "#4d9221"
            ],
            [
             1,
             "#276419"
            ]
           ],
           "sequential": [
            [
             0,
             "#0d0887"
            ],
            [
             0.1111111111111111,
             "#46039f"
            ],
            [
             0.2222222222222222,
             "#7201a8"
            ],
            [
             0.3333333333333333,
             "#9c179e"
            ],
            [
             0.4444444444444444,
             "#bd3786"
            ],
            [
             0.5555555555555556,
             "#d8576b"
            ],
            [
             0.6666666666666666,
             "#ed7953"
            ],
            [
             0.7777777777777778,
             "#fb9f3a"
            ],
            [
             0.8888888888888888,
             "#fdca26"
            ],
            [
             1,
             "#f0f921"
            ]
           ],
           "sequentialminus": [
            [
             0,
             "#0d0887"
            ],
            [
             0.1111111111111111,
             "#46039f"
            ],
            [
             0.2222222222222222,
             "#7201a8"
            ],
            [
             0.3333333333333333,
             "#9c179e"
            ],
            [
             0.4444444444444444,
             "#bd3786"
            ],
            [
             0.5555555555555556,
             "#d8576b"
            ],
            [
             0.6666666666666666,
             "#ed7953"
            ],
            [
             0.7777777777777778,
             "#fb9f3a"
            ],
            [
             0.8888888888888888,
             "#fdca26"
            ],
            [
             1,
             "#f0f921"
            ]
           ]
          },
          "colorway": [
           "#636efa",
           "#EF553B",
           "#00cc96",
           "#ab63fa",
           "#FFA15A",
           "#19d3f3",
           "#FF6692",
           "#B6E880",
           "#FF97FF",
           "#FECB52"
          ],
          "font": {
           "color": "#2a3f5f"
          },
          "geo": {
           "bgcolor": "white",
           "lakecolor": "white",
           "landcolor": "#E5ECF6",
           "showlakes": true,
           "showland": true,
           "subunitcolor": "white"
          },
          "hoverlabel": {
           "align": "left"
          },
          "hovermode": "closest",
          "mapbox": {
           "style": "light"
          },
          "paper_bgcolor": "white",
          "plot_bgcolor": "#E5ECF6",
          "polar": {
           "angularaxis": {
            "gridcolor": "white",
            "linecolor": "white",
            "ticks": ""
           },
           "bgcolor": "#E5ECF6",
           "radialaxis": {
            "gridcolor": "white",
            "linecolor": "white",
            "ticks": ""
           }
          },
          "scene": {
           "xaxis": {
            "backgroundcolor": "#E5ECF6",
            "gridcolor": "white",
            "gridwidth": 2,
            "linecolor": "white",
            "showbackground": true,
            "ticks": "",
            "zerolinecolor": "white"
           },
           "yaxis": {
            "backgroundcolor": "#E5ECF6",
            "gridcolor": "white",
            "gridwidth": 2,
            "linecolor": "white",
            "showbackground": true,
            "ticks": "",
            "zerolinecolor": "white"
           },
           "zaxis": {
            "backgroundcolor": "#E5ECF6",
            "gridcolor": "white",
            "gridwidth": 2,
            "linecolor": "white",
            "showbackground": true,
            "ticks": "",
            "zerolinecolor": "white"
           }
          },
          "shapedefaults": {
           "line": {
            "color": "#2a3f5f"
           }
          },
          "ternary": {
           "aaxis": {
            "gridcolor": "white",
            "linecolor": "white",
            "ticks": ""
           },
           "baxis": {
            "gridcolor": "white",
            "linecolor": "white",
            "ticks": ""
           },
           "bgcolor": "#E5ECF6",
           "caxis": {
            "gridcolor": "white",
            "linecolor": "white",
            "ticks": ""
           }
          },
          "title": {
           "x": 0.05
          },
          "xaxis": {
           "automargin": true,
           "gridcolor": "white",
           "linecolor": "white",
           "ticks": "",
           "title": {
            "standoff": 15
           },
           "zerolinecolor": "white",
           "zerolinewidth": 2
          },
          "yaxis": {
           "automargin": true,
           "gridcolor": "white",
           "linecolor": "white",
           "ticks": "",
           "title": {
            "standoff": 15
           },
           "zerolinecolor": "white",
           "zerolinewidth": 2
          }
         }
        },
        "title": {
         "text": "Optimization History Plot"
        },
        "xaxis": {
         "title": {
          "text": "#Trials"
         }
        },
        "yaxis": {
         "title": {
          "text": "Objective Value"
         }
        }
       }
      }
     },
     "metadata": {},
     "output_type": "display_data"
    }
   ],
   "source": [
    "optuna.visualization.plot_optimization_history(study)"
   ]
  },
  {
   "cell_type": "code",
   "execution_count": null,
   "metadata": {},
   "outputs": [
    {
     "data": {
      "application/vnd.plotly.v1+json": {
       "config": {
        "plotlyServerURL": "https://plot.ly"
       },
       "data": [
        {
         "colorbar": {
          "title": {
           "text": "Objective Value"
          }
         },
         "colorscale": [
          [
           0,
           "rgb(5,10,172)"
          ],
          [
           0.35,
           "rgb(40,60,190)"
          ],
          [
           0.5,
           "rgb(70,100,245)"
          ],
          [
           0.6,
           "rgb(90,120,245)"
          ],
          [
           0.7,
           "rgb(106,137,247)"
          ],
          [
           1,
           "rgb(220,220,220)"
          ]
         ],
         "connectgaps": true,
         "contours": {
          "coloring": "heatmap"
         },
         "hoverinfo": "none",
         "line": {
          "smoothing": 1.3
         },
         "reversescale": false,
         "type": "contour",
         "x": [
          1.8,
          2,
          4,
          6,
          6.2
         ],
         "y": [
          15.6,
          16,
          20,
          24,
          24.4
         ],
         "z": [
          [
           null,
           null,
           null,
           null,
           null
          ],
          [
           null,
           0.49058432567155913,
           0.2518692882857934,
           null,
           null
          ],
          [
           null,
           null,
           0.2518692882857934,
           null,
           null
          ],
          [
           null,
           0.2518692882857934,
           null,
           0.2518692882857934,
           null
          ],
          [
           null,
           null,
           null,
           null,
           null
          ]
         ]
        },
        {
         "marker": {
          "color": "black",
          "line": {
           "color": "Grey",
           "width": 0.5
          }
         },
         "mode": "markers",
         "showlegend": false,
         "type": "scatter",
         "x": [
          2,
          2,
          6,
          4,
          4
         ],
         "y": [
          24,
          16,
          24,
          16,
          20
         ]
        }
       ],
       "layout": {
        "template": {
         "data": {
          "bar": [
           {
            "error_x": {
             "color": "#2a3f5f"
            },
            "error_y": {
             "color": "#2a3f5f"
            },
            "marker": {
             "line": {
              "color": "#E5ECF6",
              "width": 0.5
             }
            },
            "type": "bar"
           }
          ],
          "barpolar": [
           {
            "marker": {
             "line": {
              "color": "#E5ECF6",
              "width": 0.5
             }
            },
            "type": "barpolar"
           }
          ],
          "carpet": [
           {
            "aaxis": {
             "endlinecolor": "#2a3f5f",
             "gridcolor": "white",
             "linecolor": "white",
             "minorgridcolor": "white",
             "startlinecolor": "#2a3f5f"
            },
            "baxis": {
             "endlinecolor": "#2a3f5f",
             "gridcolor": "white",
             "linecolor": "white",
             "minorgridcolor": "white",
             "startlinecolor": "#2a3f5f"
            },
            "type": "carpet"
           }
          ],
          "choropleth": [
           {
            "colorbar": {
             "outlinewidth": 0,
             "ticks": ""
            },
            "type": "choropleth"
           }
          ],
          "contour": [
           {
            "colorbar": {
             "outlinewidth": 0,
             "ticks": ""
            },
            "colorscale": [
             [
              0,
              "#0d0887"
             ],
             [
              0.1111111111111111,
              "#46039f"
             ],
             [
              0.2222222222222222,
              "#7201a8"
             ],
             [
              0.3333333333333333,
              "#9c179e"
             ],
             [
              0.4444444444444444,
              "#bd3786"
             ],
             [
              0.5555555555555556,
              "#d8576b"
             ],
             [
              0.6666666666666666,
              "#ed7953"
             ],
             [
              0.7777777777777778,
              "#fb9f3a"
             ],
             [
              0.8888888888888888,
              "#fdca26"
             ],
             [
              1,
              "#f0f921"
             ]
            ],
            "type": "contour"
           }
          ],
          "contourcarpet": [
           {
            "colorbar": {
             "outlinewidth": 0,
             "ticks": ""
            },
            "type": "contourcarpet"
           }
          ],
          "heatmap": [
           {
            "colorbar": {
             "outlinewidth": 0,
             "ticks": ""
            },
            "colorscale": [
             [
              0,
              "#0d0887"
             ],
             [
              0.1111111111111111,
              "#46039f"
             ],
             [
              0.2222222222222222,
              "#7201a8"
             ],
             [
              0.3333333333333333,
              "#9c179e"
             ],
             [
              0.4444444444444444,
              "#bd3786"
             ],
             [
              0.5555555555555556,
              "#d8576b"
             ],
             [
              0.6666666666666666,
              "#ed7953"
             ],
             [
              0.7777777777777778,
              "#fb9f3a"
             ],
             [
              0.8888888888888888,
              "#fdca26"
             ],
             [
              1,
              "#f0f921"
             ]
            ],
            "type": "heatmap"
           }
          ],
          "heatmapgl": [
           {
            "colorbar": {
             "outlinewidth": 0,
             "ticks": ""
            },
            "colorscale": [
             [
              0,
              "#0d0887"
             ],
             [
              0.1111111111111111,
              "#46039f"
             ],
             [
              0.2222222222222222,
              "#7201a8"
             ],
             [
              0.3333333333333333,
              "#9c179e"
             ],
             [
              0.4444444444444444,
              "#bd3786"
             ],
             [
              0.5555555555555556,
              "#d8576b"
             ],
             [
              0.6666666666666666,
              "#ed7953"
             ],
             [
              0.7777777777777778,
              "#fb9f3a"
             ],
             [
              0.8888888888888888,
              "#fdca26"
             ],
             [
              1,
              "#f0f921"
             ]
            ],
            "type": "heatmapgl"
           }
          ],
          "histogram": [
           {
            "marker": {
             "colorbar": {
              "outlinewidth": 0,
              "ticks": ""
             }
            },
            "type": "histogram"
           }
          ],
          "histogram2d": [
           {
            "colorbar": {
             "outlinewidth": 0,
             "ticks": ""
            },
            "colorscale": [
             [
              0,
              "#0d0887"
             ],
             [
              0.1111111111111111,
              "#46039f"
             ],
             [
              0.2222222222222222,
              "#7201a8"
             ],
             [
              0.3333333333333333,
              "#9c179e"
             ],
             [
              0.4444444444444444,
              "#bd3786"
             ],
             [
              0.5555555555555556,
              "#d8576b"
             ],
             [
              0.6666666666666666,
              "#ed7953"
             ],
             [
              0.7777777777777778,
              "#fb9f3a"
             ],
             [
              0.8888888888888888,
              "#fdca26"
             ],
             [
              1,
              "#f0f921"
             ]
            ],
            "type": "histogram2d"
           }
          ],
          "histogram2dcontour": [
           {
            "colorbar": {
             "outlinewidth": 0,
             "ticks": ""
            },
            "colorscale": [
             [
              0,
              "#0d0887"
             ],
             [
              0.1111111111111111,
              "#46039f"
             ],
             [
              0.2222222222222222,
              "#7201a8"
             ],
             [
              0.3333333333333333,
              "#9c179e"
             ],
             [
              0.4444444444444444,
              "#bd3786"
             ],
             [
              0.5555555555555556,
              "#d8576b"
             ],
             [
              0.6666666666666666,
              "#ed7953"
             ],
             [
              0.7777777777777778,
              "#fb9f3a"
             ],
             [
              0.8888888888888888,
              "#fdca26"
             ],
             [
              1,
              "#f0f921"
             ]
            ],
            "type": "histogram2dcontour"
           }
          ],
          "mesh3d": [
           {
            "colorbar": {
             "outlinewidth": 0,
             "ticks": ""
            },
            "type": "mesh3d"
           }
          ],
          "parcoords": [
           {
            "line": {
             "colorbar": {
              "outlinewidth": 0,
              "ticks": ""
             }
            },
            "type": "parcoords"
           }
          ],
          "pie": [
           {
            "automargin": true,
            "type": "pie"
           }
          ],
          "scatter": [
           {
            "marker": {
             "colorbar": {
              "outlinewidth": 0,
              "ticks": ""
             }
            },
            "type": "scatter"
           }
          ],
          "scatter3d": [
           {
            "line": {
             "colorbar": {
              "outlinewidth": 0,
              "ticks": ""
             }
            },
            "marker": {
             "colorbar": {
              "outlinewidth": 0,
              "ticks": ""
             }
            },
            "type": "scatter3d"
           }
          ],
          "scattercarpet": [
           {
            "marker": {
             "colorbar": {
              "outlinewidth": 0,
              "ticks": ""
             }
            },
            "type": "scattercarpet"
           }
          ],
          "scattergeo": [
           {
            "marker": {
             "colorbar": {
              "outlinewidth": 0,
              "ticks": ""
             }
            },
            "type": "scattergeo"
           }
          ],
          "scattergl": [
           {
            "marker": {
             "colorbar": {
              "outlinewidth": 0,
              "ticks": ""
             }
            },
            "type": "scattergl"
           }
          ],
          "scattermapbox": [
           {
            "marker": {
             "colorbar": {
              "outlinewidth": 0,
              "ticks": ""
             }
            },
            "type": "scattermapbox"
           }
          ],
          "scatterpolar": [
           {
            "marker": {
             "colorbar": {
              "outlinewidth": 0,
              "ticks": ""
             }
            },
            "type": "scatterpolar"
           }
          ],
          "scatterpolargl": [
           {
            "marker": {
             "colorbar": {
              "outlinewidth": 0,
              "ticks": ""
             }
            },
            "type": "scatterpolargl"
           }
          ],
          "scatterternary": [
           {
            "marker": {
             "colorbar": {
              "outlinewidth": 0,
              "ticks": ""
             }
            },
            "type": "scatterternary"
           }
          ],
          "surface": [
           {
            "colorbar": {
             "outlinewidth": 0,
             "ticks": ""
            },
            "colorscale": [
             [
              0,
              "#0d0887"
             ],
             [
              0.1111111111111111,
              "#46039f"
             ],
             [
              0.2222222222222222,
              "#7201a8"
             ],
             [
              0.3333333333333333,
              "#9c179e"
             ],
             [
              0.4444444444444444,
              "#bd3786"
             ],
             [
              0.5555555555555556,
              "#d8576b"
             ],
             [
              0.6666666666666666,
              "#ed7953"
             ],
             [
              0.7777777777777778,
              "#fb9f3a"
             ],
             [
              0.8888888888888888,
              "#fdca26"
             ],
             [
              1,
              "#f0f921"
             ]
            ],
            "type": "surface"
           }
          ],
          "table": [
           {
            "cells": {
             "fill": {
              "color": "#EBF0F8"
             },
             "line": {
              "color": "white"
             }
            },
            "header": {
             "fill": {
              "color": "#C8D4E3"
             },
             "line": {
              "color": "white"
             }
            },
            "type": "table"
           }
          ]
         },
         "layout": {
          "annotationdefaults": {
           "arrowcolor": "#2a3f5f",
           "arrowhead": 0,
           "arrowwidth": 1
          },
          "coloraxis": {
           "colorbar": {
            "outlinewidth": 0,
            "ticks": ""
           }
          },
          "colorscale": {
           "diverging": [
            [
             0,
             "#8e0152"
            ],
            [
             0.1,
             "#c51b7d"
            ],
            [
             0.2,
             "#de77ae"
            ],
            [
             0.3,
             "#f1b6da"
            ],
            [
             0.4,
             "#fde0ef"
            ],
            [
             0.5,
             "#f7f7f7"
            ],
            [
             0.6,
             "#e6f5d0"
            ],
            [
             0.7,
             "#b8e186"
            ],
            [
             0.8,
             "#7fbc41"
            ],
            [
             0.9,
             "#4d9221"
            ],
            [
             1,
             "#276419"
            ]
           ],
           "sequential": [
            [
             0,
             "#0d0887"
            ],
            [
             0.1111111111111111,
             "#46039f"
            ],
            [
             0.2222222222222222,
             "#7201a8"
            ],
            [
             0.3333333333333333,
             "#9c179e"
            ],
            [
             0.4444444444444444,
             "#bd3786"
            ],
            [
             0.5555555555555556,
             "#d8576b"
            ],
            [
             0.6666666666666666,
             "#ed7953"
            ],
            [
             0.7777777777777778,
             "#fb9f3a"
            ],
            [
             0.8888888888888888,
             "#fdca26"
            ],
            [
             1,
             "#f0f921"
            ]
           ],
           "sequentialminus": [
            [
             0,
             "#0d0887"
            ],
            [
             0.1111111111111111,
             "#46039f"
            ],
            [
             0.2222222222222222,
             "#7201a8"
            ],
            [
             0.3333333333333333,
             "#9c179e"
            ],
            [
             0.4444444444444444,
             "#bd3786"
            ],
            [
             0.5555555555555556,
             "#d8576b"
            ],
            [
             0.6666666666666666,
             "#ed7953"
            ],
            [
             0.7777777777777778,
             "#fb9f3a"
            ],
            [
             0.8888888888888888,
             "#fdca26"
            ],
            [
             1,
             "#f0f921"
            ]
           ]
          },
          "colorway": [
           "#636efa",
           "#EF553B",
           "#00cc96",
           "#ab63fa",
           "#FFA15A",
           "#19d3f3",
           "#FF6692",
           "#B6E880",
           "#FF97FF",
           "#FECB52"
          ],
          "font": {
           "color": "#2a3f5f"
          },
          "geo": {
           "bgcolor": "white",
           "lakecolor": "white",
           "landcolor": "#E5ECF6",
           "showlakes": true,
           "showland": true,
           "subunitcolor": "white"
          },
          "hoverlabel": {
           "align": "left"
          },
          "hovermode": "closest",
          "mapbox": {
           "style": "light"
          },
          "paper_bgcolor": "white",
          "plot_bgcolor": "#E5ECF6",
          "polar": {
           "angularaxis": {
            "gridcolor": "white",
            "linecolor": "white",
            "ticks": ""
           },
           "bgcolor": "#E5ECF6",
           "radialaxis": {
            "gridcolor": "white",
            "linecolor": "white",
            "ticks": ""
           }
          },
          "scene": {
           "xaxis": {
            "backgroundcolor": "#E5ECF6",
            "gridcolor": "white",
            "gridwidth": 2,
            "linecolor": "white",
            "showbackground": true,
            "ticks": "",
            "zerolinecolor": "white"
           },
           "yaxis": {
            "backgroundcolor": "#E5ECF6",
            "gridcolor": "white",
            "gridwidth": 2,
            "linecolor": "white",
            "showbackground": true,
            "ticks": "",
            "zerolinecolor": "white"
           },
           "zaxis": {
            "backgroundcolor": "#E5ECF6",
            "gridcolor": "white",
            "gridwidth": 2,
            "linecolor": "white",
            "showbackground": true,
            "ticks": "",
            "zerolinecolor": "white"
           }
          },
          "shapedefaults": {
           "line": {
            "color": "#2a3f5f"
           }
          },
          "ternary": {
           "aaxis": {
            "gridcolor": "white",
            "linecolor": "white",
            "ticks": ""
           },
           "baxis": {
            "gridcolor": "white",
            "linecolor": "white",
            "ticks": ""
           },
           "bgcolor": "#E5ECF6",
           "caxis": {
            "gridcolor": "white",
            "linecolor": "white",
            "ticks": ""
           }
          },
          "title": {
           "x": 0.05
          },
          "xaxis": {
           "automargin": true,
           "gridcolor": "white",
           "linecolor": "white",
           "ticks": "",
           "title": {
            "standoff": 15
           },
           "zerolinecolor": "white",
           "zerolinewidth": 2
          },
          "yaxis": {
           "automargin": true,
           "gridcolor": "white",
           "linecolor": "white",
           "ticks": "",
           "title": {
            "standoff": 15
           },
           "zerolinecolor": "white",
           "zerolinewidth": 2
          }
         }
        },
        "title": {
         "text": "Contour Plot"
        },
        "xaxis": {
         "range": [
          1.8,
          6.2
         ],
         "title": {
          "text": "conv1_out_ch"
         }
        },
        "yaxis": {
         "range": [
          15.6,
          24.4
         ],
         "title": {
          "text": "conv2_out_ch"
         }
        }
       }
      }
     },
     "metadata": {},
     "output_type": "display_data"
    }
   ],
   "source": [
    "optuna.visualization.plot_contour(study, params=['conv1_out_ch', 'conv2_out_ch'])"
   ]
  },
  {
   "cell_type": "code",
   "execution_count": null,
   "metadata": {},
   "outputs": [
    {
     "data": {
      "application/vnd.plotly.v1+json": {
       "config": {
        "plotlyServerURL": "https://plot.ly"
       },
       "data": [
        {
         "colorbar": {
          "title": {
           "text": "Objective Value"
          }
         },
         "colorscale": [
          [
           0,
           "rgb(5,10,172)"
          ],
          [
           0.35,
           "rgb(40,60,190)"
          ],
          [
           0.5,
           "rgb(70,100,245)"
          ],
          [
           0.6,
           "rgb(90,120,245)"
          ],
          [
           0.7,
           "rgb(106,137,247)"
          ],
          [
           1,
           "rgb(220,220,220)"
          ]
         ],
         "connectgaps": true,
         "contours": {
          "coloring": "heatmap"
         },
         "hoverinfo": "none",
         "line": {
          "smoothing": 1.3
         },
         "reversescale": false,
         "type": "contour",
         "x": [
          0.00004454835006665415,
          0.000060137978981262786,
          0.00008213953795512666,
          0.00008720459373881373,
          0.0005396599229388588,
          0.024293659107670045,
          0.03279518901618329
         ],
         "y": [
          "Adam",
          "SGD"
         ],
         "z": [
          [
           null,
           0.49058432567155913,
           null,
           null,
           null,
           0.2518692882857934,
           null
          ],
          [
           null,
           null,
           0.2518692882857934,
           0.2518692882857934,
           0.2518692882857934,
           null,
           null
          ]
         ]
        },
        {
         "marker": {
          "color": "black",
          "line": {
           "color": "Grey",
           "width": 0.5
          }
         },
         "mode": "markers",
         "showlegend": false,
         "type": "scatter",
         "x": [
          0.00008720459373881373,
          0.000060137978981262786,
          0.024293659107670045,
          0.0005396599229388588,
          0.00008213953795512666
         ],
         "y": [
          "SGD",
          "Adam",
          "Adam",
          "SGD",
          "SGD"
         ]
        }
       ],
       "layout": {
        "template": {
         "data": {
          "bar": [
           {
            "error_x": {
             "color": "#2a3f5f"
            },
            "error_y": {
             "color": "#2a3f5f"
            },
            "marker": {
             "line": {
              "color": "#E5ECF6",
              "width": 0.5
             }
            },
            "type": "bar"
           }
          ],
          "barpolar": [
           {
            "marker": {
             "line": {
              "color": "#E5ECF6",
              "width": 0.5
             }
            },
            "type": "barpolar"
           }
          ],
          "carpet": [
           {
            "aaxis": {
             "endlinecolor": "#2a3f5f",
             "gridcolor": "white",
             "linecolor": "white",
             "minorgridcolor": "white",
             "startlinecolor": "#2a3f5f"
            },
            "baxis": {
             "endlinecolor": "#2a3f5f",
             "gridcolor": "white",
             "linecolor": "white",
             "minorgridcolor": "white",
             "startlinecolor": "#2a3f5f"
            },
            "type": "carpet"
           }
          ],
          "choropleth": [
           {
            "colorbar": {
             "outlinewidth": 0,
             "ticks": ""
            },
            "type": "choropleth"
           }
          ],
          "contour": [
           {
            "colorbar": {
             "outlinewidth": 0,
             "ticks": ""
            },
            "colorscale": [
             [
              0,
              "#0d0887"
             ],
             [
              0.1111111111111111,
              "#46039f"
             ],
             [
              0.2222222222222222,
              "#7201a8"
             ],
             [
              0.3333333333333333,
              "#9c179e"
             ],
             [
              0.4444444444444444,
              "#bd3786"
             ],
             [
              0.5555555555555556,
              "#d8576b"
             ],
             [
              0.6666666666666666,
              "#ed7953"
             ],
             [
              0.7777777777777778,
              "#fb9f3a"
             ],
             [
              0.8888888888888888,
              "#fdca26"
             ],
             [
              1,
              "#f0f921"
             ]
            ],
            "type": "contour"
           }
          ],
          "contourcarpet": [
           {
            "colorbar": {
             "outlinewidth": 0,
             "ticks": ""
            },
            "type": "contourcarpet"
           }
          ],
          "heatmap": [
           {
            "colorbar": {
             "outlinewidth": 0,
             "ticks": ""
            },
            "colorscale": [
             [
              0,
              "#0d0887"
             ],
             [
              0.1111111111111111,
              "#46039f"
             ],
             [
              0.2222222222222222,
              "#7201a8"
             ],
             [
              0.3333333333333333,
              "#9c179e"
             ],
             [
              0.4444444444444444,
              "#bd3786"
             ],
             [
              0.5555555555555556,
              "#d8576b"
             ],
             [
              0.6666666666666666,
              "#ed7953"
             ],
             [
              0.7777777777777778,
              "#fb9f3a"
             ],
             [
              0.8888888888888888,
              "#fdca26"
             ],
             [
              1,
              "#f0f921"
             ]
            ],
            "type": "heatmap"
           }
          ],
          "heatmapgl": [
           {
            "colorbar": {
             "outlinewidth": 0,
             "ticks": ""
            },
            "colorscale": [
             [
              0,
              "#0d0887"
             ],
             [
              0.1111111111111111,
              "#46039f"
             ],
             [
              0.2222222222222222,
              "#7201a8"
             ],
             [
              0.3333333333333333,
              "#9c179e"
             ],
             [
              0.4444444444444444,
              "#bd3786"
             ],
             [
              0.5555555555555556,
              "#d8576b"
             ],
             [
              0.6666666666666666,
              "#ed7953"
             ],
             [
              0.7777777777777778,
              "#fb9f3a"
             ],
             [
              0.8888888888888888,
              "#fdca26"
             ],
             [
              1,
              "#f0f921"
             ]
            ],
            "type": "heatmapgl"
           }
          ],
          "histogram": [
           {
            "marker": {
             "colorbar": {
              "outlinewidth": 0,
              "ticks": ""
             }
            },
            "type": "histogram"
           }
          ],
          "histogram2d": [
           {
            "colorbar": {
             "outlinewidth": 0,
             "ticks": ""
            },
            "colorscale": [
             [
              0,
              "#0d0887"
             ],
             [
              0.1111111111111111,
              "#46039f"
             ],
             [
              0.2222222222222222,
              "#7201a8"
             ],
             [
              0.3333333333333333,
              "#9c179e"
             ],
             [
              0.4444444444444444,
              "#bd3786"
             ],
             [
              0.5555555555555556,
              "#d8576b"
             ],
             [
              0.6666666666666666,
              "#ed7953"
             ],
             [
              0.7777777777777778,
              "#fb9f3a"
             ],
             [
              0.8888888888888888,
              "#fdca26"
             ],
             [
              1,
              "#f0f921"
             ]
            ],
            "type": "histogram2d"
           }
          ],
          "histogram2dcontour": [
           {
            "colorbar": {
             "outlinewidth": 0,
             "ticks": ""
            },
            "colorscale": [
             [
              0,
              "#0d0887"
             ],
             [
              0.1111111111111111,
              "#46039f"
             ],
             [
              0.2222222222222222,
              "#7201a8"
             ],
             [
              0.3333333333333333,
              "#9c179e"
             ],
             [
              0.4444444444444444,
              "#bd3786"
             ],
             [
              0.5555555555555556,
              "#d8576b"
             ],
             [
              0.6666666666666666,
              "#ed7953"
             ],
             [
              0.7777777777777778,
              "#fb9f3a"
             ],
             [
              0.8888888888888888,
              "#fdca26"
             ],
             [
              1,
              "#f0f921"
             ]
            ],
            "type": "histogram2dcontour"
           }
          ],
          "mesh3d": [
           {
            "colorbar": {
             "outlinewidth": 0,
             "ticks": ""
            },
            "type": "mesh3d"
           }
          ],
          "parcoords": [
           {
            "line": {
             "colorbar": {
              "outlinewidth": 0,
              "ticks": ""
             }
            },
            "type": "parcoords"
           }
          ],
          "pie": [
           {
            "automargin": true,
            "type": "pie"
           }
          ],
          "scatter": [
           {
            "marker": {
             "colorbar": {
              "outlinewidth": 0,
              "ticks": ""
             }
            },
            "type": "scatter"
           }
          ],
          "scatter3d": [
           {
            "line": {
             "colorbar": {
              "outlinewidth": 0,
              "ticks": ""
             }
            },
            "marker": {
             "colorbar": {
              "outlinewidth": 0,
              "ticks": ""
             }
            },
            "type": "scatter3d"
           }
          ],
          "scattercarpet": [
           {
            "marker": {
             "colorbar": {
              "outlinewidth": 0,
              "ticks": ""
             }
            },
            "type": "scattercarpet"
           }
          ],
          "scattergeo": [
           {
            "marker": {
             "colorbar": {
              "outlinewidth": 0,
              "ticks": ""
             }
            },
            "type": "scattergeo"
           }
          ],
          "scattergl": [
           {
            "marker": {
             "colorbar": {
              "outlinewidth": 0,
              "ticks": ""
             }
            },
            "type": "scattergl"
           }
          ],
          "scattermapbox": [
           {
            "marker": {
             "colorbar": {
              "outlinewidth": 0,
              "ticks": ""
             }
            },
            "type": "scattermapbox"
           }
          ],
          "scatterpolar": [
           {
            "marker": {
             "colorbar": {
              "outlinewidth": 0,
              "ticks": ""
             }
            },
            "type": "scatterpolar"
           }
          ],
          "scatterpolargl": [
           {
            "marker": {
             "colorbar": {
              "outlinewidth": 0,
              "ticks": ""
             }
            },
            "type": "scatterpolargl"
           }
          ],
          "scatterternary": [
           {
            "marker": {
             "colorbar": {
              "outlinewidth": 0,
              "ticks": ""
             }
            },
            "type": "scatterternary"
           }
          ],
          "surface": [
           {
            "colorbar": {
             "outlinewidth": 0,
             "ticks": ""
            },
            "colorscale": [
             [
              0,
              "#0d0887"
             ],
             [
              0.1111111111111111,
              "#46039f"
             ],
             [
              0.2222222222222222,
              "#7201a8"
             ],
             [
              0.3333333333333333,
              "#9c179e"
             ],
             [
              0.4444444444444444,
              "#bd3786"
             ],
             [
              0.5555555555555556,
              "#d8576b"
             ],
             [
              0.6666666666666666,
              "#ed7953"
             ],
             [
              0.7777777777777778,
              "#fb9f3a"
             ],
             [
              0.8888888888888888,
              "#fdca26"
             ],
             [
              1,
              "#f0f921"
             ]
            ],
            "type": "surface"
           }
          ],
          "table": [
           {
            "cells": {
             "fill": {
              "color": "#EBF0F8"
             },
             "line": {
              "color": "white"
             }
            },
            "header": {
             "fill": {
              "color": "#C8D4E3"
             },
             "line": {
              "color": "white"
             }
            },
            "type": "table"
           }
          ]
         },
         "layout": {
          "annotationdefaults": {
           "arrowcolor": "#2a3f5f",
           "arrowhead": 0,
           "arrowwidth": 1
          },
          "coloraxis": {
           "colorbar": {
            "outlinewidth": 0,
            "ticks": ""
           }
          },
          "colorscale": {
           "diverging": [
            [
             0,
             "#8e0152"
            ],
            [
             0.1,
             "#c51b7d"
            ],
            [
             0.2,
             "#de77ae"
            ],
            [
             0.3,
             "#f1b6da"
            ],
            [
             0.4,
             "#fde0ef"
            ],
            [
             0.5,
             "#f7f7f7"
            ],
            [
             0.6,
             "#e6f5d0"
            ],
            [
             0.7,
             "#b8e186"
            ],
            [
             0.8,
             "#7fbc41"
            ],
            [
             0.9,
             "#4d9221"
            ],
            [
             1,
             "#276419"
            ]
           ],
           "sequential": [
            [
             0,
             "#0d0887"
            ],
            [
             0.1111111111111111,
             "#46039f"
            ],
            [
             0.2222222222222222,
             "#7201a8"
            ],
            [
             0.3333333333333333,
             "#9c179e"
            ],
            [
             0.4444444444444444,
             "#bd3786"
            ],
            [
             0.5555555555555556,
             "#d8576b"
            ],
            [
             0.6666666666666666,
             "#ed7953"
            ],
            [
             0.7777777777777778,
             "#fb9f3a"
            ],
            [
             0.8888888888888888,
             "#fdca26"
            ],
            [
             1,
             "#f0f921"
            ]
           ],
           "sequentialminus": [
            [
             0,
             "#0d0887"
            ],
            [
             0.1111111111111111,
             "#46039f"
            ],
            [
             0.2222222222222222,
             "#7201a8"
            ],
            [
             0.3333333333333333,
             "#9c179e"
            ],
            [
             0.4444444444444444,
             "#bd3786"
            ],
            [
             0.5555555555555556,
             "#d8576b"
            ],
            [
             0.6666666666666666,
             "#ed7953"
            ],
            [
             0.7777777777777778,
             "#fb9f3a"
            ],
            [
             0.8888888888888888,
             "#fdca26"
            ],
            [
             1,
             "#f0f921"
            ]
           ]
          },
          "colorway": [
           "#636efa",
           "#EF553B",
           "#00cc96",
           "#ab63fa",
           "#FFA15A",
           "#19d3f3",
           "#FF6692",
           "#B6E880",
           "#FF97FF",
           "#FECB52"
          ],
          "font": {
           "color": "#2a3f5f"
          },
          "geo": {
           "bgcolor": "white",
           "lakecolor": "white",
           "landcolor": "#E5ECF6",
           "showlakes": true,
           "showland": true,
           "subunitcolor": "white"
          },
          "hoverlabel": {
           "align": "left"
          },
          "hovermode": "closest",
          "mapbox": {
           "style": "light"
          },
          "paper_bgcolor": "white",
          "plot_bgcolor": "#E5ECF6",
          "polar": {
           "angularaxis": {
            "gridcolor": "white",
            "linecolor": "white",
            "ticks": ""
           },
           "bgcolor": "#E5ECF6",
           "radialaxis": {
            "gridcolor": "white",
            "linecolor": "white",
            "ticks": ""
           }
          },
          "scene": {
           "xaxis": {
            "backgroundcolor": "#E5ECF6",
            "gridcolor": "white",
            "gridwidth": 2,
            "linecolor": "white",
            "showbackground": true,
            "ticks": "",
            "zerolinecolor": "white"
           },
           "yaxis": {
            "backgroundcolor": "#E5ECF6",
            "gridcolor": "white",
            "gridwidth": 2,
            "linecolor": "white",
            "showbackground": true,
            "ticks": "",
            "zerolinecolor": "white"
           },
           "zaxis": {
            "backgroundcolor": "#E5ECF6",
            "gridcolor": "white",
            "gridwidth": 2,
            "linecolor": "white",
            "showbackground": true,
            "ticks": "",
            "zerolinecolor": "white"
           }
          },
          "shapedefaults": {
           "line": {
            "color": "#2a3f5f"
           }
          },
          "ternary": {
           "aaxis": {
            "gridcolor": "white",
            "linecolor": "white",
            "ticks": ""
           },
           "baxis": {
            "gridcolor": "white",
            "linecolor": "white",
            "ticks": ""
           },
           "bgcolor": "#E5ECF6",
           "caxis": {
            "gridcolor": "white",
            "linecolor": "white",
            "ticks": ""
           }
          },
          "title": {
           "x": 0.05
          },
          "xaxis": {
           "automargin": true,
           "gridcolor": "white",
           "linecolor": "white",
           "ticks": "",
           "title": {
            "standoff": 15
           },
           "zerolinecolor": "white",
           "zerolinewidth": 2
          },
          "yaxis": {
           "automargin": true,
           "gridcolor": "white",
           "linecolor": "white",
           "ticks": "",
           "title": {
            "standoff": 15
           },
           "zerolinecolor": "white",
           "zerolinewidth": 2
          }
         }
        },
        "title": {
         "text": "Contour Plot"
        },
        "xaxis": {
         "range": [
          -4.351168376255995,
          -1.4841898616837685
         ],
         "title": {
          "text": "lr"
         },
         "type": "log"
        },
        "yaxis": {
         "range": [
          "Adam",
          "SGD"
         ],
         "title": {
          "text": "optimizer"
         },
         "type": "category"
        }
       }
      }
     },
     "metadata": {},
     "output_type": "display_data"
    }
   ],
   "source": [
    "optuna.visualization.plot_contour(study, params=['optimizer', 'lr'])"
   ]
  },
  {
   "cell_type": "code",
   "execution_count": null,
   "metadata": {},
   "outputs": [
    {
     "data": {
      "application/vnd.plotly.v1+json": {
       "config": {
        "plotlyServerURL": "https://plot.ly"
       },
       "data": [
        {
         "colorbar": {
          "title": {
           "text": "Objective Value"
          }
         },
         "colorscale": [
          [
           0,
           "rgb(5,10,172)"
          ],
          [
           0.35,
           "rgb(40,60,190)"
          ],
          [
           0.5,
           "rgb(70,100,245)"
          ],
          [
           0.6,
           "rgb(90,120,245)"
          ],
          [
           0.7,
           "rgb(106,137,247)"
          ],
          [
           1,
           "rgb(220,220,220)"
          ]
         ],
         "connectgaps": true,
         "contours": {
          "coloring": "heatmap"
         },
         "hoverinfo": "none",
         "line": {
          "smoothing": 1.3
         },
         "reversescale": false,
         "type": "contour",
         "x": [
          41.599999999999994,
          64,
          384,
          448,
          512,
          534.4
         ],
         "y": [
          0.00004454835006665415,
          0.000060137978981262786,
          0.00008213953795512666,
          0.00008720459373881373,
          0.0005396599229388588,
          0.024293659107670045,
          0.03279518901618329
         ],
         "z": [
          [
           null,
           null,
           null,
           null,
           null,
           null
          ],
          [
           null,
           null,
           null,
           null,
           0.49058432567155913,
           null
          ],
          [
           null,
           null,
           0.2518692882857934,
           null,
           null,
           null
          ],
          [
           null,
           0.2518692882857934,
           null,
           null,
           null,
           null
          ],
          [
           null,
           null,
           null,
           null,
           0.2518692882857934,
           null
          ],
          [
           null,
           null,
           null,
           0.2518692882857934,
           null,
           null
          ],
          [
           null,
           null,
           null,
           null,
           null,
           null
          ]
         ]
        },
        {
         "marker": {
          "color": "black",
          "line": {
           "color": "Grey",
           "width": 0.5
          }
         },
         "mode": "markers",
         "showlegend": false,
         "type": "scatter",
         "x": [
          64,
          512,
          448,
          512,
          384
         ],
         "y": [
          0.00008720459373881373,
          0.000060137978981262786,
          0.024293659107670045,
          0.0005396599229388588,
          0.00008213953795512666
         ]
        }
       ],
       "layout": {
        "template": {
         "data": {
          "bar": [
           {
            "error_x": {
             "color": "#2a3f5f"
            },
            "error_y": {
             "color": "#2a3f5f"
            },
            "marker": {
             "line": {
              "color": "#E5ECF6",
              "width": 0.5
             }
            },
            "type": "bar"
           }
          ],
          "barpolar": [
           {
            "marker": {
             "line": {
              "color": "#E5ECF6",
              "width": 0.5
             }
            },
            "type": "barpolar"
           }
          ],
          "carpet": [
           {
            "aaxis": {
             "endlinecolor": "#2a3f5f",
             "gridcolor": "white",
             "linecolor": "white",
             "minorgridcolor": "white",
             "startlinecolor": "#2a3f5f"
            },
            "baxis": {
             "endlinecolor": "#2a3f5f",
             "gridcolor": "white",
             "linecolor": "white",
             "minorgridcolor": "white",
             "startlinecolor": "#2a3f5f"
            },
            "type": "carpet"
           }
          ],
          "choropleth": [
           {
            "colorbar": {
             "outlinewidth": 0,
             "ticks": ""
            },
            "type": "choropleth"
           }
          ],
          "contour": [
           {
            "colorbar": {
             "outlinewidth": 0,
             "ticks": ""
            },
            "colorscale": [
             [
              0,
              "#0d0887"
             ],
             [
              0.1111111111111111,
              "#46039f"
             ],
             [
              0.2222222222222222,
              "#7201a8"
             ],
             [
              0.3333333333333333,
              "#9c179e"
             ],
             [
              0.4444444444444444,
              "#bd3786"
             ],
             [
              0.5555555555555556,
              "#d8576b"
             ],
             [
              0.6666666666666666,
              "#ed7953"
             ],
             [
              0.7777777777777778,
              "#fb9f3a"
             ],
             [
              0.8888888888888888,
              "#fdca26"
             ],
             [
              1,
              "#f0f921"
             ]
            ],
            "type": "contour"
           }
          ],
          "contourcarpet": [
           {
            "colorbar": {
             "outlinewidth": 0,
             "ticks": ""
            },
            "type": "contourcarpet"
           }
          ],
          "heatmap": [
           {
            "colorbar": {
             "outlinewidth": 0,
             "ticks": ""
            },
            "colorscale": [
             [
              0,
              "#0d0887"
             ],
             [
              0.1111111111111111,
              "#46039f"
             ],
             [
              0.2222222222222222,
              "#7201a8"
             ],
             [
              0.3333333333333333,
              "#9c179e"
             ],
             [
              0.4444444444444444,
              "#bd3786"
             ],
             [
              0.5555555555555556,
              "#d8576b"
             ],
             [
              0.6666666666666666,
              "#ed7953"
             ],
             [
              0.7777777777777778,
              "#fb9f3a"
             ],
             [
              0.8888888888888888,
              "#fdca26"
             ],
             [
              1,
              "#f0f921"
             ]
            ],
            "type": "heatmap"
           }
          ],
          "heatmapgl": [
           {
            "colorbar": {
             "outlinewidth": 0,
             "ticks": ""
            },
            "colorscale": [
             [
              0,
              "#0d0887"
             ],
             [
              0.1111111111111111,
              "#46039f"
             ],
             [
              0.2222222222222222,
              "#7201a8"
             ],
             [
              0.3333333333333333,
              "#9c179e"
             ],
             [
              0.4444444444444444,
              "#bd3786"
             ],
             [
              0.5555555555555556,
              "#d8576b"
             ],
             [
              0.6666666666666666,
              "#ed7953"
             ],
             [
              0.7777777777777778,
              "#fb9f3a"
             ],
             [
              0.8888888888888888,
              "#fdca26"
             ],
             [
              1,
              "#f0f921"
             ]
            ],
            "type": "heatmapgl"
           }
          ],
          "histogram": [
           {
            "marker": {
             "colorbar": {
              "outlinewidth": 0,
              "ticks": ""
             }
            },
            "type": "histogram"
           }
          ],
          "histogram2d": [
           {
            "colorbar": {
             "outlinewidth": 0,
             "ticks": ""
            },
            "colorscale": [
             [
              0,
              "#0d0887"
             ],
             [
              0.1111111111111111,
              "#46039f"
             ],
             [
              0.2222222222222222,
              "#7201a8"
             ],
             [
              0.3333333333333333,
              "#9c179e"
             ],
             [
              0.4444444444444444,
              "#bd3786"
             ],
             [
              0.5555555555555556,
              "#d8576b"
             ],
             [
              0.6666666666666666,
              "#ed7953"
             ],
             [
              0.7777777777777778,
              "#fb9f3a"
             ],
             [
              0.8888888888888888,
              "#fdca26"
             ],
             [
              1,
              "#f0f921"
             ]
            ],
            "type": "histogram2d"
           }
          ],
          "histogram2dcontour": [
           {
            "colorbar": {
             "outlinewidth": 0,
             "ticks": ""
            },
            "colorscale": [
             [
              0,
              "#0d0887"
             ],
             [
              0.1111111111111111,
              "#46039f"
             ],
             [
              0.2222222222222222,
              "#7201a8"
             ],
             [
              0.3333333333333333,
              "#9c179e"
             ],
             [
              0.4444444444444444,
              "#bd3786"
             ],
             [
              0.5555555555555556,
              "#d8576b"
             ],
             [
              0.6666666666666666,
              "#ed7953"
             ],
             [
              0.7777777777777778,
              "#fb9f3a"
             ],
             [
              0.8888888888888888,
              "#fdca26"
             ],
             [
              1,
              "#f0f921"
             ]
            ],
            "type": "histogram2dcontour"
           }
          ],
          "mesh3d": [
           {
            "colorbar": {
             "outlinewidth": 0,
             "ticks": ""
            },
            "type": "mesh3d"
           }
          ],
          "parcoords": [
           {
            "line": {
             "colorbar": {
              "outlinewidth": 0,
              "ticks": ""
             }
            },
            "type": "parcoords"
           }
          ],
          "pie": [
           {
            "automargin": true,
            "type": "pie"
           }
          ],
          "scatter": [
           {
            "marker": {
             "colorbar": {
              "outlinewidth": 0,
              "ticks": ""
             }
            },
            "type": "scatter"
           }
          ],
          "scatter3d": [
           {
            "line": {
             "colorbar": {
              "outlinewidth": 0,
              "ticks": ""
             }
            },
            "marker": {
             "colorbar": {
              "outlinewidth": 0,
              "ticks": ""
             }
            },
            "type": "scatter3d"
           }
          ],
          "scattercarpet": [
           {
            "marker": {
             "colorbar": {
              "outlinewidth": 0,
              "ticks": ""
             }
            },
            "type": "scattercarpet"
           }
          ],
          "scattergeo": [
           {
            "marker": {
             "colorbar": {
              "outlinewidth": 0,
              "ticks": ""
             }
            },
            "type": "scattergeo"
           }
          ],
          "scattergl": [
           {
            "marker": {
             "colorbar": {
              "outlinewidth": 0,
              "ticks": ""
             }
            },
            "type": "scattergl"
           }
          ],
          "scattermapbox": [
           {
            "marker": {
             "colorbar": {
              "outlinewidth": 0,
              "ticks": ""
             }
            },
            "type": "scattermapbox"
           }
          ],
          "scatterpolar": [
           {
            "marker": {
             "colorbar": {
              "outlinewidth": 0,
              "ticks": ""
             }
            },
            "type": "scatterpolar"
           }
          ],
          "scatterpolargl": [
           {
            "marker": {
             "colorbar": {
              "outlinewidth": 0,
              "ticks": ""
             }
            },
            "type": "scatterpolargl"
           }
          ],
          "scatterternary": [
           {
            "marker": {
             "colorbar": {
              "outlinewidth": 0,
              "ticks": ""
             }
            },
            "type": "scatterternary"
           }
          ],
          "surface": [
           {
            "colorbar": {
             "outlinewidth": 0,
             "ticks": ""
            },
            "colorscale": [
             [
              0,
              "#0d0887"
             ],
             [
              0.1111111111111111,
              "#46039f"
             ],
             [
              0.2222222222222222,
              "#7201a8"
             ],
             [
              0.3333333333333333,
              "#9c179e"
             ],
             [
              0.4444444444444444,
              "#bd3786"
             ],
             [
              0.5555555555555556,
              "#d8576b"
             ],
             [
              0.6666666666666666,
              "#ed7953"
             ],
             [
              0.7777777777777778,
              "#fb9f3a"
             ],
             [
              0.8888888888888888,
              "#fdca26"
             ],
             [
              1,
              "#f0f921"
             ]
            ],
            "type": "surface"
           }
          ],
          "table": [
           {
            "cells": {
             "fill": {
              "color": "#EBF0F8"
             },
             "line": {
              "color": "white"
             }
            },
            "header": {
             "fill": {
              "color": "#C8D4E3"
             },
             "line": {
              "color": "white"
             }
            },
            "type": "table"
           }
          ]
         },
         "layout": {
          "annotationdefaults": {
           "arrowcolor": "#2a3f5f",
           "arrowhead": 0,
           "arrowwidth": 1
          },
          "coloraxis": {
           "colorbar": {
            "outlinewidth": 0,
            "ticks": ""
           }
          },
          "colorscale": {
           "diverging": [
            [
             0,
             "#8e0152"
            ],
            [
             0.1,
             "#c51b7d"
            ],
            [
             0.2,
             "#de77ae"
            ],
            [
             0.3,
             "#f1b6da"
            ],
            [
             0.4,
             "#fde0ef"
            ],
            [
             0.5,
             "#f7f7f7"
            ],
            [
             0.6,
             "#e6f5d0"
            ],
            [
             0.7,
             "#b8e186"
            ],
            [
             0.8,
             "#7fbc41"
            ],
            [
             0.9,
             "#4d9221"
            ],
            [
             1,
             "#276419"
            ]
           ],
           "sequential": [
            [
             0,
             "#0d0887"
            ],
            [
             0.1111111111111111,
             "#46039f"
            ],
            [
             0.2222222222222222,
             "#7201a8"
            ],
            [
             0.3333333333333333,
             "#9c179e"
            ],
            [
             0.4444444444444444,
             "#bd3786"
            ],
            [
             0.5555555555555556,
             "#d8576b"
            ],
            [
             0.6666666666666666,
             "#ed7953"
            ],
            [
             0.7777777777777778,
             "#fb9f3a"
            ],
            [
             0.8888888888888888,
             "#fdca26"
            ],
            [
             1,
             "#f0f921"
            ]
           ],
           "sequentialminus": [
            [
             0,
             "#0d0887"
            ],
            [
             0.1111111111111111,
             "#46039f"
            ],
            [
             0.2222222222222222,
             "#7201a8"
            ],
            [
             0.3333333333333333,
             "#9c179e"
            ],
            [
             0.4444444444444444,
             "#bd3786"
            ],
            [
             0.5555555555555556,
             "#d8576b"
            ],
            [
             0.6666666666666666,
             "#ed7953"
            ],
            [
             0.7777777777777778,
             "#fb9f3a"
            ],
            [
             0.8888888888888888,
             "#fdca26"
            ],
            [
             1,
             "#f0f921"
            ]
           ]
          },
          "colorway": [
           "#636efa",
           "#EF553B",
           "#00cc96",
           "#ab63fa",
           "#FFA15A",
           "#19d3f3",
           "#FF6692",
           "#B6E880",
           "#FF97FF",
           "#FECB52"
          ],
          "font": {
           "color": "#2a3f5f"
          },
          "geo": {
           "bgcolor": "white",
           "lakecolor": "white",
           "landcolor": "#E5ECF6",
           "showlakes": true,
           "showland": true,
           "subunitcolor": "white"
          },
          "hoverlabel": {
           "align": "left"
          },
          "hovermode": "closest",
          "mapbox": {
           "style": "light"
          },
          "paper_bgcolor": "white",
          "plot_bgcolor": "#E5ECF6",
          "polar": {
           "angularaxis": {
            "gridcolor": "white",
            "linecolor": "white",
            "ticks": ""
           },
           "bgcolor": "#E5ECF6",
           "radialaxis": {
            "gridcolor": "white",
            "linecolor": "white",
            "ticks": ""
           }
          },
          "scene": {
           "xaxis": {
            "backgroundcolor": "#E5ECF6",
            "gridcolor": "white",
            "gridwidth": 2,
            "linecolor": "white",
            "showbackground": true,
            "ticks": "",
            "zerolinecolor": "white"
           },
           "yaxis": {
            "backgroundcolor": "#E5ECF6",
            "gridcolor": "white",
            "gridwidth": 2,
            "linecolor": "white",
            "showbackground": true,
            "ticks": "",
            "zerolinecolor": "white"
           },
           "zaxis": {
            "backgroundcolor": "#E5ECF6",
            "gridcolor": "white",
            "gridwidth": 2,
            "linecolor": "white",
            "showbackground": true,
            "ticks": "",
            "zerolinecolor": "white"
           }
          },
          "shapedefaults": {
           "line": {
            "color": "#2a3f5f"
           }
          },
          "ternary": {
           "aaxis": {
            "gridcolor": "white",
            "linecolor": "white",
            "ticks": ""
           },
           "baxis": {
            "gridcolor": "white",
            "linecolor": "white",
            "ticks": ""
           },
           "bgcolor": "#E5ECF6",
           "caxis": {
            "gridcolor": "white",
            "linecolor": "white",
            "ticks": ""
           }
          },
          "title": {
           "x": 0.05
          },
          "xaxis": {
           "automargin": true,
           "gridcolor": "white",
           "linecolor": "white",
           "ticks": "",
           "title": {
            "standoff": 15
           },
           "zerolinecolor": "white",
           "zerolinewidth": 2
          },
          "yaxis": {
           "automargin": true,
           "gridcolor": "white",
           "linecolor": "white",
           "ticks": "",
           "title": {
            "standoff": 15
           },
           "zerolinecolor": "white",
           "zerolinewidth": 2
          }
         }
        },
        "title": {
         "text": "Contour Plot"
        },
        "xaxis": {
         "range": [
          41.599999999999994,
          534.4
         ],
         "title": {
          "text": "batch_size"
         }
        },
        "yaxis": {
         "range": [
          -4.351168376255995,
          -1.4841898616837685
         ],
         "title": {
          "text": "lr"
         },
         "type": "log"
        }
       }
      }
     },
     "metadata": {},
     "output_type": "display_data"
    }
   ],
   "source": [
    "optuna.visualization.plot_contour(study, params=['batch_size', 'lr'])"
   ]
  },
  {
   "cell_type": "code",
   "execution_count": null,
   "metadata": {},
   "outputs": [
    {
     "data": {
      "application/vnd.plotly.v1+json": {
       "config": {
        "plotlyServerURL": "https://plot.ly"
       },
       "data": [
        {
         "dimensions": [
          {
           "label": "Objective Value",
           "range": [
            0.2518692882857934,
            0.49058432567155913
           ],
           "values": [
            0.2518692882857934,
            0.49058432567155913,
            0.2518692882857934,
            0.2518692882857934,
            0.2518692882857934
           ]
          },
          {
           "label": "batch_size",
           "range": [
            64,
            512
           ],
           "values": [
            64,
            512,
            448,
            512,
            384
           ]
          },
          {
           "label": "conv1_out_ch",
           "range": [
            2,
            6
           ],
           "values": [
            2,
            2,
            6,
            4,
            4
           ]
          },
          {
           "label": "conv2_out_ch",
           "range": [
            16,
            24
           ],
           "values": [
            24,
            16,
            24,
            16,
            20
           ]
          },
          {
           "label": "lr",
           "range": [
            -4.220851171048166,
            -1.614507066891597
           ],
           "ticktext": [
            "6.01e-05",
            "0.0001",
            "0.001",
            "0.01",
            "0.0243"
           ],
           "tickvals": [
            -4.220851171048166,
            -4,
            -3,
            -2,
            -1.614507066891597
           ],
           "values": [
            -4.059460636823508,
            -4.220851171048166,
            -1.614507066891597,
            -3.267879832986808,
            -4.085447744434683
           ]
          },
          {
           "label": "optimizer",
           "range": [
            0,
            1
           ],
           "ticktext": [
            "SGD",
            "Adam"
           ],
           "tickvals": [
            0,
            1
           ],
           "values": [
            0,
            1,
            1,
            0,
            0
           ]
          }
         ],
         "labelangle": 30,
         "labelside": "bottom",
         "line": {
          "color": [
           0.2518692882857934,
           0.49058432567155913,
           0.2518692882857934,
           0.2518692882857934,
           0.2518692882857934
          ],
          "colorbar": {
           "title": {
            "text": "Objective Value"
           }
          },
          "colorscale": [
           [
            0,
            "rgb(247,251,255)"
           ],
           [
            0.125,
            "rgb(222,235,247)"
           ],
           [
            0.25,
            "rgb(198,219,239)"
           ],
           [
            0.375,
            "rgb(158,202,225)"
           ],
           [
            0.5,
            "rgb(107,174,214)"
           ],
           [
            0.625,
            "rgb(66,146,198)"
           ],
           [
            0.75,
            "rgb(33,113,181)"
           ],
           [
            0.875,
            "rgb(8,81,156)"
           ],
           [
            1,
            "rgb(8,48,107)"
           ]
          ],
          "reversescale": false,
          "showscale": true
         },
         "type": "parcoords"
        }
       ],
       "layout": {
        "template": {
         "data": {
          "bar": [
           {
            "error_x": {
             "color": "#2a3f5f"
            },
            "error_y": {
             "color": "#2a3f5f"
            },
            "marker": {
             "line": {
              "color": "#E5ECF6",
              "width": 0.5
             }
            },
            "type": "bar"
           }
          ],
          "barpolar": [
           {
            "marker": {
             "line": {
              "color": "#E5ECF6",
              "width": 0.5
             }
            },
            "type": "barpolar"
           }
          ],
          "carpet": [
           {
            "aaxis": {
             "endlinecolor": "#2a3f5f",
             "gridcolor": "white",
             "linecolor": "white",
             "minorgridcolor": "white",
             "startlinecolor": "#2a3f5f"
            },
            "baxis": {
             "endlinecolor": "#2a3f5f",
             "gridcolor": "white",
             "linecolor": "white",
             "minorgridcolor": "white",
             "startlinecolor": "#2a3f5f"
            },
            "type": "carpet"
           }
          ],
          "choropleth": [
           {
            "colorbar": {
             "outlinewidth": 0,
             "ticks": ""
            },
            "type": "choropleth"
           }
          ],
          "contour": [
           {
            "colorbar": {
             "outlinewidth": 0,
             "ticks": ""
            },
            "colorscale": [
             [
              0,
              "#0d0887"
             ],
             [
              0.1111111111111111,
              "#46039f"
             ],
             [
              0.2222222222222222,
              "#7201a8"
             ],
             [
              0.3333333333333333,
              "#9c179e"
             ],
             [
              0.4444444444444444,
              "#bd3786"
             ],
             [
              0.5555555555555556,
              "#d8576b"
             ],
             [
              0.6666666666666666,
              "#ed7953"
             ],
             [
              0.7777777777777778,
              "#fb9f3a"
             ],
             [
              0.8888888888888888,
              "#fdca26"
             ],
             [
              1,
              "#f0f921"
             ]
            ],
            "type": "contour"
           }
          ],
          "contourcarpet": [
           {
            "colorbar": {
             "outlinewidth": 0,
             "ticks": ""
            },
            "type": "contourcarpet"
           }
          ],
          "heatmap": [
           {
            "colorbar": {
             "outlinewidth": 0,
             "ticks": ""
            },
            "colorscale": [
             [
              0,
              "#0d0887"
             ],
             [
              0.1111111111111111,
              "#46039f"
             ],
             [
              0.2222222222222222,
              "#7201a8"
             ],
             [
              0.3333333333333333,
              "#9c179e"
             ],
             [
              0.4444444444444444,
              "#bd3786"
             ],
             [
              0.5555555555555556,
              "#d8576b"
             ],
             [
              0.6666666666666666,
              "#ed7953"
             ],
             [
              0.7777777777777778,
              "#fb9f3a"
             ],
             [
              0.8888888888888888,
              "#fdca26"
             ],
             [
              1,
              "#f0f921"
             ]
            ],
            "type": "heatmap"
           }
          ],
          "heatmapgl": [
           {
            "colorbar": {
             "outlinewidth": 0,
             "ticks": ""
            },
            "colorscale": [
             [
              0,
              "#0d0887"
             ],
             [
              0.1111111111111111,
              "#46039f"
             ],
             [
              0.2222222222222222,
              "#7201a8"
             ],
             [
              0.3333333333333333,
              "#9c179e"
             ],
             [
              0.4444444444444444,
              "#bd3786"
             ],
             [
              0.5555555555555556,
              "#d8576b"
             ],
             [
              0.6666666666666666,
              "#ed7953"
             ],
             [
              0.7777777777777778,
              "#fb9f3a"
             ],
             [
              0.8888888888888888,
              "#fdca26"
             ],
             [
              1,
              "#f0f921"
             ]
            ],
            "type": "heatmapgl"
           }
          ],
          "histogram": [
           {
            "marker": {
             "colorbar": {
              "outlinewidth": 0,
              "ticks": ""
             }
            },
            "type": "histogram"
           }
          ],
          "histogram2d": [
           {
            "colorbar": {
             "outlinewidth": 0,
             "ticks": ""
            },
            "colorscale": [
             [
              0,
              "#0d0887"
             ],
             [
              0.1111111111111111,
              "#46039f"
             ],
             [
              0.2222222222222222,
              "#7201a8"
             ],
             [
              0.3333333333333333,
              "#9c179e"
             ],
             [
              0.4444444444444444,
              "#bd3786"
             ],
             [
              0.5555555555555556,
              "#d8576b"
             ],
             [
              0.6666666666666666,
              "#ed7953"
             ],
             [
              0.7777777777777778,
              "#fb9f3a"
             ],
             [
              0.8888888888888888,
              "#fdca26"
             ],
             [
              1,
              "#f0f921"
             ]
            ],
            "type": "histogram2d"
           }
          ],
          "histogram2dcontour": [
           {
            "colorbar": {
             "outlinewidth": 0,
             "ticks": ""
            },
            "colorscale": [
             [
              0,
              "#0d0887"
             ],
             [
              0.1111111111111111,
              "#46039f"
             ],
             [
              0.2222222222222222,
              "#7201a8"
             ],
             [
              0.3333333333333333,
              "#9c179e"
             ],
             [
              0.4444444444444444,
              "#bd3786"
             ],
             [
              0.5555555555555556,
              "#d8576b"
             ],
             [
              0.6666666666666666,
              "#ed7953"
             ],
             [
              0.7777777777777778,
              "#fb9f3a"
             ],
             [
              0.8888888888888888,
              "#fdca26"
             ],
             [
              1,
              "#f0f921"
             ]
            ],
            "type": "histogram2dcontour"
           }
          ],
          "mesh3d": [
           {
            "colorbar": {
             "outlinewidth": 0,
             "ticks": ""
            },
            "type": "mesh3d"
           }
          ],
          "parcoords": [
           {
            "line": {
             "colorbar": {
              "outlinewidth": 0,
              "ticks": ""
             }
            },
            "type": "parcoords"
           }
          ],
          "pie": [
           {
            "automargin": true,
            "type": "pie"
           }
          ],
          "scatter": [
           {
            "marker": {
             "colorbar": {
              "outlinewidth": 0,
              "ticks": ""
             }
            },
            "type": "scatter"
           }
          ],
          "scatter3d": [
           {
            "line": {
             "colorbar": {
              "outlinewidth": 0,
              "ticks": ""
             }
            },
            "marker": {
             "colorbar": {
              "outlinewidth": 0,
              "ticks": ""
             }
            },
            "type": "scatter3d"
           }
          ],
          "scattercarpet": [
           {
            "marker": {
             "colorbar": {
              "outlinewidth": 0,
              "ticks": ""
             }
            },
            "type": "scattercarpet"
           }
          ],
          "scattergeo": [
           {
            "marker": {
             "colorbar": {
              "outlinewidth": 0,
              "ticks": ""
             }
            },
            "type": "scattergeo"
           }
          ],
          "scattergl": [
           {
            "marker": {
             "colorbar": {
              "outlinewidth": 0,
              "ticks": ""
             }
            },
            "type": "scattergl"
           }
          ],
          "scattermapbox": [
           {
            "marker": {
             "colorbar": {
              "outlinewidth": 0,
              "ticks": ""
             }
            },
            "type": "scattermapbox"
           }
          ],
          "scatterpolar": [
           {
            "marker": {
             "colorbar": {
              "outlinewidth": 0,
              "ticks": ""
             }
            },
            "type": "scatterpolar"
           }
          ],
          "scatterpolargl": [
           {
            "marker": {
             "colorbar": {
              "outlinewidth": 0,
              "ticks": ""
             }
            },
            "type": "scatterpolargl"
           }
          ],
          "scatterternary": [
           {
            "marker": {
             "colorbar": {
              "outlinewidth": 0,
              "ticks": ""
             }
            },
            "type": "scatterternary"
           }
          ],
          "surface": [
           {
            "colorbar": {
             "outlinewidth": 0,
             "ticks": ""
            },
            "colorscale": [
             [
              0,
              "#0d0887"
             ],
             [
              0.1111111111111111,
              "#46039f"
             ],
             [
              0.2222222222222222,
              "#7201a8"
             ],
             [
              0.3333333333333333,
              "#9c179e"
             ],
             [
              0.4444444444444444,
              "#bd3786"
             ],
             [
              0.5555555555555556,
              "#d8576b"
             ],
             [
              0.6666666666666666,
              "#ed7953"
             ],
             [
              0.7777777777777778,
              "#fb9f3a"
             ],
             [
              0.8888888888888888,
              "#fdca26"
             ],
             [
              1,
              "#f0f921"
             ]
            ],
            "type": "surface"
           }
          ],
          "table": [
           {
            "cells": {
             "fill": {
              "color": "#EBF0F8"
             },
             "line": {
              "color": "white"
             }
            },
            "header": {
             "fill": {
              "color": "#C8D4E3"
             },
             "line": {
              "color": "white"
             }
            },
            "type": "table"
           }
          ]
         },
         "layout": {
          "annotationdefaults": {
           "arrowcolor": "#2a3f5f",
           "arrowhead": 0,
           "arrowwidth": 1
          },
          "coloraxis": {
           "colorbar": {
            "outlinewidth": 0,
            "ticks": ""
           }
          },
          "colorscale": {
           "diverging": [
            [
             0,
             "#8e0152"
            ],
            [
             0.1,
             "#c51b7d"
            ],
            [
             0.2,
             "#de77ae"
            ],
            [
             0.3,
             "#f1b6da"
            ],
            [
             0.4,
             "#fde0ef"
            ],
            [
             0.5,
             "#f7f7f7"
            ],
            [
             0.6,
             "#e6f5d0"
            ],
            [
             0.7,
             "#b8e186"
            ],
            [
             0.8,
             "#7fbc41"
            ],
            [
             0.9,
             "#4d9221"
            ],
            [
             1,
             "#276419"
            ]
           ],
           "sequential": [
            [
             0,
             "#0d0887"
            ],
            [
             0.1111111111111111,
             "#46039f"
            ],
            [
             0.2222222222222222,
             "#7201a8"
            ],
            [
             0.3333333333333333,
             "#9c179e"
            ],
            [
             0.4444444444444444,
             "#bd3786"
            ],
            [
             0.5555555555555556,
             "#d8576b"
            ],
            [
             0.6666666666666666,
             "#ed7953"
            ],
            [
             0.7777777777777778,
             "#fb9f3a"
            ],
            [
             0.8888888888888888,
             "#fdca26"
            ],
            [
             1,
             "#f0f921"
            ]
           ],
           "sequentialminus": [
            [
             0,
             "#0d0887"
            ],
            [
             0.1111111111111111,
             "#46039f"
            ],
            [
             0.2222222222222222,
             "#7201a8"
            ],
            [
             0.3333333333333333,
             "#9c179e"
            ],
            [
             0.4444444444444444,
             "#bd3786"
            ],
            [
             0.5555555555555556,
             "#d8576b"
            ],
            [
             0.6666666666666666,
             "#ed7953"
            ],
            [
             0.7777777777777778,
             "#fb9f3a"
            ],
            [
             0.8888888888888888,
             "#fdca26"
            ],
            [
             1,
             "#f0f921"
            ]
           ]
          },
          "colorway": [
           "#636efa",
           "#EF553B",
           "#00cc96",
           "#ab63fa",
           "#FFA15A",
           "#19d3f3",
           "#FF6692",
           "#B6E880",
           "#FF97FF",
           "#FECB52"
          ],
          "font": {
           "color": "#2a3f5f"
          },
          "geo": {
           "bgcolor": "white",
           "lakecolor": "white",
           "landcolor": "#E5ECF6",
           "showlakes": true,
           "showland": true,
           "subunitcolor": "white"
          },
          "hoverlabel": {
           "align": "left"
          },
          "hovermode": "closest",
          "mapbox": {
           "style": "light"
          },
          "paper_bgcolor": "white",
          "plot_bgcolor": "#E5ECF6",
          "polar": {
           "angularaxis": {
            "gridcolor": "white",
            "linecolor": "white",
            "ticks": ""
           },
           "bgcolor": "#E5ECF6",
           "radialaxis": {
            "gridcolor": "white",
            "linecolor": "white",
            "ticks": ""
           }
          },
          "scene": {
           "xaxis": {
            "backgroundcolor": "#E5ECF6",
            "gridcolor": "white",
            "gridwidth": 2,
            "linecolor": "white",
            "showbackground": true,
            "ticks": "",
            "zerolinecolor": "white"
           },
           "yaxis": {
            "backgroundcolor": "#E5ECF6",
            "gridcolor": "white",
            "gridwidth": 2,
            "linecolor": "white",
            "showbackground": true,
            "ticks": "",
            "zerolinecolor": "white"
           },
           "zaxis": {
            "backgroundcolor": "#E5ECF6",
            "gridcolor": "white",
            "gridwidth": 2,
            "linecolor": "white",
            "showbackground": true,
            "ticks": "",
            "zerolinecolor": "white"
           }
          },
          "shapedefaults": {
           "line": {
            "color": "#2a3f5f"
           }
          },
          "ternary": {
           "aaxis": {
            "gridcolor": "white",
            "linecolor": "white",
            "ticks": ""
           },
           "baxis": {
            "gridcolor": "white",
            "linecolor": "white",
            "ticks": ""
           },
           "bgcolor": "#E5ECF6",
           "caxis": {
            "gridcolor": "white",
            "linecolor": "white",
            "ticks": ""
           }
          },
          "title": {
           "x": 0.05
          },
          "xaxis": {
           "automargin": true,
           "gridcolor": "white",
           "linecolor": "white",
           "ticks": "",
           "title": {
            "standoff": 15
           },
           "zerolinecolor": "white",
           "zerolinewidth": 2
          },
          "yaxis": {
           "automargin": true,
           "gridcolor": "white",
           "linecolor": "white",
           "ticks": "",
           "title": {
            "standoff": 15
           },
           "zerolinecolor": "white",
           "zerolinewidth": 2
          }
         }
        },
        "title": {
         "text": "Parallel Coordinate Plot"
        }
       }
      }
     },
     "metadata": {},
     "output_type": "display_data"
    }
   ],
   "source": [
    "optuna.visualization.plot_parallel_coordinate(study)"
   ]
  },
  {
   "cell_type": "code",
   "execution_count": null,
   "metadata": {},
   "outputs": [
    {
     "data": {
      "application/vnd.plotly.v1+json": {
       "config": {
        "plotlyServerURL": "https://plot.ly"
       },
       "data": [
        {
         "cliponaxis": false,
         "hovertemplate": [
          "batch_size (IntUniformDistribution): 0.08823529411764706<extra></extra>",
          "conv1_out_ch (IntUniformDistribution): 0.08823529411764706<extra></extra>",
          "conv2_out_ch (IntUniformDistribution): 0.08823529411764706<extra></extra>",
          "optimizer (CategoricalDistribution): 0.35294117647058826<extra></extra>",
          "lr (LogUniformDistribution): 0.38235294117647056<extra></extra>"
         ],
         "marker": {
          "color": "rgb(66,146,198)"
         },
         "orientation": "h",
         "text": [
          "0.08823529411764706",
          "0.08823529411764706",
          "0.08823529411764706",
          "0.35294117647058826",
          "0.38235294117647056"
         ],
         "textposition": "outside",
         "texttemplate": "%{text:.2f}",
         "type": "bar",
         "x": [
          0.08823529411764706,
          0.08823529411764706,
          0.08823529411764706,
          0.35294117647058826,
          0.38235294117647056
         ],
         "y": [
          "batch_size",
          "conv1_out_ch",
          "conv2_out_ch",
          "optimizer",
          "lr"
         ]
        }
       ],
       "layout": {
        "showlegend": false,
        "template": {
         "data": {
          "bar": [
           {
            "error_x": {
             "color": "#2a3f5f"
            },
            "error_y": {
             "color": "#2a3f5f"
            },
            "marker": {
             "line": {
              "color": "#E5ECF6",
              "width": 0.5
             }
            },
            "type": "bar"
           }
          ],
          "barpolar": [
           {
            "marker": {
             "line": {
              "color": "#E5ECF6",
              "width": 0.5
             }
            },
            "type": "barpolar"
           }
          ],
          "carpet": [
           {
            "aaxis": {
             "endlinecolor": "#2a3f5f",
             "gridcolor": "white",
             "linecolor": "white",
             "minorgridcolor": "white",
             "startlinecolor": "#2a3f5f"
            },
            "baxis": {
             "endlinecolor": "#2a3f5f",
             "gridcolor": "white",
             "linecolor": "white",
             "minorgridcolor": "white",
             "startlinecolor": "#2a3f5f"
            },
            "type": "carpet"
           }
          ],
          "choropleth": [
           {
            "colorbar": {
             "outlinewidth": 0,
             "ticks": ""
            },
            "type": "choropleth"
           }
          ],
          "contour": [
           {
            "colorbar": {
             "outlinewidth": 0,
             "ticks": ""
            },
            "colorscale": [
             [
              0,
              "#0d0887"
             ],
             [
              0.1111111111111111,
              "#46039f"
             ],
             [
              0.2222222222222222,
              "#7201a8"
             ],
             [
              0.3333333333333333,
              "#9c179e"
             ],
             [
              0.4444444444444444,
              "#bd3786"
             ],
             [
              0.5555555555555556,
              "#d8576b"
             ],
             [
              0.6666666666666666,
              "#ed7953"
             ],
             [
              0.7777777777777778,
              "#fb9f3a"
             ],
             [
              0.8888888888888888,
              "#fdca26"
             ],
             [
              1,
              "#f0f921"
             ]
            ],
            "type": "contour"
           }
          ],
          "contourcarpet": [
           {
            "colorbar": {
             "outlinewidth": 0,
             "ticks": ""
            },
            "type": "contourcarpet"
           }
          ],
          "heatmap": [
           {
            "colorbar": {
             "outlinewidth": 0,
             "ticks": ""
            },
            "colorscale": [
             [
              0,
              "#0d0887"
             ],
             [
              0.1111111111111111,
              "#46039f"
             ],
             [
              0.2222222222222222,
              "#7201a8"
             ],
             [
              0.3333333333333333,
              "#9c179e"
             ],
             [
              0.4444444444444444,
              "#bd3786"
             ],
             [
              0.5555555555555556,
              "#d8576b"
             ],
             [
              0.6666666666666666,
              "#ed7953"
             ],
             [
              0.7777777777777778,
              "#fb9f3a"
             ],
             [
              0.8888888888888888,
              "#fdca26"
             ],
             [
              1,
              "#f0f921"
             ]
            ],
            "type": "heatmap"
           }
          ],
          "heatmapgl": [
           {
            "colorbar": {
             "outlinewidth": 0,
             "ticks": ""
            },
            "colorscale": [
             [
              0,
              "#0d0887"
             ],
             [
              0.1111111111111111,
              "#46039f"
             ],
             [
              0.2222222222222222,
              "#7201a8"
             ],
             [
              0.3333333333333333,
              "#9c179e"
             ],
             [
              0.4444444444444444,
              "#bd3786"
             ],
             [
              0.5555555555555556,
              "#d8576b"
             ],
             [
              0.6666666666666666,
              "#ed7953"
             ],
             [
              0.7777777777777778,
              "#fb9f3a"
             ],
             [
              0.8888888888888888,
              "#fdca26"
             ],
             [
              1,
              "#f0f921"
             ]
            ],
            "type": "heatmapgl"
           }
          ],
          "histogram": [
           {
            "marker": {
             "colorbar": {
              "outlinewidth": 0,
              "ticks": ""
             }
            },
            "type": "histogram"
           }
          ],
          "histogram2d": [
           {
            "colorbar": {
             "outlinewidth": 0,
             "ticks": ""
            },
            "colorscale": [
             [
              0,
              "#0d0887"
             ],
             [
              0.1111111111111111,
              "#46039f"
             ],
             [
              0.2222222222222222,
              "#7201a8"
             ],
             [
              0.3333333333333333,
              "#9c179e"
             ],
             [
              0.4444444444444444,
              "#bd3786"
             ],
             [
              0.5555555555555556,
              "#d8576b"
             ],
             [
              0.6666666666666666,
              "#ed7953"
             ],
             [
              0.7777777777777778,
              "#fb9f3a"
             ],
             [
              0.8888888888888888,
              "#fdca26"
             ],
             [
              1,
              "#f0f921"
             ]
            ],
            "type": "histogram2d"
           }
          ],
          "histogram2dcontour": [
           {
            "colorbar": {
             "outlinewidth": 0,
             "ticks": ""
            },
            "colorscale": [
             [
              0,
              "#0d0887"
             ],
             [
              0.1111111111111111,
              "#46039f"
             ],
             [
              0.2222222222222222,
              "#7201a8"
             ],
             [
              0.3333333333333333,
              "#9c179e"
             ],
             [
              0.4444444444444444,
              "#bd3786"
             ],
             [
              0.5555555555555556,
              "#d8576b"
             ],
             [
              0.6666666666666666,
              "#ed7953"
             ],
             [
              0.7777777777777778,
              "#fb9f3a"
             ],
             [
              0.8888888888888888,
              "#fdca26"
             ],
             [
              1,
              "#f0f921"
             ]
            ],
            "type": "histogram2dcontour"
           }
          ],
          "mesh3d": [
           {
            "colorbar": {
             "outlinewidth": 0,
             "ticks": ""
            },
            "type": "mesh3d"
           }
          ],
          "parcoords": [
           {
            "line": {
             "colorbar": {
              "outlinewidth": 0,
              "ticks": ""
             }
            },
            "type": "parcoords"
           }
          ],
          "pie": [
           {
            "automargin": true,
            "type": "pie"
           }
          ],
          "scatter": [
           {
            "marker": {
             "colorbar": {
              "outlinewidth": 0,
              "ticks": ""
             }
            },
            "type": "scatter"
           }
          ],
          "scatter3d": [
           {
            "line": {
             "colorbar": {
              "outlinewidth": 0,
              "ticks": ""
             }
            },
            "marker": {
             "colorbar": {
              "outlinewidth": 0,
              "ticks": ""
             }
            },
            "type": "scatter3d"
           }
          ],
          "scattercarpet": [
           {
            "marker": {
             "colorbar": {
              "outlinewidth": 0,
              "ticks": ""
             }
            },
            "type": "scattercarpet"
           }
          ],
          "scattergeo": [
           {
            "marker": {
             "colorbar": {
              "outlinewidth": 0,
              "ticks": ""
             }
            },
            "type": "scattergeo"
           }
          ],
          "scattergl": [
           {
            "marker": {
             "colorbar": {
              "outlinewidth": 0,
              "ticks": ""
             }
            },
            "type": "scattergl"
           }
          ],
          "scattermapbox": [
           {
            "marker": {
             "colorbar": {
              "outlinewidth": 0,
              "ticks": ""
             }
            },
            "type": "scattermapbox"
           }
          ],
          "scatterpolar": [
           {
            "marker": {
             "colorbar": {
              "outlinewidth": 0,
              "ticks": ""
             }
            },
            "type": "scatterpolar"
           }
          ],
          "scatterpolargl": [
           {
            "marker": {
             "colorbar": {
              "outlinewidth": 0,
              "ticks": ""
             }
            },
            "type": "scatterpolargl"
           }
          ],
          "scatterternary": [
           {
            "marker": {
             "colorbar": {
              "outlinewidth": 0,
              "ticks": ""
             }
            },
            "type": "scatterternary"
           }
          ],
          "surface": [
           {
            "colorbar": {
             "outlinewidth": 0,
             "ticks": ""
            },
            "colorscale": [
             [
              0,
              "#0d0887"
             ],
             [
              0.1111111111111111,
              "#46039f"
             ],
             [
              0.2222222222222222,
              "#7201a8"
             ],
             [
              0.3333333333333333,
              "#9c179e"
             ],
             [
              0.4444444444444444,
              "#bd3786"
             ],
             [
              0.5555555555555556,
              "#d8576b"
             ],
             [
              0.6666666666666666,
              "#ed7953"
             ],
             [
              0.7777777777777778,
              "#fb9f3a"
             ],
             [
              0.8888888888888888,
              "#fdca26"
             ],
             [
              1,
              "#f0f921"
             ]
            ],
            "type": "surface"
           }
          ],
          "table": [
           {
            "cells": {
             "fill": {
              "color": "#EBF0F8"
             },
             "line": {
              "color": "white"
             }
            },
            "header": {
             "fill": {
              "color": "#C8D4E3"
             },
             "line": {
              "color": "white"
             }
            },
            "type": "table"
           }
          ]
         },
         "layout": {
          "annotationdefaults": {
           "arrowcolor": "#2a3f5f",
           "arrowhead": 0,
           "arrowwidth": 1
          },
          "coloraxis": {
           "colorbar": {
            "outlinewidth": 0,
            "ticks": ""
           }
          },
          "colorscale": {
           "diverging": [
            [
             0,
             "#8e0152"
            ],
            [
             0.1,
             "#c51b7d"
            ],
            [
             0.2,
             "#de77ae"
            ],
            [
             0.3,
             "#f1b6da"
            ],
            [
             0.4,
             "#fde0ef"
            ],
            [
             0.5,
             "#f7f7f7"
            ],
            [
             0.6,
             "#e6f5d0"
            ],
            [
             0.7,
             "#b8e186"
            ],
            [
             0.8,
             "#7fbc41"
            ],
            [
             0.9,
             "#4d9221"
            ],
            [
             1,
             "#276419"
            ]
           ],
           "sequential": [
            [
             0,
             "#0d0887"
            ],
            [
             0.1111111111111111,
             "#46039f"
            ],
            [
             0.2222222222222222,
             "#7201a8"
            ],
            [
             0.3333333333333333,
             "#9c179e"
            ],
            [
             0.4444444444444444,
             "#bd3786"
            ],
            [
             0.5555555555555556,
             "#d8576b"
            ],
            [
             0.6666666666666666,
             "#ed7953"
            ],
            [
             0.7777777777777778,
             "#fb9f3a"
            ],
            [
             0.8888888888888888,
             "#fdca26"
            ],
            [
             1,
             "#f0f921"
            ]
           ],
           "sequentialminus": [
            [
             0,
             "#0d0887"
            ],
            [
             0.1111111111111111,
             "#46039f"
            ],
            [
             0.2222222222222222,
             "#7201a8"
            ],
            [
             0.3333333333333333,
             "#9c179e"
            ],
            [
             0.4444444444444444,
             "#bd3786"
            ],
            [
             0.5555555555555556,
             "#d8576b"
            ],
            [
             0.6666666666666666,
             "#ed7953"
            ],
            [
             0.7777777777777778,
             "#fb9f3a"
            ],
            [
             0.8888888888888888,
             "#fdca26"
            ],
            [
             1,
             "#f0f921"
            ]
           ]
          },
          "colorway": [
           "#636efa",
           "#EF553B",
           "#00cc96",
           "#ab63fa",
           "#FFA15A",
           "#19d3f3",
           "#FF6692",
           "#B6E880",
           "#FF97FF",
           "#FECB52"
          ],
          "font": {
           "color": "#2a3f5f"
          },
          "geo": {
           "bgcolor": "white",
           "lakecolor": "white",
           "landcolor": "#E5ECF6",
           "showlakes": true,
           "showland": true,
           "subunitcolor": "white"
          },
          "hoverlabel": {
           "align": "left"
          },
          "hovermode": "closest",
          "mapbox": {
           "style": "light"
          },
          "paper_bgcolor": "white",
          "plot_bgcolor": "#E5ECF6",
          "polar": {
           "angularaxis": {
            "gridcolor": "white",
            "linecolor": "white",
            "ticks": ""
           },
           "bgcolor": "#E5ECF6",
           "radialaxis": {
            "gridcolor": "white",
            "linecolor": "white",
            "ticks": ""
           }
          },
          "scene": {
           "xaxis": {
            "backgroundcolor": "#E5ECF6",
            "gridcolor": "white",
            "gridwidth": 2,
            "linecolor": "white",
            "showbackground": true,
            "ticks": "",
            "zerolinecolor": "white"
           },
           "yaxis": {
            "backgroundcolor": "#E5ECF6",
            "gridcolor": "white",
            "gridwidth": 2,
            "linecolor": "white",
            "showbackground": true,
            "ticks": "",
            "zerolinecolor": "white"
           },
           "zaxis": {
            "backgroundcolor": "#E5ECF6",
            "gridcolor": "white",
            "gridwidth": 2,
            "linecolor": "white",
            "showbackground": true,
            "ticks": "",
            "zerolinecolor": "white"
           }
          },
          "shapedefaults": {
           "line": {
            "color": "#2a3f5f"
           }
          },
          "ternary": {
           "aaxis": {
            "gridcolor": "white",
            "linecolor": "white",
            "ticks": ""
           },
           "baxis": {
            "gridcolor": "white",
            "linecolor": "white",
            "ticks": ""
           },
           "bgcolor": "#E5ECF6",
           "caxis": {
            "gridcolor": "white",
            "linecolor": "white",
            "ticks": ""
           }
          },
          "title": {
           "x": 0.05
          },
          "xaxis": {
           "automargin": true,
           "gridcolor": "white",
           "linecolor": "white",
           "ticks": "",
           "title": {
            "standoff": 15
           },
           "zerolinecolor": "white",
           "zerolinewidth": 2
          },
          "yaxis": {
           "automargin": true,
           "gridcolor": "white",
           "linecolor": "white",
           "ticks": "",
           "title": {
            "standoff": 15
           },
           "zerolinecolor": "white",
           "zerolinewidth": 2
          }
         }
        },
        "title": {
         "text": "Hyperparameter Importances"
        },
        "xaxis": {
         "title": {
          "text": "Importance for Objective Value"
         }
        },
        "yaxis": {
         "title": {
          "text": "Hyperparameter"
         }
        }
       }
      }
     },
     "metadata": {},
     "output_type": "display_data"
    }
   ],
   "source": [
    "optuna.visualization.plot_param_importances(study)"
   ]
  },
  {
   "cell_type": "markdown",
   "metadata": {},
   "source": [
    "## 1107 14:38\n",
    "- trail: 20"
   ]
  },
  {
   "cell_type": "code",
   "execution_count": null,
   "metadata": {},
   "outputs": [
    {
     "data": {
      "text/html": [
       "<div>\n",
       "<style scoped>\n",
       "    .dataframe tbody tr th:only-of-type {\n",
       "        vertical-align: middle;\n",
       "    }\n",
       "\n",
       "    .dataframe tbody tr th {\n",
       "        vertical-align: top;\n",
       "    }\n",
       "\n",
       "    .dataframe thead th {\n",
       "        text-align: right;\n",
       "    }\n",
       "</style>\n",
       "<table border=\"1\" class=\"dataframe\">\n",
       "  <thead>\n",
       "    <tr style=\"text-align: right;\">\n",
       "      <th></th>\n",
       "      <th>number</th>\n",
       "      <th>value</th>\n",
       "      <th>datetime_start</th>\n",
       "      <th>datetime_complete</th>\n",
       "      <th>duration</th>\n",
       "      <th>params_batch_size</th>\n",
       "      <th>params_conv1_out_ch</th>\n",
       "      <th>params_conv2_out_ch</th>\n",
       "      <th>params_lr</th>\n",
       "      <th>params_optimizer</th>\n",
       "      <th>state</th>\n",
       "    </tr>\n",
       "  </thead>\n",
       "  <tbody>\n",
       "    <tr>\n",
       "      <th>0</th>\n",
       "      <td>0</td>\n",
       "      <td>0.502631</td>\n",
       "      <td>2021-11-07 08:01:00.314367</td>\n",
       "      <td>2021-11-07 08:05:23.278919</td>\n",
       "      <td>0 days 00:04:22.964552</td>\n",
       "      <td>64</td>\n",
       "      <td>2</td>\n",
       "      <td>20</td>\n",
       "      <td>0.000164</td>\n",
       "      <td>Adam</td>\n",
       "      <td>COMPLETE</td>\n",
       "    </tr>\n",
       "    <tr>\n",
       "      <th>1</th>\n",
       "      <td>1</td>\n",
       "      <td>0.251869</td>\n",
       "      <td>2021-11-07 08:05:23.281161</td>\n",
       "      <td>2021-11-07 08:06:57.718635</td>\n",
       "      <td>0 days 00:01:34.437474</td>\n",
       "      <td>192</td>\n",
       "      <td>6</td>\n",
       "      <td>20</td>\n",
       "      <td>0.025686</td>\n",
       "      <td>Adam</td>\n",
       "      <td>COMPLETE</td>\n",
       "    </tr>\n",
       "    <tr>\n",
       "      <th>2</th>\n",
       "      <td>2</td>\n",
       "      <td>0.471891</td>\n",
       "      <td>2021-11-07 08:06:57.720543</td>\n",
       "      <td>2021-11-07 08:08:59.581768</td>\n",
       "      <td>0 days 00:02:01.861225</td>\n",
       "      <td>192</td>\n",
       "      <td>4</td>\n",
       "      <td>20</td>\n",
       "      <td>0.002050</td>\n",
       "      <td>Adam</td>\n",
       "      <td>COMPLETE</td>\n",
       "    </tr>\n",
       "    <tr>\n",
       "      <th>3</th>\n",
       "      <td>3</td>\n",
       "      <td>0.471615</td>\n",
       "      <td>2021-11-07 08:08:59.583741</td>\n",
       "      <td>2021-11-07 08:18:22.607616</td>\n",
       "      <td>0 days 00:09:23.023875</td>\n",
       "      <td>128</td>\n",
       "      <td>2</td>\n",
       "      <td>24</td>\n",
       "      <td>0.000011</td>\n",
       "      <td>Adam</td>\n",
       "      <td>COMPLETE</td>\n",
       "    </tr>\n",
       "    <tr>\n",
       "      <th>4</th>\n",
       "      <td>4</td>\n",
       "      <td>0.488646</td>\n",
       "      <td>2021-11-07 08:18:22.609851</td>\n",
       "      <td>2021-11-07 08:24:22.404180</td>\n",
       "      <td>0 days 00:05:59.794329</td>\n",
       "      <td>256</td>\n",
       "      <td>2</td>\n",
       "      <td>32</td>\n",
       "      <td>0.000183</td>\n",
       "      <td>Adam</td>\n",
       "      <td>COMPLETE</td>\n",
       "    </tr>\n",
       "    <tr>\n",
       "      <th>5</th>\n",
       "      <td>5</td>\n",
       "      <td>0.492523</td>\n",
       "      <td>2021-11-07 08:24:22.406135</td>\n",
       "      <td>2021-11-07 08:28:14.379691</td>\n",
       "      <td>0 days 00:03:51.973556</td>\n",
       "      <td>320</td>\n",
       "      <td>4</td>\n",
       "      <td>20</td>\n",
       "      <td>0.000053</td>\n",
       "      <td>Adam</td>\n",
       "      <td>COMPLETE</td>\n",
       "    </tr>\n",
       "    <tr>\n",
       "      <th>6</th>\n",
       "      <td>6</td>\n",
       "      <td>0.507200</td>\n",
       "      <td>2021-11-07 08:28:14.381828</td>\n",
       "      <td>2021-11-07 08:33:11.541135</td>\n",
       "      <td>0 days 00:04:57.159307</td>\n",
       "      <td>320</td>\n",
       "      <td>6</td>\n",
       "      <td>28</td>\n",
       "      <td>0.000090</td>\n",
       "      <td>Adam</td>\n",
       "      <td>COMPLETE</td>\n",
       "    </tr>\n",
       "    <tr>\n",
       "      <th>7</th>\n",
       "      <td>7</td>\n",
       "      <td>0.251869</td>\n",
       "      <td>2021-11-07 08:33:11.545217</td>\n",
       "      <td>2021-11-07 08:39:46.214169</td>\n",
       "      <td>0 days 00:06:34.668952</td>\n",
       "      <td>192</td>\n",
       "      <td>6</td>\n",
       "      <td>20</td>\n",
       "      <td>0.000022</td>\n",
       "      <td>SGD</td>\n",
       "      <td>PRUNED</td>\n",
       "    </tr>\n",
       "    <tr>\n",
       "      <th>8</th>\n",
       "      <td>8</td>\n",
       "      <td>0.507893</td>\n",
       "      <td>2021-11-07 08:39:46.216688</td>\n",
       "      <td>2021-11-07 08:45:30.262125</td>\n",
       "      <td>0 days 00:05:44.045437</td>\n",
       "      <td>128</td>\n",
       "      <td>4</td>\n",
       "      <td>20</td>\n",
       "      <td>0.000087</td>\n",
       "      <td>Adam</td>\n",
       "      <td>COMPLETE</td>\n",
       "    </tr>\n",
       "    <tr>\n",
       "      <th>9</th>\n",
       "      <td>9</td>\n",
       "      <td>0.251869</td>\n",
       "      <td>2021-11-07 08:45:30.266458</td>\n",
       "      <td>2021-11-07 08:46:47.998474</td>\n",
       "      <td>0 days 00:01:17.732016</td>\n",
       "      <td>384</td>\n",
       "      <td>4</td>\n",
       "      <td>20</td>\n",
       "      <td>0.086549</td>\n",
       "      <td>Adam</td>\n",
       "      <td>PRUNED</td>\n",
       "    </tr>\n",
       "    <tr>\n",
       "      <th>10</th>\n",
       "      <td>10</td>\n",
       "      <td>0.251869</td>\n",
       "      <td>2021-11-07 08:46:47.999806</td>\n",
       "      <td>2021-11-07 08:48:09.313106</td>\n",
       "      <td>0 days 00:01:21.313300</td>\n",
       "      <td>448</td>\n",
       "      <td>4</td>\n",
       "      <td>16</td>\n",
       "      <td>0.001472</td>\n",
       "      <td>SGD</td>\n",
       "      <td>PRUNED</td>\n",
       "    </tr>\n",
       "    <tr>\n",
       "      <th>11</th>\n",
       "      <td>11</td>\n",
       "      <td>0.251869</td>\n",
       "      <td>2021-11-07 08:48:09.314489</td>\n",
       "      <td>2021-11-07 08:50:25.446310</td>\n",
       "      <td>0 days 00:02:16.131821</td>\n",
       "      <td>512</td>\n",
       "      <td>6</td>\n",
       "      <td>32</td>\n",
       "      <td>0.000234</td>\n",
       "      <td>SGD</td>\n",
       "      <td>PRUNED</td>\n",
       "    </tr>\n",
       "    <tr>\n",
       "      <th>12</th>\n",
       "      <td>12</td>\n",
       "      <td>0.511631</td>\n",
       "      <td>2021-11-07 08:50:25.447658</td>\n",
       "      <td>2021-11-07 08:56:09.958742</td>\n",
       "      <td>0 days 00:05:44.511084</td>\n",
       "      <td>320</td>\n",
       "      <td>6</td>\n",
       "      <td>28</td>\n",
       "      <td>0.000450</td>\n",
       "      <td>Adam</td>\n",
       "      <td>COMPLETE</td>\n",
       "    </tr>\n",
       "    <tr>\n",
       "      <th>13</th>\n",
       "      <td>13</td>\n",
       "      <td>0.251869</td>\n",
       "      <td>2021-11-07 08:56:09.962632</td>\n",
       "      <td>2021-11-07 09:00:38.811919</td>\n",
       "      <td>0 days 00:04:28.849287</td>\n",
       "      <td>64</td>\n",
       "      <td>4</td>\n",
       "      <td>28</td>\n",
       "      <td>0.007047</td>\n",
       "      <td>Adam</td>\n",
       "      <td>PRUNED</td>\n",
       "    </tr>\n",
       "    <tr>\n",
       "      <th>14</th>\n",
       "      <td>14</td>\n",
       "      <td>0.490861</td>\n",
       "      <td>2021-11-07 09:00:38.815024</td>\n",
       "      <td>2021-11-07 09:05:29.899473</td>\n",
       "      <td>0 days 00:04:51.084449</td>\n",
       "      <td>384</td>\n",
       "      <td>6</td>\n",
       "      <td>28</td>\n",
       "      <td>0.000722</td>\n",
       "      <td>Adam</td>\n",
       "      <td>COMPLETE</td>\n",
       "    </tr>\n",
       "    <tr>\n",
       "      <th>15</th>\n",
       "      <td>15</td>\n",
       "      <td>0.251869</td>\n",
       "      <td>2021-11-07 09:05:29.901512</td>\n",
       "      <td>2021-11-07 09:07:28.941510</td>\n",
       "      <td>0 days 00:01:59.039998</td>\n",
       "      <td>256</td>\n",
       "      <td>4</td>\n",
       "      <td>24</td>\n",
       "      <td>0.000399</td>\n",
       "      <td>SGD</td>\n",
       "      <td>PRUNED</td>\n",
       "    </tr>\n",
       "    <tr>\n",
       "      <th>16</th>\n",
       "      <td>16</td>\n",
       "      <td>0.499585</td>\n",
       "      <td>2021-11-07 09:07:28.943000</td>\n",
       "      <td>2021-11-07 09:11:56.594754</td>\n",
       "      <td>0 days 00:04:27.651754</td>\n",
       "      <td>128</td>\n",
       "      <td>6</td>\n",
       "      <td>16</td>\n",
       "      <td>0.000034</td>\n",
       "      <td>Adam</td>\n",
       "      <td>COMPLETE</td>\n",
       "    </tr>\n",
       "    <tr>\n",
       "      <th>17</th>\n",
       "      <td>17</td>\n",
       "      <td>0.443644</td>\n",
       "      <td>2021-11-07 09:11:56.596874</td>\n",
       "      <td>2021-11-07 09:14:20.642383</td>\n",
       "      <td>0 days 00:02:24.045509</td>\n",
       "      <td>384</td>\n",
       "      <td>2</td>\n",
       "      <td>24</td>\n",
       "      <td>0.004595</td>\n",
       "      <td>Adam</td>\n",
       "      <td>PRUNED</td>\n",
       "    </tr>\n",
       "    <tr>\n",
       "      <th>18</th>\n",
       "      <td>18</td>\n",
       "      <td>0.251869</td>\n",
       "      <td>2021-11-07 09:14:20.648480</td>\n",
       "      <td>2021-11-07 09:15:59.777523</td>\n",
       "      <td>0 days 00:01:39.129043</td>\n",
       "      <td>128</td>\n",
       "      <td>4</td>\n",
       "      <td>28</td>\n",
       "      <td>0.000609</td>\n",
       "      <td>SGD</td>\n",
       "      <td>PRUNED</td>\n",
       "    </tr>\n",
       "    <tr>\n",
       "      <th>19</th>\n",
       "      <td>19</td>\n",
       "      <td>0.506508</td>\n",
       "      <td>2021-11-07 09:15:59.778907</td>\n",
       "      <td>2021-11-07 09:20:56.276037</td>\n",
       "      <td>0 days 00:04:56.497130</td>\n",
       "      <td>256</td>\n",
       "      <td>6</td>\n",
       "      <td>32</td>\n",
       "      <td>0.000079</td>\n",
       "      <td>Adam</td>\n",
       "      <td>COMPLETE</td>\n",
       "    </tr>\n",
       "  </tbody>\n",
       "</table>\n",
       "</div>"
      ],
      "text/plain": [
       "    number     value  ... params_optimizer     state\n",
       "0        0  0.502631  ...             Adam  COMPLETE\n",
       "1        1  0.251869  ...             Adam  COMPLETE\n",
       "2        2  0.471891  ...             Adam  COMPLETE\n",
       "3        3  0.471615  ...             Adam  COMPLETE\n",
       "4        4  0.488646  ...             Adam  COMPLETE\n",
       "5        5  0.492523  ...             Adam  COMPLETE\n",
       "6        6  0.507200  ...             Adam  COMPLETE\n",
       "7        7  0.251869  ...              SGD    PRUNED\n",
       "8        8  0.507893  ...             Adam  COMPLETE\n",
       "9        9  0.251869  ...             Adam    PRUNED\n",
       "10      10  0.251869  ...              SGD    PRUNED\n",
       "11      11  0.251869  ...              SGD    PRUNED\n",
       "12      12  0.511631  ...             Adam  COMPLETE\n",
       "13      13  0.251869  ...             Adam    PRUNED\n",
       "14      14  0.490861  ...             Adam  COMPLETE\n",
       "15      15  0.251869  ...              SGD    PRUNED\n",
       "16      16  0.499585  ...             Adam  COMPLETE\n",
       "17      17  0.443644  ...             Adam    PRUNED\n",
       "18      18  0.251869  ...              SGD    PRUNED\n",
       "19      19  0.506508  ...             Adam  COMPLETE\n",
       "\n",
       "[20 rows x 11 columns]"
      ]
     },
     "metadata": {},
     "output_type": "display_data"
    }
   ],
   "source": [
    "df = study.trials_dataframe()\n",
    "df"
   ]
  },
  {
   "cell_type": "code",
   "execution_count": null,
   "metadata": {},
   "outputs": [
    {
     "data": {
      "application/vnd.plotly.v1+json": {
       "config": {
        "plotlyServerURL": "https://plot.ly"
       },
       "data": [
        {
         "mode": "markers",
         "name": "Objective Value",
         "type": "scatter",
         "x": [
          0,
          1,
          2,
          3,
          4,
          5,
          6,
          8,
          12,
          14,
          16,
          19
         ],
         "y": [
          0.5026308501800055,
          0.2518692882857934,
          0.47189144281362505,
          0.4716145112157297,
          0.4886458044862919,
          0.49252284685682635,
          0.5072002215452783,
          0.5078925505400166,
          0.5116311271116034,
          0.49086125726945445,
          0.499584602603157,
          0.50650789255054
         ]
        },
        {
         "name": "Best Value",
         "type": "scatter",
         "x": [
          0,
          1,
          2,
          3,
          4,
          5,
          6,
          8,
          12,
          14,
          16,
          19
         ],
         "y": [
          0.5026308501800055,
          0.5026308501800055,
          0.5026308501800055,
          0.5026308501800055,
          0.5026308501800055,
          0.5026308501800055,
          0.5072002215452783,
          0.5078925505400166,
          0.5116311271116034,
          0.5116311271116034,
          0.5116311271116034,
          0.5116311271116034
         ]
        }
       ],
       "layout": {
        "template": {
         "data": {
          "bar": [
           {
            "error_x": {
             "color": "#2a3f5f"
            },
            "error_y": {
             "color": "#2a3f5f"
            },
            "marker": {
             "line": {
              "color": "#E5ECF6",
              "width": 0.5
             }
            },
            "type": "bar"
           }
          ],
          "barpolar": [
           {
            "marker": {
             "line": {
              "color": "#E5ECF6",
              "width": 0.5
             }
            },
            "type": "barpolar"
           }
          ],
          "carpet": [
           {
            "aaxis": {
             "endlinecolor": "#2a3f5f",
             "gridcolor": "white",
             "linecolor": "white",
             "minorgridcolor": "white",
             "startlinecolor": "#2a3f5f"
            },
            "baxis": {
             "endlinecolor": "#2a3f5f",
             "gridcolor": "white",
             "linecolor": "white",
             "minorgridcolor": "white",
             "startlinecolor": "#2a3f5f"
            },
            "type": "carpet"
           }
          ],
          "choropleth": [
           {
            "colorbar": {
             "outlinewidth": 0,
             "ticks": ""
            },
            "type": "choropleth"
           }
          ],
          "contour": [
           {
            "colorbar": {
             "outlinewidth": 0,
             "ticks": ""
            },
            "colorscale": [
             [
              0,
              "#0d0887"
             ],
             [
              0.1111111111111111,
              "#46039f"
             ],
             [
              0.2222222222222222,
              "#7201a8"
             ],
             [
              0.3333333333333333,
              "#9c179e"
             ],
             [
              0.4444444444444444,
              "#bd3786"
             ],
             [
              0.5555555555555556,
              "#d8576b"
             ],
             [
              0.6666666666666666,
              "#ed7953"
             ],
             [
              0.7777777777777778,
              "#fb9f3a"
             ],
             [
              0.8888888888888888,
              "#fdca26"
             ],
             [
              1,
              "#f0f921"
             ]
            ],
            "type": "contour"
           }
          ],
          "contourcarpet": [
           {
            "colorbar": {
             "outlinewidth": 0,
             "ticks": ""
            },
            "type": "contourcarpet"
           }
          ],
          "heatmap": [
           {
            "colorbar": {
             "outlinewidth": 0,
             "ticks": ""
            },
            "colorscale": [
             [
              0,
              "#0d0887"
             ],
             [
              0.1111111111111111,
              "#46039f"
             ],
             [
              0.2222222222222222,
              "#7201a8"
             ],
             [
              0.3333333333333333,
              "#9c179e"
             ],
             [
              0.4444444444444444,
              "#bd3786"
             ],
             [
              0.5555555555555556,
              "#d8576b"
             ],
             [
              0.6666666666666666,
              "#ed7953"
             ],
             [
              0.7777777777777778,
              "#fb9f3a"
             ],
             [
              0.8888888888888888,
              "#fdca26"
             ],
             [
              1,
              "#f0f921"
             ]
            ],
            "type": "heatmap"
           }
          ],
          "heatmapgl": [
           {
            "colorbar": {
             "outlinewidth": 0,
             "ticks": ""
            },
            "colorscale": [
             [
              0,
              "#0d0887"
             ],
             [
              0.1111111111111111,
              "#46039f"
             ],
             [
              0.2222222222222222,
              "#7201a8"
             ],
             [
              0.3333333333333333,
              "#9c179e"
             ],
             [
              0.4444444444444444,
              "#bd3786"
             ],
             [
              0.5555555555555556,
              "#d8576b"
             ],
             [
              0.6666666666666666,
              "#ed7953"
             ],
             [
              0.7777777777777778,
              "#fb9f3a"
             ],
             [
              0.8888888888888888,
              "#fdca26"
             ],
             [
              1,
              "#f0f921"
             ]
            ],
            "type": "heatmapgl"
           }
          ],
          "histogram": [
           {
            "marker": {
             "colorbar": {
              "outlinewidth": 0,
              "ticks": ""
             }
            },
            "type": "histogram"
           }
          ],
          "histogram2d": [
           {
            "colorbar": {
             "outlinewidth": 0,
             "ticks": ""
            },
            "colorscale": [
             [
              0,
              "#0d0887"
             ],
             [
              0.1111111111111111,
              "#46039f"
             ],
             [
              0.2222222222222222,
              "#7201a8"
             ],
             [
              0.3333333333333333,
              "#9c179e"
             ],
             [
              0.4444444444444444,
              "#bd3786"
             ],
             [
              0.5555555555555556,
              "#d8576b"
             ],
             [
              0.6666666666666666,
              "#ed7953"
             ],
             [
              0.7777777777777778,
              "#fb9f3a"
             ],
             [
              0.8888888888888888,
              "#fdca26"
             ],
             [
              1,
              "#f0f921"
             ]
            ],
            "type": "histogram2d"
           }
          ],
          "histogram2dcontour": [
           {
            "colorbar": {
             "outlinewidth": 0,
             "ticks": ""
            },
            "colorscale": [
             [
              0,
              "#0d0887"
             ],
             [
              0.1111111111111111,
              "#46039f"
             ],
             [
              0.2222222222222222,
              "#7201a8"
             ],
             [
              0.3333333333333333,
              "#9c179e"
             ],
             [
              0.4444444444444444,
              "#bd3786"
             ],
             [
              0.5555555555555556,
              "#d8576b"
             ],
             [
              0.6666666666666666,
              "#ed7953"
             ],
             [
              0.7777777777777778,
              "#fb9f3a"
             ],
             [
              0.8888888888888888,
              "#fdca26"
             ],
             [
              1,
              "#f0f921"
             ]
            ],
            "type": "histogram2dcontour"
           }
          ],
          "mesh3d": [
           {
            "colorbar": {
             "outlinewidth": 0,
             "ticks": ""
            },
            "type": "mesh3d"
           }
          ],
          "parcoords": [
           {
            "line": {
             "colorbar": {
              "outlinewidth": 0,
              "ticks": ""
             }
            },
            "type": "parcoords"
           }
          ],
          "pie": [
           {
            "automargin": true,
            "type": "pie"
           }
          ],
          "scatter": [
           {
            "marker": {
             "colorbar": {
              "outlinewidth": 0,
              "ticks": ""
             }
            },
            "type": "scatter"
           }
          ],
          "scatter3d": [
           {
            "line": {
             "colorbar": {
              "outlinewidth": 0,
              "ticks": ""
             }
            },
            "marker": {
             "colorbar": {
              "outlinewidth": 0,
              "ticks": ""
             }
            },
            "type": "scatter3d"
           }
          ],
          "scattercarpet": [
           {
            "marker": {
             "colorbar": {
              "outlinewidth": 0,
              "ticks": ""
             }
            },
            "type": "scattercarpet"
           }
          ],
          "scattergeo": [
           {
            "marker": {
             "colorbar": {
              "outlinewidth": 0,
              "ticks": ""
             }
            },
            "type": "scattergeo"
           }
          ],
          "scattergl": [
           {
            "marker": {
             "colorbar": {
              "outlinewidth": 0,
              "ticks": ""
             }
            },
            "type": "scattergl"
           }
          ],
          "scattermapbox": [
           {
            "marker": {
             "colorbar": {
              "outlinewidth": 0,
              "ticks": ""
             }
            },
            "type": "scattermapbox"
           }
          ],
          "scatterpolar": [
           {
            "marker": {
             "colorbar": {
              "outlinewidth": 0,
              "ticks": ""
             }
            },
            "type": "scatterpolar"
           }
          ],
          "scatterpolargl": [
           {
            "marker": {
             "colorbar": {
              "outlinewidth": 0,
              "ticks": ""
             }
            },
            "type": "scatterpolargl"
           }
          ],
          "scatterternary": [
           {
            "marker": {
             "colorbar": {
              "outlinewidth": 0,
              "ticks": ""
             }
            },
            "type": "scatterternary"
           }
          ],
          "surface": [
           {
            "colorbar": {
             "outlinewidth": 0,
             "ticks": ""
            },
            "colorscale": [
             [
              0,
              "#0d0887"
             ],
             [
              0.1111111111111111,
              "#46039f"
             ],
             [
              0.2222222222222222,
              "#7201a8"
             ],
             [
              0.3333333333333333,
              "#9c179e"
             ],
             [
              0.4444444444444444,
              "#bd3786"
             ],
             [
              0.5555555555555556,
              "#d8576b"
             ],
             [
              0.6666666666666666,
              "#ed7953"
             ],
             [
              0.7777777777777778,
              "#fb9f3a"
             ],
             [
              0.8888888888888888,
              "#fdca26"
             ],
             [
              1,
              "#f0f921"
             ]
            ],
            "type": "surface"
           }
          ],
          "table": [
           {
            "cells": {
             "fill": {
              "color": "#EBF0F8"
             },
             "line": {
              "color": "white"
             }
            },
            "header": {
             "fill": {
              "color": "#C8D4E3"
             },
             "line": {
              "color": "white"
             }
            },
            "type": "table"
           }
          ]
         },
         "layout": {
          "annotationdefaults": {
           "arrowcolor": "#2a3f5f",
           "arrowhead": 0,
           "arrowwidth": 1
          },
          "coloraxis": {
           "colorbar": {
            "outlinewidth": 0,
            "ticks": ""
           }
          },
          "colorscale": {
           "diverging": [
            [
             0,
             "#8e0152"
            ],
            [
             0.1,
             "#c51b7d"
            ],
            [
             0.2,
             "#de77ae"
            ],
            [
             0.3,
             "#f1b6da"
            ],
            [
             0.4,
             "#fde0ef"
            ],
            [
             0.5,
             "#f7f7f7"
            ],
            [
             0.6,
             "#e6f5d0"
            ],
            [
             0.7,
             "#b8e186"
            ],
            [
             0.8,
             "#7fbc41"
            ],
            [
             0.9,
             "#4d9221"
            ],
            [
             1,
             "#276419"
            ]
           ],
           "sequential": [
            [
             0,
             "#0d0887"
            ],
            [
             0.1111111111111111,
             "#46039f"
            ],
            [
             0.2222222222222222,
             "#7201a8"
            ],
            [
             0.3333333333333333,
             "#9c179e"
            ],
            [
             0.4444444444444444,
             "#bd3786"
            ],
            [
             0.5555555555555556,
             "#d8576b"
            ],
            [
             0.6666666666666666,
             "#ed7953"
            ],
            [
             0.7777777777777778,
             "#fb9f3a"
            ],
            [
             0.8888888888888888,
             "#fdca26"
            ],
            [
             1,
             "#f0f921"
            ]
           ],
           "sequentialminus": [
            [
             0,
             "#0d0887"
            ],
            [
             0.1111111111111111,
             "#46039f"
            ],
            [
             0.2222222222222222,
             "#7201a8"
            ],
            [
             0.3333333333333333,
             "#9c179e"
            ],
            [
             0.4444444444444444,
             "#bd3786"
            ],
            [
             0.5555555555555556,
             "#d8576b"
            ],
            [
             0.6666666666666666,
             "#ed7953"
            ],
            [
             0.7777777777777778,
             "#fb9f3a"
            ],
            [
             0.8888888888888888,
             "#fdca26"
            ],
            [
             1,
             "#f0f921"
            ]
           ]
          },
          "colorway": [
           "#636efa",
           "#EF553B",
           "#00cc96",
           "#ab63fa",
           "#FFA15A",
           "#19d3f3",
           "#FF6692",
           "#B6E880",
           "#FF97FF",
           "#FECB52"
          ],
          "font": {
           "color": "#2a3f5f"
          },
          "geo": {
           "bgcolor": "white",
           "lakecolor": "white",
           "landcolor": "#E5ECF6",
           "showlakes": true,
           "showland": true,
           "subunitcolor": "white"
          },
          "hoverlabel": {
           "align": "left"
          },
          "hovermode": "closest",
          "mapbox": {
           "style": "light"
          },
          "paper_bgcolor": "white",
          "plot_bgcolor": "#E5ECF6",
          "polar": {
           "angularaxis": {
            "gridcolor": "white",
            "linecolor": "white",
            "ticks": ""
           },
           "bgcolor": "#E5ECF6",
           "radialaxis": {
            "gridcolor": "white",
            "linecolor": "white",
            "ticks": ""
           }
          },
          "scene": {
           "xaxis": {
            "backgroundcolor": "#E5ECF6",
            "gridcolor": "white",
            "gridwidth": 2,
            "linecolor": "white",
            "showbackground": true,
            "ticks": "",
            "zerolinecolor": "white"
           },
           "yaxis": {
            "backgroundcolor": "#E5ECF6",
            "gridcolor": "white",
            "gridwidth": 2,
            "linecolor": "white",
            "showbackground": true,
            "ticks": "",
            "zerolinecolor": "white"
           },
           "zaxis": {
            "backgroundcolor": "#E5ECF6",
            "gridcolor": "white",
            "gridwidth": 2,
            "linecolor": "white",
            "showbackground": true,
            "ticks": "",
            "zerolinecolor": "white"
           }
          },
          "shapedefaults": {
           "line": {
            "color": "#2a3f5f"
           }
          },
          "ternary": {
           "aaxis": {
            "gridcolor": "white",
            "linecolor": "white",
            "ticks": ""
           },
           "baxis": {
            "gridcolor": "white",
            "linecolor": "white",
            "ticks": ""
           },
           "bgcolor": "#E5ECF6",
           "caxis": {
            "gridcolor": "white",
            "linecolor": "white",
            "ticks": ""
           }
          },
          "title": {
           "x": 0.05
          },
          "xaxis": {
           "automargin": true,
           "gridcolor": "white",
           "linecolor": "white",
           "ticks": "",
           "title": {
            "standoff": 15
           },
           "zerolinecolor": "white",
           "zerolinewidth": 2
          },
          "yaxis": {
           "automargin": true,
           "gridcolor": "white",
           "linecolor": "white",
           "ticks": "",
           "title": {
            "standoff": 15
           },
           "zerolinecolor": "white",
           "zerolinewidth": 2
          }
         }
        },
        "title": {
         "text": "Optimization History Plot"
        },
        "xaxis": {
         "title": {
          "text": "#Trials"
         }
        },
        "yaxis": {
         "title": {
          "text": "Objective Value"
         }
        }
       }
      }
     },
     "metadata": {},
     "output_type": "display_data"
    }
   ],
   "source": [
    "optuna.visualization.plot_optimization_history(study)"
   ]
  },
  {
   "cell_type": "code",
   "execution_count": null,
   "metadata": {},
   "outputs": [
    {
     "data": {
      "application/vnd.plotly.v1+json": {
       "config": {
        "plotlyServerURL": "https://plot.ly"
       },
       "data": [
        {
         "colorbar": {
          "title": {
           "text": "Objective Value"
          }
         },
         "colorscale": [
          [
           0,
           "rgb(5,10,172)"
          ],
          [
           0.35,
           "rgb(40,60,190)"
          ],
          [
           0.5,
           "rgb(70,100,245)"
          ],
          [
           0.6,
           "rgb(90,120,245)"
          ],
          [
           0.7,
           "rgb(106,137,247)"
          ],
          [
           1,
           "rgb(220,220,220)"
          ]
         ],
         "connectgaps": true,
         "contours": {
          "coloring": "heatmap"
         },
         "hoverinfo": "none",
         "line": {
          "smoothing": 1.3
         },
         "reversescale": false,
         "type": "contour",
         "x": [
          1.8,
          2,
          4,
          6,
          6.2
         ],
         "y": [
          15.2,
          16,
          20,
          24,
          28,
          32,
          32.8
         ],
         "z": [
          [
           null,
           null,
           null,
           null,
           null
          ],
          [
           null,
           null,
           null,
           0.499584602603157,
           null
          ],
          [
           null,
           0.5026308501800055,
           0.5078925505400166,
           0.2518692882857934,
           null
          ],
          [
           null,
           0.4716145112157297,
           null,
           null,
           null
          ],
          [
           null,
           null,
           null,
           0.49086125726945445,
           null
          ],
          [
           null,
           0.4886458044862919,
           null,
           0.50650789255054,
           null
          ],
          [
           null,
           null,
           null,
           null,
           null
          ]
         ]
        },
        {
         "marker": {
          "color": "black",
          "line": {
           "color": "Grey",
           "width": 0.5
          }
         },
         "mode": "markers",
         "showlegend": false,
         "type": "scatter",
         "x": [
          2,
          6,
          4,
          2,
          2,
          4,
          6,
          4,
          6,
          6,
          6,
          6
         ],
         "y": [
          20,
          20,
          20,
          24,
          32,
          20,
          28,
          20,
          28,
          28,
          16,
          32
         ]
        }
       ],
       "layout": {
        "template": {
         "data": {
          "bar": [
           {
            "error_x": {
             "color": "#2a3f5f"
            },
            "error_y": {
             "color": "#2a3f5f"
            },
            "marker": {
             "line": {
              "color": "#E5ECF6",
              "width": 0.5
             }
            },
            "type": "bar"
           }
          ],
          "barpolar": [
           {
            "marker": {
             "line": {
              "color": "#E5ECF6",
              "width": 0.5
             }
            },
            "type": "barpolar"
           }
          ],
          "carpet": [
           {
            "aaxis": {
             "endlinecolor": "#2a3f5f",
             "gridcolor": "white",
             "linecolor": "white",
             "minorgridcolor": "white",
             "startlinecolor": "#2a3f5f"
            },
            "baxis": {
             "endlinecolor": "#2a3f5f",
             "gridcolor": "white",
             "linecolor": "white",
             "minorgridcolor": "white",
             "startlinecolor": "#2a3f5f"
            },
            "type": "carpet"
           }
          ],
          "choropleth": [
           {
            "colorbar": {
             "outlinewidth": 0,
             "ticks": ""
            },
            "type": "choropleth"
           }
          ],
          "contour": [
           {
            "colorbar": {
             "outlinewidth": 0,
             "ticks": ""
            },
            "colorscale": [
             [
              0,
              "#0d0887"
             ],
             [
              0.1111111111111111,
              "#46039f"
             ],
             [
              0.2222222222222222,
              "#7201a8"
             ],
             [
              0.3333333333333333,
              "#9c179e"
             ],
             [
              0.4444444444444444,
              "#bd3786"
             ],
             [
              0.5555555555555556,
              "#d8576b"
             ],
             [
              0.6666666666666666,
              "#ed7953"
             ],
             [
              0.7777777777777778,
              "#fb9f3a"
             ],
             [
              0.8888888888888888,
              "#fdca26"
             ],
             [
              1,
              "#f0f921"
             ]
            ],
            "type": "contour"
           }
          ],
          "contourcarpet": [
           {
            "colorbar": {
             "outlinewidth": 0,
             "ticks": ""
            },
            "type": "contourcarpet"
           }
          ],
          "heatmap": [
           {
            "colorbar": {
             "outlinewidth": 0,
             "ticks": ""
            },
            "colorscale": [
             [
              0,
              "#0d0887"
             ],
             [
              0.1111111111111111,
              "#46039f"
             ],
             [
              0.2222222222222222,
              "#7201a8"
             ],
             [
              0.3333333333333333,
              "#9c179e"
             ],
             [
              0.4444444444444444,
              "#bd3786"
             ],
             [
              0.5555555555555556,
              "#d8576b"
             ],
             [
              0.6666666666666666,
              "#ed7953"
             ],
             [
              0.7777777777777778,
              "#fb9f3a"
             ],
             [
              0.8888888888888888,
              "#fdca26"
             ],
             [
              1,
              "#f0f921"
             ]
            ],
            "type": "heatmap"
           }
          ],
          "heatmapgl": [
           {
            "colorbar": {
             "outlinewidth": 0,
             "ticks": ""
            },
            "colorscale": [
             [
              0,
              "#0d0887"
             ],
             [
              0.1111111111111111,
              "#46039f"
             ],
             [
              0.2222222222222222,
              "#7201a8"
             ],
             [
              0.3333333333333333,
              "#9c179e"
             ],
             [
              0.4444444444444444,
              "#bd3786"
             ],
             [
              0.5555555555555556,
              "#d8576b"
             ],
             [
              0.6666666666666666,
              "#ed7953"
             ],
             [
              0.7777777777777778,
              "#fb9f3a"
             ],
             [
              0.8888888888888888,
              "#fdca26"
             ],
             [
              1,
              "#f0f921"
             ]
            ],
            "type": "heatmapgl"
           }
          ],
          "histogram": [
           {
            "marker": {
             "colorbar": {
              "outlinewidth": 0,
              "ticks": ""
             }
            },
            "type": "histogram"
           }
          ],
          "histogram2d": [
           {
            "colorbar": {
             "outlinewidth": 0,
             "ticks": ""
            },
            "colorscale": [
             [
              0,
              "#0d0887"
             ],
             [
              0.1111111111111111,
              "#46039f"
             ],
             [
              0.2222222222222222,
              "#7201a8"
             ],
             [
              0.3333333333333333,
              "#9c179e"
             ],
             [
              0.4444444444444444,
              "#bd3786"
             ],
             [
              0.5555555555555556,
              "#d8576b"
             ],
             [
              0.6666666666666666,
              "#ed7953"
             ],
             [
              0.7777777777777778,
              "#fb9f3a"
             ],
             [
              0.8888888888888888,
              "#fdca26"
             ],
             [
              1,
              "#f0f921"
             ]
            ],
            "type": "histogram2d"
           }
          ],
          "histogram2dcontour": [
           {
            "colorbar": {
             "outlinewidth": 0,
             "ticks": ""
            },
            "colorscale": [
             [
              0,
              "#0d0887"
             ],
             [
              0.1111111111111111,
              "#46039f"
             ],
             [
              0.2222222222222222,
              "#7201a8"
             ],
             [
              0.3333333333333333,
              "#9c179e"
             ],
             [
              0.4444444444444444,
              "#bd3786"
             ],
             [
              0.5555555555555556,
              "#d8576b"
             ],
             [
              0.6666666666666666,
              "#ed7953"
             ],
             [
              0.7777777777777778,
              "#fb9f3a"
             ],
             [
              0.8888888888888888,
              "#fdca26"
             ],
             [
              1,
              "#f0f921"
             ]
            ],
            "type": "histogram2dcontour"
           }
          ],
          "mesh3d": [
           {
            "colorbar": {
             "outlinewidth": 0,
             "ticks": ""
            },
            "type": "mesh3d"
           }
          ],
          "parcoords": [
           {
            "line": {
             "colorbar": {
              "outlinewidth": 0,
              "ticks": ""
             }
            },
            "type": "parcoords"
           }
          ],
          "pie": [
           {
            "automargin": true,
            "type": "pie"
           }
          ],
          "scatter": [
           {
            "marker": {
             "colorbar": {
              "outlinewidth": 0,
              "ticks": ""
             }
            },
            "type": "scatter"
           }
          ],
          "scatter3d": [
           {
            "line": {
             "colorbar": {
              "outlinewidth": 0,
              "ticks": ""
             }
            },
            "marker": {
             "colorbar": {
              "outlinewidth": 0,
              "ticks": ""
             }
            },
            "type": "scatter3d"
           }
          ],
          "scattercarpet": [
           {
            "marker": {
             "colorbar": {
              "outlinewidth": 0,
              "ticks": ""
             }
            },
            "type": "scattercarpet"
           }
          ],
          "scattergeo": [
           {
            "marker": {
             "colorbar": {
              "outlinewidth": 0,
              "ticks": ""
             }
            },
            "type": "scattergeo"
           }
          ],
          "scattergl": [
           {
            "marker": {
             "colorbar": {
              "outlinewidth": 0,
              "ticks": ""
             }
            },
            "type": "scattergl"
           }
          ],
          "scattermapbox": [
           {
            "marker": {
             "colorbar": {
              "outlinewidth": 0,
              "ticks": ""
             }
            },
            "type": "scattermapbox"
           }
          ],
          "scatterpolar": [
           {
            "marker": {
             "colorbar": {
              "outlinewidth": 0,
              "ticks": ""
             }
            },
            "type": "scatterpolar"
           }
          ],
          "scatterpolargl": [
           {
            "marker": {
             "colorbar": {
              "outlinewidth": 0,
              "ticks": ""
             }
            },
            "type": "scatterpolargl"
           }
          ],
          "scatterternary": [
           {
            "marker": {
             "colorbar": {
              "outlinewidth": 0,
              "ticks": ""
             }
            },
            "type": "scatterternary"
           }
          ],
          "surface": [
           {
            "colorbar": {
             "outlinewidth": 0,
             "ticks": ""
            },
            "colorscale": [
             [
              0,
              "#0d0887"
             ],
             [
              0.1111111111111111,
              "#46039f"
             ],
             [
              0.2222222222222222,
              "#7201a8"
             ],
             [
              0.3333333333333333,
              "#9c179e"
             ],
             [
              0.4444444444444444,
              "#bd3786"
             ],
             [
              0.5555555555555556,
              "#d8576b"
             ],
             [
              0.6666666666666666,
              "#ed7953"
             ],
             [
              0.7777777777777778,
              "#fb9f3a"
             ],
             [
              0.8888888888888888,
              "#fdca26"
             ],
             [
              1,
              "#f0f921"
             ]
            ],
            "type": "surface"
           }
          ],
          "table": [
           {
            "cells": {
             "fill": {
              "color": "#EBF0F8"
             },
             "line": {
              "color": "white"
             }
            },
            "header": {
             "fill": {
              "color": "#C8D4E3"
             },
             "line": {
              "color": "white"
             }
            },
            "type": "table"
           }
          ]
         },
         "layout": {
          "annotationdefaults": {
           "arrowcolor": "#2a3f5f",
           "arrowhead": 0,
           "arrowwidth": 1
          },
          "coloraxis": {
           "colorbar": {
            "outlinewidth": 0,
            "ticks": ""
           }
          },
          "colorscale": {
           "diverging": [
            [
             0,
             "#8e0152"
            ],
            [
             0.1,
             "#c51b7d"
            ],
            [
             0.2,
             "#de77ae"
            ],
            [
             0.3,
             "#f1b6da"
            ],
            [
             0.4,
             "#fde0ef"
            ],
            [
             0.5,
             "#f7f7f7"
            ],
            [
             0.6,
             "#e6f5d0"
            ],
            [
             0.7,
             "#b8e186"
            ],
            [
             0.8,
             "#7fbc41"
            ],
            [
             0.9,
             "#4d9221"
            ],
            [
             1,
             "#276419"
            ]
           ],
           "sequential": [
            [
             0,
             "#0d0887"
            ],
            [
             0.1111111111111111,
             "#46039f"
            ],
            [
             0.2222222222222222,
             "#7201a8"
            ],
            [
             0.3333333333333333,
             "#9c179e"
            ],
            [
             0.4444444444444444,
             "#bd3786"
            ],
            [
             0.5555555555555556,
             "#d8576b"
            ],
            [
             0.6666666666666666,
             "#ed7953"
            ],
            [
             0.7777777777777778,
             "#fb9f3a"
            ],
            [
             0.8888888888888888,
             "#fdca26"
            ],
            [
             1,
             "#f0f921"
            ]
           ],
           "sequentialminus": [
            [
             0,
             "#0d0887"
            ],
            [
             0.1111111111111111,
             "#46039f"
            ],
            [
             0.2222222222222222,
             "#7201a8"
            ],
            [
             0.3333333333333333,
             "#9c179e"
            ],
            [
             0.4444444444444444,
             "#bd3786"
            ],
            [
             0.5555555555555556,
             "#d8576b"
            ],
            [
             0.6666666666666666,
             "#ed7953"
            ],
            [
             0.7777777777777778,
             "#fb9f3a"
            ],
            [
             0.8888888888888888,
             "#fdca26"
            ],
            [
             1,
             "#f0f921"
            ]
           ]
          },
          "colorway": [
           "#636efa",
           "#EF553B",
           "#00cc96",
           "#ab63fa",
           "#FFA15A",
           "#19d3f3",
           "#FF6692",
           "#B6E880",
           "#FF97FF",
           "#FECB52"
          ],
          "font": {
           "color": "#2a3f5f"
          },
          "geo": {
           "bgcolor": "white",
           "lakecolor": "white",
           "landcolor": "#E5ECF6",
           "showlakes": true,
           "showland": true,
           "subunitcolor": "white"
          },
          "hoverlabel": {
           "align": "left"
          },
          "hovermode": "closest",
          "mapbox": {
           "style": "light"
          },
          "paper_bgcolor": "white",
          "plot_bgcolor": "#E5ECF6",
          "polar": {
           "angularaxis": {
            "gridcolor": "white",
            "linecolor": "white",
            "ticks": ""
           },
           "bgcolor": "#E5ECF6",
           "radialaxis": {
            "gridcolor": "white",
            "linecolor": "white",
            "ticks": ""
           }
          },
          "scene": {
           "xaxis": {
            "backgroundcolor": "#E5ECF6",
            "gridcolor": "white",
            "gridwidth": 2,
            "linecolor": "white",
            "showbackground": true,
            "ticks": "",
            "zerolinecolor": "white"
           },
           "yaxis": {
            "backgroundcolor": "#E5ECF6",
            "gridcolor": "white",
            "gridwidth": 2,
            "linecolor": "white",
            "showbackground": true,
            "ticks": "",
            "zerolinecolor": "white"
           },
           "zaxis": {
            "backgroundcolor": "#E5ECF6",
            "gridcolor": "white",
            "gridwidth": 2,
            "linecolor": "white",
            "showbackground": true,
            "ticks": "",
            "zerolinecolor": "white"
           }
          },
          "shapedefaults": {
           "line": {
            "color": "#2a3f5f"
           }
          },
          "ternary": {
           "aaxis": {
            "gridcolor": "white",
            "linecolor": "white",
            "ticks": ""
           },
           "baxis": {
            "gridcolor": "white",
            "linecolor": "white",
            "ticks": ""
           },
           "bgcolor": "#E5ECF6",
           "caxis": {
            "gridcolor": "white",
            "linecolor": "white",
            "ticks": ""
           }
          },
          "title": {
           "x": 0.05
          },
          "xaxis": {
           "automargin": true,
           "gridcolor": "white",
           "linecolor": "white",
           "ticks": "",
           "title": {
            "standoff": 15
           },
           "zerolinecolor": "white",
           "zerolinewidth": 2
          },
          "yaxis": {
           "automargin": true,
           "gridcolor": "white",
           "linecolor": "white",
           "ticks": "",
           "title": {
            "standoff": 15
           },
           "zerolinecolor": "white",
           "zerolinewidth": 2
          }
         }
        },
        "title": {
         "text": "Contour Plot"
        },
        "xaxis": {
         "range": [
          1.8,
          6.2
         ],
         "title": {
          "text": "conv1_out_ch"
         }
        },
        "yaxis": {
         "range": [
          15.2,
          32.8
         ],
         "title": {
          "text": "conv2_out_ch"
         }
        }
       }
      }
     },
     "metadata": {},
     "output_type": "display_data"
    }
   ],
   "source": [
    "optuna.visualization.plot_contour(study, params=['conv1_out_ch', 'conv2_out_ch'])"
   ]
  },
  {
   "cell_type": "code",
   "execution_count": null,
   "metadata": {},
   "outputs": [
    {
     "name": "stderr",
     "output_type": "stream",
     "text": [
      "\u001b[33m[W 2021-11-07 09:23:39,455]\u001b[0m Param optimizer unique value length is less than 2.\u001b[0m\n"
     ]
    },
    {
     "data": {
      "application/vnd.plotly.v1+json": {
       "config": {
        "plotlyServerURL": "https://plot.ly"
       },
       "data": [
        {
         "type": "contour"
        },
        {
         "type": "scatter"
        }
       ],
       "layout": {
        "template": {
         "data": {
          "bar": [
           {
            "error_x": {
             "color": "#2a3f5f"
            },
            "error_y": {
             "color": "#2a3f5f"
            },
            "marker": {
             "line": {
              "color": "#E5ECF6",
              "width": 0.5
             }
            },
            "type": "bar"
           }
          ],
          "barpolar": [
           {
            "marker": {
             "line": {
              "color": "#E5ECF6",
              "width": 0.5
             }
            },
            "type": "barpolar"
           }
          ],
          "carpet": [
           {
            "aaxis": {
             "endlinecolor": "#2a3f5f",
             "gridcolor": "white",
             "linecolor": "white",
             "minorgridcolor": "white",
             "startlinecolor": "#2a3f5f"
            },
            "baxis": {
             "endlinecolor": "#2a3f5f",
             "gridcolor": "white",
             "linecolor": "white",
             "minorgridcolor": "white",
             "startlinecolor": "#2a3f5f"
            },
            "type": "carpet"
           }
          ],
          "choropleth": [
           {
            "colorbar": {
             "outlinewidth": 0,
             "ticks": ""
            },
            "type": "choropleth"
           }
          ],
          "contour": [
           {
            "colorbar": {
             "outlinewidth": 0,
             "ticks": ""
            },
            "colorscale": [
             [
              0,
              "#0d0887"
             ],
             [
              0.1111111111111111,
              "#46039f"
             ],
             [
              0.2222222222222222,
              "#7201a8"
             ],
             [
              0.3333333333333333,
              "#9c179e"
             ],
             [
              0.4444444444444444,
              "#bd3786"
             ],
             [
              0.5555555555555556,
              "#d8576b"
             ],
             [
              0.6666666666666666,
              "#ed7953"
             ],
             [
              0.7777777777777778,
              "#fb9f3a"
             ],
             [
              0.8888888888888888,
              "#fdca26"
             ],
             [
              1,
              "#f0f921"
             ]
            ],
            "type": "contour"
           }
          ],
          "contourcarpet": [
           {
            "colorbar": {
             "outlinewidth": 0,
             "ticks": ""
            },
            "type": "contourcarpet"
           }
          ],
          "heatmap": [
           {
            "colorbar": {
             "outlinewidth": 0,
             "ticks": ""
            },
            "colorscale": [
             [
              0,
              "#0d0887"
             ],
             [
              0.1111111111111111,
              "#46039f"
             ],
             [
              0.2222222222222222,
              "#7201a8"
             ],
             [
              0.3333333333333333,
              "#9c179e"
             ],
             [
              0.4444444444444444,
              "#bd3786"
             ],
             [
              0.5555555555555556,
              "#d8576b"
             ],
             [
              0.6666666666666666,
              "#ed7953"
             ],
             [
              0.7777777777777778,
              "#fb9f3a"
             ],
             [
              0.8888888888888888,
              "#fdca26"
             ],
             [
              1,
              "#f0f921"
             ]
            ],
            "type": "heatmap"
           }
          ],
          "heatmapgl": [
           {
            "colorbar": {
             "outlinewidth": 0,
             "ticks": ""
            },
            "colorscale": [
             [
              0,
              "#0d0887"
             ],
             [
              0.1111111111111111,
              "#46039f"
             ],
             [
              0.2222222222222222,
              "#7201a8"
             ],
             [
              0.3333333333333333,
              "#9c179e"
             ],
             [
              0.4444444444444444,
              "#bd3786"
             ],
             [
              0.5555555555555556,
              "#d8576b"
             ],
             [
              0.6666666666666666,
              "#ed7953"
             ],
             [
              0.7777777777777778,
              "#fb9f3a"
             ],
             [
              0.8888888888888888,
              "#fdca26"
             ],
             [
              1,
              "#f0f921"
             ]
            ],
            "type": "heatmapgl"
           }
          ],
          "histogram": [
           {
            "marker": {
             "colorbar": {
              "outlinewidth": 0,
              "ticks": ""
             }
            },
            "type": "histogram"
           }
          ],
          "histogram2d": [
           {
            "colorbar": {
             "outlinewidth": 0,
             "ticks": ""
            },
            "colorscale": [
             [
              0,
              "#0d0887"
             ],
             [
              0.1111111111111111,
              "#46039f"
             ],
             [
              0.2222222222222222,
              "#7201a8"
             ],
             [
              0.3333333333333333,
              "#9c179e"
             ],
             [
              0.4444444444444444,
              "#bd3786"
             ],
             [
              0.5555555555555556,
              "#d8576b"
             ],
             [
              0.6666666666666666,
              "#ed7953"
             ],
             [
              0.7777777777777778,
              "#fb9f3a"
             ],
             [
              0.8888888888888888,
              "#fdca26"
             ],
             [
              1,
              "#f0f921"
             ]
            ],
            "type": "histogram2d"
           }
          ],
          "histogram2dcontour": [
           {
            "colorbar": {
             "outlinewidth": 0,
             "ticks": ""
            },
            "colorscale": [
             [
              0,
              "#0d0887"
             ],
             [
              0.1111111111111111,
              "#46039f"
             ],
             [
              0.2222222222222222,
              "#7201a8"
             ],
             [
              0.3333333333333333,
              "#9c179e"
             ],
             [
              0.4444444444444444,
              "#bd3786"
             ],
             [
              0.5555555555555556,
              "#d8576b"
             ],
             [
              0.6666666666666666,
              "#ed7953"
             ],
             [
              0.7777777777777778,
              "#fb9f3a"
             ],
             [
              0.8888888888888888,
              "#fdca26"
             ],
             [
              1,
              "#f0f921"
             ]
            ],
            "type": "histogram2dcontour"
           }
          ],
          "mesh3d": [
           {
            "colorbar": {
             "outlinewidth": 0,
             "ticks": ""
            },
            "type": "mesh3d"
           }
          ],
          "parcoords": [
           {
            "line": {
             "colorbar": {
              "outlinewidth": 0,
              "ticks": ""
             }
            },
            "type": "parcoords"
           }
          ],
          "pie": [
           {
            "automargin": true,
            "type": "pie"
           }
          ],
          "scatter": [
           {
            "marker": {
             "colorbar": {
              "outlinewidth": 0,
              "ticks": ""
             }
            },
            "type": "scatter"
           }
          ],
          "scatter3d": [
           {
            "line": {
             "colorbar": {
              "outlinewidth": 0,
              "ticks": ""
             }
            },
            "marker": {
             "colorbar": {
              "outlinewidth": 0,
              "ticks": ""
             }
            },
            "type": "scatter3d"
           }
          ],
          "scattercarpet": [
           {
            "marker": {
             "colorbar": {
              "outlinewidth": 0,
              "ticks": ""
             }
            },
            "type": "scattercarpet"
           }
          ],
          "scattergeo": [
           {
            "marker": {
             "colorbar": {
              "outlinewidth": 0,
              "ticks": ""
             }
            },
            "type": "scattergeo"
           }
          ],
          "scattergl": [
           {
            "marker": {
             "colorbar": {
              "outlinewidth": 0,
              "ticks": ""
             }
            },
            "type": "scattergl"
           }
          ],
          "scattermapbox": [
           {
            "marker": {
             "colorbar": {
              "outlinewidth": 0,
              "ticks": ""
             }
            },
            "type": "scattermapbox"
           }
          ],
          "scatterpolar": [
           {
            "marker": {
             "colorbar": {
              "outlinewidth": 0,
              "ticks": ""
             }
            },
            "type": "scatterpolar"
           }
          ],
          "scatterpolargl": [
           {
            "marker": {
             "colorbar": {
              "outlinewidth": 0,
              "ticks": ""
             }
            },
            "type": "scatterpolargl"
           }
          ],
          "scatterternary": [
           {
            "marker": {
             "colorbar": {
              "outlinewidth": 0,
              "ticks": ""
             }
            },
            "type": "scatterternary"
           }
          ],
          "surface": [
           {
            "colorbar": {
             "outlinewidth": 0,
             "ticks": ""
            },
            "colorscale": [
             [
              0,
              "#0d0887"
             ],
             [
              0.1111111111111111,
              "#46039f"
             ],
             [
              0.2222222222222222,
              "#7201a8"
             ],
             [
              0.3333333333333333,
              "#9c179e"
             ],
             [
              0.4444444444444444,
              "#bd3786"
             ],
             [
              0.5555555555555556,
              "#d8576b"
             ],
             [
              0.6666666666666666,
              "#ed7953"
             ],
             [
              0.7777777777777778,
              "#fb9f3a"
             ],
             [
              0.8888888888888888,
              "#fdca26"
             ],
             [
              1,
              "#f0f921"
             ]
            ],
            "type": "surface"
           }
          ],
          "table": [
           {
            "cells": {
             "fill": {
              "color": "#EBF0F8"
             },
             "line": {
              "color": "white"
             }
            },
            "header": {
             "fill": {
              "color": "#C8D4E3"
             },
             "line": {
              "color": "white"
             }
            },
            "type": "table"
           }
          ]
         },
         "layout": {
          "annotationdefaults": {
           "arrowcolor": "#2a3f5f",
           "arrowhead": 0,
           "arrowwidth": 1
          },
          "coloraxis": {
           "colorbar": {
            "outlinewidth": 0,
            "ticks": ""
           }
          },
          "colorscale": {
           "diverging": [
            [
             0,
             "#8e0152"
            ],
            [
             0.1,
             "#c51b7d"
            ],
            [
             0.2,
             "#de77ae"
            ],
            [
             0.3,
             "#f1b6da"
            ],
            [
             0.4,
             "#fde0ef"
            ],
            [
             0.5,
             "#f7f7f7"
            ],
            [
             0.6,
             "#e6f5d0"
            ],
            [
             0.7,
             "#b8e186"
            ],
            [
             0.8,
             "#7fbc41"
            ],
            [
             0.9,
             "#4d9221"
            ],
            [
             1,
             "#276419"
            ]
           ],
           "sequential": [
            [
             0,
             "#0d0887"
            ],
            [
             0.1111111111111111,
             "#46039f"
            ],
            [
             0.2222222222222222,
             "#7201a8"
            ],
            [
             0.3333333333333333,
             "#9c179e"
            ],
            [
             0.4444444444444444,
             "#bd3786"
            ],
            [
             0.5555555555555556,
             "#d8576b"
            ],
            [
             0.6666666666666666,
             "#ed7953"
            ],
            [
             0.7777777777777778,
             "#fb9f3a"
            ],
            [
             0.8888888888888888,
             "#fdca26"
            ],
            [
             1,
             "#f0f921"
            ]
           ],
           "sequentialminus": [
            [
             0,
             "#0d0887"
            ],
            [
             0.1111111111111111,
             "#46039f"
            ],
            [
             0.2222222222222222,
             "#7201a8"
            ],
            [
             0.3333333333333333,
             "#9c179e"
            ],
            [
             0.4444444444444444,
             "#bd3786"
            ],
            [
             0.5555555555555556,
             "#d8576b"
            ],
            [
             0.6666666666666666,
             "#ed7953"
            ],
            [
             0.7777777777777778,
             "#fb9f3a"
            ],
            [
             0.8888888888888888,
             "#fdca26"
            ],
            [
             1,
             "#f0f921"
            ]
           ]
          },
          "colorway": [
           "#636efa",
           "#EF553B",
           "#00cc96",
           "#ab63fa",
           "#FFA15A",
           "#19d3f3",
           "#FF6692",
           "#B6E880",
           "#FF97FF",
           "#FECB52"
          ],
          "font": {
           "color": "#2a3f5f"
          },
          "geo": {
           "bgcolor": "white",
           "lakecolor": "white",
           "landcolor": "#E5ECF6",
           "showlakes": true,
           "showland": true,
           "subunitcolor": "white"
          },
          "hoverlabel": {
           "align": "left"
          },
          "hovermode": "closest",
          "mapbox": {
           "style": "light"
          },
          "paper_bgcolor": "white",
          "plot_bgcolor": "#E5ECF6",
          "polar": {
           "angularaxis": {
            "gridcolor": "white",
            "linecolor": "white",
            "ticks": ""
           },
           "bgcolor": "#E5ECF6",
           "radialaxis": {
            "gridcolor": "white",
            "linecolor": "white",
            "ticks": ""
           }
          },
          "scene": {
           "xaxis": {
            "backgroundcolor": "#E5ECF6",
            "gridcolor": "white",
            "gridwidth": 2,
            "linecolor": "white",
            "showbackground": true,
            "ticks": "",
            "zerolinecolor": "white"
           },
           "yaxis": {
            "backgroundcolor": "#E5ECF6",
            "gridcolor": "white",
            "gridwidth": 2,
            "linecolor": "white",
            "showbackground": true,
            "ticks": "",
            "zerolinecolor": "white"
           },
           "zaxis": {
            "backgroundcolor": "#E5ECF6",
            "gridcolor": "white",
            "gridwidth": 2,
            "linecolor": "white",
            "showbackground": true,
            "ticks": "",
            "zerolinecolor": "white"
           }
          },
          "shapedefaults": {
           "line": {
            "color": "#2a3f5f"
           }
          },
          "ternary": {
           "aaxis": {
            "gridcolor": "white",
            "linecolor": "white",
            "ticks": ""
           },
           "baxis": {
            "gridcolor": "white",
            "linecolor": "white",
            "ticks": ""
           },
           "bgcolor": "#E5ECF6",
           "caxis": {
            "gridcolor": "white",
            "linecolor": "white",
            "ticks": ""
           }
          },
          "title": {
           "x": 0.05
          },
          "xaxis": {
           "automargin": true,
           "gridcolor": "white",
           "linecolor": "white",
           "ticks": "",
           "title": {
            "standoff": 15
           },
           "zerolinecolor": "white",
           "zerolinewidth": 2
          },
          "yaxis": {
           "automargin": true,
           "gridcolor": "white",
           "linecolor": "white",
           "ticks": "",
           "title": {
            "standoff": 15
           },
           "zerolinecolor": "white",
           "zerolinewidth": 2
          }
         }
        },
        "title": {
         "text": "Contour Plot"
        },
        "xaxis": {
         "range": [
          -5.120723985555713,
          -1.4221885729092574
         ],
         "title": {
          "text": "lr"
         },
         "type": "log"
        },
        "yaxis": {
         "range": [
          "Adam",
          "Adam"
         ],
         "title": {
          "text": "optimizer"
         },
         "type": "category"
        }
       }
      }
     },
     "metadata": {},
     "output_type": "display_data"
    }
   ],
   "source": [
    "optuna.visualization.plot_contour(study, params=['optimizer', 'lr'])"
   ]
  },
  {
   "cell_type": "code",
   "execution_count": null,
   "metadata": {},
   "outputs": [
    {
     "data": {
      "application/vnd.plotly.v1+json": {
       "config": {
        "plotlyServerURL": "https://plot.ly"
       },
       "data": [
        {
         "colorbar": {
          "title": {
           "text": "Objective Value"
          }
         },
         "colorscale": [
          [
           0,
           "rgb(5,10,172)"
          ],
          [
           0.35,
           "rgb(40,60,190)"
          ],
          [
           0.5,
           "rgb(70,100,245)"
          ],
          [
           0.6,
           "rgb(90,120,245)"
          ],
          [
           0.7,
           "rgb(106,137,247)"
          ],
          [
           1,
           "rgb(220,220,220)"
          ]
         ],
         "connectgaps": true,
         "contours": {
          "coloring": "heatmap"
         },
         "hoverinfo": "none",
         "line": {
          "smoothing": 1.3
         },
         "reversescale": false,
         "type": "contour",
         "x": [
          48,
          64,
          128,
          192,
          256,
          320,
          384,
          400
         ],
         "y": [
          0.000007573140505860429,
          0.00001115298865613912,
          0.000034458241566048334,
          0.000053053825558117455,
          0.00007876523159782011,
          0.00008699220433636511,
          0.00009042849595032041,
          0.0001642205193397065,
          0.00018282206020107074,
          0.0004501711354710286,
          0.0007220282953360525,
          0.0020500098109591668,
          0.025685982424916726,
          0.037827829865984604
         ],
         "z": [
          [
           null,
           null,
           null,
           null,
           null,
           null,
           null,
           null
          ],
          [
           null,
           null,
           0.4716145112157297,
           null,
           null,
           null,
           null,
           null
          ],
          [
           null,
           null,
           0.499584602603157,
           null,
           null,
           null,
           null,
           null
          ],
          [
           null,
           null,
           null,
           null,
           null,
           0.49252284685682635,
           null,
           null
          ],
          [
           null,
           null,
           null,
           null,
           0.50650789255054,
           null,
           null,
           null
          ],
          [
           null,
           null,
           0.5078925505400166,
           null,
           null,
           null,
           null,
           null
          ],
          [
           null,
           null,
           null,
           null,
           null,
           0.5072002215452783,
           null,
           null
          ],
          [
           null,
           0.5026308501800055,
           null,
           null,
           null,
           null,
           null,
           null
          ],
          [
           null,
           null,
           null,
           null,
           0.4886458044862919,
           null,
           null,
           null
          ],
          [
           null,
           null,
           null,
           null,
           null,
           0.5116311271116034,
           null,
           null
          ],
          [
           null,
           null,
           null,
           null,
           null,
           null,
           0.49086125726945445,
           null
          ],
          [
           null,
           null,
           null,
           0.47189144281362505,
           null,
           null,
           null,
           null
          ],
          [
           null,
           null,
           null,
           0.2518692882857934,
           null,
           null,
           null,
           null
          ],
          [
           null,
           null,
           null,
           null,
           null,
           null,
           null,
           null
          ]
         ]
        },
        {
         "marker": {
          "color": "black",
          "line": {
           "color": "Grey",
           "width": 0.5
          }
         },
         "mode": "markers",
         "showlegend": false,
         "type": "scatter",
         "x": [
          64,
          192,
          192,
          128,
          256,
          320,
          320,
          128,
          320,
          384,
          128,
          256
         ],
         "y": [
          0.0001642205193397065,
          0.025685982424916726,
          0.0020500098109591668,
          0.00001115298865613912,
          0.00018282206020107074,
          0.000053053825558117455,
          0.00009042849595032041,
          0.00008699220433636511,
          0.0004501711354710286,
          0.0007220282953360525,
          0.000034458241566048334,
          0.00007876523159782011
         ]
        }
       ],
       "layout": {
        "template": {
         "data": {
          "bar": [
           {
            "error_x": {
             "color": "#2a3f5f"
            },
            "error_y": {
             "color": "#2a3f5f"
            },
            "marker": {
             "line": {
              "color": "#E5ECF6",
              "width": 0.5
             }
            },
            "type": "bar"
           }
          ],
          "barpolar": [
           {
            "marker": {
             "line": {
              "color": "#E5ECF6",
              "width": 0.5
             }
            },
            "type": "barpolar"
           }
          ],
          "carpet": [
           {
            "aaxis": {
             "endlinecolor": "#2a3f5f",
             "gridcolor": "white",
             "linecolor": "white",
             "minorgridcolor": "white",
             "startlinecolor": "#2a3f5f"
            },
            "baxis": {
             "endlinecolor": "#2a3f5f",
             "gridcolor": "white",
             "linecolor": "white",
             "minorgridcolor": "white",
             "startlinecolor": "#2a3f5f"
            },
            "type": "carpet"
           }
          ],
          "choropleth": [
           {
            "colorbar": {
             "outlinewidth": 0,
             "ticks": ""
            },
            "type": "choropleth"
           }
          ],
          "contour": [
           {
            "colorbar": {
             "outlinewidth": 0,
             "ticks": ""
            },
            "colorscale": [
             [
              0,
              "#0d0887"
             ],
             [
              0.1111111111111111,
              "#46039f"
             ],
             [
              0.2222222222222222,
              "#7201a8"
             ],
             [
              0.3333333333333333,
              "#9c179e"
             ],
             [
              0.4444444444444444,
              "#bd3786"
             ],
             [
              0.5555555555555556,
              "#d8576b"
             ],
             [
              0.6666666666666666,
              "#ed7953"
             ],
             [
              0.7777777777777778,
              "#fb9f3a"
             ],
             [
              0.8888888888888888,
              "#fdca26"
             ],
             [
              1,
              "#f0f921"
             ]
            ],
            "type": "contour"
           }
          ],
          "contourcarpet": [
           {
            "colorbar": {
             "outlinewidth": 0,
             "ticks": ""
            },
            "type": "contourcarpet"
           }
          ],
          "heatmap": [
           {
            "colorbar": {
             "outlinewidth": 0,
             "ticks": ""
            },
            "colorscale": [
             [
              0,
              "#0d0887"
             ],
             [
              0.1111111111111111,
              "#46039f"
             ],
             [
              0.2222222222222222,
              "#7201a8"
             ],
             [
              0.3333333333333333,
              "#9c179e"
             ],
             [
              0.4444444444444444,
              "#bd3786"
             ],
             [
              0.5555555555555556,
              "#d8576b"
             ],
             [
              0.6666666666666666,
              "#ed7953"
             ],
             [
              0.7777777777777778,
              "#fb9f3a"
             ],
             [
              0.8888888888888888,
              "#fdca26"
             ],
             [
              1,
              "#f0f921"
             ]
            ],
            "type": "heatmap"
           }
          ],
          "heatmapgl": [
           {
            "colorbar": {
             "outlinewidth": 0,
             "ticks": ""
            },
            "colorscale": [
             [
              0,
              "#0d0887"
             ],
             [
              0.1111111111111111,
              "#46039f"
             ],
             [
              0.2222222222222222,
              "#7201a8"
             ],
             [
              0.3333333333333333,
              "#9c179e"
             ],
             [
              0.4444444444444444,
              "#bd3786"
             ],
             [
              0.5555555555555556,
              "#d8576b"
             ],
             [
              0.6666666666666666,
              "#ed7953"
             ],
             [
              0.7777777777777778,
              "#fb9f3a"
             ],
             [
              0.8888888888888888,
              "#fdca26"
             ],
             [
              1,
              "#f0f921"
             ]
            ],
            "type": "heatmapgl"
           }
          ],
          "histogram": [
           {
            "marker": {
             "colorbar": {
              "outlinewidth": 0,
              "ticks": ""
             }
            },
            "type": "histogram"
           }
          ],
          "histogram2d": [
           {
            "colorbar": {
             "outlinewidth": 0,
             "ticks": ""
            },
            "colorscale": [
             [
              0,
              "#0d0887"
             ],
             [
              0.1111111111111111,
              "#46039f"
             ],
             [
              0.2222222222222222,
              "#7201a8"
             ],
             [
              0.3333333333333333,
              "#9c179e"
             ],
             [
              0.4444444444444444,
              "#bd3786"
             ],
             [
              0.5555555555555556,
              "#d8576b"
             ],
             [
              0.6666666666666666,
              "#ed7953"
             ],
             [
              0.7777777777777778,
              "#fb9f3a"
             ],
             [
              0.8888888888888888,
              "#fdca26"
             ],
             [
              1,
              "#f0f921"
             ]
            ],
            "type": "histogram2d"
           }
          ],
          "histogram2dcontour": [
           {
            "colorbar": {
             "outlinewidth": 0,
             "ticks": ""
            },
            "colorscale": [
             [
              0,
              "#0d0887"
             ],
             [
              0.1111111111111111,
              "#46039f"
             ],
             [
              0.2222222222222222,
              "#7201a8"
             ],
             [
              0.3333333333333333,
              "#9c179e"
             ],
             [
              0.4444444444444444,
              "#bd3786"
             ],
             [
              0.5555555555555556,
              "#d8576b"
             ],
             [
              0.6666666666666666,
              "#ed7953"
             ],
             [
              0.7777777777777778,
              "#fb9f3a"
             ],
             [
              0.8888888888888888,
              "#fdca26"
             ],
             [
              1,
              "#f0f921"
             ]
            ],
            "type": "histogram2dcontour"
           }
          ],
          "mesh3d": [
           {
            "colorbar": {
             "outlinewidth": 0,
             "ticks": ""
            },
            "type": "mesh3d"
           }
          ],
          "parcoords": [
           {
            "line": {
             "colorbar": {
              "outlinewidth": 0,
              "ticks": ""
             }
            },
            "type": "parcoords"
           }
          ],
          "pie": [
           {
            "automargin": true,
            "type": "pie"
           }
          ],
          "scatter": [
           {
            "marker": {
             "colorbar": {
              "outlinewidth": 0,
              "ticks": ""
             }
            },
            "type": "scatter"
           }
          ],
          "scatter3d": [
           {
            "line": {
             "colorbar": {
              "outlinewidth": 0,
              "ticks": ""
             }
            },
            "marker": {
             "colorbar": {
              "outlinewidth": 0,
              "ticks": ""
             }
            },
            "type": "scatter3d"
           }
          ],
          "scattercarpet": [
           {
            "marker": {
             "colorbar": {
              "outlinewidth": 0,
              "ticks": ""
             }
            },
            "type": "scattercarpet"
           }
          ],
          "scattergeo": [
           {
            "marker": {
             "colorbar": {
              "outlinewidth": 0,
              "ticks": ""
             }
            },
            "type": "scattergeo"
           }
          ],
          "scattergl": [
           {
            "marker": {
             "colorbar": {
              "outlinewidth": 0,
              "ticks": ""
             }
            },
            "type": "scattergl"
           }
          ],
          "scattermapbox": [
           {
            "marker": {
             "colorbar": {
              "outlinewidth": 0,
              "ticks": ""
             }
            },
            "type": "scattermapbox"
           }
          ],
          "scatterpolar": [
           {
            "marker": {
             "colorbar": {
              "outlinewidth": 0,
              "ticks": ""
             }
            },
            "type": "scatterpolar"
           }
          ],
          "scatterpolargl": [
           {
            "marker": {
             "colorbar": {
              "outlinewidth": 0,
              "ticks": ""
             }
            },
            "type": "scatterpolargl"
           }
          ],
          "scatterternary": [
           {
            "marker": {
             "colorbar": {
              "outlinewidth": 0,
              "ticks": ""
             }
            },
            "type": "scatterternary"
           }
          ],
          "surface": [
           {
            "colorbar": {
             "outlinewidth": 0,
             "ticks": ""
            },
            "colorscale": [
             [
              0,
              "#0d0887"
             ],
             [
              0.1111111111111111,
              "#46039f"
             ],
             [
              0.2222222222222222,
              "#7201a8"
             ],
             [
              0.3333333333333333,
              "#9c179e"
             ],
             [
              0.4444444444444444,
              "#bd3786"
             ],
             [
              0.5555555555555556,
              "#d8576b"
             ],
             [
              0.6666666666666666,
              "#ed7953"
             ],
             [
              0.7777777777777778,
              "#fb9f3a"
             ],
             [
              0.8888888888888888,
              "#fdca26"
             ],
             [
              1,
              "#f0f921"
             ]
            ],
            "type": "surface"
           }
          ],
          "table": [
           {
            "cells": {
             "fill": {
              "color": "#EBF0F8"
             },
             "line": {
              "color": "white"
             }
            },
            "header": {
             "fill": {
              "color": "#C8D4E3"
             },
             "line": {
              "color": "white"
             }
            },
            "type": "table"
           }
          ]
         },
         "layout": {
          "annotationdefaults": {
           "arrowcolor": "#2a3f5f",
           "arrowhead": 0,
           "arrowwidth": 1
          },
          "coloraxis": {
           "colorbar": {
            "outlinewidth": 0,
            "ticks": ""
           }
          },
          "colorscale": {
           "diverging": [
            [
             0,
             "#8e0152"
            ],
            [
             0.1,
             "#c51b7d"
            ],
            [
             0.2,
             "#de77ae"
            ],
            [
             0.3,
             "#f1b6da"
            ],
            [
             0.4,
             "#fde0ef"
            ],
            [
             0.5,
             "#f7f7f7"
            ],
            [
             0.6,
             "#e6f5d0"
            ],
            [
             0.7,
             "#b8e186"
            ],
            [
             0.8,
             "#7fbc41"
            ],
            [
             0.9,
             "#4d9221"
            ],
            [
             1,
             "#276419"
            ]
           ],
           "sequential": [
            [
             0,
             "#0d0887"
            ],
            [
             0.1111111111111111,
             "#46039f"
            ],
            [
             0.2222222222222222,
             "#7201a8"
            ],
            [
             0.3333333333333333,
             "#9c179e"
            ],
            [
             0.4444444444444444,
             "#bd3786"
            ],
            [
             0.5555555555555556,
             "#d8576b"
            ],
            [
             0.6666666666666666,
             "#ed7953"
            ],
            [
             0.7777777777777778,
             "#fb9f3a"
            ],
            [
             0.8888888888888888,
             "#fdca26"
            ],
            [
             1,
             "#f0f921"
            ]
           ],
           "sequentialminus": [
            [
             0,
             "#0d0887"
            ],
            [
             0.1111111111111111,
             "#46039f"
            ],
            [
             0.2222222222222222,
             "#7201a8"
            ],
            [
             0.3333333333333333,
             "#9c179e"
            ],
            [
             0.4444444444444444,
             "#bd3786"
            ],
            [
             0.5555555555555556,
             "#d8576b"
            ],
            [
             0.6666666666666666,
             "#ed7953"
            ],
            [
             0.7777777777777778,
             "#fb9f3a"
            ],
            [
             0.8888888888888888,
             "#fdca26"
            ],
            [
             1,
             "#f0f921"
            ]
           ]
          },
          "colorway": [
           "#636efa",
           "#EF553B",
           "#00cc96",
           "#ab63fa",
           "#FFA15A",
           "#19d3f3",
           "#FF6692",
           "#B6E880",
           "#FF97FF",
           "#FECB52"
          ],
          "font": {
           "color": "#2a3f5f"
          },
          "geo": {
           "bgcolor": "white",
           "lakecolor": "white",
           "landcolor": "#E5ECF6",
           "showlakes": true,
           "showland": true,
           "subunitcolor": "white"
          },
          "hoverlabel": {
           "align": "left"
          },
          "hovermode": "closest",
          "mapbox": {
           "style": "light"
          },
          "paper_bgcolor": "white",
          "plot_bgcolor": "#E5ECF6",
          "polar": {
           "angularaxis": {
            "gridcolor": "white",
            "linecolor": "white",
            "ticks": ""
           },
           "bgcolor": "#E5ECF6",
           "radialaxis": {
            "gridcolor": "white",
            "linecolor": "white",
            "ticks": ""
           }
          },
          "scene": {
           "xaxis": {
            "backgroundcolor": "#E5ECF6",
            "gridcolor": "white",
            "gridwidth": 2,
            "linecolor": "white",
            "showbackground": true,
            "ticks": "",
            "zerolinecolor": "white"
           },
           "yaxis": {
            "backgroundcolor": "#E5ECF6",
            "gridcolor": "white",
            "gridwidth": 2,
            "linecolor": "white",
            "showbackground": true,
            "ticks": "",
            "zerolinecolor": "white"
           },
           "zaxis": {
            "backgroundcolor": "#E5ECF6",
            "gridcolor": "white",
            "gridwidth": 2,
            "linecolor": "white",
            "showbackground": true,
            "ticks": "",
            "zerolinecolor": "white"
           }
          },
          "shapedefaults": {
           "line": {
            "color": "#2a3f5f"
           }
          },
          "ternary": {
           "aaxis": {
            "gridcolor": "white",
            "linecolor": "white",
            "ticks": ""
           },
           "baxis": {
            "gridcolor": "white",
            "linecolor": "white",
            "ticks": ""
           },
           "bgcolor": "#E5ECF6",
           "caxis": {
            "gridcolor": "white",
            "linecolor": "white",
            "ticks": ""
           }
          },
          "title": {
           "x": 0.05
          },
          "xaxis": {
           "automargin": true,
           "gridcolor": "white",
           "linecolor": "white",
           "ticks": "",
           "title": {
            "standoff": 15
           },
           "zerolinecolor": "white",
           "zerolinewidth": 2
          },
          "yaxis": {
           "automargin": true,
           "gridcolor": "white",
           "linecolor": "white",
           "ticks": "",
           "title": {
            "standoff": 15
           },
           "zerolinecolor": "white",
           "zerolinewidth": 2
          }
         }
        },
        "title": {
         "text": "Contour Plot"
        },
        "xaxis": {
         "range": [
          48,
          400
         ],
         "title": {
          "text": "batch_size"
         }
        },
        "yaxis": {
         "range": [
          -5.120723985555713,
          -1.4221885729092574
         ],
         "title": {
          "text": "lr"
         },
         "type": "log"
        }
       }
      }
     },
     "metadata": {},
     "output_type": "display_data"
    }
   ],
   "source": [
    "optuna.visualization.plot_contour(study, params=['batch_size', 'lr'])"
   ]
  },
  {
   "cell_type": "code",
   "execution_count": null,
   "metadata": {},
   "outputs": [
    {
     "data": {
      "application/vnd.plotly.v1+json": {
       "config": {
        "plotlyServerURL": "https://plot.ly"
       },
       "data": [
        {
         "dimensions": [
          {
           "label": "Objective Value",
           "range": [
            0.2518692882857934,
            0.5116311271116034
           ],
           "values": [
            0.5026308501800055,
            0.2518692882857934,
            0.47189144281362505,
            0.4716145112157297,
            0.4886458044862919,
            0.49252284685682635,
            0.5072002215452783,
            0.5078925505400166,
            0.5116311271116034,
            0.49086125726945445,
            0.499584602603157,
            0.50650789255054
           ]
          },
          {
           "label": "batch_size",
           "range": [
            64,
            384
           ],
           "values": [
            64,
            192,
            192,
            128,
            256,
            320,
            320,
            128,
            320,
            384,
            128,
            256
           ]
          },
          {
           "label": "conv1_out_ch",
           "range": [
            2,
            6
           ],
           "values": [
            2,
            6,
            4,
            2,
            2,
            4,
            6,
            4,
            6,
            6,
            6,
            6
           ]
          },
          {
           "label": "conv2_out_ch",
           "range": [
            16,
            32
           ],
           "values": [
            20,
            20,
            20,
            24,
            32,
            20,
            28,
            20,
            28,
            28,
            16,
            32
           ]
          },
          {
           "label": "lr",
           "range": [
            -4.952608739526329,
            -1.5903038189386418
           ],
           "ticktext": [
            "1.12e-05",
            "0.0001",
            "0.001",
            "0.01",
            "0.0257"
           ],
           "tickvals": [
            -4.952608739526329,
            -4,
            -3,
            -2,
            -1.5903038189386418
           ],
           "values": [
            -3.784572578768088,
            -1.5903038189386418,
            -2.6882440604880347,
            -4.952608739526329,
            -3.737971401350825,
            -4.275283294912893,
            -4.043694692490758,
            -4.060519664224979,
            -3.346622354976403,
            -3.141445782669249,
            -4.462706888746587,
            -4.103665445675006
           ]
          },
          {
           "label": "optimizer",
           "range": [
            0,
            0
           ],
           "ticktext": [
            "Adam"
           ],
           "tickvals": [
            0
           ],
           "values": [
            0,
            0,
            0,
            0,
            0,
            0,
            0,
            0,
            0,
            0,
            0,
            0
           ]
          }
         ],
         "labelangle": 30,
         "labelside": "bottom",
         "line": {
          "color": [
           0.5026308501800055,
           0.2518692882857934,
           0.47189144281362505,
           0.4716145112157297,
           0.4886458044862919,
           0.49252284685682635,
           0.5072002215452783,
           0.5078925505400166,
           0.5116311271116034,
           0.49086125726945445,
           0.499584602603157,
           0.50650789255054
          ],
          "colorbar": {
           "title": {
            "text": "Objective Value"
           }
          },
          "colorscale": [
           [
            0,
            "rgb(247,251,255)"
           ],
           [
            0.125,
            "rgb(222,235,247)"
           ],
           [
            0.25,
            "rgb(198,219,239)"
           ],
           [
            0.375,
            "rgb(158,202,225)"
           ],
           [
            0.5,
            "rgb(107,174,214)"
           ],
           [
            0.625,
            "rgb(66,146,198)"
           ],
           [
            0.75,
            "rgb(33,113,181)"
           ],
           [
            0.875,
            "rgb(8,81,156)"
           ],
           [
            1,
            "rgb(8,48,107)"
           ]
          ],
          "reversescale": false,
          "showscale": true
         },
         "type": "parcoords"
        }
       ],
       "layout": {
        "template": {
         "data": {
          "bar": [
           {
            "error_x": {
             "color": "#2a3f5f"
            },
            "error_y": {
             "color": "#2a3f5f"
            },
            "marker": {
             "line": {
              "color": "#E5ECF6",
              "width": 0.5
             }
            },
            "type": "bar"
           }
          ],
          "barpolar": [
           {
            "marker": {
             "line": {
              "color": "#E5ECF6",
              "width": 0.5
             }
            },
            "type": "barpolar"
           }
          ],
          "carpet": [
           {
            "aaxis": {
             "endlinecolor": "#2a3f5f",
             "gridcolor": "white",
             "linecolor": "white",
             "minorgridcolor": "white",
             "startlinecolor": "#2a3f5f"
            },
            "baxis": {
             "endlinecolor": "#2a3f5f",
             "gridcolor": "white",
             "linecolor": "white",
             "minorgridcolor": "white",
             "startlinecolor": "#2a3f5f"
            },
            "type": "carpet"
           }
          ],
          "choropleth": [
           {
            "colorbar": {
             "outlinewidth": 0,
             "ticks": ""
            },
            "type": "choropleth"
           }
          ],
          "contour": [
           {
            "colorbar": {
             "outlinewidth": 0,
             "ticks": ""
            },
            "colorscale": [
             [
              0,
              "#0d0887"
             ],
             [
              0.1111111111111111,
              "#46039f"
             ],
             [
              0.2222222222222222,
              "#7201a8"
             ],
             [
              0.3333333333333333,
              "#9c179e"
             ],
             [
              0.4444444444444444,
              "#bd3786"
             ],
             [
              0.5555555555555556,
              "#d8576b"
             ],
             [
              0.6666666666666666,
              "#ed7953"
             ],
             [
              0.7777777777777778,
              "#fb9f3a"
             ],
             [
              0.8888888888888888,
              "#fdca26"
             ],
             [
              1,
              "#f0f921"
             ]
            ],
            "type": "contour"
           }
          ],
          "contourcarpet": [
           {
            "colorbar": {
             "outlinewidth": 0,
             "ticks": ""
            },
            "type": "contourcarpet"
           }
          ],
          "heatmap": [
           {
            "colorbar": {
             "outlinewidth": 0,
             "ticks": ""
            },
            "colorscale": [
             [
              0,
              "#0d0887"
             ],
             [
              0.1111111111111111,
              "#46039f"
             ],
             [
              0.2222222222222222,
              "#7201a8"
             ],
             [
              0.3333333333333333,
              "#9c179e"
             ],
             [
              0.4444444444444444,
              "#bd3786"
             ],
             [
              0.5555555555555556,
              "#d8576b"
             ],
             [
              0.6666666666666666,
              "#ed7953"
             ],
             [
              0.7777777777777778,
              "#fb9f3a"
             ],
             [
              0.8888888888888888,
              "#fdca26"
             ],
             [
              1,
              "#f0f921"
             ]
            ],
            "type": "heatmap"
           }
          ],
          "heatmapgl": [
           {
            "colorbar": {
             "outlinewidth": 0,
             "ticks": ""
            },
            "colorscale": [
             [
              0,
              "#0d0887"
             ],
             [
              0.1111111111111111,
              "#46039f"
             ],
             [
              0.2222222222222222,
              "#7201a8"
             ],
             [
              0.3333333333333333,
              "#9c179e"
             ],
             [
              0.4444444444444444,
              "#bd3786"
             ],
             [
              0.5555555555555556,
              "#d8576b"
             ],
             [
              0.6666666666666666,
              "#ed7953"
             ],
             [
              0.7777777777777778,
              "#fb9f3a"
             ],
             [
              0.8888888888888888,
              "#fdca26"
             ],
             [
              1,
              "#f0f921"
             ]
            ],
            "type": "heatmapgl"
           }
          ],
          "histogram": [
           {
            "marker": {
             "colorbar": {
              "outlinewidth": 0,
              "ticks": ""
             }
            },
            "type": "histogram"
           }
          ],
          "histogram2d": [
           {
            "colorbar": {
             "outlinewidth": 0,
             "ticks": ""
            },
            "colorscale": [
             [
              0,
              "#0d0887"
             ],
             [
              0.1111111111111111,
              "#46039f"
             ],
             [
              0.2222222222222222,
              "#7201a8"
             ],
             [
              0.3333333333333333,
              "#9c179e"
             ],
             [
              0.4444444444444444,
              "#bd3786"
             ],
             [
              0.5555555555555556,
              "#d8576b"
             ],
             [
              0.6666666666666666,
              "#ed7953"
             ],
             [
              0.7777777777777778,
              "#fb9f3a"
             ],
             [
              0.8888888888888888,
              "#fdca26"
             ],
             [
              1,
              "#f0f921"
             ]
            ],
            "type": "histogram2d"
           }
          ],
          "histogram2dcontour": [
           {
            "colorbar": {
             "outlinewidth": 0,
             "ticks": ""
            },
            "colorscale": [
             [
              0,
              "#0d0887"
             ],
             [
              0.1111111111111111,
              "#46039f"
             ],
             [
              0.2222222222222222,
              "#7201a8"
             ],
             [
              0.3333333333333333,
              "#9c179e"
             ],
             [
              0.4444444444444444,
              "#bd3786"
             ],
             [
              0.5555555555555556,
              "#d8576b"
             ],
             [
              0.6666666666666666,
              "#ed7953"
             ],
             [
              0.7777777777777778,
              "#fb9f3a"
             ],
             [
              0.8888888888888888,
              "#fdca26"
             ],
             [
              1,
              "#f0f921"
             ]
            ],
            "type": "histogram2dcontour"
           }
          ],
          "mesh3d": [
           {
            "colorbar": {
             "outlinewidth": 0,
             "ticks": ""
            },
            "type": "mesh3d"
           }
          ],
          "parcoords": [
           {
            "line": {
             "colorbar": {
              "outlinewidth": 0,
              "ticks": ""
             }
            },
            "type": "parcoords"
           }
          ],
          "pie": [
           {
            "automargin": true,
            "type": "pie"
           }
          ],
          "scatter": [
           {
            "marker": {
             "colorbar": {
              "outlinewidth": 0,
              "ticks": ""
             }
            },
            "type": "scatter"
           }
          ],
          "scatter3d": [
           {
            "line": {
             "colorbar": {
              "outlinewidth": 0,
              "ticks": ""
             }
            },
            "marker": {
             "colorbar": {
              "outlinewidth": 0,
              "ticks": ""
             }
            },
            "type": "scatter3d"
           }
          ],
          "scattercarpet": [
           {
            "marker": {
             "colorbar": {
              "outlinewidth": 0,
              "ticks": ""
             }
            },
            "type": "scattercarpet"
           }
          ],
          "scattergeo": [
           {
            "marker": {
             "colorbar": {
              "outlinewidth": 0,
              "ticks": ""
             }
            },
            "type": "scattergeo"
           }
          ],
          "scattergl": [
           {
            "marker": {
             "colorbar": {
              "outlinewidth": 0,
              "ticks": ""
             }
            },
            "type": "scattergl"
           }
          ],
          "scattermapbox": [
           {
            "marker": {
             "colorbar": {
              "outlinewidth": 0,
              "ticks": ""
             }
            },
            "type": "scattermapbox"
           }
          ],
          "scatterpolar": [
           {
            "marker": {
             "colorbar": {
              "outlinewidth": 0,
              "ticks": ""
             }
            },
            "type": "scatterpolar"
           }
          ],
          "scatterpolargl": [
           {
            "marker": {
             "colorbar": {
              "outlinewidth": 0,
              "ticks": ""
             }
            },
            "type": "scatterpolargl"
           }
          ],
          "scatterternary": [
           {
            "marker": {
             "colorbar": {
              "outlinewidth": 0,
              "ticks": ""
             }
            },
            "type": "scatterternary"
           }
          ],
          "surface": [
           {
            "colorbar": {
             "outlinewidth": 0,
             "ticks": ""
            },
            "colorscale": [
             [
              0,
              "#0d0887"
             ],
             [
              0.1111111111111111,
              "#46039f"
             ],
             [
              0.2222222222222222,
              "#7201a8"
             ],
             [
              0.3333333333333333,
              "#9c179e"
             ],
             [
              0.4444444444444444,
              "#bd3786"
             ],
             [
              0.5555555555555556,
              "#d8576b"
             ],
             [
              0.6666666666666666,
              "#ed7953"
             ],
             [
              0.7777777777777778,
              "#fb9f3a"
             ],
             [
              0.8888888888888888,
              "#fdca26"
             ],
             [
              1,
              "#f0f921"
             ]
            ],
            "type": "surface"
           }
          ],
          "table": [
           {
            "cells": {
             "fill": {
              "color": "#EBF0F8"
             },
             "line": {
              "color": "white"
             }
            },
            "header": {
             "fill": {
              "color": "#C8D4E3"
             },
             "line": {
              "color": "white"
             }
            },
            "type": "table"
           }
          ]
         },
         "layout": {
          "annotationdefaults": {
           "arrowcolor": "#2a3f5f",
           "arrowhead": 0,
           "arrowwidth": 1
          },
          "coloraxis": {
           "colorbar": {
            "outlinewidth": 0,
            "ticks": ""
           }
          },
          "colorscale": {
           "diverging": [
            [
             0,
             "#8e0152"
            ],
            [
             0.1,
             "#c51b7d"
            ],
            [
             0.2,
             "#de77ae"
            ],
            [
             0.3,
             "#f1b6da"
            ],
            [
             0.4,
             "#fde0ef"
            ],
            [
             0.5,
             "#f7f7f7"
            ],
            [
             0.6,
             "#e6f5d0"
            ],
            [
             0.7,
             "#b8e186"
            ],
            [
             0.8,
             "#7fbc41"
            ],
            [
             0.9,
             "#4d9221"
            ],
            [
             1,
             "#276419"
            ]
           ],
           "sequential": [
            [
             0,
             "#0d0887"
            ],
            [
             0.1111111111111111,
             "#46039f"
            ],
            [
             0.2222222222222222,
             "#7201a8"
            ],
            [
             0.3333333333333333,
             "#9c179e"
            ],
            [
             0.4444444444444444,
             "#bd3786"
            ],
            [
             0.5555555555555556,
             "#d8576b"
            ],
            [
             0.6666666666666666,
             "#ed7953"
            ],
            [
             0.7777777777777778,
             "#fb9f3a"
            ],
            [
             0.8888888888888888,
             "#fdca26"
            ],
            [
             1,
             "#f0f921"
            ]
           ],
           "sequentialminus": [
            [
             0,
             "#0d0887"
            ],
            [
             0.1111111111111111,
             "#46039f"
            ],
            [
             0.2222222222222222,
             "#7201a8"
            ],
            [
             0.3333333333333333,
             "#9c179e"
            ],
            [
             0.4444444444444444,
             "#bd3786"
            ],
            [
             0.5555555555555556,
             "#d8576b"
            ],
            [
             0.6666666666666666,
             "#ed7953"
            ],
            [
             0.7777777777777778,
             "#fb9f3a"
            ],
            [
             0.8888888888888888,
             "#fdca26"
            ],
            [
             1,
             "#f0f921"
            ]
           ]
          },
          "colorway": [
           "#636efa",
           "#EF553B",
           "#00cc96",
           "#ab63fa",
           "#FFA15A",
           "#19d3f3",
           "#FF6692",
           "#B6E880",
           "#FF97FF",
           "#FECB52"
          ],
          "font": {
           "color": "#2a3f5f"
          },
          "geo": {
           "bgcolor": "white",
           "lakecolor": "white",
           "landcolor": "#E5ECF6",
           "showlakes": true,
           "showland": true,
           "subunitcolor": "white"
          },
          "hoverlabel": {
           "align": "left"
          },
          "hovermode": "closest",
          "mapbox": {
           "style": "light"
          },
          "paper_bgcolor": "white",
          "plot_bgcolor": "#E5ECF6",
          "polar": {
           "angularaxis": {
            "gridcolor": "white",
            "linecolor": "white",
            "ticks": ""
           },
           "bgcolor": "#E5ECF6",
           "radialaxis": {
            "gridcolor": "white",
            "linecolor": "white",
            "ticks": ""
           }
          },
          "scene": {
           "xaxis": {
            "backgroundcolor": "#E5ECF6",
            "gridcolor": "white",
            "gridwidth": 2,
            "linecolor": "white",
            "showbackground": true,
            "ticks": "",
            "zerolinecolor": "white"
           },
           "yaxis": {
            "backgroundcolor": "#E5ECF6",
            "gridcolor": "white",
            "gridwidth": 2,
            "linecolor": "white",
            "showbackground": true,
            "ticks": "",
            "zerolinecolor": "white"
           },
           "zaxis": {
            "backgroundcolor": "#E5ECF6",
            "gridcolor": "white",
            "gridwidth": 2,
            "linecolor": "white",
            "showbackground": true,
            "ticks": "",
            "zerolinecolor": "white"
           }
          },
          "shapedefaults": {
           "line": {
            "color": "#2a3f5f"
           }
          },
          "ternary": {
           "aaxis": {
            "gridcolor": "white",
            "linecolor": "white",
            "ticks": ""
           },
           "baxis": {
            "gridcolor": "white",
            "linecolor": "white",
            "ticks": ""
           },
           "bgcolor": "#E5ECF6",
           "caxis": {
            "gridcolor": "white",
            "linecolor": "white",
            "ticks": ""
           }
          },
          "title": {
           "x": 0.05
          },
          "xaxis": {
           "automargin": true,
           "gridcolor": "white",
           "linecolor": "white",
           "ticks": "",
           "title": {
            "standoff": 15
           },
           "zerolinecolor": "white",
           "zerolinewidth": 2
          },
          "yaxis": {
           "automargin": true,
           "gridcolor": "white",
           "linecolor": "white",
           "ticks": "",
           "title": {
            "standoff": 15
           },
           "zerolinecolor": "white",
           "zerolinewidth": 2
          }
         }
        },
        "title": {
         "text": "Parallel Coordinate Plot"
        }
       }
      }
     },
     "metadata": {},
     "output_type": "display_data"
    }
   ],
   "source": [
    "optuna.visualization.plot_parallel_coordinate(study)"
   ]
  },
  {
   "cell_type": "code",
   "execution_count": null,
   "metadata": {},
   "outputs": [
    {
     "data": {
      "application/vnd.plotly.v1+json": {
       "config": {
        "plotlyServerURL": "https://plot.ly"
       },
       "data": [
        {
         "cliponaxis": false,
         "hovertemplate": [
          "optimizer (CategoricalDistribution): 0.0<extra></extra>",
          "conv2_out_ch (IntUniformDistribution): 0.045392396332368704<extra></extra>",
          "batch_size (IntUniformDistribution): 0.09962353358589043<extra></extra>",
          "conv1_out_ch (IntUniformDistribution): 0.10439897421474664<extra></extra>",
          "lr (LogUniformDistribution): 0.7505850958669942<extra></extra>"
         ],
         "marker": {
          "color": "rgb(66,146,198)"
         },
         "orientation": "h",
         "text": [
          "0.0",
          "0.045392396332368704",
          "0.09962353358589043",
          "0.10439897421474664",
          "0.7505850958669942"
         ],
         "textposition": "outside",
         "texttemplate": "%{text:.2f}",
         "type": "bar",
         "x": [
          0,
          0.045392396332368704,
          0.09962353358589043,
          0.10439897421474664,
          0.7505850958669942
         ],
         "y": [
          "optimizer",
          "conv2_out_ch",
          "batch_size",
          "conv1_out_ch",
          "lr"
         ]
        }
       ],
       "layout": {
        "showlegend": false,
        "template": {
         "data": {
          "bar": [
           {
            "error_x": {
             "color": "#2a3f5f"
            },
            "error_y": {
             "color": "#2a3f5f"
            },
            "marker": {
             "line": {
              "color": "#E5ECF6",
              "width": 0.5
             }
            },
            "type": "bar"
           }
          ],
          "barpolar": [
           {
            "marker": {
             "line": {
              "color": "#E5ECF6",
              "width": 0.5
             }
            },
            "type": "barpolar"
           }
          ],
          "carpet": [
           {
            "aaxis": {
             "endlinecolor": "#2a3f5f",
             "gridcolor": "white",
             "linecolor": "white",
             "minorgridcolor": "white",
             "startlinecolor": "#2a3f5f"
            },
            "baxis": {
             "endlinecolor": "#2a3f5f",
             "gridcolor": "white",
             "linecolor": "white",
             "minorgridcolor": "white",
             "startlinecolor": "#2a3f5f"
            },
            "type": "carpet"
           }
          ],
          "choropleth": [
           {
            "colorbar": {
             "outlinewidth": 0,
             "ticks": ""
            },
            "type": "choropleth"
           }
          ],
          "contour": [
           {
            "colorbar": {
             "outlinewidth": 0,
             "ticks": ""
            },
            "colorscale": [
             [
              0,
              "#0d0887"
             ],
             [
              0.1111111111111111,
              "#46039f"
             ],
             [
              0.2222222222222222,
              "#7201a8"
             ],
             [
              0.3333333333333333,
              "#9c179e"
             ],
             [
              0.4444444444444444,
              "#bd3786"
             ],
             [
              0.5555555555555556,
              "#d8576b"
             ],
             [
              0.6666666666666666,
              "#ed7953"
             ],
             [
              0.7777777777777778,
              "#fb9f3a"
             ],
             [
              0.8888888888888888,
              "#fdca26"
             ],
             [
              1,
              "#f0f921"
             ]
            ],
            "type": "contour"
           }
          ],
          "contourcarpet": [
           {
            "colorbar": {
             "outlinewidth": 0,
             "ticks": ""
            },
            "type": "contourcarpet"
           }
          ],
          "heatmap": [
           {
            "colorbar": {
             "outlinewidth": 0,
             "ticks": ""
            },
            "colorscale": [
             [
              0,
              "#0d0887"
             ],
             [
              0.1111111111111111,
              "#46039f"
             ],
             [
              0.2222222222222222,
              "#7201a8"
             ],
             [
              0.3333333333333333,
              "#9c179e"
             ],
             [
              0.4444444444444444,
              "#bd3786"
             ],
             [
              0.5555555555555556,
              "#d8576b"
             ],
             [
              0.6666666666666666,
              "#ed7953"
             ],
             [
              0.7777777777777778,
              "#fb9f3a"
             ],
             [
              0.8888888888888888,
              "#fdca26"
             ],
             [
              1,
              "#f0f921"
             ]
            ],
            "type": "heatmap"
           }
          ],
          "heatmapgl": [
           {
            "colorbar": {
             "outlinewidth": 0,
             "ticks": ""
            },
            "colorscale": [
             [
              0,
              "#0d0887"
             ],
             [
              0.1111111111111111,
              "#46039f"
             ],
             [
              0.2222222222222222,
              "#7201a8"
             ],
             [
              0.3333333333333333,
              "#9c179e"
             ],
             [
              0.4444444444444444,
              "#bd3786"
             ],
             [
              0.5555555555555556,
              "#d8576b"
             ],
             [
              0.6666666666666666,
              "#ed7953"
             ],
             [
              0.7777777777777778,
              "#fb9f3a"
             ],
             [
              0.8888888888888888,
              "#fdca26"
             ],
             [
              1,
              "#f0f921"
             ]
            ],
            "type": "heatmapgl"
           }
          ],
          "histogram": [
           {
            "marker": {
             "colorbar": {
              "outlinewidth": 0,
              "ticks": ""
             }
            },
            "type": "histogram"
           }
          ],
          "histogram2d": [
           {
            "colorbar": {
             "outlinewidth": 0,
             "ticks": ""
            },
            "colorscale": [
             [
              0,
              "#0d0887"
             ],
             [
              0.1111111111111111,
              "#46039f"
             ],
             [
              0.2222222222222222,
              "#7201a8"
             ],
             [
              0.3333333333333333,
              "#9c179e"
             ],
             [
              0.4444444444444444,
              "#bd3786"
             ],
             [
              0.5555555555555556,
              "#d8576b"
             ],
             [
              0.6666666666666666,
              "#ed7953"
             ],
             [
              0.7777777777777778,
              "#fb9f3a"
             ],
             [
              0.8888888888888888,
              "#fdca26"
             ],
             [
              1,
              "#f0f921"
             ]
            ],
            "type": "histogram2d"
           }
          ],
          "histogram2dcontour": [
           {
            "colorbar": {
             "outlinewidth": 0,
             "ticks": ""
            },
            "colorscale": [
             [
              0,
              "#0d0887"
             ],
             [
              0.1111111111111111,
              "#46039f"
             ],
             [
              0.2222222222222222,
              "#7201a8"
             ],
             [
              0.3333333333333333,
              "#9c179e"
             ],
             [
              0.4444444444444444,
              "#bd3786"
             ],
             [
              0.5555555555555556,
              "#d8576b"
             ],
             [
              0.6666666666666666,
              "#ed7953"
             ],
             [
              0.7777777777777778,
              "#fb9f3a"
             ],
             [
              0.8888888888888888,
              "#fdca26"
             ],
             [
              1,
              "#f0f921"
             ]
            ],
            "type": "histogram2dcontour"
           }
          ],
          "mesh3d": [
           {
            "colorbar": {
             "outlinewidth": 0,
             "ticks": ""
            },
            "type": "mesh3d"
           }
          ],
          "parcoords": [
           {
            "line": {
             "colorbar": {
              "outlinewidth": 0,
              "ticks": ""
             }
            },
            "type": "parcoords"
           }
          ],
          "pie": [
           {
            "automargin": true,
            "type": "pie"
           }
          ],
          "scatter": [
           {
            "marker": {
             "colorbar": {
              "outlinewidth": 0,
              "ticks": ""
             }
            },
            "type": "scatter"
           }
          ],
          "scatter3d": [
           {
            "line": {
             "colorbar": {
              "outlinewidth": 0,
              "ticks": ""
             }
            },
            "marker": {
             "colorbar": {
              "outlinewidth": 0,
              "ticks": ""
             }
            },
            "type": "scatter3d"
           }
          ],
          "scattercarpet": [
           {
            "marker": {
             "colorbar": {
              "outlinewidth": 0,
              "ticks": ""
             }
            },
            "type": "scattercarpet"
           }
          ],
          "scattergeo": [
           {
            "marker": {
             "colorbar": {
              "outlinewidth": 0,
              "ticks": ""
             }
            },
            "type": "scattergeo"
           }
          ],
          "scattergl": [
           {
            "marker": {
             "colorbar": {
              "outlinewidth": 0,
              "ticks": ""
             }
            },
            "type": "scattergl"
           }
          ],
          "scattermapbox": [
           {
            "marker": {
             "colorbar": {
              "outlinewidth": 0,
              "ticks": ""
             }
            },
            "type": "scattermapbox"
           }
          ],
          "scatterpolar": [
           {
            "marker": {
             "colorbar": {
              "outlinewidth": 0,
              "ticks": ""
             }
            },
            "type": "scatterpolar"
           }
          ],
          "scatterpolargl": [
           {
            "marker": {
             "colorbar": {
              "outlinewidth": 0,
              "ticks": ""
             }
            },
            "type": "scatterpolargl"
           }
          ],
          "scatterternary": [
           {
            "marker": {
             "colorbar": {
              "outlinewidth": 0,
              "ticks": ""
             }
            },
            "type": "scatterternary"
           }
          ],
          "surface": [
           {
            "colorbar": {
             "outlinewidth": 0,
             "ticks": ""
            },
            "colorscale": [
             [
              0,
              "#0d0887"
             ],
             [
              0.1111111111111111,
              "#46039f"
             ],
             [
              0.2222222222222222,
              "#7201a8"
             ],
             [
              0.3333333333333333,
              "#9c179e"
             ],
             [
              0.4444444444444444,
              "#bd3786"
             ],
             [
              0.5555555555555556,
              "#d8576b"
             ],
             [
              0.6666666666666666,
              "#ed7953"
             ],
             [
              0.7777777777777778,
              "#fb9f3a"
             ],
             [
              0.8888888888888888,
              "#fdca26"
             ],
             [
              1,
              "#f0f921"
             ]
            ],
            "type": "surface"
           }
          ],
          "table": [
           {
            "cells": {
             "fill": {
              "color": "#EBF0F8"
             },
             "line": {
              "color": "white"
             }
            },
            "header": {
             "fill": {
              "color": "#C8D4E3"
             },
             "line": {
              "color": "white"
             }
            },
            "type": "table"
           }
          ]
         },
         "layout": {
          "annotationdefaults": {
           "arrowcolor": "#2a3f5f",
           "arrowhead": 0,
           "arrowwidth": 1
          },
          "coloraxis": {
           "colorbar": {
            "outlinewidth": 0,
            "ticks": ""
           }
          },
          "colorscale": {
           "diverging": [
            [
             0,
             "#8e0152"
            ],
            [
             0.1,
             "#c51b7d"
            ],
            [
             0.2,
             "#de77ae"
            ],
            [
             0.3,
             "#f1b6da"
            ],
            [
             0.4,
             "#fde0ef"
            ],
            [
             0.5,
             "#f7f7f7"
            ],
            [
             0.6,
             "#e6f5d0"
            ],
            [
             0.7,
             "#b8e186"
            ],
            [
             0.8,
             "#7fbc41"
            ],
            [
             0.9,
             "#4d9221"
            ],
            [
             1,
             "#276419"
            ]
           ],
           "sequential": [
            [
             0,
             "#0d0887"
            ],
            [
             0.1111111111111111,
             "#46039f"
            ],
            [
             0.2222222222222222,
             "#7201a8"
            ],
            [
             0.3333333333333333,
             "#9c179e"
            ],
            [
             0.4444444444444444,
             "#bd3786"
            ],
            [
             0.5555555555555556,
             "#d8576b"
            ],
            [
             0.6666666666666666,
             "#ed7953"
            ],
            [
             0.7777777777777778,
             "#fb9f3a"
            ],
            [
             0.8888888888888888,
             "#fdca26"
            ],
            [
             1,
             "#f0f921"
            ]
           ],
           "sequentialminus": [
            [
             0,
             "#0d0887"
            ],
            [
             0.1111111111111111,
             "#46039f"
            ],
            [
             0.2222222222222222,
             "#7201a8"
            ],
            [
             0.3333333333333333,
             "#9c179e"
            ],
            [
             0.4444444444444444,
             "#bd3786"
            ],
            [
             0.5555555555555556,
             "#d8576b"
            ],
            [
             0.6666666666666666,
             "#ed7953"
            ],
            [
             0.7777777777777778,
             "#fb9f3a"
            ],
            [
             0.8888888888888888,
             "#fdca26"
            ],
            [
             1,
             "#f0f921"
            ]
           ]
          },
          "colorway": [
           "#636efa",
           "#EF553B",
           "#00cc96",
           "#ab63fa",
           "#FFA15A",
           "#19d3f3",
           "#FF6692",
           "#B6E880",
           "#FF97FF",
           "#FECB52"
          ],
          "font": {
           "color": "#2a3f5f"
          },
          "geo": {
           "bgcolor": "white",
           "lakecolor": "white",
           "landcolor": "#E5ECF6",
           "showlakes": true,
           "showland": true,
           "subunitcolor": "white"
          },
          "hoverlabel": {
           "align": "left"
          },
          "hovermode": "closest",
          "mapbox": {
           "style": "light"
          },
          "paper_bgcolor": "white",
          "plot_bgcolor": "#E5ECF6",
          "polar": {
           "angularaxis": {
            "gridcolor": "white",
            "linecolor": "white",
            "ticks": ""
           },
           "bgcolor": "#E5ECF6",
           "radialaxis": {
            "gridcolor": "white",
            "linecolor": "white",
            "ticks": ""
           }
          },
          "scene": {
           "xaxis": {
            "backgroundcolor": "#E5ECF6",
            "gridcolor": "white",
            "gridwidth": 2,
            "linecolor": "white",
            "showbackground": true,
            "ticks": "",
            "zerolinecolor": "white"
           },
           "yaxis": {
            "backgroundcolor": "#E5ECF6",
            "gridcolor": "white",
            "gridwidth": 2,
            "linecolor": "white",
            "showbackground": true,
            "ticks": "",
            "zerolinecolor": "white"
           },
           "zaxis": {
            "backgroundcolor": "#E5ECF6",
            "gridcolor": "white",
            "gridwidth": 2,
            "linecolor": "white",
            "showbackground": true,
            "ticks": "",
            "zerolinecolor": "white"
           }
          },
          "shapedefaults": {
           "line": {
            "color": "#2a3f5f"
           }
          },
          "ternary": {
           "aaxis": {
            "gridcolor": "white",
            "linecolor": "white",
            "ticks": ""
           },
           "baxis": {
            "gridcolor": "white",
            "linecolor": "white",
            "ticks": ""
           },
           "bgcolor": "#E5ECF6",
           "caxis": {
            "gridcolor": "white",
            "linecolor": "white",
            "ticks": ""
           }
          },
          "title": {
           "x": 0.05
          },
          "xaxis": {
           "automargin": true,
           "gridcolor": "white",
           "linecolor": "white",
           "ticks": "",
           "title": {
            "standoff": 15
           },
           "zerolinecolor": "white",
           "zerolinewidth": 2
          },
          "yaxis": {
           "automargin": true,
           "gridcolor": "white",
           "linecolor": "white",
           "ticks": "",
           "title": {
            "standoff": 15
           },
           "zerolinecolor": "white",
           "zerolinewidth": 2
          }
         }
        },
        "title": {
         "text": "Hyperparameter Importances"
        },
        "xaxis": {
         "title": {
          "text": "Importance for Objective Value"
         }
        },
        "yaxis": {
         "title": {
          "text": "Hyperparameter"
         }
        }
       }
      }
     },
     "metadata": {},
     "output_type": "display_data"
    }
   ],
   "source": [
    "optuna.visualization.plot_param_importances(study)"
   ]
  },
  {
   "cell_type": "markdown",
   "metadata": {},
   "source": [
    "## 1108 12:00\n",
    "- Normalizaion\n",
    "- Dropout"
   ]
  },
  {
   "cell_type": "code",
   "execution_count": null,
   "metadata": {
    "id": "GadIqXJq6nFL",
    "outputId": "e535d698-b937-47f9-a811-2535160a2f10"
   },
   "outputs": [
    {
     "name": "stderr",
     "output_type": "stream",
     "text": [
      "\u001b[32m[I 2021-11-08 00:29:14,539]\u001b[0m A new study created in memory with name: no-name-3faa72c3-22ed-4e38-8cbc-d7105cb933ff\u001b[0m\n",
      "/usr/local/lib/python3.7/dist-packages/torch/nn/functional.py:718: UserWarning:\n",
      "\n",
      "Named tensors and all their associated APIs are an experimental feature and subject to change. Please do not use them for anything important until they are released as stable. (Triggered internally at  /pytorch/c10/core/TensorImpl.h:1156.)\n",
      "\n"
     ]
    },
    {
     "name": "stdout",
     "output_type": "stream",
     "text": [
      "Epoch 0: 0.21 min elapsed, train acc: 24.1%, train loss: 1.87, valid acc: 25.19%, valid loss: 1.82\n",
      "Epoch 1: 0.35 min elapsed, train acc: 25.08%, train loss: 1.818, valid acc: 25.19%, valid loss: 1.806\n",
      "Epoch 2: 0.52 min elapsed, train acc: 25.23%, train loss: 1.804, valid acc: 25.6%, valid loss: 1.793\n",
      "Epoch 3: 0.69 min elapsed, train acc: 26.01%, train loss: 1.786, valid acc: 26.49%, valid loss: 1.778\n",
      "Epoch 4: 0.86 min elapsed, train acc: 26.9%, train loss: 1.772, valid acc: 27.6%, valid loss: 1.762\n",
      "Epoch 5: 1.02 min elapsed, train acc: 28.13%, train loss: 1.751, valid acc: 28.22%, valid loss: 1.741\n",
      "Epoch 6: 1.2 min elapsed, train acc: 29.79%, train loss: 1.725, valid acc: 31.24%, valid loss: 1.712\n",
      "Epoch 7: 1.35 min elapsed, train acc: 31.37%, train loss: 1.7, valid acc: 30.95%, valid loss: 1.698\n",
      "Epoch 8: 1.53 min elapsed, train acc: 32.31%, train loss: 1.686, valid acc: 33.43%, valid loss: 1.679\n",
      "Epoch 9: 1.67 min elapsed, train acc: 33.1%, train loss: 1.674, valid acc: 32.58%, valid loss: 1.678\n",
      "Epoch 10: 1.84 min elapsed, train acc: 33.56%, train loss: 1.667, valid acc: 34.44%, valid loss: 1.671\n",
      "Epoch 11: 1.98 min elapsed, train acc: 33.82%, train loss: 1.666, valid acc: 34.15%, valid loss: 1.679\n",
      "Epoch 12: 2.13 min elapsed, train acc: 33.48%, train loss: 1.663, valid acc: 33.2%, valid loss: 1.666\n",
      "Epoch 13: 2.3 min elapsed, train acc: 34.27%, train loss: 1.657, valid acc: 34.67%, valid loss: 1.662\n",
      "Epoch 14: 2.46 min elapsed, train acc: 34.09%, train loss: 1.656, valid acc: 35.0%, valid loss: 1.655\n",
      "Epoch 15: 2.6 min elapsed, train acc: 34.22%, train loss: 1.658, valid acc: 34.91%, valid loss: 1.658\n",
      "Epoch 16: 2.75 min elapsed, train acc: 34.31%, train loss: 1.65, valid acc: 32.54%, valid loss: 1.667\n",
      "Epoch 17: 2.91 min elapsed, train acc: 34.34%, train loss: 1.649, valid acc: 35.47%, valid loss: 1.646\n",
      "Epoch 18: 3.05 min elapsed, train acc: 34.54%, train loss: 1.647, valid acc: 35.36%, valid loss: 1.647\n",
      "Epoch 19: 3.2 min elapsed, train acc: 34.76%, train loss: 1.642, valid acc: 33.73%, valid loss: 1.65\n",
      "Epoch 20: 3.34 min elapsed, train acc: 34.63%, train loss: 1.648, valid acc: 35.38%, valid loss: 1.645\n",
      "Epoch 21: 3.47 min elapsed, train acc: 34.84%, train loss: 1.642, valid acc: 35.18%, valid loss: 1.647\n",
      "Epoch 22: 3.64 min elapsed, train acc: 34.98%, train loss: 1.638, valid acc: 35.56%, valid loss: 1.642\n",
      "Epoch 23: 3.78 min elapsed, train acc: 34.9%, train loss: 1.64, valid acc: 33.29%, valid loss: 1.652\n",
      "Epoch 24: 3.95 min elapsed, train acc: 35.0%, train loss: 1.641, valid acc: 36.03%, valid loss: 1.657\n",
      "Epoch 25: 4.09 min elapsed, train acc: 34.82%, train loss: 1.639, valid acc: 35.59%, valid loss: 1.638\n",
      "Epoch 26: 4.24 min elapsed, train acc: 34.98%, train loss: 1.635, valid acc: 35.43%, valid loss: 1.654\n",
      "Epoch 27: 4.38 min elapsed, train acc: 34.84%, train loss: 1.637, valid acc: 35.79%, valid loss: 1.638\n",
      "Epoch 28: 4.52 min elapsed, train acc: 35.17%, train loss: 1.633, valid acc: 36.0%, valid loss: 1.636\n",
      "Epoch 29: 4.66 min elapsed, train acc: 35.45%, train loss: 1.627, valid acc: 35.13%, valid loss: 1.65\n",
      "Epoch 30: 4.8 min elapsed, train acc: 35.04%, train loss: 1.634, valid acc: 35.14%, valid loss: 1.634\n",
      "Epoch 31: 4.97 min elapsed, train acc: 34.85%, train loss: 1.637, valid acc: 36.36%, valid loss: 1.636\n",
      "Epoch 32: 5.1 min elapsed, train acc: 35.53%, train loss: 1.628, valid acc: 35.52%, valid loss: 1.634\n",
      "Epoch 33: 5.25 min elapsed, train acc: 35.34%, train loss: 1.631, valid acc: 35.78%, valid loss: 1.632\n",
      "Epoch 34: 5.39 min elapsed, train acc: 35.04%, train loss: 1.634, valid acc: 35.29%, valid loss: 1.632\n",
      "Epoch 35: 5.53 min elapsed, train acc: 35.27%, train loss: 1.628, valid acc: 34.95%, valid loss: 1.642\n",
      "Epoch 36: 5.67 min elapsed, train acc: 35.22%, train loss: 1.627, valid acc: 34.49%, valid loss: 1.653\n",
      "Epoch 37: 5.81 min elapsed, train acc: 35.26%, train loss: 1.63, valid acc: 35.7%, valid loss: 1.631\n",
      "Epoch 38: 5.95 min elapsed, train acc: 35.63%, train loss: 1.624, valid acc: 34.93%, valid loss: 1.637\n",
      "Epoch 39: 6.08 min elapsed, train acc: 35.56%, train loss: 1.622, valid acc: 34.45%, valid loss: 1.653\n",
      "Epoch 40: 6.22 min elapsed, train acc: 35.58%, train loss: 1.621, valid acc: 34.73%, valid loss: 1.629\n",
      "Epoch 41: 6.36 min elapsed, train acc: 34.87%, train loss: 1.632, valid acc: 33.49%, valid loss: 1.643\n"
     ]
    },
    {
     "name": "stderr",
     "output_type": "stream",
     "text": [
      "\u001b[32m[I 2021-11-08 00:35:56,173]\u001b[0m Trial 0 finished with value: 0.3615342010523401 and parameters: {'conv1_out_ch': 2, 'conv2_out_ch': 20, 'dropout_rate': 0.5, 'optimizer': 'Adam', 'lr': 2.8934785942933613e-05, 'weight_decay': 0.021465609872043094, 'batch_size': 384}. Best is trial 0 with value: 0.3615342010523401.\u001b[0m\n"
     ]
    },
    {
     "name": "stdout",
     "output_type": "stream",
     "text": [
      "Epoch 42: 6.5 min elapsed, train acc: 35.72%, train loss: 1.62, valid acc: 36.15%, valid loss: 1.624\n",
      "########################################################\n",
      "Finish model tuning\n",
      "Best epoch is 31, Accuracy: 0.36361118803655496, Loss: 1.635827240191008\n",
      "########################################################\n",
      "Memory Usage:\n",
      "Allocated: 1.2 GB\n",
      "Cached:    1.3 GB\n",
      "Epoch 0: 0.15 min elapsed, train acc: 12.36%, train loss: 1.942, valid acc: 11.04%, valid loss: 1.941\n",
      "Epoch 1: 0.29 min elapsed, train acc: 12.83%, train loss: 1.941, valid acc: 10.79%, valid loss: 1.941\n",
      "Epoch 2: 0.43 min elapsed, train acc: 13.25%, train loss: 1.941, valid acc: 10.77%, valid loss: 1.941\n",
      "Epoch 3: 0.56 min elapsed, train acc: 13.03%, train loss: 1.94, valid acc: 10.97%, valid loss: 1.94\n",
      "Epoch 4: 0.69 min elapsed, train acc: 13.85%, train loss: 1.94, valid acc: 11.04%, valid loss: 1.94\n",
      "Epoch 5: 0.85 min elapsed, train acc: 14.02%, train loss: 1.94, valid acc: 11.08%, valid loss: 1.94\n",
      "Epoch 6: 1.01 min elapsed, train acc: 14.43%, train loss: 1.939, valid acc: 11.56%, valid loss: 1.939\n",
      "Epoch 7: 1.18 min elapsed, train acc: 14.96%, train loss: 1.939, valid acc: 12.85%, valid loss: 1.939\n",
      "Epoch 8: 1.34 min elapsed, train acc: 15.4%, train loss: 1.939, valid acc: 14.04%, valid loss: 1.939\n",
      "Epoch 9: 1.51 min elapsed, train acc: 15.62%, train loss: 1.938, valid acc: 15.65%, valid loss: 1.938\n",
      "Epoch 10: 1.68 min elapsed, train acc: 16.05%, train loss: 1.938, valid acc: 17.45%, valid loss: 1.938\n",
      "Epoch 11: 1.84 min elapsed, train acc: 16.73%, train loss: 1.938, valid acc: 19.54%, valid loss: 1.938\n",
      "Epoch 12: 2.01 min elapsed, train acc: 18.12%, train loss: 1.937, valid acc: 21.38%, valid loss: 1.937\n",
      "Epoch 13: 2.17 min elapsed, train acc: 18.01%, train loss: 1.937, valid acc: 22.92%, valid loss: 1.937\n",
      "Epoch 14: 2.34 min elapsed, train acc: 18.94%, train loss: 1.937, valid acc: 23.94%, valid loss: 1.937\n",
      "Epoch 15: 2.52 min elapsed, train acc: 19.4%, train loss: 1.936, valid acc: 24.59%, valid loss: 1.936\n",
      "Epoch 16: 2.68 min elapsed, train acc: 20.29%, train loss: 1.936, valid acc: 24.9%, valid loss: 1.936\n",
      "Epoch 17: 2.87 min elapsed, train acc: 20.18%, train loss: 1.936, valid acc: 25.13%, valid loss: 1.936\n",
      "Epoch 18: 3.03 min elapsed, train acc: 20.98%, train loss: 1.935, valid acc: 25.19%, valid loss: 1.935\n",
      "Epoch 19: 3.17 min elapsed, train acc: 21.82%, train loss: 1.935, valid acc: 25.19%, valid loss: 1.935\n",
      "Epoch 20: 3.31 min elapsed, train acc: 21.83%, train loss: 1.935, valid acc: 25.19%, valid loss: 1.935\n",
      "Epoch 21: 3.44 min elapsed, train acc: 22.85%, train loss: 1.935, valid acc: 25.19%, valid loss: 1.934\n",
      "Epoch 22: 3.57 min elapsed, train acc: 22.82%, train loss: 1.934, valid acc: 25.19%, valid loss: 1.934\n",
      "Epoch 23: 3.7 min elapsed, train acc: 23.23%, train loss: 1.934, valid acc: 25.19%, valid loss: 1.934\n",
      "Epoch 24: 3.84 min elapsed, train acc: 23.51%, train loss: 1.934, valid acc: 25.19%, valid loss: 1.933\n",
      "Epoch 25: 3.97 min elapsed, train acc: 23.86%, train loss: 1.933, valid acc: 25.19%, valid loss: 1.933\n",
      "Epoch 26: 4.1 min elapsed, train acc: 23.85%, train loss: 1.933, valid acc: 25.19%, valid loss: 1.933\n",
      "Epoch 27: 4.23 min elapsed, train acc: 24.21%, train loss: 1.933, valid acc: 25.19%, valid loss: 1.932\n",
      "Epoch 28: 4.37 min elapsed, train acc: 24.54%, train loss: 1.932, valid acc: 25.19%, valid loss: 1.932\n"
     ]
    },
    {
     "name": "stderr",
     "output_type": "stream",
     "text": [
      "\u001b[32m[I 2021-11-08 00:40:27,145]\u001b[0m Trial 1 finished with value: 0.2518692882857934 and parameters: {'conv1_out_ch': 6, 'conv2_out_ch': 20, 'dropout_rate': 0.4, 'optimizer': 'SGD', 'lr': 9.740962768481644e-05, 'weight_decay': 0.04555984877823384, 'batch_size': 320}. Best is trial 0 with value: 0.3615342010523401.\u001b[0m\n"
     ]
    },
    {
     "name": "stdout",
     "output_type": "stream",
     "text": [
      "Epoch 29: 4.5 min elapsed, train acc: 24.61%, train loss: 1.932, valid acc: 25.19%, valid loss: 1.932\n",
      "########################################################\n",
      "Finish model tuning\n",
      "Best epoch is 18, Accuracy: 0.2518692882857934, Loss: 1.93523893667304\n",
      "########################################################\n",
      "Memory Usage:\n",
      "Allocated: 0.6 GB\n",
      "Cached:    0.6 GB\n",
      "Epoch 0: 0.15 min elapsed, train acc: 14.22%, train loss: 1.945, valid acc: 14.32%, valid loss: 1.945\n",
      "Epoch 1: 0.28 min elapsed, train acc: 14.29%, train loss: 1.945, valid acc: 14.32%, valid loss: 1.945\n",
      "Epoch 2: 0.41 min elapsed, train acc: 14.4%, train loss: 1.945, valid acc: 14.32%, valid loss: 1.945\n",
      "Epoch 3: 0.53 min elapsed, train acc: 14.2%, train loss: 1.945, valid acc: 14.32%, valid loss: 1.945\n",
      "Epoch 4: 0.66 min elapsed, train acc: 14.27%, train loss: 1.944, valid acc: 14.32%, valid loss: 1.945\n",
      "Epoch 5: 0.78 min elapsed, train acc: 14.3%, train loss: 1.944, valid acc: 14.32%, valid loss: 1.944\n",
      "Epoch 6: 0.91 min elapsed, train acc: 14.25%, train loss: 1.944, valid acc: 14.32%, valid loss: 1.944\n",
      "Epoch 7: 1.03 min elapsed, train acc: 14.31%, train loss: 1.944, valid acc: 14.32%, valid loss: 1.944\n",
      "Epoch 8: 1.16 min elapsed, train acc: 14.27%, train loss: 1.944, valid acc: 14.32%, valid loss: 1.944\n",
      "Epoch 9: 1.29 min elapsed, train acc: 14.31%, train loss: 1.944, valid acc: 14.32%, valid loss: 1.944\n",
      "Epoch 10: 1.41 min elapsed, train acc: 14.1%, train loss: 1.943, valid acc: 14.32%, valid loss: 1.943\n"
     ]
    },
    {
     "name": "stderr",
     "output_type": "stream",
     "text": [
      "\u001b[32m[I 2021-11-08 00:42:00,336]\u001b[0m Trial 2 finished with value: 0.14317363611188036 and parameters: {'conv1_out_ch': 2, 'conv2_out_ch': 20, 'dropout_rate': 0.30000000000000004, 'optimizer': 'SGD', 'lr': 4.7967331602518885e-05, 'weight_decay': 0.07777423090855022, 'batch_size': 320}. Best is trial 0 with value: 0.3615342010523401.\u001b[0m\n"
     ]
    },
    {
     "name": "stdout",
     "output_type": "stream",
     "text": [
      "Epoch 11: 1.54 min elapsed, train acc: 14.22%, train loss: 1.943, valid acc: 14.32%, valid loss: 1.943\n",
      "########################################################\n",
      "Finish model tuning\n",
      "Best epoch is 0, Accuracy: 0.14317363611188036, Loss: 1.9453069593595422\n",
      "########################################################\n",
      "Memory Usage:\n",
      "Allocated: 0.6 GB\n",
      "Cached:    0.6 GB\n",
      "Epoch 0: 0.15 min elapsed, train acc: 13.05%, train loss: 1.943, valid acc: 13.85%, valid loss: 1.942\n",
      "Epoch 1: 0.3 min elapsed, train acc: 13.29%, train loss: 1.942, valid acc: 13.87%, valid loss: 1.941\n",
      "Epoch 2: 0.44 min elapsed, train acc: 13.6%, train loss: 1.941, valid acc: 13.87%, valid loss: 1.94\n",
      "Epoch 3: 0.57 min elapsed, train acc: 13.83%, train loss: 1.94, valid acc: 13.87%, valid loss: 1.94\n",
      "Epoch 4: 0.69 min elapsed, train acc: 13.98%, train loss: 1.94, valid acc: 13.87%, valid loss: 1.939\n",
      "Epoch 5: 0.84 min elapsed, train acc: 17.7%, train loss: 1.939, valid acc: 25.19%, valid loss: 1.939\n",
      "Epoch 6: 0.97 min elapsed, train acc: 24.97%, train loss: 1.938, valid acc: 25.19%, valid loss: 1.938\n",
      "Epoch 7: 1.1 min elapsed, train acc: 25.2%, train loss: 1.938, valid acc: 25.19%, valid loss: 1.937\n",
      "Epoch 8: 1.22 min elapsed, train acc: 25.23%, train loss: 1.937, valid acc: 25.19%, valid loss: 1.937\n",
      "Epoch 9: 1.34 min elapsed, train acc: 25.18%, train loss: 1.937, valid acc: 25.19%, valid loss: 1.936\n",
      "Epoch 10: 1.47 min elapsed, train acc: 25.25%, train loss: 1.936, valid acc: 25.19%, valid loss: 1.936\n",
      "Epoch 11: 1.6 min elapsed, train acc: 25.13%, train loss: 1.936, valid acc: 25.19%, valid loss: 1.935\n",
      "Epoch 12: 1.72 min elapsed, train acc: 25.19%, train loss: 1.935, valid acc: 25.19%, valid loss: 1.935\n",
      "Epoch 13: 1.84 min elapsed, train acc: 25.25%, train loss: 1.935, valid acc: 25.19%, valid loss: 1.935\n",
      "Epoch 14: 1.97 min elapsed, train acc: 25.19%, train loss: 1.934, valid acc: 25.19%, valid loss: 1.934\n",
      "Epoch 15: 2.09 min elapsed, train acc: 25.19%, train loss: 1.934, valid acc: 25.19%, valid loss: 1.934\n"
     ]
    },
    {
     "name": "stderr",
     "output_type": "stream",
     "text": [
      "\u001b[32m[I 2021-11-08 00:44:14,029]\u001b[0m Trial 3 finished with value: 0.2518692882857934 and parameters: {'conv1_out_ch': 6, 'conv2_out_ch': 20, 'dropout_rate': 0.30000000000000004, 'optimizer': 'SGD', 'lr': 0.0009634073709221419, 'weight_decay': 1.7915452274615082, 'batch_size': 448}. Best is trial 0 with value: 0.3615342010523401.\u001b[0m\n"
     ]
    },
    {
     "name": "stdout",
     "output_type": "stream",
     "text": [
      "Epoch 16: 2.21 min elapsed, train acc: 25.2%, train loss: 1.934, valid acc: 25.19%, valid loss: 1.934\n",
      "########################################################\n",
      "Finish model tuning\n",
      "Best epoch is 5, Accuracy: 0.2518692882857934, Loss: 1.9386002105825089\n",
      "########################################################\n",
      "Memory Usage:\n",
      "Allocated: 0.6 GB\n",
      "Cached:    0.6 GB\n",
      "Epoch 0: 0.19 min elapsed, train acc: 24.98%, train loss: 1.883, valid acc: 25.19%, valid loss: 1.851\n",
      "Epoch 1: 0.36 min elapsed, train acc: 25.2%, train loss: 1.838, valid acc: 25.19%, valid loss: 1.834\n",
      "Epoch 2: 0.53 min elapsed, train acc: 25.15%, train loss: 1.838, valid acc: 25.19%, valid loss: 1.84\n",
      "Epoch 3: 0.69 min elapsed, train acc: 25.25%, train loss: 1.839, valid acc: 25.19%, valid loss: 1.83\n",
      "Epoch 4: 0.85 min elapsed, train acc: 25.17%, train loss: 1.838, valid acc: 25.19%, valid loss: 1.83\n",
      "Epoch 5: 1.01 min elapsed, train acc: 25.17%, train loss: 1.837, valid acc: 25.19%, valid loss: 1.842\n",
      "Epoch 6: 1.17 min elapsed, train acc: 25.19%, train loss: 1.837, valid acc: 25.19%, valid loss: 1.848\n",
      "Epoch 7: 1.33 min elapsed, train acc: 25.15%, train loss: 1.839, valid acc: 25.19%, valid loss: 1.852\n",
      "Epoch 8: 1.5 min elapsed, train acc: 25.12%, train loss: 1.84, valid acc: 25.19%, valid loss: 1.835\n",
      "Epoch 9: 1.66 min elapsed, train acc: 25.12%, train loss: 1.836, valid acc: 25.19%, valid loss: 1.838\n",
      "Epoch 10: 1.82 min elapsed, train acc: 25.22%, train loss: 1.837, valid acc: 25.19%, valid loss: 1.835\n"
     ]
    },
    {
     "name": "stderr",
     "output_type": "stream",
     "text": [
      "\u001b[32m[I 2021-11-08 00:46:13,960]\u001b[0m Trial 4 finished with value: 0.2518692882857934 and parameters: {'conv1_out_ch': 6, 'conv2_out_ch': 32, 'dropout_rate': 0.1, 'optimizer': 'Adam', 'lr': 0.000633765521352718, 'weight_decay': 0.21664420449884755, 'batch_size': 448}. Best is trial 0 with value: 0.3615342010523401.\u001b[0m\n"
     ]
    },
    {
     "name": "stdout",
     "output_type": "stream",
     "text": [
      "Epoch 11: 1.98 min elapsed, train acc: 25.21%, train loss: 1.837, valid acc: 25.19%, valid loss: 1.845\n",
      "########################################################\n",
      "Finish model tuning\n",
      "Best epoch is 0, Accuracy: 0.2518692882857934, Loss: 1.8512150469948263\n",
      "########################################################\n",
      "Memory Usage:\n",
      "Allocated: 1.7 GB\n",
      "Cached:    1.7 GB\n",
      "Epoch 0: 0.2 min elapsed, train acc: 17.15%, train loss: 1.942, valid acc: 17.16%, valid loss: 1.941\n",
      "Epoch 1: 0.38 min elapsed, train acc: 17.15%, train loss: 1.941, valid acc: 17.16%, valid loss: 1.941\n",
      "Epoch 2: 0.56 min elapsed, train acc: 17.15%, train loss: 1.94, valid acc: 17.16%, valid loss: 1.94\n",
      "Epoch 3: 0.73 min elapsed, train acc: 17.17%, train loss: 1.94, valid acc: 17.16%, valid loss: 1.94\n",
      "Epoch 4: 0.9 min elapsed, train acc: 17.17%, train loss: 1.939, valid acc: 17.16%, valid loss: 1.939\n",
      "Epoch 5: 1.07 min elapsed, train acc: 17.15%, train loss: 1.939, valid acc: 17.16%, valid loss: 1.939\n",
      "Epoch 6: 1.24 min elapsed, train acc: 17.14%, train loss: 1.939, valid acc: 17.16%, valid loss: 1.938\n",
      "Epoch 7: 1.42 min elapsed, train acc: 17.15%, train loss: 1.938, valid acc: 17.16%, valid loss: 1.938\n",
      "Epoch 8: 1.59 min elapsed, train acc: 17.13%, train loss: 1.938, valid acc: 17.16%, valid loss: 1.938\n",
      "Epoch 9: 1.76 min elapsed, train acc: 17.17%, train loss: 1.938, valid acc: 17.16%, valid loss: 1.937\n",
      "Epoch 10: 1.97 min elapsed, train acc: 22.95%, train loss: 1.937, valid acc: 25.19%, valid loss: 1.937\n",
      "Epoch 11: 2.14 min elapsed, train acc: 25.19%, train loss: 1.937, valid acc: 25.19%, valid loss: 1.937\n",
      "Epoch 12: 2.32 min elapsed, train acc: 25.15%, train loss: 1.937, valid acc: 25.19%, valid loss: 1.937\n",
      "Epoch 13: 2.49 min elapsed, train acc: 25.21%, train loss: 1.937, valid acc: 25.19%, valid loss: 1.936\n",
      "Epoch 14: 2.66 min elapsed, train acc: 25.17%, train loss: 1.936, valid acc: 25.19%, valid loss: 1.936\n",
      "Epoch 15: 2.83 min elapsed, train acc: 25.15%, train loss: 1.936, valid acc: 25.19%, valid loss: 1.936\n",
      "Epoch 16: 3.0 min elapsed, train acc: 25.2%, train loss: 1.936, valid acc: 25.19%, valid loss: 1.936\n",
      "Epoch 17: 3.17 min elapsed, train acc: 25.18%, train loss: 1.936, valid acc: 25.19%, valid loss: 1.936\n",
      "Epoch 18: 3.34 min elapsed, train acc: 25.19%, train loss: 1.936, valid acc: 25.19%, valid loss: 1.936\n",
      "Epoch 19: 3.51 min elapsed, train acc: 25.19%, train loss: 1.935, valid acc: 25.19%, valid loss: 1.935\n",
      "Epoch 20: 3.68 min elapsed, train acc: 25.18%, train loss: 1.935, valid acc: 25.19%, valid loss: 1.935\n"
     ]
    },
    {
     "name": "stderr",
     "output_type": "stream",
     "text": [
      "\u001b[32m[I 2021-11-08 00:50:06,353]\u001b[0m Trial 5 pruned. \u001b[0m\n"
     ]
    },
    {
     "name": "stdout",
     "output_type": "stream",
     "text": [
      "Epoch 21: 3.85 min elapsed, train acc: 25.17%, train loss: 1.935, valid acc: 25.19%, valid loss: 1.935\n",
      "########################################################\n",
      "Finish model tuning\n",
      "Best epoch is 10, Accuracy: 0.2518692882857934, Loss: 1.9371697125227556\n",
      "########################################################\n",
      "Epoch 0: 0.15 min elapsed, train acc: 17.45%, train loss: 1.939, valid acc: 21.42%, valid loss: 1.936\n",
      "Epoch 1: 0.29 min elapsed, train acc: 18.36%, train loss: 1.937, valid acc: 17.13%, valid loss: 1.938\n",
      "Epoch 2: 0.43 min elapsed, train acc: 17.14%, train loss: 1.939, valid acc: 17.16%, valid loss: 1.94\n",
      "Epoch 3: 0.56 min elapsed, train acc: 17.16%, train loss: 1.94, valid acc: 17.16%, valid loss: 1.939\n",
      "Epoch 4: 0.69 min elapsed, train acc: 17.16%, train loss: 1.939, valid acc: 17.16%, valid loss: 1.939\n",
      "Epoch 5: 0.82 min elapsed, train acc: 17.16%, train loss: 1.939, valid acc: 17.16%, valid loss: 1.938\n",
      "Epoch 6: 0.96 min elapsed, train acc: 17.14%, train loss: 1.938, valid acc: 17.16%, valid loss: 1.938\n",
      "Epoch 7: 1.09 min elapsed, train acc: 17.17%, train loss: 1.938, valid acc: 17.16%, valid loss: 1.937\n",
      "Epoch 8: 1.22 min elapsed, train acc: 17.19%, train loss: 1.937, valid acc: 17.16%, valid loss: 1.937\n",
      "Epoch 9: 1.35 min elapsed, train acc: 17.11%, train loss: 1.937, valid acc: 17.16%, valid loss: 1.936\n",
      "Epoch 10: 1.49 min elapsed, train acc: 17.18%, train loss: 1.936, valid acc: 17.16%, valid loss: 1.936\n"
     ]
    },
    {
     "name": "stderr",
     "output_type": "stream",
     "text": [
      "\u001b[32m[I 2021-11-08 00:51:44,275]\u001b[0m Trial 6 pruned. \u001b[0m\n"
     ]
    },
    {
     "name": "stdout",
     "output_type": "stream",
     "text": [
      "Epoch 11: 1.62 min elapsed, train acc: 17.2%, train loss: 1.935, valid acc: 17.16%, valid loss: 1.935\n",
      "########################################################\n",
      "Finish model tuning\n",
      "Best epoch is 0, Accuracy: 0.2142065909720299, Loss: 1.9360520024048655\n",
      "########################################################\n",
      "Epoch 0: 0.16 min elapsed, train acc: 15.37%, train loss: 1.945, valid acc: 15.43%, valid loss: 1.944\n",
      "Epoch 1: 0.33 min elapsed, train acc: 16.01%, train loss: 1.943, valid acc: 15.95%, valid loss: 1.943\n",
      "Epoch 2: 0.51 min elapsed, train acc: 16.29%, train loss: 1.942, valid acc: 16.08%, valid loss: 1.941\n",
      "Epoch 3: 0.68 min elapsed, train acc: 16.61%, train loss: 1.941, valid acc: 16.57%, valid loss: 1.94\n",
      "Epoch 4: 0.82 min elapsed, train acc: 16.72%, train loss: 1.94, valid acc: 16.56%, valid loss: 1.939\n",
      "Epoch 5: 1.0 min elapsed, train acc: 16.82%, train loss: 1.939, valid acc: 16.84%, valid loss: 1.938\n",
      "Epoch 6: 1.17 min elapsed, train acc: 16.97%, train loss: 1.937, valid acc: 16.99%, valid loss: 1.936\n",
      "Epoch 7: 1.35 min elapsed, train acc: 16.97%, train loss: 1.936, valid acc: 17.05%, valid loss: 1.935\n",
      "Epoch 8: 1.48 min elapsed, train acc: 17.15%, train loss: 1.935, valid acc: 16.96%, valid loss: 1.934\n",
      "Epoch 9: 1.63 min elapsed, train acc: 17.22%, train loss: 1.934, valid acc: 17.0%, valid loss: 1.933\n",
      "Epoch 10: 1.8 min elapsed, train acc: 17.09%, train loss: 1.933, valid acc: 17.16%, valid loss: 1.932\n",
      "Epoch 11: 1.97 min elapsed, train acc: 17.3%, train loss: 1.931, valid acc: 17.38%, valid loss: 1.931\n",
      "Epoch 12: 2.14 min elapsed, train acc: 17.32%, train loss: 1.93, valid acc: 17.46%, valid loss: 1.929\n",
      "Epoch 13: 2.34 min elapsed, train acc: 17.33%, train loss: 1.929, valid acc: 17.85%, valid loss: 1.928\n",
      "Epoch 14: 2.52 min elapsed, train acc: 17.75%, train loss: 1.928, valid acc: 17.86%, valid loss: 1.927\n",
      "Epoch 15: 2.7 min elapsed, train acc: 18.45%, train loss: 1.927, valid acc: 18.58%, valid loss: 1.926\n",
      "Epoch 16: 2.87 min elapsed, train acc: 19.39%, train loss: 1.926, valid acc: 19.7%, valid loss: 1.925\n",
      "Epoch 17: 3.04 min elapsed, train acc: 20.21%, train loss: 1.924, valid acc: 20.4%, valid loss: 1.924\n",
      "Epoch 18: 3.21 min elapsed, train acc: 21.02%, train loss: 1.923, valid acc: 21.06%, valid loss: 1.922\n",
      "Epoch 19: 3.38 min elapsed, train acc: 22.06%, train loss: 1.922, valid acc: 21.99%, valid loss: 1.921\n",
      "Epoch 20: 3.57 min elapsed, train acc: 22.7%, train loss: 1.921, valid acc: 22.81%, valid loss: 1.92\n",
      "Epoch 21: 3.74 min elapsed, train acc: 23.35%, train loss: 1.92, valid acc: 23.44%, valid loss: 1.919\n",
      "Epoch 22: 3.9 min elapsed, train acc: 23.97%, train loss: 1.918, valid acc: 24.04%, valid loss: 1.918\n",
      "Epoch 23: 4.08 min elapsed, train acc: 24.54%, train loss: 1.917, valid acc: 24.52%, valid loss: 1.916\n",
      "Epoch 24: 4.25 min elapsed, train acc: 24.92%, train loss: 1.916, valid acc: 24.85%, valid loss: 1.915\n",
      "Epoch 25: 4.42 min elapsed, train acc: 25.1%, train loss: 1.915, valid acc: 24.92%, valid loss: 1.914\n",
      "Epoch 26: 4.6 min elapsed, train acc: 25.23%, train loss: 1.914, valid acc: 25.09%, valid loss: 1.913\n",
      "Epoch 27: 4.77 min elapsed, train acc: 25.17%, train loss: 1.912, valid acc: 25.17%, valid loss: 1.911\n",
      "Epoch 28: 4.95 min elapsed, train acc: 25.14%, train loss: 1.911, valid acc: 25.19%, valid loss: 1.91\n",
      "Epoch 29: 5.08 min elapsed, train acc: 25.15%, train loss: 1.91, valid acc: 25.19%, valid loss: 1.909\n",
      "Epoch 30: 5.26 min elapsed, train acc: 25.13%, train loss: 1.908, valid acc: 25.2%, valid loss: 1.908\n",
      "Epoch 31: 5.4 min elapsed, train acc: 25.24%, train loss: 1.907, valid acc: 25.2%, valid loss: 1.906\n",
      "Epoch 32: 5.54 min elapsed, train acc: 25.18%, train loss: 1.906, valid acc: 25.2%, valid loss: 1.905\n",
      "Epoch 33: 5.68 min elapsed, train acc: 25.21%, train loss: 1.904, valid acc: 25.2%, valid loss: 1.904\n",
      "Epoch 34: 5.81 min elapsed, train acc: 25.16%, train loss: 1.903, valid acc: 25.2%, valid loss: 1.902\n",
      "Epoch 35: 5.95 min elapsed, train acc: 25.13%, train loss: 1.902, valid acc: 25.2%, valid loss: 1.901\n",
      "Epoch 36: 6.08 min elapsed, train acc: 25.15%, train loss: 1.9, valid acc: 25.2%, valid loss: 1.9\n",
      "Epoch 37: 6.21 min elapsed, train acc: 25.12%, train loss: 1.899, valid acc: 25.2%, valid loss: 1.898\n",
      "Epoch 38: 6.35 min elapsed, train acc: 25.15%, train loss: 1.898, valid acc: 25.19%, valid loss: 1.897\n",
      "Epoch 39: 6.48 min elapsed, train acc: 25.14%, train loss: 1.896, valid acc: 25.19%, valid loss: 1.895\n",
      "Epoch 40: 6.62 min elapsed, train acc: 25.12%, train loss: 1.895, valid acc: 25.19%, valid loss: 1.894\n"
     ]
    },
    {
     "name": "stderr",
     "output_type": "stream",
     "text": [
      "\u001b[32m[I 2021-11-08 00:58:30,320]\u001b[0m Trial 7 pruned. \u001b[0m\n"
     ]
    },
    {
     "name": "stdout",
     "output_type": "stream",
     "text": [
      "Epoch 41: 6.75 min elapsed, train acc: 25.21%, train loss: 1.893, valid acc: 25.19%, valid loss: 1.892\n",
      "########################################################\n",
      "Finish model tuning\n",
      "Best epoch is 30, Accuracy: 0.2520077540847411, Loss: 1.9076428974376005\n",
      "########################################################\n",
      "Epoch 0: 0.25 min elapsed, train acc: 25.49%, train loss: 1.806, valid acc: 25.81%, valid loss: 1.775\n",
      "Epoch 1: 0.51 min elapsed, train acc: 29.54%, train loss: 1.739, valid acc: 31.14%, valid loss: 1.715\n",
      "Epoch 2: 0.74 min elapsed, train acc: 33.06%, train loss: 1.691, valid acc: 29.31%, valid loss: 1.74\n",
      "Epoch 3: 0.99 min elapsed, train acc: 33.74%, train loss: 1.675, valid acc: 32.87%, valid loss: 1.676\n",
      "Epoch 4: 1.25 min elapsed, train acc: 34.06%, train loss: 1.668, valid acc: 34.85%, valid loss: 1.661\n",
      "Epoch 5: 1.51 min elapsed, train acc: 35.28%, train loss: 1.651, valid acc: 35.02%, valid loss: 1.651\n",
      "Epoch 6: 1.73 min elapsed, train acc: 35.33%, train loss: 1.647, valid acc: 33.47%, valid loss: 1.686\n",
      "Epoch 7: 1.95 min elapsed, train acc: 35.46%, train loss: 1.64, valid acc: 34.88%, valid loss: 1.653\n",
      "Epoch 8: 2.2 min elapsed, train acc: 36.04%, train loss: 1.631, valid acc: 35.52%, valid loss: 1.646\n",
      "Epoch 9: 2.46 min elapsed, train acc: 36.15%, train loss: 1.628, valid acc: 36.62%, valid loss: 1.635\n",
      "Epoch 10: 2.69 min elapsed, train acc: 36.08%, train loss: 1.626, valid acc: 36.61%, valid loss: 1.625\n",
      "Epoch 11: 2.92 min elapsed, train acc: 37.0%, train loss: 1.612, valid acc: 36.37%, valid loss: 1.631\n",
      "Epoch 12: 3.17 min elapsed, train acc: 36.37%, train loss: 1.619, valid acc: 36.68%, valid loss: 1.614\n",
      "Epoch 13: 3.43 min elapsed, train acc: 37.23%, train loss: 1.608, valid acc: 37.07%, valid loss: 1.615\n",
      "Epoch 14: 3.69 min elapsed, train acc: 37.61%, train loss: 1.602, valid acc: 37.94%, valid loss: 1.609\n",
      "Epoch 15: 3.92 min elapsed, train acc: 37.65%, train loss: 1.602, valid acc: 34.81%, valid loss: 1.638\n",
      "Epoch 16: 4.14 min elapsed, train acc: 37.43%, train loss: 1.599, valid acc: 37.16%, valid loss: 1.603\n",
      "Epoch 17: 4.39 min elapsed, train acc: 37.63%, train loss: 1.591, valid acc: 38.26%, valid loss: 1.603\n",
      "Epoch 18: 4.62 min elapsed, train acc: 37.99%, train loss: 1.587, valid acc: 38.15%, valid loss: 1.595\n",
      "Epoch 19: 4.84 min elapsed, train acc: 38.51%, train loss: 1.582, valid acc: 37.47%, valid loss: 1.609\n",
      "Epoch 20: 5.09 min elapsed, train acc: 38.54%, train loss: 1.579, valid acc: 38.85%, valid loss: 1.596\n",
      "Epoch 21: 5.32 min elapsed, train acc: 38.57%, train loss: 1.577, valid acc: 37.57%, valid loss: 1.593\n",
      "Epoch 22: 5.54 min elapsed, train acc: 38.5%, train loss: 1.575, valid acc: 37.75%, valid loss: 1.585\n",
      "Epoch 23: 5.77 min elapsed, train acc: 38.78%, train loss: 1.572, valid acc: 37.51%, valid loss: 1.586\n",
      "Epoch 24: 6.02 min elapsed, train acc: 38.63%, train loss: 1.569, valid acc: 39.24%, valid loss: 1.58\n",
      "Epoch 25: 6.25 min elapsed, train acc: 38.82%, train loss: 1.566, valid acc: 38.09%, valid loss: 1.585\n",
      "Epoch 26: 6.47 min elapsed, train acc: 38.84%, train loss: 1.562, valid acc: 38.7%, valid loss: 1.581\n",
      "Epoch 27: 6.68 min elapsed, train acc: 39.13%, train loss: 1.557, valid acc: 38.98%, valid loss: 1.572\n",
      "Epoch 28: 6.94 min elapsed, train acc: 39.43%, train loss: 1.556, valid acc: 39.44%, valid loss: 1.567\n",
      "Epoch 29: 7.16 min elapsed, train acc: 39.85%, train loss: 1.546, valid acc: 38.52%, valid loss: 1.576\n",
      "Epoch 30: 7.38 min elapsed, train acc: 39.83%, train loss: 1.546, valid acc: 38.88%, valid loss: 1.57\n",
      "Epoch 31: 7.64 min elapsed, train acc: 39.48%, train loss: 1.546, valid acc: 40.2%, valid loss: 1.562\n",
      "Epoch 32: 7.86 min elapsed, train acc: 39.97%, train loss: 1.539, valid acc: 39.38%, valid loss: 1.559\n",
      "Epoch 33: 8.09 min elapsed, train acc: 40.1%, train loss: 1.537, valid acc: 39.39%, valid loss: 1.556\n",
      "Epoch 34: 8.31 min elapsed, train acc: 39.98%, train loss: 1.534, valid acc: 39.37%, valid loss: 1.553\n",
      "Epoch 35: 8.56 min elapsed, train acc: 40.29%, train loss: 1.53, valid acc: 40.21%, valid loss: 1.549\n",
      "Epoch 36: 8.78 min elapsed, train acc: 40.42%, train loss: 1.526, valid acc: 39.26%, valid loss: 1.561\n",
      "Epoch 37: 9.01 min elapsed, train acc: 40.37%, train loss: 1.526, valid acc: 38.9%, valid loss: 1.56\n",
      "Epoch 38: 9.23 min elapsed, train acc: 40.5%, train loss: 1.523, valid acc: 39.73%, valid loss: 1.547\n",
      "Epoch 39: 9.45 min elapsed, train acc: 40.7%, train loss: 1.516, valid acc: 37.52%, valid loss: 1.582\n",
      "Epoch 40: 9.7 min elapsed, train acc: 40.85%, train loss: 1.517, valid acc: 40.57%, valid loss: 1.55\n",
      "Epoch 41: 9.93 min elapsed, train acc: 40.87%, train loss: 1.513, valid acc: 39.28%, valid loss: 1.545\n",
      "Epoch 42: 10.15 min elapsed, train acc: 41.23%, train loss: 1.51, valid acc: 40.24%, valid loss: 1.536\n",
      "Epoch 43: 10.37 min elapsed, train acc: 41.33%, train loss: 1.506, valid acc: 40.32%, valid loss: 1.535\n",
      "Epoch 44: 10.63 min elapsed, train acc: 41.44%, train loss: 1.503, valid acc: 40.6%, valid loss: 1.542\n",
      "Epoch 45: 10.86 min elapsed, train acc: 41.09%, train loss: 1.503, valid acc: 40.32%, valid loss: 1.542\n",
      "Epoch 46: 11.08 min elapsed, train acc: 41.76%, train loss: 1.5, valid acc: 38.8%, valid loss: 1.563\n",
      "Epoch 47: 11.33 min elapsed, train acc: 41.48%, train loss: 1.502, valid acc: 40.71%, valid loss: 1.536\n",
      "Epoch 48: 11.59 min elapsed, train acc: 41.71%, train loss: 1.494, valid acc: 41.47%, valid loss: 1.525\n",
      "Epoch 49: 11.82 min elapsed, train acc: 42.32%, train loss: 1.49, valid acc: 41.17%, valid loss: 1.523\n",
      "Epoch 50: 12.04 min elapsed, train acc: 41.84%, train loss: 1.493, valid acc: 39.86%, valid loss: 1.529\n",
      "Epoch 51: 12.26 min elapsed, train acc: 42.32%, train loss: 1.487, valid acc: 39.85%, valid loss: 1.538\n",
      "Epoch 52: 12.48 min elapsed, train acc: 41.61%, train loss: 1.491, valid acc: 41.04%, valid loss: 1.522\n",
      "Epoch 53: 12.71 min elapsed, train acc: 42.37%, train loss: 1.482, valid acc: 40.36%, valid loss: 1.556\n",
      "Epoch 54: 12.96 min elapsed, train acc: 42.23%, train loss: 1.484, valid acc: 41.96%, valid loss: 1.513\n",
      "Epoch 55: 13.19 min elapsed, train acc: 42.76%, train loss: 1.476, valid acc: 40.97%, valid loss: 1.52\n",
      "Epoch 56: 13.41 min elapsed, train acc: 42.54%, train loss: 1.477, valid acc: 40.58%, valid loss: 1.544\n",
      "Epoch 57: 13.63 min elapsed, train acc: 42.87%, train loss: 1.473, valid acc: 41.39%, valid loss: 1.522\n",
      "Epoch 58: 13.85 min elapsed, train acc: 42.83%, train loss: 1.47, valid acc: 39.23%, valid loss: 1.535\n",
      "Epoch 59: 14.08 min elapsed, train acc: 42.64%, train loss: 1.471, valid acc: 41.48%, valid loss: 1.519\n",
      "Epoch 60: 14.3 min elapsed, train acc: 42.69%, train loss: 1.471, valid acc: 40.35%, valid loss: 1.537\n",
      "Epoch 61: 14.52 min elapsed, train acc: 43.16%, train loss: 1.464, valid acc: 41.4%, valid loss: 1.505\n",
      "Epoch 62: 14.74 min elapsed, train acc: 43.43%, train loss: 1.461, valid acc: 41.91%, valid loss: 1.519\n",
      "Epoch 63: 14.96 min elapsed, train acc: 43.27%, train loss: 1.459, valid acc: 41.55%, valid loss: 1.507\n",
      "Epoch 64: 15.18 min elapsed, train acc: 43.42%, train loss: 1.455, valid acc: 41.58%, valid loss: 1.506\n"
     ]
    },
    {
     "name": "stderr",
     "output_type": "stream",
     "text": [
      "\u001b[32m[I 2021-11-08 01:13:55,372]\u001b[0m Trial 8 finished with value: 0.41276654666297424 and parameters: {'conv1_out_ch': 6, 'conv2_out_ch': 24, 'dropout_rate': 0.0, 'optimizer': 'Adam', 'lr': 3.084058260811155e-05, 'weight_decay': 0.029918417332554688, 'batch_size': 128}. Best is trial 8 with value: 0.41276654666297424.\u001b[0m\n"
     ]
    },
    {
     "name": "stdout",
     "output_type": "stream",
     "text": [
      "Epoch 65: 15.4 min elapsed, train acc: 43.75%, train loss: 1.454, valid acc: 41.28%, valid loss: 1.503\n",
      "########################################################\n",
      "Finish model tuning\n",
      "Best epoch is 54, Accuracy: 0.4195513708114096, Loss: 1.5128144172199987\n",
      "########################################################\n",
      "Memory Usage:\n",
      "Allocated: 1.4 GB\n",
      "Cached:    1.4 GB\n",
      "Epoch 0: 0.16 min elapsed, train acc: 14.27%, train loss: 1.947, valid acc: 14.25%, valid loss: 1.947\n",
      "Epoch 1: 0.32 min elapsed, train acc: 14.23%, train loss: 1.947, valid acc: 14.26%, valid loss: 1.947\n",
      "Epoch 2: 0.45 min elapsed, train acc: 14.21%, train loss: 1.947, valid acc: 14.26%, valid loss: 1.947\n",
      "Epoch 3: 0.62 min elapsed, train acc: 14.29%, train loss: 1.947, valid acc: 14.29%, valid loss: 1.947\n",
      "Epoch 4: 0.76 min elapsed, train acc: 14.3%, train loss: 1.947, valid acc: 14.29%, valid loss: 1.947\n",
      "Epoch 5: 0.92 min elapsed, train acc: 14.26%, train loss: 1.946, valid acc: 14.3%, valid loss: 1.947\n",
      "Epoch 6: 1.08 min elapsed, train acc: 14.32%, train loss: 1.946, valid acc: 14.33%, valid loss: 1.947\n",
      "Epoch 7: 1.22 min elapsed, train acc: 14.37%, train loss: 1.946, valid acc: 14.33%, valid loss: 1.946\n",
      "Epoch 8: 1.35 min elapsed, train acc: 14.31%, train loss: 1.946, valid acc: 14.33%, valid loss: 1.946\n",
      "Epoch 9: 1.48 min elapsed, train acc: 14.32%, train loss: 1.946, valid acc: 14.33%, valid loss: 1.946\n",
      "Epoch 10: 1.61 min elapsed, train acc: 14.35%, train loss: 1.946, valid acc: 14.33%, valid loss: 1.946\n",
      "Epoch 11: 1.74 min elapsed, train acc: 14.28%, train loss: 1.946, valid acc: 14.33%, valid loss: 1.946\n",
      "Epoch 12: 1.87 min elapsed, train acc: 14.32%, train loss: 1.946, valid acc: 14.32%, valid loss: 1.946\n",
      "Epoch 13: 2.0 min elapsed, train acc: 14.37%, train loss: 1.946, valid acc: 14.32%, valid loss: 1.946\n",
      "Epoch 14: 2.13 min elapsed, train acc: 14.3%, train loss: 1.946, valid acc: 14.3%, valid loss: 1.946\n",
      "Epoch 15: 2.25 min elapsed, train acc: 14.32%, train loss: 1.946, valid acc: 14.3%, valid loss: 1.946\n",
      "Epoch 16: 2.39 min elapsed, train acc: 14.35%, train loss: 1.945, valid acc: 14.3%, valid loss: 1.946\n"
     ]
    },
    {
     "name": "stderr",
     "output_type": "stream",
     "text": [
      "\u001b[32m[I 2021-11-08 01:16:27,185]\u001b[0m Trial 9 pruned. \u001b[0m\n"
     ]
    },
    {
     "name": "stdout",
     "output_type": "stream",
     "text": [
      "Epoch 17: 2.51 min elapsed, train acc: 14.35%, train loss: 1.945, valid acc: 14.3%, valid loss: 1.945\n",
      "########################################################\n",
      "Finish model tuning\n",
      "Best epoch is 6, Accuracy: 0.14331210191082802, Loss: 1.946529037812177\n",
      "########################################################\n",
      "Epoch 0: 0.42 min elapsed, train acc: 23.52%, train loss: 1.942, valid acc: 25.19%, valid loss: 1.941\n",
      "Epoch 1: 0.82 min elapsed, train acc: 25.19%, train loss: 1.941, valid acc: 25.19%, valid loss: 1.941\n",
      "Epoch 2: 1.21 min elapsed, train acc: 25.18%, train loss: 1.941, valid acc: 25.19%, valid loss: 1.941\n",
      "Epoch 3: 1.61 min elapsed, train acc: 25.17%, train loss: 1.942, valid acc: 25.19%, valid loss: 1.942\n",
      "Epoch 4: 2.0 min elapsed, train acc: 25.19%, train loss: 1.942, valid acc: 25.19%, valid loss: 1.942\n",
      "Epoch 5: 2.39 min elapsed, train acc: 25.18%, train loss: 1.942, valid acc: 25.19%, valid loss: 1.942\n",
      "Epoch 6: 2.79 min elapsed, train acc: 25.18%, train loss: 1.942, valid acc: 25.19%, valid loss: 1.942\n",
      "Epoch 7: 3.18 min elapsed, train acc: 25.18%, train loss: 1.942, valid acc: 25.19%, valid loss: 1.942\n",
      "Epoch 8: 3.58 min elapsed, train acc: 25.18%, train loss: 1.942, valid acc: 25.19%, valid loss: 1.942\n",
      "Epoch 9: 3.97 min elapsed, train acc: 25.18%, train loss: 1.943, valid acc: 25.19%, valid loss: 1.943\n",
      "Epoch 10: 4.36 min elapsed, train acc: 25.18%, train loss: 1.943, valid acc: 25.19%, valid loss: 1.943\n"
     ]
    },
    {
     "name": "stderr",
     "output_type": "stream",
     "text": [
      "\u001b[32m[I 2021-11-08 01:21:13,814]\u001b[0m Trial 10 finished with value: 0.2518692882857934 and parameters: {'conv1_out_ch': 4, 'conv2_out_ch': 28, 'dropout_rate': 0.2, 'optimizer': 'Adam', 'lr': 1.003733937289165e-05, 'weight_decay': 9.234399511505524, 'batch_size': 64}. Best is trial 8 with value: 0.41276654666297424.\u001b[0m\n"
     ]
    },
    {
     "name": "stdout",
     "output_type": "stream",
     "text": [
      "Epoch 11: 4.76 min elapsed, train acc: 25.19%, train loss: 1.943, valid acc: 25.19%, valid loss: 1.943\n",
      "########################################################\n",
      "Finish model tuning\n",
      "Best epoch is 0, Accuracy: 0.2518692882857934, Loss: 1.941369242372766\n",
      "########################################################\n",
      "Memory Usage:\n",
      "Allocated: 1.5 GB\n",
      "Cached:    1.6 GB\n",
      "Epoch 0: 0.23 min elapsed, train acc: 24.76%, train loss: 1.821, valid acc: 26.2%, valid loss: 1.78\n",
      "Epoch 1: 0.47 min elapsed, train acc: 28.43%, train loss: 1.754, valid acc: 30.63%, valid loss: 1.706\n",
      "Epoch 2: 0.71 min elapsed, train acc: 32.97%, train loss: 1.68, valid acc: 34.08%, valid loss: 1.658\n",
      "Epoch 3: 0.95 min elapsed, train acc: 35.37%, train loss: 1.645, valid acc: 35.68%, valid loss: 1.636\n",
      "Epoch 4: 1.19 min elapsed, train acc: 36.32%, train loss: 1.629, valid acc: 36.78%, valid loss: 1.641\n",
      "Epoch 5: 1.43 min elapsed, train acc: 36.82%, train loss: 1.612, valid acc: 37.19%, valid loss: 1.617\n",
      "Epoch 6: 1.64 min elapsed, train acc: 37.64%, train loss: 1.605, valid acc: 33.83%, valid loss: 1.645\n",
      "Epoch 7: 1.87 min elapsed, train acc: 37.77%, train loss: 1.599, valid acc: 37.4%, valid loss: 1.612\n",
      "Epoch 8: 2.12 min elapsed, train acc: 38.01%, train loss: 1.59, valid acc: 37.9%, valid loss: 1.613\n",
      "Epoch 9: 2.33 min elapsed, train acc: 38.53%, train loss: 1.588, valid acc: 37.8%, valid loss: 1.592\n",
      "Epoch 10: 2.53 min elapsed, train acc: 38.69%, train loss: 1.583, valid acc: 37.18%, valid loss: 1.618\n",
      "Epoch 11: 2.73 min elapsed, train acc: 38.49%, train loss: 1.579, valid acc: 37.48%, valid loss: 1.615\n",
      "Epoch 12: 2.96 min elapsed, train acc: 38.85%, train loss: 1.575, valid acc: 39.41%, valid loss: 1.578\n",
      "Epoch 13: 3.17 min elapsed, train acc: 39.26%, train loss: 1.567, valid acc: 39.05%, valid loss: 1.581\n",
      "Epoch 14: 3.38 min elapsed, train acc: 39.72%, train loss: 1.558, valid acc: 38.52%, valid loss: 1.587\n",
      "Epoch 15: 3.61 min elapsed, train acc: 39.16%, train loss: 1.562, valid acc: 39.52%, valid loss: 1.572\n",
      "Epoch 16: 3.85 min elapsed, train acc: 40.12%, train loss: 1.552, valid acc: 39.66%, valid loss: 1.573\n",
      "Epoch 17: 4.1 min elapsed, train acc: 39.96%, train loss: 1.548, valid acc: 39.85%, valid loss: 1.569\n",
      "Epoch 18: 4.3 min elapsed, train acc: 39.81%, train loss: 1.551, valid acc: 39.02%, valid loss: 1.572\n",
      "Epoch 19: 4.51 min elapsed, train acc: 40.35%, train loss: 1.539, valid acc: 39.82%, valid loss: 1.556\n",
      "Epoch 20: 4.75 min elapsed, train acc: 40.46%, train loss: 1.536, valid acc: 40.04%, valid loss: 1.556\n",
      "Epoch 21: 4.99 min elapsed, train acc: 40.83%, train loss: 1.531, valid acc: 40.29%, valid loss: 1.55\n",
      "Epoch 22: 5.21 min elapsed, train acc: 40.83%, train loss: 1.532, valid acc: 37.8%, valid loss: 1.576\n",
      "Epoch 23: 5.44 min elapsed, train acc: 41.0%, train loss: 1.523, valid acc: 40.5%, valid loss: 1.552\n",
      "Epoch 24: 5.66 min elapsed, train acc: 41.18%, train loss: 1.521, valid acc: 40.11%, valid loss: 1.539\n",
      "Epoch 25: 5.86 min elapsed, train acc: 41.71%, train loss: 1.512, valid acc: 40.07%, valid loss: 1.547\n",
      "Epoch 26: 6.07 min elapsed, train acc: 41.45%, train loss: 1.514, valid acc: 39.32%, valid loss: 1.556\n",
      "Epoch 27: 6.3 min elapsed, train acc: 41.76%, train loss: 1.51, valid acc: 41.17%, valid loss: 1.529\n",
      "Epoch 28: 6.51 min elapsed, train acc: 41.95%, train loss: 1.505, valid acc: 40.93%, valid loss: 1.533\n",
      "Epoch 29: 6.71 min elapsed, train acc: 42.07%, train loss: 1.499, valid acc: 39.95%, valid loss: 1.544\n",
      "Epoch 30: 6.91 min elapsed, train acc: 42.51%, train loss: 1.492, valid acc: 40.61%, valid loss: 1.536\n",
      "Epoch 31: 7.11 min elapsed, train acc: 42.29%, train loss: 1.492, valid acc: 40.78%, valid loss: 1.524\n",
      "Epoch 32: 7.32 min elapsed, train acc: 42.53%, train loss: 1.485, valid acc: 39.93%, valid loss: 1.538\n",
      "Epoch 33: 7.55 min elapsed, train acc: 42.87%, train loss: 1.479, valid acc: 41.4%, valid loss: 1.518\n",
      "Epoch 34: 7.75 min elapsed, train acc: 42.8%, train loss: 1.477, valid acc: 41.24%, valid loss: 1.517\n",
      "Epoch 35: 7.99 min elapsed, train acc: 43.21%, train loss: 1.472, valid acc: 42.05%, valid loss: 1.505\n",
      "Epoch 36: 8.2 min elapsed, train acc: 43.4%, train loss: 1.469, valid acc: 41.12%, valid loss: 1.507\n",
      "Epoch 37: 8.4 min elapsed, train acc: 43.62%, train loss: 1.464, valid acc: 41.69%, valid loss: 1.507\n",
      "Epoch 38: 8.6 min elapsed, train acc: 43.6%, train loss: 1.46, valid acc: 41.15%, valid loss: 1.506\n",
      "Epoch 39: 8.81 min elapsed, train acc: 43.68%, train loss: 1.459, valid acc: 41.75%, valid loss: 1.512\n",
      "Epoch 40: 9.01 min elapsed, train acc: 43.85%, train loss: 1.456, valid acc: 41.48%, valid loss: 1.5\n",
      "Epoch 41: 9.21 min elapsed, train acc: 43.83%, train loss: 1.448, valid acc: 41.58%, valid loss: 1.503\n",
      "Epoch 42: 9.45 min elapsed, train acc: 44.51%, train loss: 1.442, valid acc: 42.37%, valid loss: 1.495\n",
      "Epoch 43: 9.66 min elapsed, train acc: 44.16%, train loss: 1.446, valid acc: 41.89%, valid loss: 1.5\n",
      "Epoch 44: 9.86 min elapsed, train acc: 44.43%, train loss: 1.434, valid acc: 42.05%, valid loss: 1.494\n",
      "Epoch 45: 10.09 min elapsed, train acc: 45.35%, train loss: 1.429, valid acc: 42.55%, valid loss: 1.484\n",
      "Epoch 46: 10.31 min elapsed, train acc: 44.94%, train loss: 1.427, valid acc: 42.04%, valid loss: 1.505\n",
      "Epoch 47: 10.51 min elapsed, train acc: 45.14%, train loss: 1.42, valid acc: 42.14%, valid loss: 1.489\n",
      "Epoch 48: 10.74 min elapsed, train acc: 45.17%, train loss: 1.418, valid acc: 43.06%, valid loss: 1.483\n",
      "Epoch 49: 10.98 min elapsed, train acc: 45.87%, train loss: 1.407, valid acc: 43.16%, valid loss: 1.474\n",
      "Epoch 50: 11.19 min elapsed, train acc: 45.58%, train loss: 1.41, valid acc: 41.9%, valid loss: 1.493\n",
      "Epoch 51: 11.4 min elapsed, train acc: 46.0%, train loss: 1.399, valid acc: 42.07%, valid loss: 1.491\n",
      "Epoch 52: 11.63 min elapsed, train acc: 46.34%, train loss: 1.395, valid acc: 43.4%, valid loss: 1.473\n",
      "Epoch 53: 11.84 min elapsed, train acc: 46.59%, train loss: 1.393, valid acc: 43.38%, valid loss: 1.468\n",
      "Epoch 54: 12.05 min elapsed, train acc: 47.01%, train loss: 1.382, valid acc: 43.3%, valid loss: 1.467\n",
      "Epoch 55: 12.28 min elapsed, train acc: 46.86%, train loss: 1.382, valid acc: 43.76%, valid loss: 1.463\n",
      "Epoch 56: 12.49 min elapsed, train acc: 47.12%, train loss: 1.375, valid acc: 43.34%, valid loss: 1.459\n",
      "Epoch 57: 12.72 min elapsed, train acc: 47.25%, train loss: 1.369, valid acc: 44.05%, valid loss: 1.457\n",
      "Epoch 58: 12.93 min elapsed, train acc: 47.81%, train loss: 1.358, valid acc: 43.99%, valid loss: 1.451\n",
      "Epoch 59: 13.14 min elapsed, train acc: 47.55%, train loss: 1.363, valid acc: 43.71%, valid loss: 1.468\n",
      "Epoch 60: 13.4 min elapsed, train acc: 48.42%, train loss: 1.348, valid acc: 44.39%, valid loss: 1.452\n",
      "Epoch 61: 13.6 min elapsed, train acc: 48.67%, train loss: 1.343, valid acc: 44.32%, valid loss: 1.454\n",
      "Epoch 62: 13.81 min elapsed, train acc: 48.72%, train loss: 1.337, valid acc: 44.13%, valid loss: 1.446\n",
      "Epoch 63: 14.04 min elapsed, train acc: 48.92%, train loss: 1.332, valid acc: 44.72%, valid loss: 1.443\n",
      "Epoch 64: 14.25 min elapsed, train acc: 49.08%, train loss: 1.326, valid acc: 44.32%, valid loss: 1.45\n",
      "Epoch 65: 14.46 min elapsed, train acc: 49.33%, train loss: 1.32, valid acc: 44.39%, valid loss: 1.442\n",
      "Epoch 66: 14.66 min elapsed, train acc: 49.58%, train loss: 1.315, valid acc: 44.53%, valid loss: 1.436\n",
      "Epoch 67: 14.86 min elapsed, train acc: 49.78%, train loss: 1.306, valid acc: 44.61%, valid loss: 1.448\n",
      "Epoch 68: 15.07 min elapsed, train acc: 50.16%, train loss: 1.297, valid acc: 43.95%, valid loss: 1.457\n",
      "Epoch 69: 15.27 min elapsed, train acc: 50.27%, train loss: 1.292, valid acc: 42.58%, valid loss: 1.48\n",
      "Epoch 70: 15.47 min elapsed, train acc: 50.52%, train loss: 1.289, valid acc: 43.96%, valid loss: 1.445\n",
      "Epoch 71: 15.7 min elapsed, train acc: 51.41%, train loss: 1.27, valid acc: 44.97%, valid loss: 1.439\n",
      "Epoch 72: 15.95 min elapsed, train acc: 51.54%, train loss: 1.27, valid acc: 45.4%, valid loss: 1.421\n",
      "Epoch 73: 16.16 min elapsed, train acc: 52.14%, train loss: 1.258, valid acc: 45.4%, valid loss: 1.42\n",
      "Epoch 74: 16.36 min elapsed, train acc: 52.09%, train loss: 1.249, valid acc: 44.96%, valid loss: 1.43\n",
      "Epoch 75: 16.57 min elapsed, train acc: 52.13%, train loss: 1.246, valid acc: 44.25%, valid loss: 1.452\n",
      "Epoch 76: 16.77 min elapsed, train acc: 52.7%, train loss: 1.238, valid acc: 44.74%, valid loss: 1.429\n",
      "Epoch 77: 16.97 min elapsed, train acc: 53.2%, train loss: 1.225, valid acc: 45.35%, valid loss: 1.418\n",
      "Epoch 78: 17.2 min elapsed, train acc: 53.24%, train loss: 1.224, valid acc: 45.56%, valid loss: 1.418\n",
      "Epoch 79: 17.41 min elapsed, train acc: 54.04%, train loss: 1.205, valid acc: 44.46%, valid loss: 1.432\n",
      "Epoch 80: 17.61 min elapsed, train acc: 54.24%, train loss: 1.197, valid acc: 45.5%, valid loss: 1.417\n",
      "Epoch 81: 17.82 min elapsed, train acc: 54.76%, train loss: 1.186, valid acc: 44.43%, valid loss: 1.447\n",
      "Epoch 82: 18.02 min elapsed, train acc: 54.86%, train loss: 1.184, valid acc: 45.14%, valid loss: 1.433\n",
      "Epoch 83: 18.22 min elapsed, train acc: 55.57%, train loss: 1.17, valid acc: 44.79%, valid loss: 1.46\n",
      "Epoch 84: 18.42 min elapsed, train acc: 55.54%, train loss: 1.162, valid acc: 45.44%, valid loss: 1.428\n",
      "Epoch 85: 18.63 min elapsed, train acc: 56.49%, train loss: 1.146, valid acc: 45.36%, valid loss: 1.435\n",
      "Epoch 86: 18.86 min elapsed, train acc: 56.78%, train loss: 1.14, valid acc: 46.11%, valid loss: 1.419\n",
      "Epoch 87: 19.12 min elapsed, train acc: 56.95%, train loss: 1.129, valid acc: 46.33%, valid loss: 1.412\n",
      "Epoch 88: 19.33 min elapsed, train acc: 57.11%, train loss: 1.118, valid acc: 44.92%, valid loss: 1.455\n",
      "Epoch 89: 19.53 min elapsed, train acc: 57.65%, train loss: 1.109, valid acc: 46.07%, valid loss: 1.414\n",
      "Epoch 90: 19.74 min elapsed, train acc: 58.28%, train loss: 1.093, valid acc: 46.16%, valid loss: 1.422\n",
      "Epoch 91: 19.94 min elapsed, train acc: 58.51%, train loss: 1.089, valid acc: 46.32%, valid loss: 1.413\n",
      "Epoch 92: 20.14 min elapsed, train acc: 59.45%, train loss: 1.073, valid acc: 45.17%, valid loss: 1.443\n",
      "Epoch 93: 20.34 min elapsed, train acc: 59.76%, train loss: 1.061, valid acc: 46.18%, valid loss: 1.434\n",
      "Epoch 94: 20.54 min elapsed, train acc: 60.33%, train loss: 1.049, valid acc: 46.26%, valid loss: 1.443\n",
      "Epoch 95: 20.74 min elapsed, train acc: 60.74%, train loss: 1.038, valid acc: 45.85%, valid loss: 1.435\n",
      "Epoch 96: 20.97 min elapsed, train acc: 61.47%, train loss: 1.027, valid acc: 46.62%, valid loss: 1.417\n",
      "Epoch 97: 21.18 min elapsed, train acc: 62.21%, train loss: 1.009, valid acc: 46.19%, valid loss: 1.433\n",
      "Epoch 98: 21.38 min elapsed, train acc: 62.75%, train loss: 0.996, valid acc: 46.18%, valid loss: 1.441\n",
      "Epoch 99: 21.61 min elapsed, train acc: 63.14%, train loss: 0.986, valid acc: 46.69%, valid loss: 1.442\n",
      "Epoch 100: 21.82 min elapsed, train acc: 63.53%, train loss: 0.973, valid acc: 46.68%, valid loss: 1.443\n",
      "Epoch 101: 22.02 min elapsed, train acc: 63.86%, train loss: 0.959, valid acc: 45.68%, valid loss: 1.464\n",
      "Epoch 102: 22.22 min elapsed, train acc: 64.62%, train loss: 0.946, valid acc: 46.4%, valid loss: 1.453\n",
      "Epoch 103: 22.45 min elapsed, train acc: 65.39%, train loss: 0.932, valid acc: 47.02%, valid loss: 1.454\n",
      "Epoch 104: 22.69 min elapsed, train acc: 66.03%, train loss: 0.915, valid acc: 47.41%, valid loss: 1.453\n",
      "Epoch 105: 22.9 min elapsed, train acc: 66.08%, train loss: 0.905, valid acc: 46.72%, valid loss: 1.458\n",
      "Epoch 106: 23.1 min elapsed, train acc: 67.19%, train loss: 0.892, valid acc: 46.91%, valid loss: 1.452\n",
      "Epoch 107: 23.3 min elapsed, train acc: 67.66%, train loss: 0.879, valid acc: 47.0%, valid loss: 1.47\n",
      "Epoch 108: 23.5 min elapsed, train acc: 67.86%, train loss: 0.865, valid acc: 46.97%, valid loss: 1.467\n",
      "Epoch 109: 23.71 min elapsed, train acc: 68.94%, train loss: 0.846, valid acc: 46.36%, valid loss: 1.496\n",
      "Epoch 110: 23.91 min elapsed, train acc: 69.23%, train loss: 0.835, valid acc: 46.39%, valid loss: 1.519\n",
      "Epoch 111: 24.11 min elapsed, train acc: 70.1%, train loss: 0.824, valid acc: 46.64%, valid loss: 1.491\n",
      "Epoch 112: 24.31 min elapsed, train acc: 70.54%, train loss: 0.808, valid acc: 46.5%, valid loss: 1.516\n",
      "Epoch 113: 24.51 min elapsed, train acc: 71.15%, train loss: 0.796, valid acc: 46.54%, valid loss: 1.514\n",
      "Epoch 114: 24.71 min elapsed, train acc: 71.7%, train loss: 0.78, valid acc: 46.98%, valid loss: 1.513\n"
     ]
    },
    {
     "name": "stderr",
     "output_type": "stream",
     "text": [
      "\u001b[32m[I 2021-11-08 01:46:09,819]\u001b[0m Trial 11 finished with value: 0.4651066186651897 and parameters: {'conv1_out_ch': 2, 'conv2_out_ch': 24, 'dropout_rate': 0.5, 'optimizer': 'Adam', 'lr': 2.22108535820999e-05, 'weight_decay': 0.010222585658815325, 'batch_size': 128}. Best is trial 11 with value: 0.4651066186651897.\u001b[0m\n"
     ]
    },
    {
     "name": "stdout",
     "output_type": "stream",
     "text": [
      "Epoch 115: 24.92 min elapsed, train acc: 72.82%, train loss: 0.759, valid acc: 46.51%, valid loss: 1.532\n",
      "########################################################\n",
      "Finish model tuning\n",
      "Best epoch is 104, Accuracy: 0.4741068955967876, Loss: 1.4533689503084148\n",
      "########################################################\n",
      "Memory Usage:\n",
      "Allocated: 1.4 GB\n",
      "Cached:    1.5 GB\n",
      "Epoch 0: 0.24 min elapsed, train acc: 24.65%, train loss: 1.83, valid acc: 25.19%, valid loss: 1.794\n",
      "Epoch 1: 0.5 min elapsed, train acc: 26.33%, train loss: 1.781, valid acc: 26.56%, valid loss: 1.752\n",
      "Epoch 2: 0.75 min elapsed, train acc: 30.35%, train loss: 1.724, valid acc: 33.67%, valid loss: 1.684\n",
      "Epoch 3: 1.01 min elapsed, train acc: 34.23%, train loss: 1.661, valid acc: 35.74%, valid loss: 1.636\n",
      "Epoch 4: 1.26 min elapsed, train acc: 35.41%, train loss: 1.637, valid acc: 37.04%, valid loss: 1.627\n",
      "Epoch 5: 1.51 min elapsed, train acc: 36.2%, train loss: 1.624, valid acc: 37.87%, valid loss: 1.607\n",
      "Epoch 6: 1.77 min elapsed, train acc: 36.93%, train loss: 1.605, valid acc: 38.74%, valid loss: 1.603\n",
      "Epoch 7: 1.99 min elapsed, train acc: 37.59%, train loss: 1.6, valid acc: 38.58%, valid loss: 1.602\n",
      "Epoch 8: 2.2 min elapsed, train acc: 38.06%, train loss: 1.592, valid acc: 38.31%, valid loss: 1.595\n",
      "Epoch 9: 2.42 min elapsed, train acc: 38.49%, train loss: 1.586, valid acc: 38.74%, valid loss: 1.583\n",
      "Epoch 10: 2.64 min elapsed, train acc: 38.41%, train loss: 1.584, valid acc: 38.65%, valid loss: 1.579\n",
      "Epoch 11: 2.85 min elapsed, train acc: 38.69%, train loss: 1.581, valid acc: 38.38%, valid loss: 1.596\n",
      "Epoch 12: 3.07 min elapsed, train acc: 38.91%, train loss: 1.573, valid acc: 36.72%, valid loss: 1.619\n",
      "Epoch 13: 3.31 min elapsed, train acc: 39.09%, train loss: 1.57, valid acc: 38.91%, valid loss: 1.594\n",
      "Epoch 14: 3.54 min elapsed, train acc: 38.92%, train loss: 1.574, valid acc: 38.4%, valid loss: 1.572\n",
      "Epoch 15: 3.79 min elapsed, train acc: 39.46%, train loss: 1.562, valid acc: 39.32%, valid loss: 1.565\n",
      "Epoch 16: 4.04 min elapsed, train acc: 39.66%, train loss: 1.556, valid acc: 40.58%, valid loss: 1.561\n",
      "Epoch 17: 4.27 min elapsed, train acc: 39.93%, train loss: 1.556, valid acc: 40.02%, valid loss: 1.561\n",
      "Epoch 18: 4.48 min elapsed, train acc: 40.12%, train loss: 1.549, valid acc: 39.89%, valid loss: 1.558\n",
      "Epoch 19: 4.7 min elapsed, train acc: 40.05%, train loss: 1.55, valid acc: 40.0%, valid loss: 1.56\n",
      "Epoch 20: 4.91 min elapsed, train acc: 40.1%, train loss: 1.547, valid acc: 39.82%, valid loss: 1.551\n",
      "Epoch 21: 5.12 min elapsed, train acc: 40.4%, train loss: 1.539, valid acc: 38.09%, valid loss: 1.565\n",
      "Epoch 22: 5.34 min elapsed, train acc: 40.61%, train loss: 1.54, valid acc: 40.35%, valid loss: 1.546\n",
      "Epoch 23: 5.55 min elapsed, train acc: 40.75%, train loss: 1.537, valid acc: 39.88%, valid loss: 1.552\n",
      "Epoch 24: 5.77 min elapsed, train acc: 40.41%, train loss: 1.538, valid acc: 39.26%, valid loss: 1.554\n",
      "Epoch 25: 6.01 min elapsed, train acc: 40.96%, train loss: 1.528, valid acc: 41.15%, valid loss: 1.537\n",
      "Epoch 26: 6.23 min elapsed, train acc: 40.92%, train loss: 1.525, valid acc: 40.54%, valid loss: 1.547\n",
      "Epoch 27: 6.45 min elapsed, train acc: 41.26%, train loss: 1.525, valid acc: 40.42%, valid loss: 1.539\n",
      "Epoch 28: 6.66 min elapsed, train acc: 41.21%, train loss: 1.52, valid acc: 40.04%, valid loss: 1.541\n",
      "Epoch 29: 6.88 min elapsed, train acc: 41.22%, train loss: 1.516, valid acc: 40.86%, valid loss: 1.535\n",
      "Epoch 30: 7.09 min elapsed, train acc: 42.01%, train loss: 1.507, valid acc: 40.93%, valid loss: 1.528\n",
      "Epoch 31: 7.31 min elapsed, train acc: 41.3%, train loss: 1.514, valid acc: 41.1%, valid loss: 1.531\n",
      "Epoch 32: 7.56 min elapsed, train acc: 41.83%, train loss: 1.505, valid acc: 41.62%, valid loss: 1.522\n",
      "Epoch 33: 7.78 min elapsed, train acc: 42.38%, train loss: 1.498, valid acc: 41.58%, valid loss: 1.525\n",
      "Epoch 34: 7.99 min elapsed, train acc: 42.11%, train loss: 1.501, valid acc: 40.99%, valid loss: 1.516\n",
      "Epoch 35: 8.21 min elapsed, train acc: 42.57%, train loss: 1.494, valid acc: 41.36%, valid loss: 1.513\n",
      "Epoch 36: 8.42 min elapsed, train acc: 42.62%, train loss: 1.489, valid acc: 41.46%, valid loss: 1.511\n",
      "Epoch 37: 8.66 min elapsed, train acc: 42.78%, train loss: 1.485, valid acc: 42.08%, valid loss: 1.505\n",
      "Epoch 38: 8.89 min elapsed, train acc: 43.02%, train loss: 1.481, valid acc: 41.98%, valid loss: 1.509\n",
      "Epoch 39: 9.13 min elapsed, train acc: 43.1%, train loss: 1.474, valid acc: 42.2%, valid loss: 1.501\n",
      "Epoch 40: 9.39 min elapsed, train acc: 43.38%, train loss: 1.472, valid acc: 42.69%, valid loss: 1.497\n",
      "Epoch 41: 9.61 min elapsed, train acc: 43.3%, train loss: 1.47, valid acc: 40.94%, valid loss: 1.518\n",
      "Epoch 42: 9.83 min elapsed, train acc: 43.56%, train loss: 1.467, valid acc: 42.4%, valid loss: 1.492\n",
      "Epoch 43: 10.05 min elapsed, train acc: 43.83%, train loss: 1.458, valid acc: 42.02%, valid loss: 1.487\n",
      "Epoch 44: 10.29 min elapsed, train acc: 44.15%, train loss: 1.451, valid acc: 42.76%, valid loss: 1.504\n",
      "Epoch 45: 10.51 min elapsed, train acc: 44.31%, train loss: 1.449, valid acc: 42.33%, valid loss: 1.484\n",
      "Epoch 46: 10.73 min elapsed, train acc: 43.95%, train loss: 1.451, valid acc: 42.14%, valid loss: 1.497\n",
      "Epoch 47: 10.95 min elapsed, train acc: 44.33%, train loss: 1.443, valid acc: 41.17%, valid loss: 1.52\n",
      "Epoch 48: 11.19 min elapsed, train acc: 44.46%, train loss: 1.438, valid acc: 43.7%, valid loss: 1.474\n",
      "Epoch 49: 11.41 min elapsed, train acc: 45.16%, train loss: 1.433, valid acc: 43.44%, valid loss: 1.468\n",
      "Epoch 50: 11.63 min elapsed, train acc: 45.19%, train loss: 1.43, valid acc: 42.91%, valid loss: 1.482\n",
      "Epoch 51: 11.84 min elapsed, train acc: 45.27%, train loss: 1.423, valid acc: 42.58%, valid loss: 1.484\n",
      "Epoch 52: 12.09 min elapsed, train acc: 45.4%, train loss: 1.419, valid acc: 43.76%, valid loss: 1.468\n",
      "Epoch 53: 12.32 min elapsed, train acc: 45.42%, train loss: 1.422, valid acc: 42.94%, valid loss: 1.466\n",
      "Epoch 54: 12.53 min elapsed, train acc: 45.43%, train loss: 1.414, valid acc: 43.6%, valid loss: 1.468\n",
      "Epoch 55: 12.75 min elapsed, train acc: 45.89%, train loss: 1.408, valid acc: 43.15%, valid loss: 1.474\n",
      "Epoch 56: 12.96 min elapsed, train acc: 45.87%, train loss: 1.403, valid acc: 43.15%, valid loss: 1.465\n",
      "Epoch 57: 13.18 min elapsed, train acc: 46.19%, train loss: 1.397, valid acc: 43.34%, valid loss: 1.458\n",
      "Epoch 58: 13.39 min elapsed, train acc: 46.41%, train loss: 1.392, valid acc: 43.19%, valid loss: 1.463\n",
      "Epoch 59: 13.64 min elapsed, train acc: 46.52%, train loss: 1.39, valid acc: 44.5%, valid loss: 1.451\n",
      "Epoch 60: 13.86 min elapsed, train acc: 46.86%, train loss: 1.38, valid acc: 43.48%, valid loss: 1.456\n",
      "Epoch 61: 14.08 min elapsed, train acc: 47.32%, train loss: 1.376, valid acc: 44.38%, valid loss: 1.442\n",
      "Epoch 62: 14.29 min elapsed, train acc: 47.22%, train loss: 1.373, valid acc: 42.8%, valid loss: 1.458\n",
      "Epoch 63: 14.54 min elapsed, train acc: 47.44%, train loss: 1.37, valid acc: 44.54%, valid loss: 1.439\n",
      "Epoch 64: 14.76 min elapsed, train acc: 47.81%, train loss: 1.362, valid acc: 43.74%, valid loss: 1.446\n",
      "Epoch 65: 14.98 min elapsed, train acc: 47.64%, train loss: 1.36, valid acc: 43.91%, valid loss: 1.445\n",
      "Epoch 66: 15.19 min elapsed, train acc: 47.96%, train loss: 1.354, valid acc: 42.4%, valid loss: 1.482\n",
      "Epoch 67: 15.41 min elapsed, train acc: 48.29%, train loss: 1.351, valid acc: 44.52%, valid loss: 1.448\n",
      "Epoch 68: 15.65 min elapsed, train acc: 48.39%, train loss: 1.341, valid acc: 44.61%, valid loss: 1.43\n",
      "Epoch 69: 15.87 min elapsed, train acc: 48.03%, train loss: 1.342, valid acc: 44.61%, valid loss: 1.437\n",
      "Epoch 70: 16.09 min elapsed, train acc: 48.71%, train loss: 1.338, valid acc: 43.58%, valid loss: 1.462\n",
      "Epoch 71: 16.3 min elapsed, train acc: 48.98%, train loss: 1.327, valid acc: 44.31%, valid loss: 1.437\n",
      "Epoch 72: 16.54 min elapsed, train acc: 48.86%, train loss: 1.325, valid acc: 44.66%, valid loss: 1.43\n",
      "Epoch 73: 16.8 min elapsed, train acc: 49.43%, train loss: 1.315, valid acc: 45.07%, valid loss: 1.423\n",
      "Epoch 74: 17.02 min elapsed, train acc: 49.47%, train loss: 1.31, valid acc: 44.49%, valid loss: 1.429\n",
      "Epoch 75: 17.24 min elapsed, train acc: 49.97%, train loss: 1.3, valid acc: 44.13%, valid loss: 1.437\n",
      "Epoch 76: 17.45 min elapsed, train acc: 49.71%, train loss: 1.299, valid acc: 42.9%, valid loss: 1.474\n",
      "Epoch 77: 17.67 min elapsed, train acc: 50.14%, train loss: 1.293, valid acc: 45.07%, valid loss: 1.422\n",
      "Epoch 78: 17.88 min elapsed, train acc: 50.82%, train loss: 1.283, valid acc: 43.28%, valid loss: 1.465\n",
      "Epoch 79: 18.13 min elapsed, train acc: 50.67%, train loss: 1.278, valid acc: 45.76%, valid loss: 1.416\n",
      "Epoch 80: 18.35 min elapsed, train acc: 51.08%, train loss: 1.273, valid acc: 45.11%, valid loss: 1.421\n",
      "Epoch 81: 18.6 min elapsed, train acc: 51.55%, train loss: 1.268, valid acc: 45.79%, valid loss: 1.411\n",
      "Epoch 82: 18.81 min elapsed, train acc: 51.68%, train loss: 1.257, valid acc: 45.79%, valid loss: 1.417\n",
      "Epoch 83: 19.03 min elapsed, train acc: 51.92%, train loss: 1.254, valid acc: 44.92%, valid loss: 1.423\n",
      "Epoch 84: 19.24 min elapsed, train acc: 52.1%, train loss: 1.245, valid acc: 45.68%, valid loss: 1.407\n",
      "Epoch 85: 19.45 min elapsed, train acc: 51.91%, train loss: 1.243, valid acc: 45.33%, valid loss: 1.42\n",
      "Epoch 86: 19.67 min elapsed, train acc: 52.8%, train loss: 1.237, valid acc: 41.84%, valid loss: 1.499\n",
      "Epoch 87: 19.91 min elapsed, train acc: 52.34%, train loss: 1.237, valid acc: 45.89%, valid loss: 1.412\n",
      "Epoch 88: 20.13 min elapsed, train acc: 53.04%, train loss: 1.223, valid acc: 44.84%, valid loss: 1.412\n",
      "Epoch 89: 20.38 min elapsed, train acc: 53.59%, train loss: 1.213, valid acc: 46.32%, valid loss: 1.405\n",
      "Epoch 90: 20.6 min elapsed, train acc: 53.45%, train loss: 1.206, valid acc: 45.87%, valid loss: 1.414\n",
      "Epoch 91: 20.81 min elapsed, train acc: 54.03%, train loss: 1.205, valid acc: 46.26%, valid loss: 1.408\n",
      "Epoch 92: 21.03 min elapsed, train acc: 54.42%, train loss: 1.191, valid acc: 46.28%, valid loss: 1.397\n",
      "Epoch 93: 21.24 min elapsed, train acc: 54.32%, train loss: 1.191, valid acc: 45.33%, valid loss: 1.418\n",
      "Epoch 94: 21.45 min elapsed, train acc: 55.05%, train loss: 1.18, valid acc: 46.11%, valid loss: 1.402\n",
      "Epoch 95: 21.72 min elapsed, train acc: 55.43%, train loss: 1.162, valid acc: 46.52%, valid loss: 1.393\n",
      "Epoch 96: 21.97 min elapsed, train acc: 55.58%, train loss: 1.16, valid acc: 47.29%, valid loss: 1.387\n",
      "Epoch 97: 22.19 min elapsed, train acc: 55.97%, train loss: 1.146, valid acc: 44.99%, valid loss: 1.441\n",
      "Epoch 98: 22.41 min elapsed, train acc: 56.18%, train loss: 1.147, valid acc: 46.15%, valid loss: 1.402\n",
      "Epoch 99: 22.62 min elapsed, train acc: 56.32%, train loss: 1.141, valid acc: 45.49%, valid loss: 1.416\n",
      "Epoch 100: 22.84 min elapsed, train acc: 57.14%, train loss: 1.123, valid acc: 45.97%, valid loss: 1.404\n",
      "Epoch 101: 23.05 min elapsed, train acc: 57.33%, train loss: 1.12, valid acc: 44.81%, valid loss: 1.443\n",
      "Epoch 102: 23.27 min elapsed, train acc: 57.86%, train loss: 1.108, valid acc: 46.64%, valid loss: 1.392\n",
      "Epoch 103: 23.48 min elapsed, train acc: 58.36%, train loss: 1.101, valid acc: 46.88%, valid loss: 1.39\n",
      "Epoch 104: 23.69 min elapsed, train acc: 58.7%, train loss: 1.086, valid acc: 46.86%, valid loss: 1.394\n",
      "Epoch 105: 23.91 min elapsed, train acc: 59.18%, train loss: 1.078, valid acc: 47.02%, valid loss: 1.397\n",
      "Epoch 106: 24.12 min elapsed, train acc: 58.72%, train loss: 1.082, valid acc: 46.05%, valid loss: 1.427\n"
     ]
    },
    {
     "name": "stderr",
     "output_type": "stream",
     "text": [
      "\u001b[32m[I 2021-11-08 02:10:30,798]\u001b[0m Trial 12 finished with value: 0.46067571309886457 and parameters: {'conv1_out_ch': 2, 'conv2_out_ch': 24, 'dropout_rate': 0.5, 'optimizer': 'Adam', 'lr': 2.0302588494325018e-05, 'weight_decay': 0.011286267990168271, 'batch_size': 128}. Best is trial 11 with value: 0.4651066186651897.\u001b[0m\n"
     ]
    },
    {
     "name": "stdout",
     "output_type": "stream",
     "text": [
      "Epoch 107: 24.33 min elapsed, train acc: 59.5%, train loss: 1.065, valid acc: 46.07%, valid loss: 1.406\n",
      "########################################################\n",
      "Finish model tuning\n",
      "Best epoch is 96, Accuracy: 0.47286070340625863, Loss: 1.3874294214081346\n",
      "########################################################\n",
      "Memory Usage:\n",
      "Allocated: 1.4 GB\n",
      "Cached:    1.4 GB\n",
      "Epoch 0: 0.24 min elapsed, train acc: 24.26%, train loss: 1.881, valid acc: 25.19%, valid loss: 1.831\n",
      "Epoch 1: 0.44 min elapsed, train acc: 25.18%, train loss: 1.829, valid acc: 25.19%, valid loss: 1.817\n",
      "Epoch 2: 0.63 min elapsed, train acc: 25.16%, train loss: 1.822, valid acc: 25.19%, valid loss: 1.812\n",
      "Epoch 3: 0.82 min elapsed, train acc: 25.14%, train loss: 1.813, valid acc: 25.19%, valid loss: 1.806\n",
      "Epoch 4: 1.04 min elapsed, train acc: 25.2%, train loss: 1.803, valid acc: 25.21%, valid loss: 1.796\n",
      "Epoch 5: 1.27 min elapsed, train acc: 25.52%, train loss: 1.791, valid acc: 26.14%, valid loss: 1.788\n",
      "Epoch 6: 1.51 min elapsed, train acc: 26.31%, train loss: 1.78, valid acc: 26.32%, valid loss: 1.779\n",
      "Epoch 7: 1.75 min elapsed, train acc: 26.48%, train loss: 1.777, valid acc: 26.63%, valid loss: 1.775\n",
      "Epoch 8: 1.98 min elapsed, train acc: 27.16%, train loss: 1.77, valid acc: 26.97%, valid loss: 1.771\n",
      "Epoch 9: 2.18 min elapsed, train acc: 27.25%, train loss: 1.765, valid acc: 26.86%, valid loss: 1.772\n",
      "Epoch 10: 2.41 min elapsed, train acc: 27.58%, train loss: 1.761, valid acc: 27.39%, valid loss: 1.764\n",
      "Epoch 11: 2.65 min elapsed, train acc: 27.86%, train loss: 1.758, valid acc: 27.49%, valid loss: 1.76\n",
      "Epoch 12: 2.88 min elapsed, train acc: 28.02%, train loss: 1.755, valid acc: 27.6%, valid loss: 1.758\n",
      "Epoch 13: 3.11 min elapsed, train acc: 27.99%, train loss: 1.754, valid acc: 27.82%, valid loss: 1.756\n",
      "Epoch 14: 3.32 min elapsed, train acc: 28.25%, train loss: 1.751, valid acc: 27.75%, valid loss: 1.754\n",
      "Epoch 15: 3.55 min elapsed, train acc: 28.62%, train loss: 1.749, valid acc: 28.12%, valid loss: 1.758\n",
      "Epoch 16: 3.75 min elapsed, train acc: 28.41%, train loss: 1.747, valid acc: 27.89%, valid loss: 1.751\n",
      "Epoch 17: 3.94 min elapsed, train acc: 28.67%, train loss: 1.742, valid acc: 27.91%, valid loss: 1.747\n",
      "Epoch 18: 4.13 min elapsed, train acc: 28.67%, train loss: 1.74, valid acc: 27.87%, valid loss: 1.748\n",
      "Epoch 19: 4.32 min elapsed, train acc: 28.96%, train loss: 1.737, valid acc: 28.01%, valid loss: 1.745\n",
      "Epoch 20: 4.55 min elapsed, train acc: 29.31%, train loss: 1.733, valid acc: 28.52%, valid loss: 1.737\n",
      "Epoch 21: 4.79 min elapsed, train acc: 29.15%, train loss: 1.734, valid acc: 29.08%, valid loss: 1.736\n",
      "Epoch 22: 5.02 min elapsed, train acc: 29.35%, train loss: 1.728, valid acc: 29.19%, valid loss: 1.734\n",
      "Epoch 23: 5.22 min elapsed, train acc: 29.52%, train loss: 1.727, valid acc: 29.12%, valid loss: 1.733\n",
      "Epoch 24: 5.45 min elapsed, train acc: 29.63%, train loss: 1.723, valid acc: 29.2%, valid loss: 1.728\n",
      "Epoch 25: 5.68 min elapsed, train acc: 29.64%, train loss: 1.72, valid acc: 29.62%, valid loss: 1.723\n",
      "Epoch 26: 5.88 min elapsed, train acc: 29.95%, train loss: 1.72, valid acc: 29.53%, valid loss: 1.722\n",
      "Epoch 27: 6.08 min elapsed, train acc: 29.78%, train loss: 1.718, valid acc: 29.41%, valid loss: 1.719\n",
      "Epoch 28: 6.3 min elapsed, train acc: 30.1%, train loss: 1.713, valid acc: 29.8%, valid loss: 1.716\n",
      "Epoch 29: 6.54 min elapsed, train acc: 30.41%, train loss: 1.708, valid acc: 29.94%, valid loss: 1.713\n",
      "Epoch 30: 6.78 min elapsed, train acc: 30.27%, train loss: 1.708, valid acc: 30.14%, valid loss: 1.71\n",
      "Epoch 31: 6.97 min elapsed, train acc: 30.66%, train loss: 1.702, valid acc: 30.05%, valid loss: 1.714\n",
      "Epoch 32: 7.17 min elapsed, train acc: 30.89%, train loss: 1.701, valid acc: 30.09%, valid loss: 1.706\n",
      "Epoch 33: 7.39 min elapsed, train acc: 30.57%, train loss: 1.7, valid acc: 31.14%, valid loss: 1.703\n",
      "Epoch 34: 7.59 min elapsed, train acc: 31.03%, train loss: 1.695, valid acc: 30.84%, valid loss: 1.7\n",
      "Epoch 35: 7.78 min elapsed, train acc: 31.12%, train loss: 1.692, valid acc: 30.99%, valid loss: 1.696\n",
      "Epoch 36: 8.01 min elapsed, train acc: 31.13%, train loss: 1.693, valid acc: 31.22%, valid loss: 1.701\n",
      "Epoch 37: 8.21 min elapsed, train acc: 31.09%, train loss: 1.689, valid acc: 30.85%, valid loss: 1.699\n",
      "Epoch 38: 8.44 min elapsed, train acc: 31.35%, train loss: 1.689, valid acc: 31.53%, valid loss: 1.691\n",
      "Epoch 39: 8.68 min elapsed, train acc: 31.58%, train loss: 1.687, valid acc: 31.68%, valid loss: 1.69\n",
      "Epoch 40: 8.92 min elapsed, train acc: 31.7%, train loss: 1.683, valid acc: 32.11%, valid loss: 1.688\n",
      "Epoch 41: 9.12 min elapsed, train acc: 31.94%, train loss: 1.682, valid acc: 31.78%, valid loss: 1.686\n",
      "Epoch 42: 9.31 min elapsed, train acc: 31.7%, train loss: 1.679, valid acc: 31.89%, valid loss: 1.687\n",
      "Epoch 43: 9.5 min elapsed, train acc: 31.62%, train loss: 1.681, valid acc: 31.93%, valid loss: 1.683\n",
      "Epoch 44: 9.73 min elapsed, train acc: 31.93%, train loss: 1.676, valid acc: 32.32%, valid loss: 1.691\n",
      "Epoch 45: 9.93 min elapsed, train acc: 32.25%, train loss: 1.675, valid acc: 32.21%, valid loss: 1.68\n",
      "Epoch 46: 10.16 min elapsed, train acc: 31.98%, train loss: 1.675, valid acc: 32.58%, valid loss: 1.677\n",
      "Epoch 47: 10.36 min elapsed, train acc: 32.12%, train loss: 1.671, valid acc: 32.21%, valid loss: 1.677\n",
      "Epoch 48: 10.55 min elapsed, train acc: 32.6%, train loss: 1.672, valid acc: 32.35%, valid loss: 1.675\n",
      "Epoch 49: 10.74 min elapsed, train acc: 32.55%, train loss: 1.668, valid acc: 32.35%, valid loss: 1.674\n",
      "Epoch 50: 10.93 min elapsed, train acc: 32.44%, train loss: 1.67, valid acc: 31.82%, valid loss: 1.681\n",
      "Epoch 51: 11.13 min elapsed, train acc: 32.42%, train loss: 1.671, valid acc: 32.26%, valid loss: 1.674\n",
      "Epoch 52: 11.35 min elapsed, train acc: 32.58%, train loss: 1.666, valid acc: 32.97%, valid loss: 1.674\n",
      "Epoch 53: 11.55 min elapsed, train acc: 32.55%, train loss: 1.666, valid acc: 32.41%, valid loss: 1.67\n",
      "Epoch 54: 11.75 min elapsed, train acc: 33.18%, train loss: 1.663, valid acc: 32.69%, valid loss: 1.668\n",
      "Epoch 55: 11.97 min elapsed, train acc: 32.92%, train loss: 1.657, valid acc: 33.09%, valid loss: 1.666\n",
      "Epoch 56: 12.2 min elapsed, train acc: 33.06%, train loss: 1.657, valid acc: 33.59%, valid loss: 1.669\n",
      "Epoch 57: 12.4 min elapsed, train acc: 33.13%, train loss: 1.656, valid acc: 32.75%, valid loss: 1.664\n",
      "Epoch 58: 12.59 min elapsed, train acc: 33.24%, train loss: 1.655, valid acc: 31.63%, valid loss: 1.681\n",
      "Epoch 59: 12.78 min elapsed, train acc: 33.06%, train loss: 1.655, valid acc: 33.0%, valid loss: 1.675\n",
      "Epoch 60: 12.97 min elapsed, train acc: 33.26%, train loss: 1.653, valid acc: 33.18%, valid loss: 1.659\n",
      "Epoch 61: 13.16 min elapsed, train acc: 33.14%, train loss: 1.652, valid acc: 32.68%, valid loss: 1.661\n",
      "Epoch 62: 13.35 min elapsed, train acc: 33.32%, train loss: 1.651, valid acc: 33.25%, valid loss: 1.662\n",
      "Epoch 63: 13.55 min elapsed, train acc: 33.28%, train loss: 1.651, valid acc: 33.44%, valid loss: 1.656\n",
      "Epoch 64: 13.74 min elapsed, train acc: 33.61%, train loss: 1.646, valid acc: 33.3%, valid loss: 1.653\n",
      "Epoch 65: 13.93 min elapsed, train acc: 33.55%, train loss: 1.645, valid acc: 33.37%, valid loss: 1.655\n",
      "Epoch 66: 14.16 min elapsed, train acc: 33.59%, train loss: 1.649, valid acc: 34.03%, valid loss: 1.651\n",
      "Epoch 67: 14.36 min elapsed, train acc: 33.8%, train loss: 1.643, valid acc: 33.01%, valid loss: 1.654\n",
      "Epoch 68: 14.56 min elapsed, train acc: 33.93%, train loss: 1.646, valid acc: 33.65%, valid loss: 1.649\n",
      "Epoch 69: 14.75 min elapsed, train acc: 34.07%, train loss: 1.639, valid acc: 33.98%, valid loss: 1.647\n",
      "Epoch 70: 14.97 min elapsed, train acc: 33.97%, train loss: 1.639, valid acc: 34.52%, valid loss: 1.645\n",
      "Epoch 71: 15.18 min elapsed, train acc: 34.15%, train loss: 1.635, valid acc: 33.63%, valid loss: 1.647\n",
      "Epoch 72: 15.37 min elapsed, train acc: 34.46%, train loss: 1.632, valid acc: 32.43%, valid loss: 1.663\n",
      "Epoch 73: 15.56 min elapsed, train acc: 34.09%, train loss: 1.637, valid acc: 33.83%, valid loss: 1.66\n",
      "Epoch 74: 15.75 min elapsed, train acc: 34.38%, train loss: 1.634, valid acc: 33.97%, valid loss: 1.64\n",
      "Epoch 75: 15.95 min elapsed, train acc: 34.52%, train loss: 1.63, valid acc: 34.08%, valid loss: 1.639\n",
      "Epoch 76: 16.14 min elapsed, train acc: 33.9%, train loss: 1.63, valid acc: 34.28%, valid loss: 1.636\n",
      "Epoch 77: 16.34 min elapsed, train acc: 34.79%, train loss: 1.625, valid acc: 32.75%, valid loss: 1.651\n",
      "Epoch 78: 16.56 min elapsed, train acc: 34.53%, train loss: 1.624, valid acc: 34.81%, valid loss: 1.634\n",
      "Epoch 79: 16.8 min elapsed, train acc: 34.57%, train loss: 1.625, valid acc: 34.84%, valid loss: 1.635\n",
      "Epoch 80: 17.0 min elapsed, train acc: 34.75%, train loss: 1.625, valid acc: 34.6%, valid loss: 1.635\n",
      "Epoch 81: 17.24 min elapsed, train acc: 34.6%, train loss: 1.62, valid acc: 34.98%, valid loss: 1.636\n",
      "Epoch 82: 17.48 min elapsed, train acc: 34.8%, train loss: 1.621, valid acc: 35.06%, valid loss: 1.63\n",
      "Epoch 83: 17.69 min elapsed, train acc: 34.55%, train loss: 1.62, valid acc: 34.84%, valid loss: 1.626\n",
      "Epoch 84: 17.88 min elapsed, train acc: 34.89%, train loss: 1.614, valid acc: 34.55%, valid loss: 1.635\n",
      "Epoch 85: 18.07 min elapsed, train acc: 35.15%, train loss: 1.614, valid acc: 34.64%, valid loss: 1.624\n",
      "Epoch 86: 18.26 min elapsed, train acc: 35.27%, train loss: 1.61, valid acc: 34.48%, valid loss: 1.623\n",
      "Epoch 87: 18.45 min elapsed, train acc: 35.2%, train loss: 1.609, valid acc: 34.37%, valid loss: 1.626\n",
      "Epoch 88: 18.68 min elapsed, train acc: 35.17%, train loss: 1.609, valid acc: 35.28%, valid loss: 1.621\n",
      "Epoch 89: 18.88 min elapsed, train acc: 35.36%, train loss: 1.607, valid acc: 34.69%, valid loss: 1.621\n",
      "Epoch 90: 19.08 min elapsed, train acc: 35.21%, train loss: 1.603, valid acc: 34.39%, valid loss: 1.62\n",
      "Epoch 91: 19.27 min elapsed, train acc: 35.33%, train loss: 1.608, valid acc: 34.77%, valid loss: 1.617\n",
      "Epoch 92: 19.46 min elapsed, train acc: 35.18%, train loss: 1.604, valid acc: 34.2%, valid loss: 1.622\n",
      "Epoch 93: 19.69 min elapsed, train acc: 35.62%, train loss: 1.605, valid acc: 35.49%, valid loss: 1.618\n",
      "Epoch 94: 19.89 min elapsed, train acc: 35.37%, train loss: 1.601, valid acc: 35.39%, valid loss: 1.613\n",
      "Epoch 95: 20.09 min elapsed, train acc: 35.81%, train loss: 1.597, valid acc: 34.64%, valid loss: 1.618\n",
      "Epoch 96: 20.28 min elapsed, train acc: 35.99%, train loss: 1.595, valid acc: 34.89%, valid loss: 1.613\n",
      "Epoch 97: 20.5 min elapsed, train acc: 35.64%, train loss: 1.593, valid acc: 35.64%, valid loss: 1.608\n",
      "Epoch 98: 20.7 min elapsed, train acc: 35.91%, train loss: 1.593, valid acc: 34.71%, valid loss: 1.616\n",
      "Epoch 99: 20.9 min elapsed, train acc: 35.88%, train loss: 1.592, valid acc: 34.71%, valid loss: 1.614\n",
      "Epoch 100: 21.12 min elapsed, train acc: 36.31%, train loss: 1.59, valid acc: 35.67%, valid loss: 1.604\n",
      "Epoch 101: 21.35 min elapsed, train acc: 36.12%, train loss: 1.585, valid acc: 35.97%, valid loss: 1.602\n",
      "Epoch 102: 21.55 min elapsed, train acc: 36.05%, train loss: 1.585, valid acc: 35.57%, valid loss: 1.608\n",
      "Epoch 103: 21.75 min elapsed, train acc: 36.1%, train loss: 1.581, valid acc: 35.78%, valid loss: 1.6\n",
      "Epoch 104: 21.94 min elapsed, train acc: 36.43%, train loss: 1.58, valid acc: 34.99%, valid loss: 1.605\n",
      "Epoch 105: 22.13 min elapsed, train acc: 36.41%, train loss: 1.578, valid acc: 34.28%, valid loss: 1.619\n",
      "Epoch 106: 22.37 min elapsed, train acc: 36.55%, train loss: 1.578, valid acc: 36.14%, valid loss: 1.595\n",
      "Epoch 107: 22.57 min elapsed, train acc: 36.53%, train loss: 1.577, valid acc: 36.08%, valid loss: 1.6\n",
      "Epoch 108: 22.76 min elapsed, train acc: 36.5%, train loss: 1.573, valid acc: 36.03%, valid loss: 1.595\n",
      "Epoch 109: 22.99 min elapsed, train acc: 36.8%, train loss: 1.573, valid acc: 36.21%, valid loss: 1.592\n",
      "Epoch 110: 23.19 min elapsed, train acc: 36.86%, train loss: 1.574, valid acc: 36.1%, valid loss: 1.592\n",
      "Epoch 111: 23.42 min elapsed, train acc: 36.56%, train loss: 1.573, valid acc: 36.55%, valid loss: 1.589\n",
      "Epoch 112: 23.62 min elapsed, train acc: 36.93%, train loss: 1.569, valid acc: 36.42%, valid loss: 1.589\n",
      "Epoch 113: 23.82 min elapsed, train acc: 36.76%, train loss: 1.569, valid acc: 36.14%, valid loss: 1.589\n",
      "Epoch 114: 24.01 min elapsed, train acc: 36.8%, train loss: 1.565, valid acc: 36.5%, valid loss: 1.588\n",
      "Epoch 115: 24.2 min elapsed, train acc: 36.67%, train loss: 1.564, valid acc: 36.36%, valid loss: 1.585\n",
      "Epoch 116: 24.4 min elapsed, train acc: 36.96%, train loss: 1.562, valid acc: 36.14%, valid loss: 1.585\n",
      "Epoch 117: 24.59 min elapsed, train acc: 37.19%, train loss: 1.558, valid acc: 36.01%, valid loss: 1.59\n",
      "Epoch 118: 24.78 min elapsed, train acc: 37.29%, train loss: 1.559, valid acc: 36.53%, valid loss: 1.581\n",
      "Epoch 119: 24.97 min elapsed, train acc: 37.34%, train loss: 1.555, valid acc: 36.39%, valid loss: 1.589\n",
      "Epoch 120: 25.17 min elapsed, train acc: 37.35%, train loss: 1.56, valid acc: 36.53%, valid loss: 1.588\n",
      "Epoch 121: 25.4 min elapsed, train acc: 37.39%, train loss: 1.551, valid acc: 36.83%, valid loss: 1.581\n",
      "Epoch 122: 25.6 min elapsed, train acc: 37.34%, train loss: 1.552, valid acc: 36.58%, valid loss: 1.579\n",
      "Epoch 123: 25.83 min elapsed, train acc: 37.4%, train loss: 1.553, valid acc: 36.94%, valid loss: 1.576\n",
      "Epoch 124: 26.03 min elapsed, train acc: 37.73%, train loss: 1.548, valid acc: 36.58%, valid loss: 1.576\n",
      "Epoch 125: 26.23 min elapsed, train acc: 37.77%, train loss: 1.549, valid acc: 36.44%, valid loss: 1.584\n",
      "Epoch 126: 26.42 min elapsed, train acc: 37.56%, train loss: 1.545, valid acc: 36.75%, valid loss: 1.575\n",
      "Epoch 127: 26.62 min elapsed, train acc: 37.95%, train loss: 1.542, valid acc: 36.55%, valid loss: 1.576\n",
      "Epoch 128: 26.81 min elapsed, train acc: 37.91%, train loss: 1.541, valid acc: 36.82%, valid loss: 1.572\n",
      "Epoch 129: 27.03 min elapsed, train acc: 37.78%, train loss: 1.54, valid acc: 37.03%, valid loss: 1.571\n",
      "Epoch 130: 27.23 min elapsed, train acc: 38.07%, train loss: 1.539, valid acc: 36.47%, valid loss: 1.576\n",
      "Epoch 131: 27.46 min elapsed, train acc: 38.18%, train loss: 1.538, valid acc: 37.12%, valid loss: 1.569\n",
      "Epoch 132: 27.66 min elapsed, train acc: 37.96%, train loss: 1.536, valid acc: 36.91%, valid loss: 1.575\n",
      "Epoch 133: 27.85 min elapsed, train acc: 38.2%, train loss: 1.532, valid acc: 36.25%, valid loss: 1.577\n",
      "Epoch 134: 28.04 min elapsed, train acc: 38.14%, train loss: 1.535, valid acc: 36.89%, valid loss: 1.573\n",
      "Epoch 135: 28.24 min elapsed, train acc: 38.48%, train loss: 1.53, valid acc: 36.69%, valid loss: 1.581\n",
      "Epoch 136: 28.43 min elapsed, train acc: 38.11%, train loss: 1.529, valid acc: 36.97%, valid loss: 1.564\n",
      "Epoch 137: 28.62 min elapsed, train acc: 38.39%, train loss: 1.528, valid acc: 35.96%, valid loss: 1.58\n",
      "Epoch 138: 28.81 min elapsed, train acc: 38.53%, train loss: 1.525, valid acc: 36.9%, valid loss: 1.565\n",
      "Epoch 139: 29.0 min elapsed, train acc: 38.42%, train loss: 1.525, valid acc: 37.03%, valid loss: 1.56\n",
      "Epoch 140: 29.24 min elapsed, train acc: 38.47%, train loss: 1.524, valid acc: 37.18%, valid loss: 1.563\n",
      "Epoch 141: 29.44 min elapsed, train acc: 38.44%, train loss: 1.523, valid acc: 36.72%, valid loss: 1.573\n",
      "Epoch 142: 29.67 min elapsed, train acc: 38.48%, train loss: 1.523, valid acc: 37.22%, valid loss: 1.559\n",
      "Epoch 143: 29.87 min elapsed, train acc: 38.74%, train loss: 1.521, valid acc: 36.78%, valid loss: 1.56\n",
      "Epoch 144: 30.07 min elapsed, train acc: 38.73%, train loss: 1.518, valid acc: 37.15%, valid loss: 1.56\n",
      "Epoch 145: 30.26 min elapsed, train acc: 38.76%, train loss: 1.514, valid acc: 37.05%, valid loss: 1.555\n",
      "Epoch 146: 30.49 min elapsed, train acc: 39.0%, train loss: 1.513, valid acc: 37.51%, valid loss: 1.553\n",
      "Epoch 147: 30.69 min elapsed, train acc: 38.98%, train loss: 1.513, valid acc: 37.32%, valid loss: 1.555\n",
      "Epoch 148: 30.88 min elapsed, train acc: 38.9%, train loss: 1.51, valid acc: 37.26%, valid loss: 1.554\n",
      "Epoch 149: 31.12 min elapsed, train acc: 39.1%, train loss: 1.512, valid acc: 37.75%, valid loss: 1.552\n",
      "Epoch 150: 31.32 min elapsed, train acc: 39.42%, train loss: 1.506, valid acc: 37.4%, valid loss: 1.555\n",
      "Epoch 151: 31.52 min elapsed, train acc: 39.22%, train loss: 1.509, valid acc: 36.97%, valid loss: 1.555\n",
      "Epoch 152: 31.71 min elapsed, train acc: 39.43%, train loss: 1.509, valid acc: 36.96%, valid loss: 1.57\n",
      "Epoch 153: 31.9 min elapsed, train acc: 39.48%, train loss: 1.502, valid acc: 37.21%, valid loss: 1.55\n",
      "Epoch 154: 32.09 min elapsed, train acc: 39.44%, train loss: 1.503, valid acc: 37.07%, valid loss: 1.548\n",
      "Epoch 155: 32.28 min elapsed, train acc: 39.76%, train loss: 1.498, valid acc: 37.39%, valid loss: 1.546\n",
      "Epoch 156: 32.48 min elapsed, train acc: 39.39%, train loss: 1.498, valid acc: 37.41%, valid loss: 1.548\n",
      "Epoch 157: 32.67 min elapsed, train acc: 39.6%, train loss: 1.496, valid acc: 37.44%, valid loss: 1.548\n",
      "Epoch 158: 32.86 min elapsed, train acc: 40.02%, train loss: 1.492, valid acc: 37.36%, valid loss: 1.55\n",
      "Epoch 159: 33.05 min elapsed, train acc: 39.51%, train loss: 1.495, valid acc: 37.5%, valid loss: 1.544\n"
     ]
    },
    {
     "name": "stderr",
     "output_type": "stream",
     "text": [
      "\u001b[32m[I 2021-11-08 02:43:46,625]\u001b[0m Trial 13 finished with value: 0.3741345887565771 and parameters: {'conv1_out_ch': 2, 'conv2_out_ch': 28, 'dropout_rate': 0.5, 'optimizer': 'Adam', 'lr': 1.0919101350796906e-05, 'weight_decay': 0.014986095122935313, 'batch_size': 192}. Best is trial 11 with value: 0.4651066186651897.\u001b[0m\n"
     ]
    },
    {
     "name": "stdout",
     "output_type": "stream",
     "text": [
      "Epoch 160: 33.25 min elapsed, train acc: 39.78%, train loss: 1.494, valid acc: 37.41%, valid loss: 1.547\n",
      "########################################################\n",
      "Finish model tuning\n",
      "Best epoch is 149, Accuracy: 0.37745776793132096, Loss: 1.5518756101005955\n",
      "########################################################\n",
      "Memory Usage:\n",
      "Allocated: 1.5 GB\n",
      "Cached:    1.6 GB\n",
      "Epoch 0: 0.21 min elapsed, train acc: 25.09%, train loss: 1.863, valid acc: 25.19%, valid loss: 1.834\n",
      "Epoch 1: 0.39 min elapsed, train acc: 25.18%, train loss: 1.837, valid acc: 25.19%, valid loss: 1.837\n",
      "Epoch 2: 0.56 min elapsed, train acc: 25.19%, train loss: 1.834, valid acc: 25.19%, valid loss: 1.827\n",
      "Epoch 3: 0.74 min elapsed, train acc: 25.18%, train loss: 1.834, valid acc: 25.19%, valid loss: 1.829\n",
      "Epoch 4: 0.92 min elapsed, train acc: 25.18%, train loss: 1.832, valid acc: 25.19%, valid loss: 1.832\n",
      "Epoch 5: 1.09 min elapsed, train acc: 25.19%, train loss: 1.832, valid acc: 25.19%, valid loss: 1.831\n",
      "Epoch 6: 1.26 min elapsed, train acc: 25.18%, train loss: 1.83, valid acc: 25.19%, valid loss: 1.827\n",
      "Epoch 7: 1.43 min elapsed, train acc: 25.18%, train loss: 1.829, valid acc: 25.19%, valid loss: 1.825\n",
      "Epoch 8: 1.61 min elapsed, train acc: 25.18%, train loss: 1.827, valid acc: 25.19%, valid loss: 1.832\n",
      "Epoch 9: 1.78 min elapsed, train acc: 25.19%, train loss: 1.824, valid acc: 25.19%, valid loss: 1.822\n",
      "Epoch 10: 1.96 min elapsed, train acc: 25.19%, train loss: 1.822, valid acc: 25.19%, valid loss: 1.82\n"
     ]
    },
    {
     "name": "stderr",
     "output_type": "stream",
     "text": [
      "\u001b[32m[I 2021-11-08 02:45:55,575]\u001b[0m Trial 14 pruned. \u001b[0m\n"
     ]
    },
    {
     "name": "stdout",
     "output_type": "stream",
     "text": [
      "Epoch 11: 2.13 min elapsed, train acc: 25.18%, train loss: 1.82, valid acc: 25.19%, valid loss: 1.818\n",
      "########################################################\n",
      "Finish model tuning\n",
      "Best epoch is 0, Accuracy: 0.2518692882857934, Loss: 1.8344131331694753\n",
      "########################################################\n",
      "Epoch 0: 0.33 min elapsed, train acc: 22.19%, train loss: 1.935, valid acc: 25.19%, valid loss: 1.934\n",
      "Epoch 1: 0.64 min elapsed, train acc: 24.56%, train loss: 1.934, valid acc: 25.19%, valid loss: 1.934\n",
      "Epoch 2: 0.94 min elapsed, train acc: 25.19%, train loss: 1.933, valid acc: 25.19%, valid loss: 1.933\n",
      "Epoch 3: 1.25 min elapsed, train acc: 25.18%, train loss: 1.932, valid acc: 25.19%, valid loss: 1.932\n",
      "Epoch 4: 1.55 min elapsed, train acc: 25.18%, train loss: 1.931, valid acc: 25.19%, valid loss: 1.931\n",
      "Epoch 5: 1.86 min elapsed, train acc: 25.19%, train loss: 1.931, valid acc: 25.19%, valid loss: 1.93\n",
      "Epoch 6: 2.16 min elapsed, train acc: 25.18%, train loss: 1.93, valid acc: 25.19%, valid loss: 1.929\n",
      "Epoch 7: 2.46 min elapsed, train acc: 25.19%, train loss: 1.929, valid acc: 25.19%, valid loss: 1.929\n",
      "Epoch 8: 2.77 min elapsed, train acc: 25.16%, train loss: 1.928, valid acc: 25.19%, valid loss: 1.928\n",
      "Epoch 9: 3.07 min elapsed, train acc: 25.18%, train loss: 1.927, valid acc: 25.19%, valid loss: 1.927\n",
      "Epoch 10: 3.37 min elapsed, train acc: 25.19%, train loss: 1.927, valid acc: 25.19%, valid loss: 1.926\n"
     ]
    },
    {
     "name": "stderr",
     "output_type": "stream",
     "text": [
      "\u001b[32m[I 2021-11-08 02:49:37,100]\u001b[0m Trial 15 pruned. \u001b[0m\n"
     ]
    },
    {
     "name": "stdout",
     "output_type": "stream",
     "text": [
      "Epoch 11: 3.68 min elapsed, train acc: 25.18%, train loss: 1.926, valid acc: 25.19%, valid loss: 1.926\n",
      "########################################################\n",
      "Finish model tuning\n",
      "Best epoch is 0, Accuracy: 0.2518692882857934, Loss: 1.9339027119948802\n",
      "########################################################\n",
      "Epoch 0: 0.23 min elapsed, train acc: 26.16%, train loss: 1.8, valid acc: 32.28%, valid loss: 1.712\n",
      "Epoch 1: 0.47 min elapsed, train acc: 32.24%, train loss: 1.692, valid acc: 34.46%, valid loss: 1.653\n",
      "Epoch 2: 0.67 min elapsed, train acc: 34.48%, train loss: 1.657, valid acc: 33.83%, valid loss: 1.651\n",
      "Epoch 3: 0.92 min elapsed, train acc: 35.71%, train loss: 1.633, valid acc: 37.69%, valid loss: 1.615\n",
      "Epoch 4: 1.18 min elapsed, train acc: 36.66%, train loss: 1.614, valid acc: 37.73%, valid loss: 1.6\n",
      "Epoch 5: 1.39 min elapsed, train acc: 37.54%, train loss: 1.592, valid acc: 36.35%, valid loss: 1.628\n",
      "Epoch 6: 1.63 min elapsed, train acc: 38.42%, train loss: 1.578, valid acc: 39.34%, valid loss: 1.567\n",
      "Epoch 7: 1.87 min elapsed, train acc: 39.15%, train loss: 1.555, valid acc: 39.93%, valid loss: 1.545\n",
      "Epoch 8: 2.08 min elapsed, train acc: 39.47%, train loss: 1.543, valid acc: 39.78%, valid loss: 1.545\n",
      "Epoch 9: 2.27 min elapsed, train acc: 40.25%, train loss: 1.532, valid acc: 39.55%, valid loss: 1.539\n",
      "Epoch 10: 2.5 min elapsed, train acc: 40.65%, train loss: 1.524, valid acc: 41.17%, valid loss: 1.521\n",
      "Epoch 11: 2.74 min elapsed, train acc: 41.27%, train loss: 1.504, valid acc: 41.69%, valid loss: 1.508\n",
      "Epoch 12: 2.94 min elapsed, train acc: 41.41%, train loss: 1.501, valid acc: 40.18%, valid loss: 1.528\n",
      "Epoch 13: 3.14 min elapsed, train acc: 41.78%, train loss: 1.486, valid acc: 41.4%, valid loss: 1.497\n",
      "Epoch 14: 3.37 min elapsed, train acc: 42.03%, train loss: 1.479, valid acc: 42.5%, valid loss: 1.48\n",
      "Epoch 15: 3.61 min elapsed, train acc: 42.49%, train loss: 1.472, valid acc: 42.83%, valid loss: 1.478\n",
      "Epoch 16: 3.85 min elapsed, train acc: 43.25%, train loss: 1.465, valid acc: 42.94%, valid loss: 1.47\n",
      "Epoch 17: 4.05 min elapsed, train acc: 43.39%, train loss: 1.454, valid acc: 42.58%, valid loss: 1.466\n",
      "Epoch 18: 4.29 min elapsed, train acc: 43.6%, train loss: 1.448, valid acc: 43.19%, valid loss: 1.466\n",
      "Epoch 19: 4.52 min elapsed, train acc: 44.15%, train loss: 1.436, valid acc: 43.4%, valid loss: 1.455\n",
      "Epoch 20: 4.76 min elapsed, train acc: 44.46%, train loss: 1.427, valid acc: 43.64%, valid loss: 1.447\n",
      "Epoch 21: 4.97 min elapsed, train acc: 44.99%, train loss: 1.42, valid acc: 43.34%, valid loss: 1.444\n",
      "Epoch 22: 5.17 min elapsed, train acc: 45.12%, train loss: 1.415, valid acc: 42.7%, valid loss: 1.469\n",
      "Epoch 23: 5.37 min elapsed, train acc: 45.22%, train loss: 1.407, valid acc: 42.83%, valid loss: 1.446\n",
      "Epoch 24: 5.6 min elapsed, train acc: 45.47%, train loss: 1.398, valid acc: 44.07%, valid loss: 1.446\n",
      "Epoch 25: 5.85 min elapsed, train acc: 45.96%, train loss: 1.388, valid acc: 44.57%, valid loss: 1.426\n",
      "Epoch 26: 6.09 min elapsed, train acc: 46.39%, train loss: 1.381, valid acc: 45.26%, valid loss: 1.418\n",
      "Epoch 27: 6.3 min elapsed, train acc: 46.35%, train loss: 1.373, valid acc: 44.39%, valid loss: 1.432\n",
      "Epoch 28: 6.49 min elapsed, train acc: 46.9%, train loss: 1.368, valid acc: 44.32%, valid loss: 1.42\n",
      "Epoch 29: 6.69 min elapsed, train acc: 47.09%, train loss: 1.357, valid acc: 44.57%, valid loss: 1.415\n",
      "Epoch 30: 6.89 min elapsed, train acc: 47.73%, train loss: 1.343, valid acc: 44.64%, valid loss: 1.417\n",
      "Epoch 31: 7.09 min elapsed, train acc: 48.06%, train loss: 1.336, valid acc: 45.22%, valid loss: 1.405\n",
      "Epoch 32: 7.32 min elapsed, train acc: 48.29%, train loss: 1.326, valid acc: 45.67%, valid loss: 1.394\n",
      "Epoch 33: 7.58 min elapsed, train acc: 49.27%, train loss: 1.313, valid acc: 45.74%, valid loss: 1.397\n",
      "Epoch 34: 7.79 min elapsed, train acc: 49.5%, train loss: 1.307, valid acc: 45.32%, valid loss: 1.391\n",
      "Epoch 35: 8.02 min elapsed, train acc: 49.66%, train loss: 1.298, valid acc: 45.85%, valid loss: 1.389\n",
      "Epoch 36: 8.23 min elapsed, train acc: 49.6%, train loss: 1.288, valid acc: 44.14%, valid loss: 1.413\n",
      "Epoch 37: 8.46 min elapsed, train acc: 50.31%, train loss: 1.282, valid acc: 46.14%, valid loss: 1.38\n",
      "Epoch 38: 8.67 min elapsed, train acc: 51.0%, train loss: 1.263, valid acc: 45.94%, valid loss: 1.385\n",
      "Epoch 39: 8.92 min elapsed, train acc: 51.26%, train loss: 1.252, valid acc: 46.54%, valid loss: 1.379\n",
      "Epoch 40: 9.16 min elapsed, train acc: 51.86%, train loss: 1.243, valid acc: 46.73%, valid loss: 1.377\n",
      "Epoch 41: 9.37 min elapsed, train acc: 52.47%, train loss: 1.226, valid acc: 46.57%, valid loss: 1.371\n",
      "Epoch 42: 9.6 min elapsed, train acc: 52.7%, train loss: 1.219, valid acc: 46.79%, valid loss: 1.375\n",
      "Epoch 43: 9.84 min elapsed, train acc: 52.81%, train loss: 1.208, valid acc: 47.04%, valid loss: 1.368\n",
      "Epoch 44: 10.09 min elapsed, train acc: 54.14%, train loss: 1.181, valid acc: 47.08%, valid loss: 1.379\n",
      "Epoch 45: 10.33 min elapsed, train acc: 54.62%, train loss: 1.174, valid acc: 47.41%, valid loss: 1.371\n",
      "Epoch 46: 10.53 min elapsed, train acc: 55.39%, train loss: 1.162, valid acc: 47.23%, valid loss: 1.368\n",
      "Epoch 47: 10.77 min elapsed, train acc: 55.68%, train loss: 1.141, valid acc: 47.96%, valid loss: 1.366\n",
      "Epoch 48: 10.97 min elapsed, train acc: 56.22%, train loss: 1.127, valid acc: 47.34%, valid loss: 1.357\n",
      "Epoch 49: 11.17 min elapsed, train acc: 57.3%, train loss: 1.113, valid acc: 47.18%, valid loss: 1.37\n",
      "Epoch 50: 11.36 min elapsed, train acc: 57.61%, train loss: 1.1, valid acc: 47.58%, valid loss: 1.363\n",
      "Epoch 51: 11.56 min elapsed, train acc: 58.56%, train loss: 1.078, valid acc: 47.77%, valid loss: 1.384\n",
      "Epoch 52: 11.79 min elapsed, train acc: 59.0%, train loss: 1.065, valid acc: 48.1%, valid loss: 1.375\n",
      "Epoch 53: 11.99 min elapsed, train acc: 60.01%, train loss: 1.048, valid acc: 48.08%, valid loss: 1.362\n",
      "Epoch 54: 12.19 min elapsed, train acc: 61.17%, train loss: 1.026, valid acc: 47.88%, valid loss: 1.367\n",
      "Epoch 55: 12.39 min elapsed, train acc: 61.14%, train loss: 1.018, valid acc: 47.73%, valid loss: 1.369\n",
      "Epoch 56: 12.63 min elapsed, train acc: 62.39%, train loss: 0.992, valid acc: 48.26%, valid loss: 1.377\n",
      "Epoch 57: 12.84 min elapsed, train acc: 63.38%, train loss: 0.972, valid acc: 48.16%, valid loss: 1.388\n",
      "Epoch 58: 13.07 min elapsed, train acc: 63.72%, train loss: 0.954, valid acc: 48.6%, valid loss: 1.379\n",
      "Epoch 59: 13.27 min elapsed, train acc: 64.79%, train loss: 0.938, valid acc: 48.26%, valid loss: 1.389\n",
      "Epoch 60: 13.5 min elapsed, train acc: 65.26%, train loss: 0.921, valid acc: 49.16%, valid loss: 1.391\n",
      "Epoch 61: 13.71 min elapsed, train acc: 66.48%, train loss: 0.897, valid acc: 48.93%, valid loss: 1.395\n",
      "Epoch 62: 13.95 min elapsed, train acc: 67.18%, train loss: 0.877, valid acc: 49.49%, valid loss: 1.386\n",
      "Epoch 63: 14.15 min elapsed, train acc: 67.77%, train loss: 0.865, valid acc: 48.26%, valid loss: 1.418\n",
      "Epoch 64: 14.35 min elapsed, train acc: 69.35%, train loss: 0.842, valid acc: 48.57%, valid loss: 1.446\n",
      "Epoch 65: 14.55 min elapsed, train acc: 69.3%, train loss: 0.826, valid acc: 49.02%, valid loss: 1.441\n",
      "Epoch 66: 14.74 min elapsed, train acc: 70.25%, train loss: 0.81, valid acc: 48.62%, valid loss: 1.452\n",
      "Epoch 67: 14.94 min elapsed, train acc: 71.25%, train loss: 0.792, valid acc: 49.14%, valid loss: 1.414\n",
      "Epoch 68: 15.18 min elapsed, train acc: 72.08%, train loss: 0.764, valid acc: 49.61%, valid loss: 1.431\n",
      "Epoch 69: 15.39 min elapsed, train acc: 72.63%, train loss: 0.751, valid acc: 49.4%, valid loss: 1.441\n",
      "Epoch 70: 15.58 min elapsed, train acc: 73.6%, train loss: 0.732, valid acc: 49.42%, valid loss: 1.455\n",
      "Epoch 71: 15.78 min elapsed, train acc: 73.69%, train loss: 0.725, valid acc: 49.11%, valid loss: 1.441\n",
      "Epoch 72: 15.98 min elapsed, train acc: 75.12%, train loss: 0.703, valid acc: 48.81%, valid loss: 1.46\n",
      "Epoch 73: 16.18 min elapsed, train acc: 75.88%, train loss: 0.684, valid acc: 49.47%, valid loss: 1.491\n",
      "Epoch 74: 16.43 min elapsed, train acc: 76.16%, train loss: 0.678, valid acc: 49.74%, valid loss: 1.492\n",
      "Epoch 75: 16.63 min elapsed, train acc: 77.24%, train loss: 0.657, valid acc: 49.39%, valid loss: 1.518\n",
      "Epoch 76: 16.83 min elapsed, train acc: 77.36%, train loss: 0.641, valid acc: 49.72%, valid loss: 1.51\n",
      "Epoch 77: 17.02 min elapsed, train acc: 78.1%, train loss: 0.63, valid acc: 49.38%, valid loss: 1.517\n",
      "Epoch 78: 17.22 min elapsed, train acc: 78.82%, train loss: 0.61, valid acc: 49.64%, valid loss: 1.528\n",
      "Epoch 79: 17.42 min elapsed, train acc: 79.47%, train loss: 0.597, valid acc: 48.49%, valid loss: 1.543\n",
      "Epoch 80: 17.61 min elapsed, train acc: 79.84%, train loss: 0.584, valid acc: 49.21%, valid loss: 1.537\n",
      "Epoch 81: 17.85 min elapsed, train acc: 80.31%, train loss: 0.575, valid acc: 50.01%, valid loss: 1.53\n",
      "Epoch 82: 18.08 min elapsed, train acc: 80.95%, train loss: 0.557, valid acc: 50.06%, valid loss: 1.53\n",
      "Epoch 83: 18.33 min elapsed, train acc: 81.48%, train loss: 0.543, valid acc: 50.07%, valid loss: 1.581\n",
      "Epoch 84: 18.53 min elapsed, train acc: 82.04%, train loss: 0.532, valid acc: 49.68%, valid loss: 1.569\n",
      "Epoch 85: 18.72 min elapsed, train acc: 82.13%, train loss: 0.528, valid acc: 49.58%, valid loss: 1.561\n",
      "Epoch 86: 18.96 min elapsed, train acc: 82.7%, train loss: 0.52, valid acc: 50.47%, valid loss: 1.582\n",
      "Epoch 87: 19.16 min elapsed, train acc: 83.32%, train loss: 0.51, valid acc: 49.42%, valid loss: 1.633\n",
      "Epoch 88: 19.36 min elapsed, train acc: 84.01%, train loss: 0.493, valid acc: 49.63%, valid loss: 1.599\n",
      "Epoch 89: 19.59 min elapsed, train acc: 83.88%, train loss: 0.485, valid acc: 50.82%, valid loss: 1.588\n",
      "Epoch 90: 19.79 min elapsed, train acc: 84.4%, train loss: 0.484, valid acc: 49.9%, valid loss: 1.629\n",
      "Epoch 91: 19.99 min elapsed, train acc: 84.42%, train loss: 0.476, valid acc: 50.03%, valid loss: 1.647\n",
      "Epoch 92: 20.19 min elapsed, train acc: 84.47%, train loss: 0.47, valid acc: 50.01%, valid loss: 1.624\n",
      "Epoch 93: 20.38 min elapsed, train acc: 85.16%, train loss: 0.461, valid acc: 50.47%, valid loss: 1.646\n",
      "Epoch 94: 20.58 min elapsed, train acc: 85.41%, train loss: 0.448, valid acc: 50.64%, valid loss: 1.611\n",
      "Epoch 95: 20.78 min elapsed, train acc: 85.81%, train loss: 0.441, valid acc: 49.74%, valid loss: 1.679\n",
      "Epoch 96: 20.97 min elapsed, train acc: 85.75%, train loss: 0.438, valid acc: 50.18%, valid loss: 1.635\n",
      "Epoch 97: 21.17 min elapsed, train acc: 86.42%, train loss: 0.426, valid acc: 50.46%, valid loss: 1.659\n",
      "Epoch 98: 21.37 min elapsed, train acc: 86.44%, train loss: 0.426, valid acc: 49.83%, valid loss: 1.648\n",
      "Epoch 99: 21.56 min elapsed, train acc: 86.6%, train loss: 0.419, valid acc: 50.26%, valid loss: 1.689\n"
     ]
    },
    {
     "name": "stderr",
     "output_type": "stream",
     "text": [
      "\u001b[32m[I 2021-11-08 03:11:24,433]\u001b[0m Trial 16 finished with value: 0.4957075602326225 and parameters: {'conv1_out_ch': 4, 'conv2_out_ch': 28, 'dropout_rate': 0.5, 'optimizer': 'Adam', 'lr': 9.82379177142327e-05, 'weight_decay': 0.012391962671529734, 'batch_size': 192}. Best is trial 16 with value: 0.4957075602326225.\u001b[0m\n"
     ]
    },
    {
     "name": "stdout",
     "output_type": "stream",
     "text": [
      "Epoch 100: 21.77 min elapsed, train acc: 86.83%, train loss: 0.414, valid acc: 49.57%, valid loss: 1.685\n",
      "########################################################\n",
      "Finish model tuning\n",
      "Best epoch is 89, Accuracy: 0.5081694821379119, Loss: 1.5884589960700588\n",
      "########################################################\n",
      "Memory Usage:\n",
      "Allocated: 1.5 GB\n",
      "Cached:    1.6 GB\n",
      "Epoch 0: 0.24 min elapsed, train acc: 25.18%, train loss: 1.856, valid acc: 25.19%, valid loss: 1.829\n",
      "Epoch 1: 0.45 min elapsed, train acc: 25.18%, train loss: 1.832, valid acc: 25.19%, valid loss: 1.83\n",
      "Epoch 2: 0.66 min elapsed, train acc: 25.18%, train loss: 1.828, valid acc: 25.19%, valid loss: 1.836\n",
      "Epoch 3: 0.86 min elapsed, train acc: 25.19%, train loss: 1.827, valid acc: 25.19%, valid loss: 1.822\n",
      "Epoch 4: 1.06 min elapsed, train acc: 25.18%, train loss: 1.824, valid acc: 25.19%, valid loss: 1.825\n",
      "Epoch 5: 1.26 min elapsed, train acc: 25.18%, train loss: 1.823, valid acc: 25.19%, valid loss: 1.816\n",
      "Epoch 6: 1.46 min elapsed, train acc: 25.18%, train loss: 1.821, valid acc: 25.19%, valid loss: 1.822\n",
      "Epoch 7: 1.66 min elapsed, train acc: 25.18%, train loss: 1.819, valid acc: 25.19%, valid loss: 1.82\n",
      "Epoch 8: 1.85 min elapsed, train acc: 25.18%, train loss: 1.819, valid acc: 25.19%, valid loss: 1.814\n",
      "Epoch 9: 2.05 min elapsed, train acc: 25.18%, train loss: 1.818, valid acc: 25.19%, valid loss: 1.813\n",
      "Epoch 10: 2.25 min elapsed, train acc: 25.19%, train loss: 1.818, valid acc: 25.19%, valid loss: 1.813\n"
     ]
    },
    {
     "name": "stderr",
     "output_type": "stream",
     "text": [
      "\u001b[32m[I 2021-11-08 03:13:52,650]\u001b[0m Trial 17 pruned. \u001b[0m\n"
     ]
    },
    {
     "name": "stdout",
     "output_type": "stream",
     "text": [
      "Epoch 11: 2.45 min elapsed, train acc: 25.18%, train loss: 1.817, valid acc: 25.19%, valid loss: 1.824\n",
      "########################################################\n",
      "Finish model tuning\n",
      "Best epoch is 0, Accuracy: 0.2518692882857934, Loss: 1.8287913516948098\n",
      "########################################################\n",
      "Epoch 0: 0.22 min elapsed, train acc: 24.91%, train loss: 1.937, valid acc: 25.19%, valid loss: 1.937\n",
      "Epoch 1: 0.4 min elapsed, train acc: 25.2%, train loss: 1.936, valid acc: 25.19%, valid loss: 1.935\n",
      "Epoch 2: 0.59 min elapsed, train acc: 25.2%, train loss: 1.933, valid acc: 25.19%, valid loss: 1.931\n",
      "Epoch 3: 0.77 min elapsed, train acc: 25.2%, train loss: 1.929, valid acc: 25.19%, valid loss: 1.928\n",
      "Epoch 4: 0.95 min elapsed, train acc: 25.18%, train loss: 1.926, valid acc: 25.19%, valid loss: 1.925\n",
      "Epoch 5: 1.13 min elapsed, train acc: 25.2%, train loss: 1.923, valid acc: 25.19%, valid loss: 1.922\n",
      "Epoch 6: 1.31 min elapsed, train acc: 25.2%, train loss: 1.921, valid acc: 25.19%, valid loss: 1.92\n",
      "Epoch 7: 1.49 min elapsed, train acc: 25.2%, train loss: 1.918, valid acc: 25.19%, valid loss: 1.917\n",
      "Epoch 8: 1.67 min elapsed, train acc: 25.18%, train loss: 1.916, valid acc: 25.19%, valid loss: 1.915\n",
      "Epoch 9: 1.85 min elapsed, train acc: 25.2%, train loss: 1.915, valid acc: 25.19%, valid loss: 1.914\n",
      "Epoch 10: 2.04 min elapsed, train acc: 25.2%, train loss: 1.913, valid acc: 25.19%, valid loss: 1.912\n"
     ]
    },
    {
     "name": "stderr",
     "output_type": "stream",
     "text": [
      "\u001b[32m[I 2021-11-08 03:16:06,817]\u001b[0m Trial 18 pruned. \u001b[0m\n"
     ]
    },
    {
     "name": "stdout",
     "output_type": "stream",
     "text": [
      "Epoch 11: 2.22 min elapsed, train acc: 25.18%, train loss: 1.912, valid acc: 25.19%, valid loss: 1.911\n",
      "########################################################\n",
      "Finish model tuning\n",
      "Best epoch is 0, Accuracy: 0.2518692882857934, Loss: 1.9372757591050247\n",
      "########################################################\n",
      "Epoch 0: 0.27 min elapsed, train acc: 25.13%, train loss: 1.816, valid acc: 25.99%, valid loss: 1.79\n",
      "Epoch 1: 0.51 min elapsed, train acc: 25.98%, train loss: 1.783, valid acc: 25.99%, valid loss: 1.777\n",
      "Epoch 2: 0.78 min elapsed, train acc: 26.74%, train loss: 1.777, valid acc: 26.93%, valid loss: 1.771\n",
      "Epoch 3: 1.02 min elapsed, train acc: 27.8%, train loss: 1.763, valid acc: 26.68%, valid loss: 1.763\n",
      "Epoch 4: 1.29 min elapsed, train acc: 28.6%, train loss: 1.751, valid acc: 28.72%, valid loss: 1.748\n",
      "Epoch 5: 1.56 min elapsed, train acc: 28.87%, train loss: 1.743, valid acc: 28.84%, valid loss: 1.738\n",
      "Epoch 6: 1.84 min elapsed, train acc: 29.25%, train loss: 1.735, valid acc: 30.12%, valid loss: 1.723\n",
      "Epoch 7: 2.09 min elapsed, train acc: 29.55%, train loss: 1.73, valid acc: 29.77%, valid loss: 1.725\n",
      "Epoch 8: 2.36 min elapsed, train acc: 29.76%, train loss: 1.725, valid acc: 30.13%, valid loss: 1.719\n",
      "Epoch 9: 2.65 min elapsed, train acc: 30.32%, train loss: 1.714, valid acc: 30.68%, valid loss: 1.708\n",
      "Epoch 10: 2.89 min elapsed, train acc: 30.79%, train loss: 1.709, valid acc: 30.56%, valid loss: 1.711\n",
      "Epoch 11: 3.12 min elapsed, train acc: 31.7%, train loss: 1.699, valid acc: 25.67%, valid loss: 1.778\n",
      "Epoch 12: 3.39 min elapsed, train acc: 32.19%, train loss: 1.696, valid acc: 32.1%, valid loss: 1.691\n",
      "Epoch 13: 3.67 min elapsed, train acc: 32.46%, train loss: 1.686, valid acc: 33.55%, valid loss: 1.677\n",
      "Epoch 14: 3.94 min elapsed, train acc: 33.12%, train loss: 1.68, valid acc: 33.63%, valid loss: 1.672\n",
      "Epoch 15: 4.18 min elapsed, train acc: 32.74%, train loss: 1.672, valid acc: 30.82%, valid loss: 1.721\n",
      "Epoch 16: 4.42 min elapsed, train acc: 33.04%, train loss: 1.67, valid acc: 33.63%, valid loss: 1.663\n",
      "Epoch 17: 4.69 min elapsed, train acc: 33.08%, train loss: 1.665, valid acc: 34.56%, valid loss: 1.657\n",
      "Epoch 18: 4.93 min elapsed, train acc: 33.56%, train loss: 1.66, valid acc: 34.48%, valid loss: 1.649\n",
      "Epoch 19: 5.17 min elapsed, train acc: 33.63%, train loss: 1.653, valid acc: 33.99%, valid loss: 1.652\n",
      "Epoch 20: 5.43 min elapsed, train acc: 33.98%, train loss: 1.649, valid acc: 34.99%, valid loss: 1.651\n",
      "Epoch 21: 5.68 min elapsed, train acc: 34.03%, train loss: 1.648, valid acc: 32.39%, valid loss: 1.684\n",
      "Epoch 22: 5.92 min elapsed, train acc: 34.32%, train loss: 1.648, valid acc: 32.79%, valid loss: 1.689\n",
      "Epoch 23: 6.15 min elapsed, train acc: 33.8%, train loss: 1.649, valid acc: 33.09%, valid loss: 1.648\n",
      "Epoch 24: 6.39 min elapsed, train acc: 34.08%, train loss: 1.646, valid acc: 34.71%, valid loss: 1.642\n",
      "Epoch 25: 6.63 min elapsed, train acc: 33.95%, train loss: 1.642, valid acc: 32.69%, valid loss: 1.649\n",
      "Epoch 26: 6.86 min elapsed, train acc: 34.33%, train loss: 1.641, valid acc: 33.45%, valid loss: 1.646\n",
      "Epoch 27: 7.1 min elapsed, train acc: 34.26%, train loss: 1.635, valid acc: 34.88%, valid loss: 1.637\n",
      "Epoch 28: 7.37 min elapsed, train acc: 34.39%, train loss: 1.633, valid acc: 35.03%, valid loss: 1.626\n",
      "Epoch 29: 7.61 min elapsed, train acc: 34.17%, train loss: 1.637, valid acc: 34.88%, valid loss: 1.627\n",
      "Epoch 30: 7.88 min elapsed, train acc: 34.13%, train loss: 1.633, valid acc: 35.13%, valid loss: 1.627\n",
      "Epoch 31: 8.12 min elapsed, train acc: 34.27%, train loss: 1.627, valid acc: 34.62%, valid loss: 1.626\n",
      "Epoch 32: 8.41 min elapsed, train acc: 34.8%, train loss: 1.626, valid acc: 35.79%, valid loss: 1.627\n",
      "Epoch 33: 8.65 min elapsed, train acc: 34.84%, train loss: 1.626, valid acc: 34.34%, valid loss: 1.631\n",
      "Epoch 34: 8.89 min elapsed, train acc: 34.61%, train loss: 1.625, valid acc: 34.7%, valid loss: 1.624\n",
      "Epoch 35: 9.13 min elapsed, train acc: 34.76%, train loss: 1.623, valid acc: 35.56%, valid loss: 1.618\n",
      "Epoch 36: 9.41 min elapsed, train acc: 34.99%, train loss: 1.621, valid acc: 36.03%, valid loss: 1.613\n",
      "Epoch 37: 9.65 min elapsed, train acc: 34.95%, train loss: 1.621, valid acc: 35.63%, valid loss: 1.614\n",
      "Epoch 38: 9.89 min elapsed, train acc: 35.16%, train loss: 1.618, valid acc: 35.92%, valid loss: 1.611\n",
      "Epoch 39: 10.13 min elapsed, train acc: 34.95%, train loss: 1.616, valid acc: 33.85%, valid loss: 1.631\n",
      "Epoch 40: 10.37 min elapsed, train acc: 35.37%, train loss: 1.613, valid acc: 35.97%, valid loss: 1.612\n",
      "Epoch 41: 10.6 min elapsed, train acc: 35.3%, train loss: 1.616, valid acc: 35.46%, valid loss: 1.615\n",
      "Epoch 42: 10.89 min elapsed, train acc: 35.32%, train loss: 1.61, valid acc: 36.15%, valid loss: 1.607\n",
      "Epoch 43: 11.13 min elapsed, train acc: 35.66%, train loss: 1.607, valid acc: 34.78%, valid loss: 1.621\n",
      "Epoch 44: 11.4 min elapsed, train acc: 35.49%, train loss: 1.607, valid acc: 36.46%, valid loss: 1.611\n",
      "Epoch 45: 11.64 min elapsed, train acc: 35.76%, train loss: 1.604, valid acc: 35.32%, valid loss: 1.609\n",
      "Epoch 46: 11.87 min elapsed, train acc: 35.97%, train loss: 1.602, valid acc: 35.7%, valid loss: 1.604\n",
      "Epoch 47: 12.14 min elapsed, train acc: 35.99%, train loss: 1.598, valid acc: 36.5%, valid loss: 1.598\n",
      "Epoch 48: 12.38 min elapsed, train acc: 35.93%, train loss: 1.599, valid acc: 36.31%, valid loss: 1.602\n",
      "Epoch 49: 12.62 min elapsed, train acc: 36.08%, train loss: 1.595, valid acc: 36.42%, valid loss: 1.594\n",
      "Epoch 50: 12.86 min elapsed, train acc: 36.07%, train loss: 1.593, valid acc: 35.32%, valid loss: 1.604\n",
      "Epoch 51: 13.09 min elapsed, train acc: 35.64%, train loss: 1.597, valid acc: 35.79%, valid loss: 1.594\n",
      "Epoch 52: 13.33 min elapsed, train acc: 36.27%, train loss: 1.591, valid acc: 36.42%, valid loss: 1.592\n",
      "Epoch 53: 13.56 min elapsed, train acc: 36.26%, train loss: 1.587, valid acc: 36.42%, valid loss: 1.592\n",
      "Epoch 54: 13.83 min elapsed, train acc: 36.08%, train loss: 1.588, valid acc: 36.94%, valid loss: 1.585\n",
      "Epoch 55: 14.11 min elapsed, train acc: 36.27%, train loss: 1.586, valid acc: 37.18%, valid loss: 1.597\n",
      "Epoch 56: 14.35 min elapsed, train acc: 36.02%, train loss: 1.586, valid acc: 36.67%, valid loss: 1.589\n",
      "Epoch 57: 14.58 min elapsed, train acc: 36.55%, train loss: 1.581, valid acc: 36.21%, valid loss: 1.584\n",
      "Epoch 58: 14.82 min elapsed, train acc: 36.71%, train loss: 1.579, valid acc: 36.73%, valid loss: 1.586\n",
      "Epoch 59: 15.1 min elapsed, train acc: 36.69%, train loss: 1.577, valid acc: 37.41%, valid loss: 1.579\n",
      "Epoch 60: 15.34 min elapsed, train acc: 37.09%, train loss: 1.575, valid acc: 35.89%, valid loss: 1.593\n",
      "Epoch 61: 15.58 min elapsed, train acc: 36.79%, train loss: 1.573, valid acc: 37.03%, valid loss: 1.577\n",
      "Epoch 62: 15.81 min elapsed, train acc: 37.02%, train loss: 1.573, valid acc: 36.11%, valid loss: 1.592\n",
      "Epoch 63: 16.05 min elapsed, train acc: 36.84%, train loss: 1.57, valid acc: 36.21%, valid loss: 1.593\n",
      "Epoch 64: 16.32 min elapsed, train acc: 36.86%, train loss: 1.565, valid acc: 38.01%, valid loss: 1.567\n",
      "Epoch 65: 16.56 min elapsed, train acc: 37.19%, train loss: 1.564, valid acc: 37.47%, valid loss: 1.567\n",
      "Epoch 66: 16.8 min elapsed, train acc: 37.2%, train loss: 1.565, valid acc: 37.07%, valid loss: 1.572\n",
      "Epoch 67: 17.03 min elapsed, train acc: 37.34%, train loss: 1.559, valid acc: 37.64%, valid loss: 1.564\n",
      "Epoch 68: 17.27 min elapsed, train acc: 37.64%, train loss: 1.559, valid acc: 37.27%, valid loss: 1.564\n",
      "Epoch 69: 17.5 min elapsed, train acc: 37.35%, train loss: 1.557, valid acc: 37.84%, valid loss: 1.564\n",
      "Epoch 70: 17.74 min elapsed, train acc: 37.35%, train loss: 1.561, valid acc: 37.27%, valid loss: 1.563\n",
      "Epoch 71: 17.98 min elapsed, train acc: 37.38%, train loss: 1.557, valid acc: 37.82%, valid loss: 1.578\n",
      "Epoch 72: 18.21 min elapsed, train acc: 37.96%, train loss: 1.551, valid acc: 37.88%, valid loss: 1.561\n",
      "Epoch 73: 18.48 min elapsed, train acc: 37.87%, train loss: 1.552, valid acc: 38.29%, valid loss: 1.56\n",
      "Epoch 74: 18.72 min elapsed, train acc: 37.64%, train loss: 1.549, valid acc: 37.93%, valid loss: 1.558\n",
      "Epoch 75: 18.96 min elapsed, train acc: 37.75%, train loss: 1.547, valid acc: 38.04%, valid loss: 1.554\n",
      "Epoch 76: 19.2 min elapsed, train acc: 37.4%, train loss: 1.549, valid acc: 37.58%, valid loss: 1.559\n",
      "Epoch 77: 19.47 min elapsed, train acc: 37.65%, train loss: 1.545, valid acc: 38.41%, valid loss: 1.55\n",
      "Epoch 78: 19.72 min elapsed, train acc: 38.15%, train loss: 1.542, valid acc: 37.57%, valid loss: 1.552\n",
      "Epoch 79: 19.95 min elapsed, train acc: 38.03%, train loss: 1.54, valid acc: 36.64%, valid loss: 1.575\n",
      "Epoch 80: 20.19 min elapsed, train acc: 38.17%, train loss: 1.539, valid acc: 37.61%, valid loss: 1.552\n",
      "Epoch 81: 20.42 min elapsed, train acc: 37.98%, train loss: 1.54, valid acc: 37.37%, valid loss: 1.568\n",
      "Epoch 82: 20.7 min elapsed, train acc: 38.12%, train loss: 1.535, valid acc: 38.42%, valid loss: 1.549\n",
      "Epoch 83: 20.94 min elapsed, train acc: 38.26%, train loss: 1.535, valid acc: 38.06%, valid loss: 1.546\n",
      "Epoch 84: 21.17 min elapsed, train acc: 37.71%, train loss: 1.536, valid acc: 37.39%, valid loss: 1.562\n",
      "Epoch 85: 21.41 min elapsed, train acc: 37.99%, train loss: 1.537, valid acc: 37.47%, valid loss: 1.561\n",
      "Epoch 86: 21.64 min elapsed, train acc: 38.28%, train loss: 1.532, valid acc: 38.11%, valid loss: 1.55\n",
      "Epoch 87: 21.88 min elapsed, train acc: 38.36%, train loss: 1.529, valid acc: 37.18%, valid loss: 1.556\n",
      "Epoch 88: 22.12 min elapsed, train acc: 37.94%, train loss: 1.531, valid acc: 38.34%, valid loss: 1.545\n",
      "Epoch 89: 22.36 min elapsed, train acc: 38.67%, train loss: 1.527, valid acc: 37.98%, valid loss: 1.552\n",
      "Epoch 90: 22.6 min elapsed, train acc: 38.69%, train loss: 1.527, valid acc: 38.02%, valid loss: 1.544\n",
      "Epoch 91: 22.83 min elapsed, train acc: 38.33%, train loss: 1.526, valid acc: 37.51%, valid loss: 1.548\n",
      "Epoch 92: 23.11 min elapsed, train acc: 38.58%, train loss: 1.525, valid acc: 38.69%, valid loss: 1.54\n",
      "Epoch 93: 23.35 min elapsed, train acc: 38.62%, train loss: 1.521, valid acc: 38.3%, valid loss: 1.536\n",
      "Epoch 94: 23.59 min elapsed, train acc: 38.52%, train loss: 1.521, valid acc: 38.22%, valid loss: 1.537\n",
      "Epoch 95: 23.82 min elapsed, train acc: 38.65%, train loss: 1.522, valid acc: 36.47%, valid loss: 1.568\n",
      "Epoch 96: 24.06 min elapsed, train acc: 38.9%, train loss: 1.518, valid acc: 38.56%, valid loss: 1.536\n",
      "Epoch 97: 24.29 min elapsed, train acc: 39.13%, train loss: 1.515, valid acc: 38.66%, valid loss: 1.533\n",
      "Epoch 98: 24.53 min elapsed, train acc: 38.84%, train loss: 1.518, valid acc: 38.3%, valid loss: 1.535\n",
      "Epoch 99: 24.8 min elapsed, train acc: 38.98%, train loss: 1.514, valid acc: 38.88%, valid loss: 1.534\n",
      "Epoch 100: 25.04 min elapsed, train acc: 39.23%, train loss: 1.513, valid acc: 38.19%, valid loss: 1.541\n",
      "Epoch 101: 25.28 min elapsed, train acc: 38.95%, train loss: 1.511, valid acc: 37.44%, valid loss: 1.549\n",
      "Epoch 102: 25.51 min elapsed, train acc: 39.01%, train loss: 1.512, valid acc: 37.83%, valid loss: 1.558\n",
      "Epoch 103: 25.75 min elapsed, train acc: 39.0%, train loss: 1.512, valid acc: 38.24%, valid loss: 1.539\n",
      "Epoch 104: 25.98 min elapsed, train acc: 38.85%, train loss: 1.508, valid acc: 38.12%, valid loss: 1.535\n",
      "Epoch 105: 26.22 min elapsed, train acc: 38.97%, train loss: 1.508, valid acc: 38.52%, valid loss: 1.529\n",
      "Epoch 106: 26.46 min elapsed, train acc: 39.37%, train loss: 1.505, valid acc: 37.62%, valid loss: 1.543\n",
      "Epoch 107: 26.74 min elapsed, train acc: 39.13%, train loss: 1.51, valid acc: 39.02%, valid loss: 1.527\n",
      "Epoch 108: 26.98 min elapsed, train acc: 39.58%, train loss: 1.503, valid acc: 38.16%, valid loss: 1.539\n",
      "Epoch 109: 27.22 min elapsed, train acc: 39.21%, train loss: 1.504, valid acc: 38.67%, valid loss: 1.527\n",
      "Epoch 110: 27.45 min elapsed, train acc: 39.01%, train loss: 1.502, valid acc: 38.19%, valid loss: 1.53\n",
      "Epoch 111: 27.69 min elapsed, train acc: 39.06%, train loss: 1.504, valid acc: 38.58%, valid loss: 1.535\n",
      "Epoch 112: 27.93 min elapsed, train acc: 39.42%, train loss: 1.5, valid acc: 36.91%, valid loss: 1.57\n",
      "Epoch 113: 28.16 min elapsed, train acc: 39.38%, train loss: 1.5, valid acc: 38.88%, valid loss: 1.539\n",
      "Epoch 114: 28.4 min elapsed, train acc: 39.68%, train loss: 1.497, valid acc: 38.69%, valid loss: 1.524\n",
      "Epoch 115: 28.64 min elapsed, train acc: 39.37%, train loss: 1.497, valid acc: 38.06%, valid loss: 1.533\n",
      "Epoch 116: 28.87 min elapsed, train acc: 39.37%, train loss: 1.497, valid acc: 38.87%, valid loss: 1.524\n",
      "Epoch 117: 29.11 min elapsed, train acc: 39.81%, train loss: 1.497, valid acc: 39.02%, valid loss: 1.527\n"
     ]
    },
    {
     "name": "stderr",
     "output_type": "stream",
     "text": [
      "\u001b[32m[I 2021-11-08 03:45:28,430]\u001b[0m Trial 19 finished with value: 0.38867349764608145 and parameters: {'conv1_out_ch': 4, 'conv2_out_ch': 28, 'dropout_rate': 0.30000000000000004, 'optimizer': 'Adam', 'lr': 7.058289226224487e-05, 'weight_decay': 0.030697719533501124, 'batch_size': 128}. Best is trial 16 with value: 0.4957075602326225.\u001b[0m\n"
     ]
    },
    {
     "name": "stdout",
     "output_type": "stream",
     "text": [
      "Epoch 118: 29.34 min elapsed, train acc: 39.62%, train loss: 1.493, valid acc: 38.87%, valid loss: 1.533\n",
      "########################################################\n",
      "Finish model tuning\n",
      "Best epoch is 107, Accuracy: 0.3901966214345057, Loss: 1.5265709851917468\n",
      "########################################################\n",
      "Memory Usage:\n",
      "Allocated: 1.5 GB\n",
      "Cached:    1.6 GB\n",
      "Accuracy: 0.4957075602326225\n",
      "Best hyperparameters: {'conv1_out_ch': 4, 'conv2_out_ch': 28, 'dropout_rate': 0.5, 'optimizer': 'Adam', 'lr': 9.82379177142327e-05, 'weight_decay': 0.012391962671529734, 'batch_size': 192}\n"
     ]
    }
   ],
   "source": [
    "study = optuna.create_study(direction='maximize')\n",
    "study.optimize(objective, n_trials=20)\n",
    "\n",
    "trial = study.best_trial\n",
    "\n",
    "print('Accuracy: {}'.format(trial.value))\n",
    "print(\"Best hyperparameters: {}\".format(trial.params))"
   ]
  },
  {
   "cell_type": "code",
   "execution_count": null,
   "metadata": {},
   "outputs": [
    {
     "data": {
      "text/plain": [
       "0.4957075602326225"
      ]
     },
     "metadata": {},
     "output_type": "display_data"
    }
   ],
   "source": [
    "study.best_value"
   ]
  },
  {
   "cell_type": "code",
   "execution_count": null,
   "metadata": {
    "id": "Tpe81wlw6nFL",
    "outputId": "c6955446-b766-463b-d58c-844ede0c8731"
   },
   "outputs": [
    {
     "data": {
      "text/html": [
       "<div>\n",
       "<style scoped>\n",
       "    .dataframe tbody tr th:only-of-type {\n",
       "        vertical-align: middle;\n",
       "    }\n",
       "\n",
       "    .dataframe tbody tr th {\n",
       "        vertical-align: top;\n",
       "    }\n",
       "\n",
       "    .dataframe thead th {\n",
       "        text-align: right;\n",
       "    }\n",
       "</style>\n",
       "<table border=\"1\" class=\"dataframe\">\n",
       "  <thead>\n",
       "    <tr style=\"text-align: right;\">\n",
       "      <th></th>\n",
       "      <th>number</th>\n",
       "      <th>value</th>\n",
       "      <th>datetime_start</th>\n",
       "      <th>datetime_complete</th>\n",
       "      <th>duration</th>\n",
       "      <th>params_batch_size</th>\n",
       "      <th>params_conv1_out_ch</th>\n",
       "      <th>params_conv2_out_ch</th>\n",
       "      <th>params_dropout_rate</th>\n",
       "      <th>params_lr</th>\n",
       "      <th>params_optimizer</th>\n",
       "      <th>params_weight_decay</th>\n",
       "      <th>state</th>\n",
       "    </tr>\n",
       "  </thead>\n",
       "  <tbody>\n",
       "    <tr>\n",
       "      <th>0</th>\n",
       "      <td>0</td>\n",
       "      <td>0.361534</td>\n",
       "      <td>2021-11-08 00:29:14.543383</td>\n",
       "      <td>2021-11-08 00:35:56.172850</td>\n",
       "      <td>0 days 00:06:41.629467</td>\n",
       "      <td>384</td>\n",
       "      <td>2</td>\n",
       "      <td>20</td>\n",
       "      <td>0.5</td>\n",
       "      <td>0.000029</td>\n",
       "      <td>Adam</td>\n",
       "      <td>0.021466</td>\n",
       "      <td>COMPLETE</td>\n",
       "    </tr>\n",
       "    <tr>\n",
       "      <th>1</th>\n",
       "      <td>1</td>\n",
       "      <td>0.251869</td>\n",
       "      <td>2021-11-08 00:35:56.174922</td>\n",
       "      <td>2021-11-08 00:40:27.144030</td>\n",
       "      <td>0 days 00:04:30.969108</td>\n",
       "      <td>320</td>\n",
       "      <td>6</td>\n",
       "      <td>20</td>\n",
       "      <td>0.4</td>\n",
       "      <td>0.000097</td>\n",
       "      <td>SGD</td>\n",
       "      <td>0.045560</td>\n",
       "      <td>COMPLETE</td>\n",
       "    </tr>\n",
       "    <tr>\n",
       "      <th>2</th>\n",
       "      <td>2</td>\n",
       "      <td>0.143174</td>\n",
       "      <td>2021-11-08 00:40:27.146142</td>\n",
       "      <td>2021-11-08 00:42:00.335707</td>\n",
       "      <td>0 days 00:01:33.189565</td>\n",
       "      <td>320</td>\n",
       "      <td>2</td>\n",
       "      <td>20</td>\n",
       "      <td>0.3</td>\n",
       "      <td>0.000048</td>\n",
       "      <td>SGD</td>\n",
       "      <td>0.077774</td>\n",
       "      <td>COMPLETE</td>\n",
       "    </tr>\n",
       "    <tr>\n",
       "      <th>3</th>\n",
       "      <td>3</td>\n",
       "      <td>0.251869</td>\n",
       "      <td>2021-11-08 00:42:00.337255</td>\n",
       "      <td>2021-11-08 00:44:14.028495</td>\n",
       "      <td>0 days 00:02:13.691240</td>\n",
       "      <td>448</td>\n",
       "      <td>6</td>\n",
       "      <td>20</td>\n",
       "      <td>0.3</td>\n",
       "      <td>0.000963</td>\n",
       "      <td>SGD</td>\n",
       "      <td>1.791545</td>\n",
       "      <td>COMPLETE</td>\n",
       "    </tr>\n",
       "    <tr>\n",
       "      <th>4</th>\n",
       "      <td>4</td>\n",
       "      <td>0.251869</td>\n",
       "      <td>2021-11-08 00:44:14.030350</td>\n",
       "      <td>2021-11-08 00:46:13.960263</td>\n",
       "      <td>0 days 00:01:59.929913</td>\n",
       "      <td>448</td>\n",
       "      <td>6</td>\n",
       "      <td>32</td>\n",
       "      <td>0.1</td>\n",
       "      <td>0.000634</td>\n",
       "      <td>Adam</td>\n",
       "      <td>0.216644</td>\n",
       "      <td>COMPLETE</td>\n",
       "    </tr>\n",
       "    <tr>\n",
       "      <th>5</th>\n",
       "      <td>5</td>\n",
       "      <td>0.251869</td>\n",
       "      <td>2021-11-08 00:46:13.962162</td>\n",
       "      <td>2021-11-08 00:50:06.353496</td>\n",
       "      <td>0 days 00:03:52.391334</td>\n",
       "      <td>320</td>\n",
       "      <td>2</td>\n",
       "      <td>32</td>\n",
       "      <td>0.2</td>\n",
       "      <td>0.000040</td>\n",
       "      <td>Adam</td>\n",
       "      <td>2.390949</td>\n",
       "      <td>PRUNED</td>\n",
       "    </tr>\n",
       "    <tr>\n",
       "      <th>6</th>\n",
       "      <td>6</td>\n",
       "      <td>0.171559</td>\n",
       "      <td>2021-11-08 00:50:06.354571</td>\n",
       "      <td>2021-11-08 00:51:44.275359</td>\n",
       "      <td>0 days 00:01:37.920788</td>\n",
       "      <td>384</td>\n",
       "      <td>4</td>\n",
       "      <td>16</td>\n",
       "      <td>0.0</td>\n",
       "      <td>0.000060</td>\n",
       "      <td>Adam</td>\n",
       "      <td>0.278844</td>\n",
       "      <td>PRUNED</td>\n",
       "    </tr>\n",
       "    <tr>\n",
       "      <th>7</th>\n",
       "      <td>7</td>\n",
       "      <td>0.251869</td>\n",
       "      <td>2021-11-08 00:51:44.276299</td>\n",
       "      <td>2021-11-08 00:58:30.320193</td>\n",
       "      <td>0 days 00:06:46.043894</td>\n",
       "      <td>448</td>\n",
       "      <td>6</td>\n",
       "      <td>28</td>\n",
       "      <td>0.0</td>\n",
       "      <td>0.000302</td>\n",
       "      <td>SGD</td>\n",
       "      <td>0.011182</td>\n",
       "      <td>PRUNED</td>\n",
       "    </tr>\n",
       "    <tr>\n",
       "      <th>8</th>\n",
       "      <td>8</td>\n",
       "      <td>0.412767</td>\n",
       "      <td>2021-11-08 00:58:30.321418</td>\n",
       "      <td>2021-11-08 01:13:55.372348</td>\n",
       "      <td>0 days 00:15:25.050930</td>\n",
       "      <td>128</td>\n",
       "      <td>6</td>\n",
       "      <td>24</td>\n",
       "      <td>0.0</td>\n",
       "      <td>0.000031</td>\n",
       "      <td>Adam</td>\n",
       "      <td>0.029918</td>\n",
       "      <td>COMPLETE</td>\n",
       "    </tr>\n",
       "    <tr>\n",
       "      <th>9</th>\n",
       "      <td>9</td>\n",
       "      <td>0.143035</td>\n",
       "      <td>2021-11-08 01:13:55.374224</td>\n",
       "      <td>2021-11-08 01:16:27.185116</td>\n",
       "      <td>0 days 00:02:31.810892</td>\n",
       "      <td>448</td>\n",
       "      <td>4</td>\n",
       "      <td>24</td>\n",
       "      <td>0.0</td>\n",
       "      <td>0.000020</td>\n",
       "      <td>SGD</td>\n",
       "      <td>0.049634</td>\n",
       "      <td>PRUNED</td>\n",
       "    </tr>\n",
       "    <tr>\n",
       "      <th>10</th>\n",
       "      <td>10</td>\n",
       "      <td>0.251869</td>\n",
       "      <td>2021-11-08 01:16:27.186055</td>\n",
       "      <td>2021-11-08 01:21:13.814095</td>\n",
       "      <td>0 days 00:04:46.628040</td>\n",
       "      <td>64</td>\n",
       "      <td>4</td>\n",
       "      <td>28</td>\n",
       "      <td>0.2</td>\n",
       "      <td>0.000010</td>\n",
       "      <td>Adam</td>\n",
       "      <td>9.234400</td>\n",
       "      <td>COMPLETE</td>\n",
       "    </tr>\n",
       "    <tr>\n",
       "      <th>11</th>\n",
       "      <td>11</td>\n",
       "      <td>0.465107</td>\n",
       "      <td>2021-11-08 01:21:13.816077</td>\n",
       "      <td>2021-11-08 01:46:09.819107</td>\n",
       "      <td>0 days 00:24:56.003030</td>\n",
       "      <td>128</td>\n",
       "      <td>2</td>\n",
       "      <td>24</td>\n",
       "      <td>0.5</td>\n",
       "      <td>0.000022</td>\n",
       "      <td>Adam</td>\n",
       "      <td>0.010223</td>\n",
       "      <td>COMPLETE</td>\n",
       "    </tr>\n",
       "    <tr>\n",
       "      <th>12</th>\n",
       "      <td>12</td>\n",
       "      <td>0.460676</td>\n",
       "      <td>2021-11-08 01:46:09.820999</td>\n",
       "      <td>2021-11-08 02:10:30.797656</td>\n",
       "      <td>0 days 00:24:20.976657</td>\n",
       "      <td>128</td>\n",
       "      <td>2</td>\n",
       "      <td>24</td>\n",
       "      <td>0.5</td>\n",
       "      <td>0.000020</td>\n",
       "      <td>Adam</td>\n",
       "      <td>0.011286</td>\n",
       "      <td>COMPLETE</td>\n",
       "    </tr>\n",
       "    <tr>\n",
       "      <th>13</th>\n",
       "      <td>13</td>\n",
       "      <td>0.374135</td>\n",
       "      <td>2021-11-08 02:10:30.799162</td>\n",
       "      <td>2021-11-08 02:43:46.624669</td>\n",
       "      <td>0 days 00:33:15.825507</td>\n",
       "      <td>192</td>\n",
       "      <td>2</td>\n",
       "      <td>28</td>\n",
       "      <td>0.5</td>\n",
       "      <td>0.000011</td>\n",
       "      <td>Adam</td>\n",
       "      <td>0.014986</td>\n",
       "      <td>COMPLETE</td>\n",
       "    </tr>\n",
       "    <tr>\n",
       "      <th>14</th>\n",
       "      <td>14</td>\n",
       "      <td>0.251869</td>\n",
       "      <td>2021-11-08 02:43:46.627386</td>\n",
       "      <td>2021-11-08 02:45:55.575225</td>\n",
       "      <td>0 days 00:02:08.947839</td>\n",
       "      <td>192</td>\n",
       "      <td>2</td>\n",
       "      <td>24</td>\n",
       "      <td>0.4</td>\n",
       "      <td>0.000180</td>\n",
       "      <td>Adam</td>\n",
       "      <td>0.123013</td>\n",
       "      <td>PRUNED</td>\n",
       "    </tr>\n",
       "    <tr>\n",
       "      <th>15</th>\n",
       "      <td>15</td>\n",
       "      <td>0.251869</td>\n",
       "      <td>2021-11-08 02:45:55.576285</td>\n",
       "      <td>2021-11-08 02:49:37.100436</td>\n",
       "      <td>0 days 00:03:41.524151</td>\n",
       "      <td>64</td>\n",
       "      <td>2</td>\n",
       "      <td>16</td>\n",
       "      <td>0.4</td>\n",
       "      <td>0.000017</td>\n",
       "      <td>Adam</td>\n",
       "      <td>0.960976</td>\n",
       "      <td>PRUNED</td>\n",
       "    </tr>\n",
       "    <tr>\n",
       "      <th>16</th>\n",
       "      <td>16</td>\n",
       "      <td>0.495708</td>\n",
       "      <td>2021-11-08 02:49:37.101471</td>\n",
       "      <td>2021-11-08 03:11:24.432703</td>\n",
       "      <td>0 days 00:21:47.331232</td>\n",
       "      <td>192</td>\n",
       "      <td>4</td>\n",
       "      <td>28</td>\n",
       "      <td>0.5</td>\n",
       "      <td>0.000098</td>\n",
       "      <td>Adam</td>\n",
       "      <td>0.012392</td>\n",
       "      <td>COMPLETE</td>\n",
       "    </tr>\n",
       "    <tr>\n",
       "      <th>17</th>\n",
       "      <td>17</td>\n",
       "      <td>0.251869</td>\n",
       "      <td>2021-11-08 03:11:24.434815</td>\n",
       "      <td>2021-11-08 03:13:52.650768</td>\n",
       "      <td>0 days 00:02:28.215953</td>\n",
       "      <td>192</td>\n",
       "      <td>4</td>\n",
       "      <td>28</td>\n",
       "      <td>0.4</td>\n",
       "      <td>0.000099</td>\n",
       "      <td>Adam</td>\n",
       "      <td>0.113428</td>\n",
       "      <td>PRUNED</td>\n",
       "    </tr>\n",
       "    <tr>\n",
       "      <th>18</th>\n",
       "      <td>18</td>\n",
       "      <td>0.251869</td>\n",
       "      <td>2021-11-08 03:13:52.652128</td>\n",
       "      <td>2021-11-08 03:16:06.817696</td>\n",
       "      <td>0 days 00:02:14.165568</td>\n",
       "      <td>256</td>\n",
       "      <td>4</td>\n",
       "      <td>32</td>\n",
       "      <td>0.5</td>\n",
       "      <td>0.000225</td>\n",
       "      <td>Adam</td>\n",
       "      <td>0.509087</td>\n",
       "      <td>PRUNED</td>\n",
       "    </tr>\n",
       "    <tr>\n",
       "      <th>19</th>\n",
       "      <td>19</td>\n",
       "      <td>0.388673</td>\n",
       "      <td>2021-11-08 03:16:06.819090</td>\n",
       "      <td>2021-11-08 03:45:28.429934</td>\n",
       "      <td>0 days 00:29:21.610844</td>\n",
       "      <td>128</td>\n",
       "      <td>4</td>\n",
       "      <td>28</td>\n",
       "      <td>0.3</td>\n",
       "      <td>0.000071</td>\n",
       "      <td>Adam</td>\n",
       "      <td>0.030698</td>\n",
       "      <td>COMPLETE</td>\n",
       "    </tr>\n",
       "  </tbody>\n",
       "</table>\n",
       "</div>"
      ],
      "text/plain": [
       "    number     value  ... params_weight_decay     state\n",
       "0        0  0.361534  ...            0.021466  COMPLETE\n",
       "1        1  0.251869  ...            0.045560  COMPLETE\n",
       "2        2  0.143174  ...            0.077774  COMPLETE\n",
       "3        3  0.251869  ...            1.791545  COMPLETE\n",
       "4        4  0.251869  ...            0.216644  COMPLETE\n",
       "5        5  0.251869  ...            2.390949    PRUNED\n",
       "6        6  0.171559  ...            0.278844    PRUNED\n",
       "7        7  0.251869  ...            0.011182    PRUNED\n",
       "8        8  0.412767  ...            0.029918  COMPLETE\n",
       "9        9  0.143035  ...            0.049634    PRUNED\n",
       "10      10  0.251869  ...            9.234400  COMPLETE\n",
       "11      11  0.465107  ...            0.010223  COMPLETE\n",
       "12      12  0.460676  ...            0.011286  COMPLETE\n",
       "13      13  0.374135  ...            0.014986  COMPLETE\n",
       "14      14  0.251869  ...            0.123013    PRUNED\n",
       "15      15  0.251869  ...            0.960976    PRUNED\n",
       "16      16  0.495708  ...            0.012392  COMPLETE\n",
       "17      17  0.251869  ...            0.113428    PRUNED\n",
       "18      18  0.251869  ...            0.509087    PRUNED\n",
       "19      19  0.388673  ...            0.030698  COMPLETE\n",
       "\n",
       "[20 rows x 13 columns]"
      ]
     },
     "metadata": {},
     "output_type": "display_data"
    }
   ],
   "source": [
    "df = study.trials_dataframe()\n",
    "df"
   ]
  },
  {
   "cell_type": "code",
   "execution_count": null,
   "metadata": {
    "id": "-2lHQrlA6nFL",
    "outputId": "df10330b-8ce5-468f-868d-66023f77037e"
   },
   "outputs": [
    {
     "data": {
      "application/vnd.plotly.v1+json": {
       "config": {
        "plotlyServerURL": "https://plot.ly"
       },
       "data": [
        {
         "mode": "markers",
         "name": "Objective Value",
         "type": "scatter",
         "x": [
          0,
          1,
          2,
          3,
          4,
          8,
          10,
          11,
          12,
          13,
          16,
          19
         ],
         "y": [
          0.3615342010523401,
          0.2518692882857934,
          0.14317363611188036,
          0.2518692882857934,
          0.2518692882857934,
          0.41276654666297424,
          0.2518692882857934,
          0.4651066186651897,
          0.46067571309886457,
          0.3741345887565771,
          0.4957075602326225,
          0.38867349764608145
         ]
        },
        {
         "name": "Best Value",
         "type": "scatter",
         "x": [
          0,
          1,
          2,
          3,
          4,
          8,
          10,
          11,
          12,
          13,
          16,
          19
         ],
         "y": [
          0.3615342010523401,
          0.3615342010523401,
          0.3615342010523401,
          0.3615342010523401,
          0.3615342010523401,
          0.41276654666297424,
          0.41276654666297424,
          0.4651066186651897,
          0.4651066186651897,
          0.4651066186651897,
          0.4957075602326225,
          0.4957075602326225
         ]
        }
       ],
       "layout": {
        "template": {
         "data": {
          "bar": [
           {
            "error_x": {
             "color": "#2a3f5f"
            },
            "error_y": {
             "color": "#2a3f5f"
            },
            "marker": {
             "line": {
              "color": "#E5ECF6",
              "width": 0.5
             }
            },
            "type": "bar"
           }
          ],
          "barpolar": [
           {
            "marker": {
             "line": {
              "color": "#E5ECF6",
              "width": 0.5
             }
            },
            "type": "barpolar"
           }
          ],
          "carpet": [
           {
            "aaxis": {
             "endlinecolor": "#2a3f5f",
             "gridcolor": "white",
             "linecolor": "white",
             "minorgridcolor": "white",
             "startlinecolor": "#2a3f5f"
            },
            "baxis": {
             "endlinecolor": "#2a3f5f",
             "gridcolor": "white",
             "linecolor": "white",
             "minorgridcolor": "white",
             "startlinecolor": "#2a3f5f"
            },
            "type": "carpet"
           }
          ],
          "choropleth": [
           {
            "colorbar": {
             "outlinewidth": 0,
             "ticks": ""
            },
            "type": "choropleth"
           }
          ],
          "contour": [
           {
            "colorbar": {
             "outlinewidth": 0,
             "ticks": ""
            },
            "colorscale": [
             [
              0,
              "#0d0887"
             ],
             [
              0.1111111111111111,
              "#46039f"
             ],
             [
              0.2222222222222222,
              "#7201a8"
             ],
             [
              0.3333333333333333,
              "#9c179e"
             ],
             [
              0.4444444444444444,
              "#bd3786"
             ],
             [
              0.5555555555555556,
              "#d8576b"
             ],
             [
              0.6666666666666666,
              "#ed7953"
             ],
             [
              0.7777777777777778,
              "#fb9f3a"
             ],
             [
              0.8888888888888888,
              "#fdca26"
             ],
             [
              1,
              "#f0f921"
             ]
            ],
            "type": "contour"
           }
          ],
          "contourcarpet": [
           {
            "colorbar": {
             "outlinewidth": 0,
             "ticks": ""
            },
            "type": "contourcarpet"
           }
          ],
          "heatmap": [
           {
            "colorbar": {
             "outlinewidth": 0,
             "ticks": ""
            },
            "colorscale": [
             [
              0,
              "#0d0887"
             ],
             [
              0.1111111111111111,
              "#46039f"
             ],
             [
              0.2222222222222222,
              "#7201a8"
             ],
             [
              0.3333333333333333,
              "#9c179e"
             ],
             [
              0.4444444444444444,
              "#bd3786"
             ],
             [
              0.5555555555555556,
              "#d8576b"
             ],
             [
              0.6666666666666666,
              "#ed7953"
             ],
             [
              0.7777777777777778,
              "#fb9f3a"
             ],
             [
              0.8888888888888888,
              "#fdca26"
             ],
             [
              1,
              "#f0f921"
             ]
            ],
            "type": "heatmap"
           }
          ],
          "heatmapgl": [
           {
            "colorbar": {
             "outlinewidth": 0,
             "ticks": ""
            },
            "colorscale": [
             [
              0,
              "#0d0887"
             ],
             [
              0.1111111111111111,
              "#46039f"
             ],
             [
              0.2222222222222222,
              "#7201a8"
             ],
             [
              0.3333333333333333,
              "#9c179e"
             ],
             [
              0.4444444444444444,
              "#bd3786"
             ],
             [
              0.5555555555555556,
              "#d8576b"
             ],
             [
              0.6666666666666666,
              "#ed7953"
             ],
             [
              0.7777777777777778,
              "#fb9f3a"
             ],
             [
              0.8888888888888888,
              "#fdca26"
             ],
             [
              1,
              "#f0f921"
             ]
            ],
            "type": "heatmapgl"
           }
          ],
          "histogram": [
           {
            "marker": {
             "colorbar": {
              "outlinewidth": 0,
              "ticks": ""
             }
            },
            "type": "histogram"
           }
          ],
          "histogram2d": [
           {
            "colorbar": {
             "outlinewidth": 0,
             "ticks": ""
            },
            "colorscale": [
             [
              0,
              "#0d0887"
             ],
             [
              0.1111111111111111,
              "#46039f"
             ],
             [
              0.2222222222222222,
              "#7201a8"
             ],
             [
              0.3333333333333333,
              "#9c179e"
             ],
             [
              0.4444444444444444,
              "#bd3786"
             ],
             [
              0.5555555555555556,
              "#d8576b"
             ],
             [
              0.6666666666666666,
              "#ed7953"
             ],
             [
              0.7777777777777778,
              "#fb9f3a"
             ],
             [
              0.8888888888888888,
              "#fdca26"
             ],
             [
              1,
              "#f0f921"
             ]
            ],
            "type": "histogram2d"
           }
          ],
          "histogram2dcontour": [
           {
            "colorbar": {
             "outlinewidth": 0,
             "ticks": ""
            },
            "colorscale": [
             [
              0,
              "#0d0887"
             ],
             [
              0.1111111111111111,
              "#46039f"
             ],
             [
              0.2222222222222222,
              "#7201a8"
             ],
             [
              0.3333333333333333,
              "#9c179e"
             ],
             [
              0.4444444444444444,
              "#bd3786"
             ],
             [
              0.5555555555555556,
              "#d8576b"
             ],
             [
              0.6666666666666666,
              "#ed7953"
             ],
             [
              0.7777777777777778,
              "#fb9f3a"
             ],
             [
              0.8888888888888888,
              "#fdca26"
             ],
             [
              1,
              "#f0f921"
             ]
            ],
            "type": "histogram2dcontour"
           }
          ],
          "mesh3d": [
           {
            "colorbar": {
             "outlinewidth": 0,
             "ticks": ""
            },
            "type": "mesh3d"
           }
          ],
          "parcoords": [
           {
            "line": {
             "colorbar": {
              "outlinewidth": 0,
              "ticks": ""
             }
            },
            "type": "parcoords"
           }
          ],
          "pie": [
           {
            "automargin": true,
            "type": "pie"
           }
          ],
          "scatter": [
           {
            "marker": {
             "colorbar": {
              "outlinewidth": 0,
              "ticks": ""
             }
            },
            "type": "scatter"
           }
          ],
          "scatter3d": [
           {
            "line": {
             "colorbar": {
              "outlinewidth": 0,
              "ticks": ""
             }
            },
            "marker": {
             "colorbar": {
              "outlinewidth": 0,
              "ticks": ""
             }
            },
            "type": "scatter3d"
           }
          ],
          "scattercarpet": [
           {
            "marker": {
             "colorbar": {
              "outlinewidth": 0,
              "ticks": ""
             }
            },
            "type": "scattercarpet"
           }
          ],
          "scattergeo": [
           {
            "marker": {
             "colorbar": {
              "outlinewidth": 0,
              "ticks": ""
             }
            },
            "type": "scattergeo"
           }
          ],
          "scattergl": [
           {
            "marker": {
             "colorbar": {
              "outlinewidth": 0,
              "ticks": ""
             }
            },
            "type": "scattergl"
           }
          ],
          "scattermapbox": [
           {
            "marker": {
             "colorbar": {
              "outlinewidth": 0,
              "ticks": ""
             }
            },
            "type": "scattermapbox"
           }
          ],
          "scatterpolar": [
           {
            "marker": {
             "colorbar": {
              "outlinewidth": 0,
              "ticks": ""
             }
            },
            "type": "scatterpolar"
           }
          ],
          "scatterpolargl": [
           {
            "marker": {
             "colorbar": {
              "outlinewidth": 0,
              "ticks": ""
             }
            },
            "type": "scatterpolargl"
           }
          ],
          "scatterternary": [
           {
            "marker": {
             "colorbar": {
              "outlinewidth": 0,
              "ticks": ""
             }
            },
            "type": "scatterternary"
           }
          ],
          "surface": [
           {
            "colorbar": {
             "outlinewidth": 0,
             "ticks": ""
            },
            "colorscale": [
             [
              0,
              "#0d0887"
             ],
             [
              0.1111111111111111,
              "#46039f"
             ],
             [
              0.2222222222222222,
              "#7201a8"
             ],
             [
              0.3333333333333333,
              "#9c179e"
             ],
             [
              0.4444444444444444,
              "#bd3786"
             ],
             [
              0.5555555555555556,
              "#d8576b"
             ],
             [
              0.6666666666666666,
              "#ed7953"
             ],
             [
              0.7777777777777778,
              "#fb9f3a"
             ],
             [
              0.8888888888888888,
              "#fdca26"
             ],
             [
              1,
              "#f0f921"
             ]
            ],
            "type": "surface"
           }
          ],
          "table": [
           {
            "cells": {
             "fill": {
              "color": "#EBF0F8"
             },
             "line": {
              "color": "white"
             }
            },
            "header": {
             "fill": {
              "color": "#C8D4E3"
             },
             "line": {
              "color": "white"
             }
            },
            "type": "table"
           }
          ]
         },
         "layout": {
          "annotationdefaults": {
           "arrowcolor": "#2a3f5f",
           "arrowhead": 0,
           "arrowwidth": 1
          },
          "coloraxis": {
           "colorbar": {
            "outlinewidth": 0,
            "ticks": ""
           }
          },
          "colorscale": {
           "diverging": [
            [
             0,
             "#8e0152"
            ],
            [
             0.1,
             "#c51b7d"
            ],
            [
             0.2,
             "#de77ae"
            ],
            [
             0.3,
             "#f1b6da"
            ],
            [
             0.4,
             "#fde0ef"
            ],
            [
             0.5,
             "#f7f7f7"
            ],
            [
             0.6,
             "#e6f5d0"
            ],
            [
             0.7,
             "#b8e186"
            ],
            [
             0.8,
             "#7fbc41"
            ],
            [
             0.9,
             "#4d9221"
            ],
            [
             1,
             "#276419"
            ]
           ],
           "sequential": [
            [
             0,
             "#0d0887"
            ],
            [
             0.1111111111111111,
             "#46039f"
            ],
            [
             0.2222222222222222,
             "#7201a8"
            ],
            [
             0.3333333333333333,
             "#9c179e"
            ],
            [
             0.4444444444444444,
             "#bd3786"
            ],
            [
             0.5555555555555556,
             "#d8576b"
            ],
            [
             0.6666666666666666,
             "#ed7953"
            ],
            [
             0.7777777777777778,
             "#fb9f3a"
            ],
            [
             0.8888888888888888,
             "#fdca26"
            ],
            [
             1,
             "#f0f921"
            ]
           ],
           "sequentialminus": [
            [
             0,
             "#0d0887"
            ],
            [
             0.1111111111111111,
             "#46039f"
            ],
            [
             0.2222222222222222,
             "#7201a8"
            ],
            [
             0.3333333333333333,
             "#9c179e"
            ],
            [
             0.4444444444444444,
             "#bd3786"
            ],
            [
             0.5555555555555556,
             "#d8576b"
            ],
            [
             0.6666666666666666,
             "#ed7953"
            ],
            [
             0.7777777777777778,
             "#fb9f3a"
            ],
            [
             0.8888888888888888,
             "#fdca26"
            ],
            [
             1,
             "#f0f921"
            ]
           ]
          },
          "colorway": [
           "#636efa",
           "#EF553B",
           "#00cc96",
           "#ab63fa",
           "#FFA15A",
           "#19d3f3",
           "#FF6692",
           "#B6E880",
           "#FF97FF",
           "#FECB52"
          ],
          "font": {
           "color": "#2a3f5f"
          },
          "geo": {
           "bgcolor": "white",
           "lakecolor": "white",
           "landcolor": "#E5ECF6",
           "showlakes": true,
           "showland": true,
           "subunitcolor": "white"
          },
          "hoverlabel": {
           "align": "left"
          },
          "hovermode": "closest",
          "mapbox": {
           "style": "light"
          },
          "paper_bgcolor": "white",
          "plot_bgcolor": "#E5ECF6",
          "polar": {
           "angularaxis": {
            "gridcolor": "white",
            "linecolor": "white",
            "ticks": ""
           },
           "bgcolor": "#E5ECF6",
           "radialaxis": {
            "gridcolor": "white",
            "linecolor": "white",
            "ticks": ""
           }
          },
          "scene": {
           "xaxis": {
            "backgroundcolor": "#E5ECF6",
            "gridcolor": "white",
            "gridwidth": 2,
            "linecolor": "white",
            "showbackground": true,
            "ticks": "",
            "zerolinecolor": "white"
           },
           "yaxis": {
            "backgroundcolor": "#E5ECF6",
            "gridcolor": "white",
            "gridwidth": 2,
            "linecolor": "white",
            "showbackground": true,
            "ticks": "",
            "zerolinecolor": "white"
           },
           "zaxis": {
            "backgroundcolor": "#E5ECF6",
            "gridcolor": "white",
            "gridwidth": 2,
            "linecolor": "white",
            "showbackground": true,
            "ticks": "",
            "zerolinecolor": "white"
           }
          },
          "shapedefaults": {
           "line": {
            "color": "#2a3f5f"
           }
          },
          "ternary": {
           "aaxis": {
            "gridcolor": "white",
            "linecolor": "white",
            "ticks": ""
           },
           "baxis": {
            "gridcolor": "white",
            "linecolor": "white",
            "ticks": ""
           },
           "bgcolor": "#E5ECF6",
           "caxis": {
            "gridcolor": "white",
            "linecolor": "white",
            "ticks": ""
           }
          },
          "title": {
           "x": 0.05
          },
          "xaxis": {
           "automargin": true,
           "gridcolor": "white",
           "linecolor": "white",
           "ticks": "",
           "title": {
            "standoff": 15
           },
           "zerolinecolor": "white",
           "zerolinewidth": 2
          },
          "yaxis": {
           "automargin": true,
           "gridcolor": "white",
           "linecolor": "white",
           "ticks": "",
           "title": {
            "standoff": 15
           },
           "zerolinecolor": "white",
           "zerolinewidth": 2
          }
         }
        },
        "title": {
         "text": "Optimization History Plot"
        },
        "xaxis": {
         "title": {
          "text": "#Trials"
         }
        },
        "yaxis": {
         "title": {
          "text": "Objective Value"
         }
        }
       }
      }
     },
     "metadata": {},
     "output_type": "display_data"
    }
   ],
   "source": [
    "optuna.visualization.plot_optimization_history(study)"
   ]
  },
  {
   "cell_type": "code",
   "execution_count": null,
   "metadata": {
    "id": "-HWUHHXJ6nFM",
    "outputId": "f3680ebb-4c04-474a-e694-15e7482964c7"
   },
   "outputs": [
    {
     "data": {
      "application/vnd.plotly.v1+json": {
       "config": {
        "plotlyServerURL": "https://plot.ly"
       },
       "data": [
        {
         "colorbar": {
          "title": {
           "text": "Objective Value"
          }
         },
         "colorscale": [
          [
           0,
           "rgb(5,10,172)"
          ],
          [
           0.35,
           "rgb(40,60,190)"
          ],
          [
           0.5,
           "rgb(70,100,245)"
          ],
          [
           0.6,
           "rgb(90,120,245)"
          ],
          [
           0.7,
           "rgb(106,137,247)"
          ],
          [
           1,
           "rgb(220,220,220)"
          ]
         ],
         "connectgaps": true,
         "contours": {
          "coloring": "heatmap"
         },
         "hoverinfo": "none",
         "line": {
          "smoothing": 1.3
         },
         "reversescale": false,
         "type": "contour",
         "x": [
          1.8,
          2,
          4,
          6,
          6.2
         ],
         "y": [
          19.4,
          20,
          24,
          28,
          32,
          32.6
         ],
         "z": [
          [
           null,
           null,
           null,
           null,
           null
          ],
          [
           null,
           0.14317363611188036,
           null,
           0.2518692882857934,
           null
          ],
          [
           null,
           0.46067571309886457,
           null,
           0.41276654666297424,
           null
          ],
          [
           null,
           0.3741345887565771,
           0.38867349764608145,
           null,
           null
          ],
          [
           null,
           null,
           null,
           0.2518692882857934,
           null
          ],
          [
           null,
           null,
           null,
           null,
           null
          ]
         ]
        },
        {
         "marker": {
          "color": "black",
          "line": {
           "color": "Grey",
           "width": 0.5
          }
         },
         "mode": "markers",
         "showlegend": false,
         "type": "scatter",
         "x": [
          2,
          6,
          2,
          6,
          6,
          6,
          4,
          2,
          2,
          2,
          4,
          4
         ],
         "y": [
          20,
          20,
          20,
          20,
          32,
          24,
          28,
          24,
          24,
          28,
          28,
          28
         ]
        }
       ],
       "layout": {
        "template": {
         "data": {
          "bar": [
           {
            "error_x": {
             "color": "#2a3f5f"
            },
            "error_y": {
             "color": "#2a3f5f"
            },
            "marker": {
             "line": {
              "color": "#E5ECF6",
              "width": 0.5
             }
            },
            "type": "bar"
           }
          ],
          "barpolar": [
           {
            "marker": {
             "line": {
              "color": "#E5ECF6",
              "width": 0.5
             }
            },
            "type": "barpolar"
           }
          ],
          "carpet": [
           {
            "aaxis": {
             "endlinecolor": "#2a3f5f",
             "gridcolor": "white",
             "linecolor": "white",
             "minorgridcolor": "white",
             "startlinecolor": "#2a3f5f"
            },
            "baxis": {
             "endlinecolor": "#2a3f5f",
             "gridcolor": "white",
             "linecolor": "white",
             "minorgridcolor": "white",
             "startlinecolor": "#2a3f5f"
            },
            "type": "carpet"
           }
          ],
          "choropleth": [
           {
            "colorbar": {
             "outlinewidth": 0,
             "ticks": ""
            },
            "type": "choropleth"
           }
          ],
          "contour": [
           {
            "colorbar": {
             "outlinewidth": 0,
             "ticks": ""
            },
            "colorscale": [
             [
              0,
              "#0d0887"
             ],
             [
              0.1111111111111111,
              "#46039f"
             ],
             [
              0.2222222222222222,
              "#7201a8"
             ],
             [
              0.3333333333333333,
              "#9c179e"
             ],
             [
              0.4444444444444444,
              "#bd3786"
             ],
             [
              0.5555555555555556,
              "#d8576b"
             ],
             [
              0.6666666666666666,
              "#ed7953"
             ],
             [
              0.7777777777777778,
              "#fb9f3a"
             ],
             [
              0.8888888888888888,
              "#fdca26"
             ],
             [
              1,
              "#f0f921"
             ]
            ],
            "type": "contour"
           }
          ],
          "contourcarpet": [
           {
            "colorbar": {
             "outlinewidth": 0,
             "ticks": ""
            },
            "type": "contourcarpet"
           }
          ],
          "heatmap": [
           {
            "colorbar": {
             "outlinewidth": 0,
             "ticks": ""
            },
            "colorscale": [
             [
              0,
              "#0d0887"
             ],
             [
              0.1111111111111111,
              "#46039f"
             ],
             [
              0.2222222222222222,
              "#7201a8"
             ],
             [
              0.3333333333333333,
              "#9c179e"
             ],
             [
              0.4444444444444444,
              "#bd3786"
             ],
             [
              0.5555555555555556,
              "#d8576b"
             ],
             [
              0.6666666666666666,
              "#ed7953"
             ],
             [
              0.7777777777777778,
              "#fb9f3a"
             ],
             [
              0.8888888888888888,
              "#fdca26"
             ],
             [
              1,
              "#f0f921"
             ]
            ],
            "type": "heatmap"
           }
          ],
          "heatmapgl": [
           {
            "colorbar": {
             "outlinewidth": 0,
             "ticks": ""
            },
            "colorscale": [
             [
              0,
              "#0d0887"
             ],
             [
              0.1111111111111111,
              "#46039f"
             ],
             [
              0.2222222222222222,
              "#7201a8"
             ],
             [
              0.3333333333333333,
              "#9c179e"
             ],
             [
              0.4444444444444444,
              "#bd3786"
             ],
             [
              0.5555555555555556,
              "#d8576b"
             ],
             [
              0.6666666666666666,
              "#ed7953"
             ],
             [
              0.7777777777777778,
              "#fb9f3a"
             ],
             [
              0.8888888888888888,
              "#fdca26"
             ],
             [
              1,
              "#f0f921"
             ]
            ],
            "type": "heatmapgl"
           }
          ],
          "histogram": [
           {
            "marker": {
             "colorbar": {
              "outlinewidth": 0,
              "ticks": ""
             }
            },
            "type": "histogram"
           }
          ],
          "histogram2d": [
           {
            "colorbar": {
             "outlinewidth": 0,
             "ticks": ""
            },
            "colorscale": [
             [
              0,
              "#0d0887"
             ],
             [
              0.1111111111111111,
              "#46039f"
             ],
             [
              0.2222222222222222,
              "#7201a8"
             ],
             [
              0.3333333333333333,
              "#9c179e"
             ],
             [
              0.4444444444444444,
              "#bd3786"
             ],
             [
              0.5555555555555556,
              "#d8576b"
             ],
             [
              0.6666666666666666,
              "#ed7953"
             ],
             [
              0.7777777777777778,
              "#fb9f3a"
             ],
             [
              0.8888888888888888,
              "#fdca26"
             ],
             [
              1,
              "#f0f921"
             ]
            ],
            "type": "histogram2d"
           }
          ],
          "histogram2dcontour": [
           {
            "colorbar": {
             "outlinewidth": 0,
             "ticks": ""
            },
            "colorscale": [
             [
              0,
              "#0d0887"
             ],
             [
              0.1111111111111111,
              "#46039f"
             ],
             [
              0.2222222222222222,
              "#7201a8"
             ],
             [
              0.3333333333333333,
              "#9c179e"
             ],
             [
              0.4444444444444444,
              "#bd3786"
             ],
             [
              0.5555555555555556,
              "#d8576b"
             ],
             [
              0.6666666666666666,
              "#ed7953"
             ],
             [
              0.7777777777777778,
              "#fb9f3a"
             ],
             [
              0.8888888888888888,
              "#fdca26"
             ],
             [
              1,
              "#f0f921"
             ]
            ],
            "type": "histogram2dcontour"
           }
          ],
          "mesh3d": [
           {
            "colorbar": {
             "outlinewidth": 0,
             "ticks": ""
            },
            "type": "mesh3d"
           }
          ],
          "parcoords": [
           {
            "line": {
             "colorbar": {
              "outlinewidth": 0,
              "ticks": ""
             }
            },
            "type": "parcoords"
           }
          ],
          "pie": [
           {
            "automargin": true,
            "type": "pie"
           }
          ],
          "scatter": [
           {
            "marker": {
             "colorbar": {
              "outlinewidth": 0,
              "ticks": ""
             }
            },
            "type": "scatter"
           }
          ],
          "scatter3d": [
           {
            "line": {
             "colorbar": {
              "outlinewidth": 0,
              "ticks": ""
             }
            },
            "marker": {
             "colorbar": {
              "outlinewidth": 0,
              "ticks": ""
             }
            },
            "type": "scatter3d"
           }
          ],
          "scattercarpet": [
           {
            "marker": {
             "colorbar": {
              "outlinewidth": 0,
              "ticks": ""
             }
            },
            "type": "scattercarpet"
           }
          ],
          "scattergeo": [
           {
            "marker": {
             "colorbar": {
              "outlinewidth": 0,
              "ticks": ""
             }
            },
            "type": "scattergeo"
           }
          ],
          "scattergl": [
           {
            "marker": {
             "colorbar": {
              "outlinewidth": 0,
              "ticks": ""
             }
            },
            "type": "scattergl"
           }
          ],
          "scattermapbox": [
           {
            "marker": {
             "colorbar": {
              "outlinewidth": 0,
              "ticks": ""
             }
            },
            "type": "scattermapbox"
           }
          ],
          "scatterpolar": [
           {
            "marker": {
             "colorbar": {
              "outlinewidth": 0,
              "ticks": ""
             }
            },
            "type": "scatterpolar"
           }
          ],
          "scatterpolargl": [
           {
            "marker": {
             "colorbar": {
              "outlinewidth": 0,
              "ticks": ""
             }
            },
            "type": "scatterpolargl"
           }
          ],
          "scatterternary": [
           {
            "marker": {
             "colorbar": {
              "outlinewidth": 0,
              "ticks": ""
             }
            },
            "type": "scatterternary"
           }
          ],
          "surface": [
           {
            "colorbar": {
             "outlinewidth": 0,
             "ticks": ""
            },
            "colorscale": [
             [
              0,
              "#0d0887"
             ],
             [
              0.1111111111111111,
              "#46039f"
             ],
             [
              0.2222222222222222,
              "#7201a8"
             ],
             [
              0.3333333333333333,
              "#9c179e"
             ],
             [
              0.4444444444444444,
              "#bd3786"
             ],
             [
              0.5555555555555556,
              "#d8576b"
             ],
             [
              0.6666666666666666,
              "#ed7953"
             ],
             [
              0.7777777777777778,
              "#fb9f3a"
             ],
             [
              0.8888888888888888,
              "#fdca26"
             ],
             [
              1,
              "#f0f921"
             ]
            ],
            "type": "surface"
           }
          ],
          "table": [
           {
            "cells": {
             "fill": {
              "color": "#EBF0F8"
             },
             "line": {
              "color": "white"
             }
            },
            "header": {
             "fill": {
              "color": "#C8D4E3"
             },
             "line": {
              "color": "white"
             }
            },
            "type": "table"
           }
          ]
         },
         "layout": {
          "annotationdefaults": {
           "arrowcolor": "#2a3f5f",
           "arrowhead": 0,
           "arrowwidth": 1
          },
          "coloraxis": {
           "colorbar": {
            "outlinewidth": 0,
            "ticks": ""
           }
          },
          "colorscale": {
           "diverging": [
            [
             0,
             "#8e0152"
            ],
            [
             0.1,
             "#c51b7d"
            ],
            [
             0.2,
             "#de77ae"
            ],
            [
             0.3,
             "#f1b6da"
            ],
            [
             0.4,
             "#fde0ef"
            ],
            [
             0.5,
             "#f7f7f7"
            ],
            [
             0.6,
             "#e6f5d0"
            ],
            [
             0.7,
             "#b8e186"
            ],
            [
             0.8,
             "#7fbc41"
            ],
            [
             0.9,
             "#4d9221"
            ],
            [
             1,
             "#276419"
            ]
           ],
           "sequential": [
            [
             0,
             "#0d0887"
            ],
            [
             0.1111111111111111,
             "#46039f"
            ],
            [
             0.2222222222222222,
             "#7201a8"
            ],
            [
             0.3333333333333333,
             "#9c179e"
            ],
            [
             0.4444444444444444,
             "#bd3786"
            ],
            [
             0.5555555555555556,
             "#d8576b"
            ],
            [
             0.6666666666666666,
             "#ed7953"
            ],
            [
             0.7777777777777778,
             "#fb9f3a"
            ],
            [
             0.8888888888888888,
             "#fdca26"
            ],
            [
             1,
             "#f0f921"
            ]
           ],
           "sequentialminus": [
            [
             0,
             "#0d0887"
            ],
            [
             0.1111111111111111,
             "#46039f"
            ],
            [
             0.2222222222222222,
             "#7201a8"
            ],
            [
             0.3333333333333333,
             "#9c179e"
            ],
            [
             0.4444444444444444,
             "#bd3786"
            ],
            [
             0.5555555555555556,
             "#d8576b"
            ],
            [
             0.6666666666666666,
             "#ed7953"
            ],
            [
             0.7777777777777778,
             "#fb9f3a"
            ],
            [
             0.8888888888888888,
             "#fdca26"
            ],
            [
             1,
             "#f0f921"
            ]
           ]
          },
          "colorway": [
           "#636efa",
           "#EF553B",
           "#00cc96",
           "#ab63fa",
           "#FFA15A",
           "#19d3f3",
           "#FF6692",
           "#B6E880",
           "#FF97FF",
           "#FECB52"
          ],
          "font": {
           "color": "#2a3f5f"
          },
          "geo": {
           "bgcolor": "white",
           "lakecolor": "white",
           "landcolor": "#E5ECF6",
           "showlakes": true,
           "showland": true,
           "subunitcolor": "white"
          },
          "hoverlabel": {
           "align": "left"
          },
          "hovermode": "closest",
          "mapbox": {
           "style": "light"
          },
          "paper_bgcolor": "white",
          "plot_bgcolor": "#E5ECF6",
          "polar": {
           "angularaxis": {
            "gridcolor": "white",
            "linecolor": "white",
            "ticks": ""
           },
           "bgcolor": "#E5ECF6",
           "radialaxis": {
            "gridcolor": "white",
            "linecolor": "white",
            "ticks": ""
           }
          },
          "scene": {
           "xaxis": {
            "backgroundcolor": "#E5ECF6",
            "gridcolor": "white",
            "gridwidth": 2,
            "linecolor": "white",
            "showbackground": true,
            "ticks": "",
            "zerolinecolor": "white"
           },
           "yaxis": {
            "backgroundcolor": "#E5ECF6",
            "gridcolor": "white",
            "gridwidth": 2,
            "linecolor": "white",
            "showbackground": true,
            "ticks": "",
            "zerolinecolor": "white"
           },
           "zaxis": {
            "backgroundcolor": "#E5ECF6",
            "gridcolor": "white",
            "gridwidth": 2,
            "linecolor": "white",
            "showbackground": true,
            "ticks": "",
            "zerolinecolor": "white"
           }
          },
          "shapedefaults": {
           "line": {
            "color": "#2a3f5f"
           }
          },
          "ternary": {
           "aaxis": {
            "gridcolor": "white",
            "linecolor": "white",
            "ticks": ""
           },
           "baxis": {
            "gridcolor": "white",
            "linecolor": "white",
            "ticks": ""
           },
           "bgcolor": "#E5ECF6",
           "caxis": {
            "gridcolor": "white",
            "linecolor": "white",
            "ticks": ""
           }
          },
          "title": {
           "x": 0.05
          },
          "xaxis": {
           "automargin": true,
           "gridcolor": "white",
           "linecolor": "white",
           "ticks": "",
           "title": {
            "standoff": 15
           },
           "zerolinecolor": "white",
           "zerolinewidth": 2
          },
          "yaxis": {
           "automargin": true,
           "gridcolor": "white",
           "linecolor": "white",
           "ticks": "",
           "title": {
            "standoff": 15
           },
           "zerolinecolor": "white",
           "zerolinewidth": 2
          }
         }
        },
        "title": {
         "text": "Contour Plot"
        },
        "xaxis": {
         "range": [
          1.8,
          6.2
         ],
         "title": {
          "text": "conv1_out_ch"
         }
        },
        "yaxis": {
         "range": [
          19.4,
          32.6
         ],
         "title": {
          "text": "conv2_out_ch"
         }
        }
       }
      }
     },
     "metadata": {},
     "output_type": "display_data"
    }
   ],
   "source": [
    "optuna.visualization.plot_contour(study, params=['conv1_out_ch', 'conv2_out_ch'])"
   ]
  },
  {
   "cell_type": "code",
   "execution_count": null,
   "metadata": {
    "id": "92aJPVwW6nFN",
    "outputId": "e8f67601-f6ee-4166-e610-661e08ccf466"
   },
   "outputs": [
    {
     "data": {
      "application/vnd.plotly.v1+json": {
       "config": {
        "plotlyServerURL": "https://plot.ly"
       },
       "data": [
        {
         "colorbar": {
          "title": {
           "text": "Objective Value"
          }
         },
         "colorscale": [
          [
           0,
           "rgb(5,10,172)"
          ],
          [
           0.35,
           "rgb(40,60,190)"
          ],
          [
           0.5,
           "rgb(70,100,245)"
          ],
          [
           0.6,
           "rgb(90,120,245)"
          ],
          [
           0.7,
           "rgb(106,137,247)"
          ],
          [
           1,
           "rgb(220,220,220)"
          ]
         ],
         "connectgaps": true,
         "contours": {
          "coloring": "heatmap"
         },
         "hoverinfo": "none",
         "line": {
          "smoothing": 1.3
         },
         "reversescale": false,
         "type": "contour",
         "x": [
          0.000007989305724992996,
          0.00001003733937289165,
          0.000010919101350796906,
          0.000020302588494325018,
          0.0000222108535820999,
          0.000028934785942933613,
          0.00003084058260811155,
          0.000047967331602518885,
          0.00007058289226224487,
          0.00009740962768481644,
          0.0000982379177142327,
          0.000633765521352718,
          0.0009634073709221419,
          0.0012103738508891936
         ],
         "y": [
          "Adam",
          "SGD"
         ],
         "z": [
          [
           null,
           0.2518692882857934,
           0.3741345887565771,
           0.46067571309886457,
           0.4651066186651897,
           0.3615342010523401,
           0.41276654666297424,
           null,
           0.38867349764608145,
           null,
           0.4957075602326225,
           0.2518692882857934,
           null,
           null
          ],
          [
           null,
           null,
           null,
           null,
           null,
           null,
           null,
           0.14317363611188036,
           null,
           0.2518692882857934,
           null,
           null,
           0.2518692882857934,
           null
          ]
         ]
        },
        {
         "marker": {
          "color": "black",
          "line": {
           "color": "Grey",
           "width": 0.5
          }
         },
         "mode": "markers",
         "showlegend": false,
         "type": "scatter",
         "x": [
          0.000028934785942933613,
          0.00009740962768481644,
          0.000047967331602518885,
          0.0009634073709221419,
          0.000633765521352718,
          0.00003084058260811155,
          0.00001003733937289165,
          0.0000222108535820999,
          0.000020302588494325018,
          0.000010919101350796906,
          0.0000982379177142327,
          0.00007058289226224487
         ],
         "y": [
          "Adam",
          "SGD",
          "SGD",
          "SGD",
          "Adam",
          "Adam",
          "Adam",
          "Adam",
          "Adam",
          "Adam",
          "Adam",
          "Adam"
         ]
        }
       ],
       "layout": {
        "template": {
         "data": {
          "bar": [
           {
            "error_x": {
             "color": "#2a3f5f"
            },
            "error_y": {
             "color": "#2a3f5f"
            },
            "marker": {
             "line": {
              "color": "#E5ECF6",
              "width": 0.5
             }
            },
            "type": "bar"
           }
          ],
          "barpolar": [
           {
            "marker": {
             "line": {
              "color": "#E5ECF6",
              "width": 0.5
             }
            },
            "type": "barpolar"
           }
          ],
          "carpet": [
           {
            "aaxis": {
             "endlinecolor": "#2a3f5f",
             "gridcolor": "white",
             "linecolor": "white",
             "minorgridcolor": "white",
             "startlinecolor": "#2a3f5f"
            },
            "baxis": {
             "endlinecolor": "#2a3f5f",
             "gridcolor": "white",
             "linecolor": "white",
             "minorgridcolor": "white",
             "startlinecolor": "#2a3f5f"
            },
            "type": "carpet"
           }
          ],
          "choropleth": [
           {
            "colorbar": {
             "outlinewidth": 0,
             "ticks": ""
            },
            "type": "choropleth"
           }
          ],
          "contour": [
           {
            "colorbar": {
             "outlinewidth": 0,
             "ticks": ""
            },
            "colorscale": [
             [
              0,
              "#0d0887"
             ],
             [
              0.1111111111111111,
              "#46039f"
             ],
             [
              0.2222222222222222,
              "#7201a8"
             ],
             [
              0.3333333333333333,
              "#9c179e"
             ],
             [
              0.4444444444444444,
              "#bd3786"
             ],
             [
              0.5555555555555556,
              "#d8576b"
             ],
             [
              0.6666666666666666,
              "#ed7953"
             ],
             [
              0.7777777777777778,
              "#fb9f3a"
             ],
             [
              0.8888888888888888,
              "#fdca26"
             ],
             [
              1,
              "#f0f921"
             ]
            ],
            "type": "contour"
           }
          ],
          "contourcarpet": [
           {
            "colorbar": {
             "outlinewidth": 0,
             "ticks": ""
            },
            "type": "contourcarpet"
           }
          ],
          "heatmap": [
           {
            "colorbar": {
             "outlinewidth": 0,
             "ticks": ""
            },
            "colorscale": [
             [
              0,
              "#0d0887"
             ],
             [
              0.1111111111111111,
              "#46039f"
             ],
             [
              0.2222222222222222,
              "#7201a8"
             ],
             [
              0.3333333333333333,
              "#9c179e"
             ],
             [
              0.4444444444444444,
              "#bd3786"
             ],
             [
              0.5555555555555556,
              "#d8576b"
             ],
             [
              0.6666666666666666,
              "#ed7953"
             ],
             [
              0.7777777777777778,
              "#fb9f3a"
             ],
             [
              0.8888888888888888,
              "#fdca26"
             ],
             [
              1,
              "#f0f921"
             ]
            ],
            "type": "heatmap"
           }
          ],
          "heatmapgl": [
           {
            "colorbar": {
             "outlinewidth": 0,
             "ticks": ""
            },
            "colorscale": [
             [
              0,
              "#0d0887"
             ],
             [
              0.1111111111111111,
              "#46039f"
             ],
             [
              0.2222222222222222,
              "#7201a8"
             ],
             [
              0.3333333333333333,
              "#9c179e"
             ],
             [
              0.4444444444444444,
              "#bd3786"
             ],
             [
              0.5555555555555556,
              "#d8576b"
             ],
             [
              0.6666666666666666,
              "#ed7953"
             ],
             [
              0.7777777777777778,
              "#fb9f3a"
             ],
             [
              0.8888888888888888,
              "#fdca26"
             ],
             [
              1,
              "#f0f921"
             ]
            ],
            "type": "heatmapgl"
           }
          ],
          "histogram": [
           {
            "marker": {
             "colorbar": {
              "outlinewidth": 0,
              "ticks": ""
             }
            },
            "type": "histogram"
           }
          ],
          "histogram2d": [
           {
            "colorbar": {
             "outlinewidth": 0,
             "ticks": ""
            },
            "colorscale": [
             [
              0,
              "#0d0887"
             ],
             [
              0.1111111111111111,
              "#46039f"
             ],
             [
              0.2222222222222222,
              "#7201a8"
             ],
             [
              0.3333333333333333,
              "#9c179e"
             ],
             [
              0.4444444444444444,
              "#bd3786"
             ],
             [
              0.5555555555555556,
              "#d8576b"
             ],
             [
              0.6666666666666666,
              "#ed7953"
             ],
             [
              0.7777777777777778,
              "#fb9f3a"
             ],
             [
              0.8888888888888888,
              "#fdca26"
             ],
             [
              1,
              "#f0f921"
             ]
            ],
            "type": "histogram2d"
           }
          ],
          "histogram2dcontour": [
           {
            "colorbar": {
             "outlinewidth": 0,
             "ticks": ""
            },
            "colorscale": [
             [
              0,
              "#0d0887"
             ],
             [
              0.1111111111111111,
              "#46039f"
             ],
             [
              0.2222222222222222,
              "#7201a8"
             ],
             [
              0.3333333333333333,
              "#9c179e"
             ],
             [
              0.4444444444444444,
              "#bd3786"
             ],
             [
              0.5555555555555556,
              "#d8576b"
             ],
             [
              0.6666666666666666,
              "#ed7953"
             ],
             [
              0.7777777777777778,
              "#fb9f3a"
             ],
             [
              0.8888888888888888,
              "#fdca26"
             ],
             [
              1,
              "#f0f921"
             ]
            ],
            "type": "histogram2dcontour"
           }
          ],
          "mesh3d": [
           {
            "colorbar": {
             "outlinewidth": 0,
             "ticks": ""
            },
            "type": "mesh3d"
           }
          ],
          "parcoords": [
           {
            "line": {
             "colorbar": {
              "outlinewidth": 0,
              "ticks": ""
             }
            },
            "type": "parcoords"
           }
          ],
          "pie": [
           {
            "automargin": true,
            "type": "pie"
           }
          ],
          "scatter": [
           {
            "marker": {
             "colorbar": {
              "outlinewidth": 0,
              "ticks": ""
             }
            },
            "type": "scatter"
           }
          ],
          "scatter3d": [
           {
            "line": {
             "colorbar": {
              "outlinewidth": 0,
              "ticks": ""
             }
            },
            "marker": {
             "colorbar": {
              "outlinewidth": 0,
              "ticks": ""
             }
            },
            "type": "scatter3d"
           }
          ],
          "scattercarpet": [
           {
            "marker": {
             "colorbar": {
              "outlinewidth": 0,
              "ticks": ""
             }
            },
            "type": "scattercarpet"
           }
          ],
          "scattergeo": [
           {
            "marker": {
             "colorbar": {
              "outlinewidth": 0,
              "ticks": ""
             }
            },
            "type": "scattergeo"
           }
          ],
          "scattergl": [
           {
            "marker": {
             "colorbar": {
              "outlinewidth": 0,
              "ticks": ""
             }
            },
            "type": "scattergl"
           }
          ],
          "scattermapbox": [
           {
            "marker": {
             "colorbar": {
              "outlinewidth": 0,
              "ticks": ""
             }
            },
            "type": "scattermapbox"
           }
          ],
          "scatterpolar": [
           {
            "marker": {
             "colorbar": {
              "outlinewidth": 0,
              "ticks": ""
             }
            },
            "type": "scatterpolar"
           }
          ],
          "scatterpolargl": [
           {
            "marker": {
             "colorbar": {
              "outlinewidth": 0,
              "ticks": ""
             }
            },
            "type": "scatterpolargl"
           }
          ],
          "scatterternary": [
           {
            "marker": {
             "colorbar": {
              "outlinewidth": 0,
              "ticks": ""
             }
            },
            "type": "scatterternary"
           }
          ],
          "surface": [
           {
            "colorbar": {
             "outlinewidth": 0,
             "ticks": ""
            },
            "colorscale": [
             [
              0,
              "#0d0887"
             ],
             [
              0.1111111111111111,
              "#46039f"
             ],
             [
              0.2222222222222222,
              "#7201a8"
             ],
             [
              0.3333333333333333,
              "#9c179e"
             ],
             [
              0.4444444444444444,
              "#bd3786"
             ],
             [
              0.5555555555555556,
              "#d8576b"
             ],
             [
              0.6666666666666666,
              "#ed7953"
             ],
             [
              0.7777777777777778,
              "#fb9f3a"
             ],
             [
              0.8888888888888888,
              "#fdca26"
             ],
             [
              1,
              "#f0f921"
             ]
            ],
            "type": "surface"
           }
          ],
          "table": [
           {
            "cells": {
             "fill": {
              "color": "#EBF0F8"
             },
             "line": {
              "color": "white"
             }
            },
            "header": {
             "fill": {
              "color": "#C8D4E3"
             },
             "line": {
              "color": "white"
             }
            },
            "type": "table"
           }
          ]
         },
         "layout": {
          "annotationdefaults": {
           "arrowcolor": "#2a3f5f",
           "arrowhead": 0,
           "arrowwidth": 1
          },
          "coloraxis": {
           "colorbar": {
            "outlinewidth": 0,
            "ticks": ""
           }
          },
          "colorscale": {
           "diverging": [
            [
             0,
             "#8e0152"
            ],
            [
             0.1,
             "#c51b7d"
            ],
            [
             0.2,
             "#de77ae"
            ],
            [
             0.3,
             "#f1b6da"
            ],
            [
             0.4,
             "#fde0ef"
            ],
            [
             0.5,
             "#f7f7f7"
            ],
            [
             0.6,
             "#e6f5d0"
            ],
            [
             0.7,
             "#b8e186"
            ],
            [
             0.8,
             "#7fbc41"
            ],
            [
             0.9,
             "#4d9221"
            ],
            [
             1,
             "#276419"
            ]
           ],
           "sequential": [
            [
             0,
             "#0d0887"
            ],
            [
             0.1111111111111111,
             "#46039f"
            ],
            [
             0.2222222222222222,
             "#7201a8"
            ],
            [
             0.3333333333333333,
             "#9c179e"
            ],
            [
             0.4444444444444444,
             "#bd3786"
            ],
            [
             0.5555555555555556,
             "#d8576b"
            ],
            [
             0.6666666666666666,
             "#ed7953"
            ],
            [
             0.7777777777777778,
             "#fb9f3a"
            ],
            [
             0.8888888888888888,
             "#fdca26"
            ],
            [
             1,
             "#f0f921"
            ]
           ],
           "sequentialminus": [
            [
             0,
             "#0d0887"
            ],
            [
             0.1111111111111111,
             "#46039f"
            ],
            [
             0.2222222222222222,
             "#7201a8"
            ],
            [
             0.3333333333333333,
             "#9c179e"
            ],
            [
             0.4444444444444444,
             "#bd3786"
            ],
            [
             0.5555555555555556,
             "#d8576b"
            ],
            [
             0.6666666666666666,
             "#ed7953"
            ],
            [
             0.7777777777777778,
             "#fb9f3a"
            ],
            [
             0.8888888888888888,
             "#fdca26"
            ],
            [
             1,
             "#f0f921"
            ]
           ]
          },
          "colorway": [
           "#636efa",
           "#EF553B",
           "#00cc96",
           "#ab63fa",
           "#FFA15A",
           "#19d3f3",
           "#FF6692",
           "#B6E880",
           "#FF97FF",
           "#FECB52"
          ],
          "font": {
           "color": "#2a3f5f"
          },
          "geo": {
           "bgcolor": "white",
           "lakecolor": "white",
           "landcolor": "#E5ECF6",
           "showlakes": true,
           "showland": true,
           "subunitcolor": "white"
          },
          "hoverlabel": {
           "align": "left"
          },
          "hovermode": "closest",
          "mapbox": {
           "style": "light"
          },
          "paper_bgcolor": "white",
          "plot_bgcolor": "#E5ECF6",
          "polar": {
           "angularaxis": {
            "gridcolor": "white",
            "linecolor": "white",
            "ticks": ""
           },
           "bgcolor": "#E5ECF6",
           "radialaxis": {
            "gridcolor": "white",
            "linecolor": "white",
            "ticks": ""
           }
          },
          "scene": {
           "xaxis": {
            "backgroundcolor": "#E5ECF6",
            "gridcolor": "white",
            "gridwidth": 2,
            "linecolor": "white",
            "showbackground": true,
            "ticks": "",
            "zerolinecolor": "white"
           },
           "yaxis": {
            "backgroundcolor": "#E5ECF6",
            "gridcolor": "white",
            "gridwidth": 2,
            "linecolor": "white",
            "showbackground": true,
            "ticks": "",
            "zerolinecolor": "white"
           },
           "zaxis": {
            "backgroundcolor": "#E5ECF6",
            "gridcolor": "white",
            "gridwidth": 2,
            "linecolor": "white",
            "showbackground": true,
            "ticks": "",
            "zerolinecolor": "white"
           }
          },
          "shapedefaults": {
           "line": {
            "color": "#2a3f5f"
           }
          },
          "ternary": {
           "aaxis": {
            "gridcolor": "white",
            "linecolor": "white",
            "ticks": ""
           },
           "baxis": {
            "gridcolor": "white",
            "linecolor": "white",
            "ticks": ""
           },
           "bgcolor": "#E5ECF6",
           "caxis": {
            "gridcolor": "white",
            "linecolor": "white",
            "ticks": ""
           }
          },
          "title": {
           "x": 0.05
          },
          "xaxis": {
           "automargin": true,
           "gridcolor": "white",
           "linecolor": "white",
           "ticks": "",
           "title": {
            "standoff": 15
           },
           "zerolinecolor": "white",
           "zerolinewidth": 2
          },
          "yaxis": {
           "automargin": true,
           "gridcolor": "white",
           "linecolor": "white",
           "ticks": "",
           "title": {
            "standoff": 15
           },
           "zerolinecolor": "white",
           "zerolinewidth": 2
          }
         }
        },
        "title": {
         "text": "Contour Plot"
        },
        "xaxis": {
         "range": [
          -5.097490959472642,
          -2.9170804674511635
         ],
         "title": {
          "text": "lr"
         },
         "type": "log"
        },
        "yaxis": {
         "range": [
          "Adam",
          "SGD"
         ],
         "title": {
          "text": "optimizer"
         },
         "type": "category"
        }
       }
      }
     },
     "metadata": {},
     "output_type": "display_data"
    }
   ],
   "source": [
    "optuna.visualization.plot_contour(study, params=['optimizer', 'lr'])"
   ]
  },
  {
   "cell_type": "code",
   "execution_count": null,
   "metadata": {
    "id": "eJyBlekA6nFN",
    "outputId": "a6389db7-d4fd-47a6-eb60-a1b1a4c29905"
   },
   "outputs": [
    {
     "data": {
      "application/vnd.plotly.v1+json": {
       "config": {
        "plotlyServerURL": "https://plot.ly"
       },
       "data": [
        {
         "colorbar": {
          "title": {
           "text": "Objective Value"
          }
         },
         "colorscale": [
          [
           0,
           "rgb(5,10,172)"
          ],
          [
           0.35,
           "rgb(40,60,190)"
          ],
          [
           0.5,
           "rgb(70,100,245)"
          ],
          [
           0.6,
           "rgb(90,120,245)"
          ],
          [
           0.7,
           "rgb(106,137,247)"
          ],
          [
           1,
           "rgb(220,220,220)"
          ]
         ],
         "connectgaps": true,
         "contours": {
          "coloring": "heatmap"
         },
         "hoverinfo": "none",
         "line": {
          "smoothing": 1.3
         },
         "reversescale": false,
         "type": "contour",
         "x": [
          44.8,
          64,
          128,
          192,
          320,
          384,
          448,
          467.2
         ],
         "y": [
          0.000007989305724992996,
          0.00001003733937289165,
          0.000010919101350796906,
          0.000020302588494325018,
          0.0000222108535820999,
          0.000028934785942933613,
          0.00003084058260811155,
          0.000047967331602518885,
          0.00007058289226224487,
          0.00009740962768481644,
          0.0000982379177142327,
          0.000633765521352718,
          0.0009634073709221419,
          0.0012103738508891936
         ],
         "z": [
          [
           null,
           null,
           null,
           null,
           null,
           null,
           null,
           null
          ],
          [
           null,
           0.2518692882857934,
           null,
           null,
           null,
           null,
           null,
           null
          ],
          [
           null,
           null,
           null,
           0.3741345887565771,
           null,
           null,
           null,
           null
          ],
          [
           null,
           null,
           0.46067571309886457,
           null,
           null,
           null,
           null,
           null
          ],
          [
           null,
           null,
           0.4651066186651897,
           null,
           null,
           null,
           null,
           null
          ],
          [
           null,
           null,
           null,
           null,
           null,
           0.3615342010523401,
           null,
           null
          ],
          [
           null,
           null,
           0.41276654666297424,
           null,
           null,
           null,
           null,
           null
          ],
          [
           null,
           null,
           null,
           null,
           0.14317363611188036,
           null,
           null,
           null
          ],
          [
           null,
           null,
           0.38867349764608145,
           null,
           null,
           null,
           null,
           null
          ],
          [
           null,
           null,
           null,
           null,
           0.2518692882857934,
           null,
           null,
           null
          ],
          [
           null,
           null,
           null,
           0.4957075602326225,
           null,
           null,
           null,
           null
          ],
          [
           null,
           null,
           null,
           null,
           null,
           null,
           0.2518692882857934,
           null
          ],
          [
           null,
           null,
           null,
           null,
           null,
           null,
           0.2518692882857934,
           null
          ],
          [
           null,
           null,
           null,
           null,
           null,
           null,
           null,
           null
          ]
         ]
        },
        {
         "marker": {
          "color": "black",
          "line": {
           "color": "Grey",
           "width": 0.5
          }
         },
         "mode": "markers",
         "showlegend": false,
         "type": "scatter",
         "x": [
          384,
          320,
          320,
          448,
          448,
          128,
          64,
          128,
          128,
          192,
          192,
          128
         ],
         "y": [
          0.000028934785942933613,
          0.00009740962768481644,
          0.000047967331602518885,
          0.0009634073709221419,
          0.000633765521352718,
          0.00003084058260811155,
          0.00001003733937289165,
          0.0000222108535820999,
          0.000020302588494325018,
          0.000010919101350796906,
          0.0000982379177142327,
          0.00007058289226224487
         ]
        }
       ],
       "layout": {
        "template": {
         "data": {
          "bar": [
           {
            "error_x": {
             "color": "#2a3f5f"
            },
            "error_y": {
             "color": "#2a3f5f"
            },
            "marker": {
             "line": {
              "color": "#E5ECF6",
              "width": 0.5
             }
            },
            "type": "bar"
           }
          ],
          "barpolar": [
           {
            "marker": {
             "line": {
              "color": "#E5ECF6",
              "width": 0.5
             }
            },
            "type": "barpolar"
           }
          ],
          "carpet": [
           {
            "aaxis": {
             "endlinecolor": "#2a3f5f",
             "gridcolor": "white",
             "linecolor": "white",
             "minorgridcolor": "white",
             "startlinecolor": "#2a3f5f"
            },
            "baxis": {
             "endlinecolor": "#2a3f5f",
             "gridcolor": "white",
             "linecolor": "white",
             "minorgridcolor": "white",
             "startlinecolor": "#2a3f5f"
            },
            "type": "carpet"
           }
          ],
          "choropleth": [
           {
            "colorbar": {
             "outlinewidth": 0,
             "ticks": ""
            },
            "type": "choropleth"
           }
          ],
          "contour": [
           {
            "colorbar": {
             "outlinewidth": 0,
             "ticks": ""
            },
            "colorscale": [
             [
              0,
              "#0d0887"
             ],
             [
              0.1111111111111111,
              "#46039f"
             ],
             [
              0.2222222222222222,
              "#7201a8"
             ],
             [
              0.3333333333333333,
              "#9c179e"
             ],
             [
              0.4444444444444444,
              "#bd3786"
             ],
             [
              0.5555555555555556,
              "#d8576b"
             ],
             [
              0.6666666666666666,
              "#ed7953"
             ],
             [
              0.7777777777777778,
              "#fb9f3a"
             ],
             [
              0.8888888888888888,
              "#fdca26"
             ],
             [
              1,
              "#f0f921"
             ]
            ],
            "type": "contour"
           }
          ],
          "contourcarpet": [
           {
            "colorbar": {
             "outlinewidth": 0,
             "ticks": ""
            },
            "type": "contourcarpet"
           }
          ],
          "heatmap": [
           {
            "colorbar": {
             "outlinewidth": 0,
             "ticks": ""
            },
            "colorscale": [
             [
              0,
              "#0d0887"
             ],
             [
              0.1111111111111111,
              "#46039f"
             ],
             [
              0.2222222222222222,
              "#7201a8"
             ],
             [
              0.3333333333333333,
              "#9c179e"
             ],
             [
              0.4444444444444444,
              "#bd3786"
             ],
             [
              0.5555555555555556,
              "#d8576b"
             ],
             [
              0.6666666666666666,
              "#ed7953"
             ],
             [
              0.7777777777777778,
              "#fb9f3a"
             ],
             [
              0.8888888888888888,
              "#fdca26"
             ],
             [
              1,
              "#f0f921"
             ]
            ],
            "type": "heatmap"
           }
          ],
          "heatmapgl": [
           {
            "colorbar": {
             "outlinewidth": 0,
             "ticks": ""
            },
            "colorscale": [
             [
              0,
              "#0d0887"
             ],
             [
              0.1111111111111111,
              "#46039f"
             ],
             [
              0.2222222222222222,
              "#7201a8"
             ],
             [
              0.3333333333333333,
              "#9c179e"
             ],
             [
              0.4444444444444444,
              "#bd3786"
             ],
             [
              0.5555555555555556,
              "#d8576b"
             ],
             [
              0.6666666666666666,
              "#ed7953"
             ],
             [
              0.7777777777777778,
              "#fb9f3a"
             ],
             [
              0.8888888888888888,
              "#fdca26"
             ],
             [
              1,
              "#f0f921"
             ]
            ],
            "type": "heatmapgl"
           }
          ],
          "histogram": [
           {
            "marker": {
             "colorbar": {
              "outlinewidth": 0,
              "ticks": ""
             }
            },
            "type": "histogram"
           }
          ],
          "histogram2d": [
           {
            "colorbar": {
             "outlinewidth": 0,
             "ticks": ""
            },
            "colorscale": [
             [
              0,
              "#0d0887"
             ],
             [
              0.1111111111111111,
              "#46039f"
             ],
             [
              0.2222222222222222,
              "#7201a8"
             ],
             [
              0.3333333333333333,
              "#9c179e"
             ],
             [
              0.4444444444444444,
              "#bd3786"
             ],
             [
              0.5555555555555556,
              "#d8576b"
             ],
             [
              0.6666666666666666,
              "#ed7953"
             ],
             [
              0.7777777777777778,
              "#fb9f3a"
             ],
             [
              0.8888888888888888,
              "#fdca26"
             ],
             [
              1,
              "#f0f921"
             ]
            ],
            "type": "histogram2d"
           }
          ],
          "histogram2dcontour": [
           {
            "colorbar": {
             "outlinewidth": 0,
             "ticks": ""
            },
            "colorscale": [
             [
              0,
              "#0d0887"
             ],
             [
              0.1111111111111111,
              "#46039f"
             ],
             [
              0.2222222222222222,
              "#7201a8"
             ],
             [
              0.3333333333333333,
              "#9c179e"
             ],
             [
              0.4444444444444444,
              "#bd3786"
             ],
             [
              0.5555555555555556,
              "#d8576b"
             ],
             [
              0.6666666666666666,
              "#ed7953"
             ],
             [
              0.7777777777777778,
              "#fb9f3a"
             ],
             [
              0.8888888888888888,
              "#fdca26"
             ],
             [
              1,
              "#f0f921"
             ]
            ],
            "type": "histogram2dcontour"
           }
          ],
          "mesh3d": [
           {
            "colorbar": {
             "outlinewidth": 0,
             "ticks": ""
            },
            "type": "mesh3d"
           }
          ],
          "parcoords": [
           {
            "line": {
             "colorbar": {
              "outlinewidth": 0,
              "ticks": ""
             }
            },
            "type": "parcoords"
           }
          ],
          "pie": [
           {
            "automargin": true,
            "type": "pie"
           }
          ],
          "scatter": [
           {
            "marker": {
             "colorbar": {
              "outlinewidth": 0,
              "ticks": ""
             }
            },
            "type": "scatter"
           }
          ],
          "scatter3d": [
           {
            "line": {
             "colorbar": {
              "outlinewidth": 0,
              "ticks": ""
             }
            },
            "marker": {
             "colorbar": {
              "outlinewidth": 0,
              "ticks": ""
             }
            },
            "type": "scatter3d"
           }
          ],
          "scattercarpet": [
           {
            "marker": {
             "colorbar": {
              "outlinewidth": 0,
              "ticks": ""
             }
            },
            "type": "scattercarpet"
           }
          ],
          "scattergeo": [
           {
            "marker": {
             "colorbar": {
              "outlinewidth": 0,
              "ticks": ""
             }
            },
            "type": "scattergeo"
           }
          ],
          "scattergl": [
           {
            "marker": {
             "colorbar": {
              "outlinewidth": 0,
              "ticks": ""
             }
            },
            "type": "scattergl"
           }
          ],
          "scattermapbox": [
           {
            "marker": {
             "colorbar": {
              "outlinewidth": 0,
              "ticks": ""
             }
            },
            "type": "scattermapbox"
           }
          ],
          "scatterpolar": [
           {
            "marker": {
             "colorbar": {
              "outlinewidth": 0,
              "ticks": ""
             }
            },
            "type": "scatterpolar"
           }
          ],
          "scatterpolargl": [
           {
            "marker": {
             "colorbar": {
              "outlinewidth": 0,
              "ticks": ""
             }
            },
            "type": "scatterpolargl"
           }
          ],
          "scatterternary": [
           {
            "marker": {
             "colorbar": {
              "outlinewidth": 0,
              "ticks": ""
             }
            },
            "type": "scatterternary"
           }
          ],
          "surface": [
           {
            "colorbar": {
             "outlinewidth": 0,
             "ticks": ""
            },
            "colorscale": [
             [
              0,
              "#0d0887"
             ],
             [
              0.1111111111111111,
              "#46039f"
             ],
             [
              0.2222222222222222,
              "#7201a8"
             ],
             [
              0.3333333333333333,
              "#9c179e"
             ],
             [
              0.4444444444444444,
              "#bd3786"
             ],
             [
              0.5555555555555556,
              "#d8576b"
             ],
             [
              0.6666666666666666,
              "#ed7953"
             ],
             [
              0.7777777777777778,
              "#fb9f3a"
             ],
             [
              0.8888888888888888,
              "#fdca26"
             ],
             [
              1,
              "#f0f921"
             ]
            ],
            "type": "surface"
           }
          ],
          "table": [
           {
            "cells": {
             "fill": {
              "color": "#EBF0F8"
             },
             "line": {
              "color": "white"
             }
            },
            "header": {
             "fill": {
              "color": "#C8D4E3"
             },
             "line": {
              "color": "white"
             }
            },
            "type": "table"
           }
          ]
         },
         "layout": {
          "annotationdefaults": {
           "arrowcolor": "#2a3f5f",
           "arrowhead": 0,
           "arrowwidth": 1
          },
          "coloraxis": {
           "colorbar": {
            "outlinewidth": 0,
            "ticks": ""
           }
          },
          "colorscale": {
           "diverging": [
            [
             0,
             "#8e0152"
            ],
            [
             0.1,
             "#c51b7d"
            ],
            [
             0.2,
             "#de77ae"
            ],
            [
             0.3,
             "#f1b6da"
            ],
            [
             0.4,
             "#fde0ef"
            ],
            [
             0.5,
             "#f7f7f7"
            ],
            [
             0.6,
             "#e6f5d0"
            ],
            [
             0.7,
             "#b8e186"
            ],
            [
             0.8,
             "#7fbc41"
            ],
            [
             0.9,
             "#4d9221"
            ],
            [
             1,
             "#276419"
            ]
           ],
           "sequential": [
            [
             0,
             "#0d0887"
            ],
            [
             0.1111111111111111,
             "#46039f"
            ],
            [
             0.2222222222222222,
             "#7201a8"
            ],
            [
             0.3333333333333333,
             "#9c179e"
            ],
            [
             0.4444444444444444,
             "#bd3786"
            ],
            [
             0.5555555555555556,
             "#d8576b"
            ],
            [
             0.6666666666666666,
             "#ed7953"
            ],
            [
             0.7777777777777778,
             "#fb9f3a"
            ],
            [
             0.8888888888888888,
             "#fdca26"
            ],
            [
             1,
             "#f0f921"
            ]
           ],
           "sequentialminus": [
            [
             0,
             "#0d0887"
            ],
            [
             0.1111111111111111,
             "#46039f"
            ],
            [
             0.2222222222222222,
             "#7201a8"
            ],
            [
             0.3333333333333333,
             "#9c179e"
            ],
            [
             0.4444444444444444,
             "#bd3786"
            ],
            [
             0.5555555555555556,
             "#d8576b"
            ],
            [
             0.6666666666666666,
             "#ed7953"
            ],
            [
             0.7777777777777778,
             "#fb9f3a"
            ],
            [
             0.8888888888888888,
             "#fdca26"
            ],
            [
             1,
             "#f0f921"
            ]
           ]
          },
          "colorway": [
           "#636efa",
           "#EF553B",
           "#00cc96",
           "#ab63fa",
           "#FFA15A",
           "#19d3f3",
           "#FF6692",
           "#B6E880",
           "#FF97FF",
           "#FECB52"
          ],
          "font": {
           "color": "#2a3f5f"
          },
          "geo": {
           "bgcolor": "white",
           "lakecolor": "white",
           "landcolor": "#E5ECF6",
           "showlakes": true,
           "showland": true,
           "subunitcolor": "white"
          },
          "hoverlabel": {
           "align": "left"
          },
          "hovermode": "closest",
          "mapbox": {
           "style": "light"
          },
          "paper_bgcolor": "white",
          "plot_bgcolor": "#E5ECF6",
          "polar": {
           "angularaxis": {
            "gridcolor": "white",
            "linecolor": "white",
            "ticks": ""
           },
           "bgcolor": "#E5ECF6",
           "radialaxis": {
            "gridcolor": "white",
            "linecolor": "white",
            "ticks": ""
           }
          },
          "scene": {
           "xaxis": {
            "backgroundcolor": "#E5ECF6",
            "gridcolor": "white",
            "gridwidth": 2,
            "linecolor": "white",
            "showbackground": true,
            "ticks": "",
            "zerolinecolor": "white"
           },
           "yaxis": {
            "backgroundcolor": "#E5ECF6",
            "gridcolor": "white",
            "gridwidth": 2,
            "linecolor": "white",
            "showbackground": true,
            "ticks": "",
            "zerolinecolor": "white"
           },
           "zaxis": {
            "backgroundcolor": "#E5ECF6",
            "gridcolor": "white",
            "gridwidth": 2,
            "linecolor": "white",
            "showbackground": true,
            "ticks": "",
            "zerolinecolor": "white"
           }
          },
          "shapedefaults": {
           "line": {
            "color": "#2a3f5f"
           }
          },
          "ternary": {
           "aaxis": {
            "gridcolor": "white",
            "linecolor": "white",
            "ticks": ""
           },
           "baxis": {
            "gridcolor": "white",
            "linecolor": "white",
            "ticks": ""
           },
           "bgcolor": "#E5ECF6",
           "caxis": {
            "gridcolor": "white",
            "linecolor": "white",
            "ticks": ""
           }
          },
          "title": {
           "x": 0.05
          },
          "xaxis": {
           "automargin": true,
           "gridcolor": "white",
           "linecolor": "white",
           "ticks": "",
           "title": {
            "standoff": 15
           },
           "zerolinecolor": "white",
           "zerolinewidth": 2
          },
          "yaxis": {
           "automargin": true,
           "gridcolor": "white",
           "linecolor": "white",
           "ticks": "",
           "title": {
            "standoff": 15
           },
           "zerolinecolor": "white",
           "zerolinewidth": 2
          }
         }
        },
        "title": {
         "text": "Contour Plot"
        },
        "xaxis": {
         "range": [
          44.8,
          467.2
         ],
         "title": {
          "text": "batch_size"
         }
        },
        "yaxis": {
         "range": [
          -5.097490959472642,
          -2.9170804674511635
         ],
         "title": {
          "text": "lr"
         },
         "type": "log"
        }
       }
      }
     },
     "metadata": {},
     "output_type": "display_data"
    }
   ],
   "source": [
    "optuna.visualization.plot_contour(study, params=['batch_size', 'lr'])"
   ]
  },
  {
   "cell_type": "code",
   "execution_count": null,
   "metadata": {},
   "outputs": [
    {
     "data": {
      "application/vnd.plotly.v1+json": {
       "config": {
        "plotlyServerURL": "https://plot.ly"
       },
       "data": [
        {
         "colorbar": {
          "title": {
           "text": "Objective Value"
          }
         },
         "colorscale": [
          [
           0,
           "rgb(5,10,172)"
          ],
          [
           0.35,
           "rgb(40,60,190)"
          ],
          [
           0.5,
           "rgb(70,100,245)"
          ],
          [
           0.6,
           "rgb(90,120,245)"
          ],
          [
           0.7,
           "rgb(106,137,247)"
          ],
          [
           1,
           "rgb(220,220,220)"
          ]
         ],
         "connectgaps": true,
         "contours": {
          "coloring": "heatmap"
         },
         "hoverinfo": "none",
         "line": {
          "smoothing": 1.3
         },
         "reversescale": false,
         "type": "contour",
         "x": [
          -0.025,
          0,
          0.1,
          0.2,
          0.30000000000000004,
          0.4,
          0.5,
          0.525
         ],
         "y": [
          0.000007989305724992996,
          0.00001003733937289165,
          0.000010919101350796906,
          0.000020302588494325018,
          0.0000222108535820999,
          0.000028934785942933613,
          0.00003084058260811155,
          0.000047967331602518885,
          0.00007058289226224487,
          0.00009740962768481644,
          0.0000982379177142327,
          0.000633765521352718,
          0.0009634073709221419,
          0.0012103738508891936
         ],
         "z": [
          [
           null,
           null,
           null,
           null,
           null,
           null,
           null,
           null
          ],
          [
           null,
           null,
           null,
           0.2518692882857934,
           null,
           null,
           null,
           null
          ],
          [
           null,
           null,
           null,
           null,
           null,
           null,
           0.3741345887565771,
           null
          ],
          [
           null,
           null,
           null,
           null,
           null,
           null,
           0.46067571309886457,
           null
          ],
          [
           null,
           null,
           null,
           null,
           null,
           null,
           0.4651066186651897,
           null
          ],
          [
           null,
           null,
           null,
           null,
           null,
           null,
           0.3615342010523401,
           null
          ],
          [
           null,
           0.41276654666297424,
           null,
           null,
           null,
           null,
           null,
           null
          ],
          [
           null,
           null,
           null,
           null,
           0.14317363611188036,
           null,
           null,
           null
          ],
          [
           null,
           null,
           null,
           null,
           0.38867349764608145,
           null,
           null,
           null
          ],
          [
           null,
           null,
           null,
           null,
           null,
           0.2518692882857934,
           null,
           null
          ],
          [
           null,
           null,
           null,
           null,
           null,
           null,
           0.4957075602326225,
           null
          ],
          [
           null,
           null,
           0.2518692882857934,
           null,
           null,
           null,
           null,
           null
          ],
          [
           null,
           null,
           null,
           null,
           0.2518692882857934,
           null,
           null,
           null
          ],
          [
           null,
           null,
           null,
           null,
           null,
           null,
           null,
           null
          ]
         ]
        },
        {
         "marker": {
          "color": "black",
          "line": {
           "color": "Grey",
           "width": 0.5
          }
         },
         "mode": "markers",
         "showlegend": false,
         "type": "scatter",
         "x": [
          0.5,
          0.4,
          0.30000000000000004,
          0.30000000000000004,
          0.1,
          0,
          0.2,
          0.5,
          0.5,
          0.5,
          0.5,
          0.30000000000000004
         ],
         "y": [
          0.000028934785942933613,
          0.00009740962768481644,
          0.000047967331602518885,
          0.0009634073709221419,
          0.000633765521352718,
          0.00003084058260811155,
          0.00001003733937289165,
          0.0000222108535820999,
          0.000020302588494325018,
          0.000010919101350796906,
          0.0000982379177142327,
          0.00007058289226224487
         ]
        }
       ],
       "layout": {
        "template": {
         "data": {
          "bar": [
           {
            "error_x": {
             "color": "#2a3f5f"
            },
            "error_y": {
             "color": "#2a3f5f"
            },
            "marker": {
             "line": {
              "color": "#E5ECF6",
              "width": 0.5
             }
            },
            "type": "bar"
           }
          ],
          "barpolar": [
           {
            "marker": {
             "line": {
              "color": "#E5ECF6",
              "width": 0.5
             }
            },
            "type": "barpolar"
           }
          ],
          "carpet": [
           {
            "aaxis": {
             "endlinecolor": "#2a3f5f",
             "gridcolor": "white",
             "linecolor": "white",
             "minorgridcolor": "white",
             "startlinecolor": "#2a3f5f"
            },
            "baxis": {
             "endlinecolor": "#2a3f5f",
             "gridcolor": "white",
             "linecolor": "white",
             "minorgridcolor": "white",
             "startlinecolor": "#2a3f5f"
            },
            "type": "carpet"
           }
          ],
          "choropleth": [
           {
            "colorbar": {
             "outlinewidth": 0,
             "ticks": ""
            },
            "type": "choropleth"
           }
          ],
          "contour": [
           {
            "colorbar": {
             "outlinewidth": 0,
             "ticks": ""
            },
            "colorscale": [
             [
              0,
              "#0d0887"
             ],
             [
              0.1111111111111111,
              "#46039f"
             ],
             [
              0.2222222222222222,
              "#7201a8"
             ],
             [
              0.3333333333333333,
              "#9c179e"
             ],
             [
              0.4444444444444444,
              "#bd3786"
             ],
             [
              0.5555555555555556,
              "#d8576b"
             ],
             [
              0.6666666666666666,
              "#ed7953"
             ],
             [
              0.7777777777777778,
              "#fb9f3a"
             ],
             [
              0.8888888888888888,
              "#fdca26"
             ],
             [
              1,
              "#f0f921"
             ]
            ],
            "type": "contour"
           }
          ],
          "contourcarpet": [
           {
            "colorbar": {
             "outlinewidth": 0,
             "ticks": ""
            },
            "type": "contourcarpet"
           }
          ],
          "heatmap": [
           {
            "colorbar": {
             "outlinewidth": 0,
             "ticks": ""
            },
            "colorscale": [
             [
              0,
              "#0d0887"
             ],
             [
              0.1111111111111111,
              "#46039f"
             ],
             [
              0.2222222222222222,
              "#7201a8"
             ],
             [
              0.3333333333333333,
              "#9c179e"
             ],
             [
              0.4444444444444444,
              "#bd3786"
             ],
             [
              0.5555555555555556,
              "#d8576b"
             ],
             [
              0.6666666666666666,
              "#ed7953"
             ],
             [
              0.7777777777777778,
              "#fb9f3a"
             ],
             [
              0.8888888888888888,
              "#fdca26"
             ],
             [
              1,
              "#f0f921"
             ]
            ],
            "type": "heatmap"
           }
          ],
          "heatmapgl": [
           {
            "colorbar": {
             "outlinewidth": 0,
             "ticks": ""
            },
            "colorscale": [
             [
              0,
              "#0d0887"
             ],
             [
              0.1111111111111111,
              "#46039f"
             ],
             [
              0.2222222222222222,
              "#7201a8"
             ],
             [
              0.3333333333333333,
              "#9c179e"
             ],
             [
              0.4444444444444444,
              "#bd3786"
             ],
             [
              0.5555555555555556,
              "#d8576b"
             ],
             [
              0.6666666666666666,
              "#ed7953"
             ],
             [
              0.7777777777777778,
              "#fb9f3a"
             ],
             [
              0.8888888888888888,
              "#fdca26"
             ],
             [
              1,
              "#f0f921"
             ]
            ],
            "type": "heatmapgl"
           }
          ],
          "histogram": [
           {
            "marker": {
             "colorbar": {
              "outlinewidth": 0,
              "ticks": ""
             }
            },
            "type": "histogram"
           }
          ],
          "histogram2d": [
           {
            "colorbar": {
             "outlinewidth": 0,
             "ticks": ""
            },
            "colorscale": [
             [
              0,
              "#0d0887"
             ],
             [
              0.1111111111111111,
              "#46039f"
             ],
             [
              0.2222222222222222,
              "#7201a8"
             ],
             [
              0.3333333333333333,
              "#9c179e"
             ],
             [
              0.4444444444444444,
              "#bd3786"
             ],
             [
              0.5555555555555556,
              "#d8576b"
             ],
             [
              0.6666666666666666,
              "#ed7953"
             ],
             [
              0.7777777777777778,
              "#fb9f3a"
             ],
             [
              0.8888888888888888,
              "#fdca26"
             ],
             [
              1,
              "#f0f921"
             ]
            ],
            "type": "histogram2d"
           }
          ],
          "histogram2dcontour": [
           {
            "colorbar": {
             "outlinewidth": 0,
             "ticks": ""
            },
            "colorscale": [
             [
              0,
              "#0d0887"
             ],
             [
              0.1111111111111111,
              "#46039f"
             ],
             [
              0.2222222222222222,
              "#7201a8"
             ],
             [
              0.3333333333333333,
              "#9c179e"
             ],
             [
              0.4444444444444444,
              "#bd3786"
             ],
             [
              0.5555555555555556,
              "#d8576b"
             ],
             [
              0.6666666666666666,
              "#ed7953"
             ],
             [
              0.7777777777777778,
              "#fb9f3a"
             ],
             [
              0.8888888888888888,
              "#fdca26"
             ],
             [
              1,
              "#f0f921"
             ]
            ],
            "type": "histogram2dcontour"
           }
          ],
          "mesh3d": [
           {
            "colorbar": {
             "outlinewidth": 0,
             "ticks": ""
            },
            "type": "mesh3d"
           }
          ],
          "parcoords": [
           {
            "line": {
             "colorbar": {
              "outlinewidth": 0,
              "ticks": ""
             }
            },
            "type": "parcoords"
           }
          ],
          "pie": [
           {
            "automargin": true,
            "type": "pie"
           }
          ],
          "scatter": [
           {
            "marker": {
             "colorbar": {
              "outlinewidth": 0,
              "ticks": ""
             }
            },
            "type": "scatter"
           }
          ],
          "scatter3d": [
           {
            "line": {
             "colorbar": {
              "outlinewidth": 0,
              "ticks": ""
             }
            },
            "marker": {
             "colorbar": {
              "outlinewidth": 0,
              "ticks": ""
             }
            },
            "type": "scatter3d"
           }
          ],
          "scattercarpet": [
           {
            "marker": {
             "colorbar": {
              "outlinewidth": 0,
              "ticks": ""
             }
            },
            "type": "scattercarpet"
           }
          ],
          "scattergeo": [
           {
            "marker": {
             "colorbar": {
              "outlinewidth": 0,
              "ticks": ""
             }
            },
            "type": "scattergeo"
           }
          ],
          "scattergl": [
           {
            "marker": {
             "colorbar": {
              "outlinewidth": 0,
              "ticks": ""
             }
            },
            "type": "scattergl"
           }
          ],
          "scattermapbox": [
           {
            "marker": {
             "colorbar": {
              "outlinewidth": 0,
              "ticks": ""
             }
            },
            "type": "scattermapbox"
           }
          ],
          "scatterpolar": [
           {
            "marker": {
             "colorbar": {
              "outlinewidth": 0,
              "ticks": ""
             }
            },
            "type": "scatterpolar"
           }
          ],
          "scatterpolargl": [
           {
            "marker": {
             "colorbar": {
              "outlinewidth": 0,
              "ticks": ""
             }
            },
            "type": "scatterpolargl"
           }
          ],
          "scatterternary": [
           {
            "marker": {
             "colorbar": {
              "outlinewidth": 0,
              "ticks": ""
             }
            },
            "type": "scatterternary"
           }
          ],
          "surface": [
           {
            "colorbar": {
             "outlinewidth": 0,
             "ticks": ""
            },
            "colorscale": [
             [
              0,
              "#0d0887"
             ],
             [
              0.1111111111111111,
              "#46039f"
             ],
             [
              0.2222222222222222,
              "#7201a8"
             ],
             [
              0.3333333333333333,
              "#9c179e"
             ],
             [
              0.4444444444444444,
              "#bd3786"
             ],
             [
              0.5555555555555556,
              "#d8576b"
             ],
             [
              0.6666666666666666,
              "#ed7953"
             ],
             [
              0.7777777777777778,
              "#fb9f3a"
             ],
             [
              0.8888888888888888,
              "#fdca26"
             ],
             [
              1,
              "#f0f921"
             ]
            ],
            "type": "surface"
           }
          ],
          "table": [
           {
            "cells": {
             "fill": {
              "color": "#EBF0F8"
             },
             "line": {
              "color": "white"
             }
            },
            "header": {
             "fill": {
              "color": "#C8D4E3"
             },
             "line": {
              "color": "white"
             }
            },
            "type": "table"
           }
          ]
         },
         "layout": {
          "annotationdefaults": {
           "arrowcolor": "#2a3f5f",
           "arrowhead": 0,
           "arrowwidth": 1
          },
          "coloraxis": {
           "colorbar": {
            "outlinewidth": 0,
            "ticks": ""
           }
          },
          "colorscale": {
           "diverging": [
            [
             0,
             "#8e0152"
            ],
            [
             0.1,
             "#c51b7d"
            ],
            [
             0.2,
             "#de77ae"
            ],
            [
             0.3,
             "#f1b6da"
            ],
            [
             0.4,
             "#fde0ef"
            ],
            [
             0.5,
             "#f7f7f7"
            ],
            [
             0.6,
             "#e6f5d0"
            ],
            [
             0.7,
             "#b8e186"
            ],
            [
             0.8,
             "#7fbc41"
            ],
            [
             0.9,
             "#4d9221"
            ],
            [
             1,
             "#276419"
            ]
           ],
           "sequential": [
            [
             0,
             "#0d0887"
            ],
            [
             0.1111111111111111,
             "#46039f"
            ],
            [
             0.2222222222222222,
             "#7201a8"
            ],
            [
             0.3333333333333333,
             "#9c179e"
            ],
            [
             0.4444444444444444,
             "#bd3786"
            ],
            [
             0.5555555555555556,
             "#d8576b"
            ],
            [
             0.6666666666666666,
             "#ed7953"
            ],
            [
             0.7777777777777778,
             "#fb9f3a"
            ],
            [
             0.8888888888888888,
             "#fdca26"
            ],
            [
             1,
             "#f0f921"
            ]
           ],
           "sequentialminus": [
            [
             0,
             "#0d0887"
            ],
            [
             0.1111111111111111,
             "#46039f"
            ],
            [
             0.2222222222222222,
             "#7201a8"
            ],
            [
             0.3333333333333333,
             "#9c179e"
            ],
            [
             0.4444444444444444,
             "#bd3786"
            ],
            [
             0.5555555555555556,
             "#d8576b"
            ],
            [
             0.6666666666666666,
             "#ed7953"
            ],
            [
             0.7777777777777778,
             "#fb9f3a"
            ],
            [
             0.8888888888888888,
             "#fdca26"
            ],
            [
             1,
             "#f0f921"
            ]
           ]
          },
          "colorway": [
           "#636efa",
           "#EF553B",
           "#00cc96",
           "#ab63fa",
           "#FFA15A",
           "#19d3f3",
           "#FF6692",
           "#B6E880",
           "#FF97FF",
           "#FECB52"
          ],
          "font": {
           "color": "#2a3f5f"
          },
          "geo": {
           "bgcolor": "white",
           "lakecolor": "white",
           "landcolor": "#E5ECF6",
           "showlakes": true,
           "showland": true,
           "subunitcolor": "white"
          },
          "hoverlabel": {
           "align": "left"
          },
          "hovermode": "closest",
          "mapbox": {
           "style": "light"
          },
          "paper_bgcolor": "white",
          "plot_bgcolor": "#E5ECF6",
          "polar": {
           "angularaxis": {
            "gridcolor": "white",
            "linecolor": "white",
            "ticks": ""
           },
           "bgcolor": "#E5ECF6",
           "radialaxis": {
            "gridcolor": "white",
            "linecolor": "white",
            "ticks": ""
           }
          },
          "scene": {
           "xaxis": {
            "backgroundcolor": "#E5ECF6",
            "gridcolor": "white",
            "gridwidth": 2,
            "linecolor": "white",
            "showbackground": true,
            "ticks": "",
            "zerolinecolor": "white"
           },
           "yaxis": {
            "backgroundcolor": "#E5ECF6",
            "gridcolor": "white",
            "gridwidth": 2,
            "linecolor": "white",
            "showbackground": true,
            "ticks": "",
            "zerolinecolor": "white"
           },
           "zaxis": {
            "backgroundcolor": "#E5ECF6",
            "gridcolor": "white",
            "gridwidth": 2,
            "linecolor": "white",
            "showbackground": true,
            "ticks": "",
            "zerolinecolor": "white"
           }
          },
          "shapedefaults": {
           "line": {
            "color": "#2a3f5f"
           }
          },
          "ternary": {
           "aaxis": {
            "gridcolor": "white",
            "linecolor": "white",
            "ticks": ""
           },
           "baxis": {
            "gridcolor": "white",
            "linecolor": "white",
            "ticks": ""
           },
           "bgcolor": "#E5ECF6",
           "caxis": {
            "gridcolor": "white",
            "linecolor": "white",
            "ticks": ""
           }
          },
          "title": {
           "x": 0.05
          },
          "xaxis": {
           "automargin": true,
           "gridcolor": "white",
           "linecolor": "white",
           "ticks": "",
           "title": {
            "standoff": 15
           },
           "zerolinecolor": "white",
           "zerolinewidth": 2
          },
          "yaxis": {
           "automargin": true,
           "gridcolor": "white",
           "linecolor": "white",
           "ticks": "",
           "title": {
            "standoff": 15
           },
           "zerolinecolor": "white",
           "zerolinewidth": 2
          }
         }
        },
        "title": {
         "text": "Contour Plot"
        },
        "xaxis": {
         "range": [
          -0.025,
          0.525
         ],
         "title": {
          "text": "dropout_rate"
         }
        },
        "yaxis": {
         "range": [
          -5.097490959472642,
          -2.9170804674511635
         ],
         "title": {
          "text": "lr"
         },
         "type": "log"
        }
       }
      }
     },
     "metadata": {},
     "output_type": "display_data"
    }
   ],
   "source": [
    "optuna.visualization.plot_contour(study, params=['dropout_rate', 'lr'])"
   ]
  },
  {
   "cell_type": "code",
   "execution_count": null,
   "metadata": {
    "id": "yMuQ7n4E6nFO",
    "outputId": "c2207f10-d851-403e-8d39-9df025aae2c8"
   },
   "outputs": [
    {
     "data": {
      "application/vnd.plotly.v1+json": {
       "config": {
        "plotlyServerURL": "https://plot.ly"
       },
       "data": [
        {
         "dimensions": [
          {
           "label": "Objective Value",
           "range": [
            0.14317363611188036,
            0.4957075602326225
           ],
           "values": [
            0.3615342010523401,
            0.2518692882857934,
            0.14317363611188036,
            0.2518692882857934,
            0.2518692882857934,
            0.41276654666297424,
            0.2518692882857934,
            0.4651066186651897,
            0.46067571309886457,
            0.3741345887565771,
            0.4957075602326225,
            0.38867349764608145
           ]
          },
          {
           "label": "batch_size",
           "range": [
            64,
            448
           ],
           "values": [
            384,
            320,
            320,
            448,
            448,
            128,
            64,
            128,
            128,
            192,
            192,
            128
           ]
          },
          {
           "label": "conv1_out_ch",
           "range": [
            2,
            6
           ],
           "values": [
            2,
            6,
            2,
            6,
            6,
            6,
            4,
            2,
            2,
            2,
            4,
            4
           ]
          },
          {
           "label": "conv2_out_ch",
           "range": [
            20,
            32
           ],
           "values": [
            20,
            20,
            20,
            20,
            32,
            24,
            28,
            24,
            24,
            28,
            28,
            28
           ]
          },
          {
           "label": "dropout_rate",
           "range": [
            0,
            0.5
           ],
           "values": [
            0.5,
            0.4,
            0.30000000000000004,
            0.30000000000000004,
            0.1,
            0,
            0.2,
            0.5,
            0.5,
            0.5,
            0.5,
            0.30000000000000004
           ]
          },
          {
           "label": "lr",
           "range": [
            -4.998381391653484,
            -3.0161900352703217
           ],
           "ticktext": [
            "1e-05",
            "0.0001",
            "0.000963"
           ],
           "tickvals": [
            -4.998381391653484,
            -4,
            -3.0161900352703217
           ],
           "values": [
            -4.538579726161903,
            -4.011398116594165,
            -4.319054440436222,
            -3.0161900352703217,
            -3.198071391358343,
            -4.5108774263053215,
            -4.998381391653484,
            -4.653434750822419,
            -4.692448587843666,
            -4.961813102881256,
            -4.0077208515653115,
            -4.15130054960601
           ]
          },
          {
           "label": "optimizer",
           "range": [
            0,
            1
           ],
           "ticktext": [
            "Adam",
            "SGD"
           ],
           "tickvals": [
            0,
            1
           ],
           "values": [
            0,
            1,
            1,
            1,
            0,
            0,
            0,
            0,
            0,
            0,
            0,
            0
           ]
          },
          {
           "label": "weight_decay",
           "range": [
            -1.9904392416447478,
            0.965408659676789
           ],
           "ticktext": [
            "0.0102",
            "0.1",
            "1",
            "9.23"
           ],
           "tickvals": [
            -1.9904392416447478,
            -1,
            0,
            0.965408659676789
           ],
           "values": [
            -1.6682567680137834,
            -1.3414177260961766,
            -1.1091642748360921,
            0.2532277763810188,
            -0.6642529243902152,
            -1.5240613841337098,
            0.965408659676789,
            -1.9904392416447478,
            -1.9474496417082348,
            -1.8243115150827196,
            -1.9068599034777942,
            -1.5128938861124819
           ]
          }
         ],
         "labelangle": 30,
         "labelside": "bottom",
         "line": {
          "color": [
           0.3615342010523401,
           0.2518692882857934,
           0.14317363611188036,
           0.2518692882857934,
           0.2518692882857934,
           0.41276654666297424,
           0.2518692882857934,
           0.4651066186651897,
           0.46067571309886457,
           0.3741345887565771,
           0.4957075602326225,
           0.38867349764608145
          ],
          "colorbar": {
           "title": {
            "text": "Objective Value"
           }
          },
          "colorscale": [
           [
            0,
            "rgb(247,251,255)"
           ],
           [
            0.125,
            "rgb(222,235,247)"
           ],
           [
            0.25,
            "rgb(198,219,239)"
           ],
           [
            0.375,
            "rgb(158,202,225)"
           ],
           [
            0.5,
            "rgb(107,174,214)"
           ],
           [
            0.625,
            "rgb(66,146,198)"
           ],
           [
            0.75,
            "rgb(33,113,181)"
           ],
           [
            0.875,
            "rgb(8,81,156)"
           ],
           [
            1,
            "rgb(8,48,107)"
           ]
          ],
          "reversescale": false,
          "showscale": true
         },
         "type": "parcoords"
        }
       ],
       "layout": {
        "template": {
         "data": {
          "bar": [
           {
            "error_x": {
             "color": "#2a3f5f"
            },
            "error_y": {
             "color": "#2a3f5f"
            },
            "marker": {
             "line": {
              "color": "#E5ECF6",
              "width": 0.5
             }
            },
            "type": "bar"
           }
          ],
          "barpolar": [
           {
            "marker": {
             "line": {
              "color": "#E5ECF6",
              "width": 0.5
             }
            },
            "type": "barpolar"
           }
          ],
          "carpet": [
           {
            "aaxis": {
             "endlinecolor": "#2a3f5f",
             "gridcolor": "white",
             "linecolor": "white",
             "minorgridcolor": "white",
             "startlinecolor": "#2a3f5f"
            },
            "baxis": {
             "endlinecolor": "#2a3f5f",
             "gridcolor": "white",
             "linecolor": "white",
             "minorgridcolor": "white",
             "startlinecolor": "#2a3f5f"
            },
            "type": "carpet"
           }
          ],
          "choropleth": [
           {
            "colorbar": {
             "outlinewidth": 0,
             "ticks": ""
            },
            "type": "choropleth"
           }
          ],
          "contour": [
           {
            "colorbar": {
             "outlinewidth": 0,
             "ticks": ""
            },
            "colorscale": [
             [
              0,
              "#0d0887"
             ],
             [
              0.1111111111111111,
              "#46039f"
             ],
             [
              0.2222222222222222,
              "#7201a8"
             ],
             [
              0.3333333333333333,
              "#9c179e"
             ],
             [
              0.4444444444444444,
              "#bd3786"
             ],
             [
              0.5555555555555556,
              "#d8576b"
             ],
             [
              0.6666666666666666,
              "#ed7953"
             ],
             [
              0.7777777777777778,
              "#fb9f3a"
             ],
             [
              0.8888888888888888,
              "#fdca26"
             ],
             [
              1,
              "#f0f921"
             ]
            ],
            "type": "contour"
           }
          ],
          "contourcarpet": [
           {
            "colorbar": {
             "outlinewidth": 0,
             "ticks": ""
            },
            "type": "contourcarpet"
           }
          ],
          "heatmap": [
           {
            "colorbar": {
             "outlinewidth": 0,
             "ticks": ""
            },
            "colorscale": [
             [
              0,
              "#0d0887"
             ],
             [
              0.1111111111111111,
              "#46039f"
             ],
             [
              0.2222222222222222,
              "#7201a8"
             ],
             [
              0.3333333333333333,
              "#9c179e"
             ],
             [
              0.4444444444444444,
              "#bd3786"
             ],
             [
              0.5555555555555556,
              "#d8576b"
             ],
             [
              0.6666666666666666,
              "#ed7953"
             ],
             [
              0.7777777777777778,
              "#fb9f3a"
             ],
             [
              0.8888888888888888,
              "#fdca26"
             ],
             [
              1,
              "#f0f921"
             ]
            ],
            "type": "heatmap"
           }
          ],
          "heatmapgl": [
           {
            "colorbar": {
             "outlinewidth": 0,
             "ticks": ""
            },
            "colorscale": [
             [
              0,
              "#0d0887"
             ],
             [
              0.1111111111111111,
              "#46039f"
             ],
             [
              0.2222222222222222,
              "#7201a8"
             ],
             [
              0.3333333333333333,
              "#9c179e"
             ],
             [
              0.4444444444444444,
              "#bd3786"
             ],
             [
              0.5555555555555556,
              "#d8576b"
             ],
             [
              0.6666666666666666,
              "#ed7953"
             ],
             [
              0.7777777777777778,
              "#fb9f3a"
             ],
             [
              0.8888888888888888,
              "#fdca26"
             ],
             [
              1,
              "#f0f921"
             ]
            ],
            "type": "heatmapgl"
           }
          ],
          "histogram": [
           {
            "marker": {
             "colorbar": {
              "outlinewidth": 0,
              "ticks": ""
             }
            },
            "type": "histogram"
           }
          ],
          "histogram2d": [
           {
            "colorbar": {
             "outlinewidth": 0,
             "ticks": ""
            },
            "colorscale": [
             [
              0,
              "#0d0887"
             ],
             [
              0.1111111111111111,
              "#46039f"
             ],
             [
              0.2222222222222222,
              "#7201a8"
             ],
             [
              0.3333333333333333,
              "#9c179e"
             ],
             [
              0.4444444444444444,
              "#bd3786"
             ],
             [
              0.5555555555555556,
              "#d8576b"
             ],
             [
              0.6666666666666666,
              "#ed7953"
             ],
             [
              0.7777777777777778,
              "#fb9f3a"
             ],
             [
              0.8888888888888888,
              "#fdca26"
             ],
             [
              1,
              "#f0f921"
             ]
            ],
            "type": "histogram2d"
           }
          ],
          "histogram2dcontour": [
           {
            "colorbar": {
             "outlinewidth": 0,
             "ticks": ""
            },
            "colorscale": [
             [
              0,
              "#0d0887"
             ],
             [
              0.1111111111111111,
              "#46039f"
             ],
             [
              0.2222222222222222,
              "#7201a8"
             ],
             [
              0.3333333333333333,
              "#9c179e"
             ],
             [
              0.4444444444444444,
              "#bd3786"
             ],
             [
              0.5555555555555556,
              "#d8576b"
             ],
             [
              0.6666666666666666,
              "#ed7953"
             ],
             [
              0.7777777777777778,
              "#fb9f3a"
             ],
             [
              0.8888888888888888,
              "#fdca26"
             ],
             [
              1,
              "#f0f921"
             ]
            ],
            "type": "histogram2dcontour"
           }
          ],
          "mesh3d": [
           {
            "colorbar": {
             "outlinewidth": 0,
             "ticks": ""
            },
            "type": "mesh3d"
           }
          ],
          "parcoords": [
           {
            "line": {
             "colorbar": {
              "outlinewidth": 0,
              "ticks": ""
             }
            },
            "type": "parcoords"
           }
          ],
          "pie": [
           {
            "automargin": true,
            "type": "pie"
           }
          ],
          "scatter": [
           {
            "marker": {
             "colorbar": {
              "outlinewidth": 0,
              "ticks": ""
             }
            },
            "type": "scatter"
           }
          ],
          "scatter3d": [
           {
            "line": {
             "colorbar": {
              "outlinewidth": 0,
              "ticks": ""
             }
            },
            "marker": {
             "colorbar": {
              "outlinewidth": 0,
              "ticks": ""
             }
            },
            "type": "scatter3d"
           }
          ],
          "scattercarpet": [
           {
            "marker": {
             "colorbar": {
              "outlinewidth": 0,
              "ticks": ""
             }
            },
            "type": "scattercarpet"
           }
          ],
          "scattergeo": [
           {
            "marker": {
             "colorbar": {
              "outlinewidth": 0,
              "ticks": ""
             }
            },
            "type": "scattergeo"
           }
          ],
          "scattergl": [
           {
            "marker": {
             "colorbar": {
              "outlinewidth": 0,
              "ticks": ""
             }
            },
            "type": "scattergl"
           }
          ],
          "scattermapbox": [
           {
            "marker": {
             "colorbar": {
              "outlinewidth": 0,
              "ticks": ""
             }
            },
            "type": "scattermapbox"
           }
          ],
          "scatterpolar": [
           {
            "marker": {
             "colorbar": {
              "outlinewidth": 0,
              "ticks": ""
             }
            },
            "type": "scatterpolar"
           }
          ],
          "scatterpolargl": [
           {
            "marker": {
             "colorbar": {
              "outlinewidth": 0,
              "ticks": ""
             }
            },
            "type": "scatterpolargl"
           }
          ],
          "scatterternary": [
           {
            "marker": {
             "colorbar": {
              "outlinewidth": 0,
              "ticks": ""
             }
            },
            "type": "scatterternary"
           }
          ],
          "surface": [
           {
            "colorbar": {
             "outlinewidth": 0,
             "ticks": ""
            },
            "colorscale": [
             [
              0,
              "#0d0887"
             ],
             [
              0.1111111111111111,
              "#46039f"
             ],
             [
              0.2222222222222222,
              "#7201a8"
             ],
             [
              0.3333333333333333,
              "#9c179e"
             ],
             [
              0.4444444444444444,
              "#bd3786"
             ],
             [
              0.5555555555555556,
              "#d8576b"
             ],
             [
              0.6666666666666666,
              "#ed7953"
             ],
             [
              0.7777777777777778,
              "#fb9f3a"
             ],
             [
              0.8888888888888888,
              "#fdca26"
             ],
             [
              1,
              "#f0f921"
             ]
            ],
            "type": "surface"
           }
          ],
          "table": [
           {
            "cells": {
             "fill": {
              "color": "#EBF0F8"
             },
             "line": {
              "color": "white"
             }
            },
            "header": {
             "fill": {
              "color": "#C8D4E3"
             },
             "line": {
              "color": "white"
             }
            },
            "type": "table"
           }
          ]
         },
         "layout": {
          "annotationdefaults": {
           "arrowcolor": "#2a3f5f",
           "arrowhead": 0,
           "arrowwidth": 1
          },
          "coloraxis": {
           "colorbar": {
            "outlinewidth": 0,
            "ticks": ""
           }
          },
          "colorscale": {
           "diverging": [
            [
             0,
             "#8e0152"
            ],
            [
             0.1,
             "#c51b7d"
            ],
            [
             0.2,
             "#de77ae"
            ],
            [
             0.3,
             "#f1b6da"
            ],
            [
             0.4,
             "#fde0ef"
            ],
            [
             0.5,
             "#f7f7f7"
            ],
            [
             0.6,
             "#e6f5d0"
            ],
            [
             0.7,
             "#b8e186"
            ],
            [
             0.8,
             "#7fbc41"
            ],
            [
             0.9,
             "#4d9221"
            ],
            [
             1,
             "#276419"
            ]
           ],
           "sequential": [
            [
             0,
             "#0d0887"
            ],
            [
             0.1111111111111111,
             "#46039f"
            ],
            [
             0.2222222222222222,
             "#7201a8"
            ],
            [
             0.3333333333333333,
             "#9c179e"
            ],
            [
             0.4444444444444444,
             "#bd3786"
            ],
            [
             0.5555555555555556,
             "#d8576b"
            ],
            [
             0.6666666666666666,
             "#ed7953"
            ],
            [
             0.7777777777777778,
             "#fb9f3a"
            ],
            [
             0.8888888888888888,
             "#fdca26"
            ],
            [
             1,
             "#f0f921"
            ]
           ],
           "sequentialminus": [
            [
             0,
             "#0d0887"
            ],
            [
             0.1111111111111111,
             "#46039f"
            ],
            [
             0.2222222222222222,
             "#7201a8"
            ],
            [
             0.3333333333333333,
             "#9c179e"
            ],
            [
             0.4444444444444444,
             "#bd3786"
            ],
            [
             0.5555555555555556,
             "#d8576b"
            ],
            [
             0.6666666666666666,
             "#ed7953"
            ],
            [
             0.7777777777777778,
             "#fb9f3a"
            ],
            [
             0.8888888888888888,
             "#fdca26"
            ],
            [
             1,
             "#f0f921"
            ]
           ]
          },
          "colorway": [
           "#636efa",
           "#EF553B",
           "#00cc96",
           "#ab63fa",
           "#FFA15A",
           "#19d3f3",
           "#FF6692",
           "#B6E880",
           "#FF97FF",
           "#FECB52"
          ],
          "font": {
           "color": "#2a3f5f"
          },
          "geo": {
           "bgcolor": "white",
           "lakecolor": "white",
           "landcolor": "#E5ECF6",
           "showlakes": true,
           "showland": true,
           "subunitcolor": "white"
          },
          "hoverlabel": {
           "align": "left"
          },
          "hovermode": "closest",
          "mapbox": {
           "style": "light"
          },
          "paper_bgcolor": "white",
          "plot_bgcolor": "#E5ECF6",
          "polar": {
           "angularaxis": {
            "gridcolor": "white",
            "linecolor": "white",
            "ticks": ""
           },
           "bgcolor": "#E5ECF6",
           "radialaxis": {
            "gridcolor": "white",
            "linecolor": "white",
            "ticks": ""
           }
          },
          "scene": {
           "xaxis": {
            "backgroundcolor": "#E5ECF6",
            "gridcolor": "white",
            "gridwidth": 2,
            "linecolor": "white",
            "showbackground": true,
            "ticks": "",
            "zerolinecolor": "white"
           },
           "yaxis": {
            "backgroundcolor": "#E5ECF6",
            "gridcolor": "white",
            "gridwidth": 2,
            "linecolor": "white",
            "showbackground": true,
            "ticks": "",
            "zerolinecolor": "white"
           },
           "zaxis": {
            "backgroundcolor": "#E5ECF6",
            "gridcolor": "white",
            "gridwidth": 2,
            "linecolor": "white",
            "showbackground": true,
            "ticks": "",
            "zerolinecolor": "white"
           }
          },
          "shapedefaults": {
           "line": {
            "color": "#2a3f5f"
           }
          },
          "ternary": {
           "aaxis": {
            "gridcolor": "white",
            "linecolor": "white",
            "ticks": ""
           },
           "baxis": {
            "gridcolor": "white",
            "linecolor": "white",
            "ticks": ""
           },
           "bgcolor": "#E5ECF6",
           "caxis": {
            "gridcolor": "white",
            "linecolor": "white",
            "ticks": ""
           }
          },
          "title": {
           "x": 0.05
          },
          "xaxis": {
           "automargin": true,
           "gridcolor": "white",
           "linecolor": "white",
           "ticks": "",
           "title": {
            "standoff": 15
           },
           "zerolinecolor": "white",
           "zerolinewidth": 2
          },
          "yaxis": {
           "automargin": true,
           "gridcolor": "white",
           "linecolor": "white",
           "ticks": "",
           "title": {
            "standoff": 15
           },
           "zerolinecolor": "white",
           "zerolinewidth": 2
          }
         }
        },
        "title": {
         "text": "Parallel Coordinate Plot"
        }
       }
      }
     },
     "metadata": {},
     "output_type": "display_data"
    }
   ],
   "source": [
    "optuna.visualization.plot_parallel_coordinate(study)"
   ]
  },
  {
   "cell_type": "code",
   "execution_count": null,
   "metadata": {
    "id": "jA2KpzaA6nFO",
    "outputId": "098074e1-559e-42dd-8265-35974865e365"
   },
   "outputs": [
    {
     "data": {
      "application/vnd.plotly.v1+json": {
       "config": {
        "plotlyServerURL": "https://plot.ly"
       },
       "data": [
        {
         "cliponaxis": false,
         "hovertemplate": [
          "conv2_out_ch (IntUniformDistribution): 9.931690864992208e-05<extra></extra>",
          "dropout_rate (DiscreteUniformDistribution): 0.03253848880526751<extra></extra>",
          "optimizer (CategoricalDistribution): 0.07823942456540987<extra></extra>",
          "batch_size (IntUniformDistribution): 0.11405639480176416<extra></extra>",
          "lr (LogUniformDistribution): 0.1401654194011537<extra></extra>",
          "conv1_out_ch (IntUniformDistribution): 0.25703943949828445<extra></extra>",
          "weight_decay (LogUniformDistribution): 0.3778615160194703<extra></extra>"
         ],
         "marker": {
          "color": "rgb(66,146,198)"
         },
         "orientation": "h",
         "text": [
          "9.931690864992208e-05",
          "0.03253848880526751",
          "0.07823942456540987",
          "0.11405639480176416",
          "0.1401654194011537",
          "0.25703943949828445",
          "0.3778615160194703"
         ],
         "textposition": "outside",
         "texttemplate": "%{text:.2f}",
         "type": "bar",
         "x": [
          0.00009931690864992208,
          0.03253848880526751,
          0.07823942456540987,
          0.11405639480176416,
          0.1401654194011537,
          0.25703943949828445,
          0.3778615160194703
         ],
         "y": [
          "conv2_out_ch",
          "dropout_rate",
          "optimizer",
          "batch_size",
          "lr",
          "conv1_out_ch",
          "weight_decay"
         ]
        }
       ],
       "layout": {
        "showlegend": false,
        "template": {
         "data": {
          "bar": [
           {
            "error_x": {
             "color": "#2a3f5f"
            },
            "error_y": {
             "color": "#2a3f5f"
            },
            "marker": {
             "line": {
              "color": "#E5ECF6",
              "width": 0.5
             }
            },
            "type": "bar"
           }
          ],
          "barpolar": [
           {
            "marker": {
             "line": {
              "color": "#E5ECF6",
              "width": 0.5
             }
            },
            "type": "barpolar"
           }
          ],
          "carpet": [
           {
            "aaxis": {
             "endlinecolor": "#2a3f5f",
             "gridcolor": "white",
             "linecolor": "white",
             "minorgridcolor": "white",
             "startlinecolor": "#2a3f5f"
            },
            "baxis": {
             "endlinecolor": "#2a3f5f",
             "gridcolor": "white",
             "linecolor": "white",
             "minorgridcolor": "white",
             "startlinecolor": "#2a3f5f"
            },
            "type": "carpet"
           }
          ],
          "choropleth": [
           {
            "colorbar": {
             "outlinewidth": 0,
             "ticks": ""
            },
            "type": "choropleth"
           }
          ],
          "contour": [
           {
            "colorbar": {
             "outlinewidth": 0,
             "ticks": ""
            },
            "colorscale": [
             [
              0,
              "#0d0887"
             ],
             [
              0.1111111111111111,
              "#46039f"
             ],
             [
              0.2222222222222222,
              "#7201a8"
             ],
             [
              0.3333333333333333,
              "#9c179e"
             ],
             [
              0.4444444444444444,
              "#bd3786"
             ],
             [
              0.5555555555555556,
              "#d8576b"
             ],
             [
              0.6666666666666666,
              "#ed7953"
             ],
             [
              0.7777777777777778,
              "#fb9f3a"
             ],
             [
              0.8888888888888888,
              "#fdca26"
             ],
             [
              1,
              "#f0f921"
             ]
            ],
            "type": "contour"
           }
          ],
          "contourcarpet": [
           {
            "colorbar": {
             "outlinewidth": 0,
             "ticks": ""
            },
            "type": "contourcarpet"
           }
          ],
          "heatmap": [
           {
            "colorbar": {
             "outlinewidth": 0,
             "ticks": ""
            },
            "colorscale": [
             [
              0,
              "#0d0887"
             ],
             [
              0.1111111111111111,
              "#46039f"
             ],
             [
              0.2222222222222222,
              "#7201a8"
             ],
             [
              0.3333333333333333,
              "#9c179e"
             ],
             [
              0.4444444444444444,
              "#bd3786"
             ],
             [
              0.5555555555555556,
              "#d8576b"
             ],
             [
              0.6666666666666666,
              "#ed7953"
             ],
             [
              0.7777777777777778,
              "#fb9f3a"
             ],
             [
              0.8888888888888888,
              "#fdca26"
             ],
             [
              1,
              "#f0f921"
             ]
            ],
            "type": "heatmap"
           }
          ],
          "heatmapgl": [
           {
            "colorbar": {
             "outlinewidth": 0,
             "ticks": ""
            },
            "colorscale": [
             [
              0,
              "#0d0887"
             ],
             [
              0.1111111111111111,
              "#46039f"
             ],
             [
              0.2222222222222222,
              "#7201a8"
             ],
             [
              0.3333333333333333,
              "#9c179e"
             ],
             [
              0.4444444444444444,
              "#bd3786"
             ],
             [
              0.5555555555555556,
              "#d8576b"
             ],
             [
              0.6666666666666666,
              "#ed7953"
             ],
             [
              0.7777777777777778,
              "#fb9f3a"
             ],
             [
              0.8888888888888888,
              "#fdca26"
             ],
             [
              1,
              "#f0f921"
             ]
            ],
            "type": "heatmapgl"
           }
          ],
          "histogram": [
           {
            "marker": {
             "colorbar": {
              "outlinewidth": 0,
              "ticks": ""
             }
            },
            "type": "histogram"
           }
          ],
          "histogram2d": [
           {
            "colorbar": {
             "outlinewidth": 0,
             "ticks": ""
            },
            "colorscale": [
             [
              0,
              "#0d0887"
             ],
             [
              0.1111111111111111,
              "#46039f"
             ],
             [
              0.2222222222222222,
              "#7201a8"
             ],
             [
              0.3333333333333333,
              "#9c179e"
             ],
             [
              0.4444444444444444,
              "#bd3786"
             ],
             [
              0.5555555555555556,
              "#d8576b"
             ],
             [
              0.6666666666666666,
              "#ed7953"
             ],
             [
              0.7777777777777778,
              "#fb9f3a"
             ],
             [
              0.8888888888888888,
              "#fdca26"
             ],
             [
              1,
              "#f0f921"
             ]
            ],
            "type": "histogram2d"
           }
          ],
          "histogram2dcontour": [
           {
            "colorbar": {
             "outlinewidth": 0,
             "ticks": ""
            },
            "colorscale": [
             [
              0,
              "#0d0887"
             ],
             [
              0.1111111111111111,
              "#46039f"
             ],
             [
              0.2222222222222222,
              "#7201a8"
             ],
             [
              0.3333333333333333,
              "#9c179e"
             ],
             [
              0.4444444444444444,
              "#bd3786"
             ],
             [
              0.5555555555555556,
              "#d8576b"
             ],
             [
              0.6666666666666666,
              "#ed7953"
             ],
             [
              0.7777777777777778,
              "#fb9f3a"
             ],
             [
              0.8888888888888888,
              "#fdca26"
             ],
             [
              1,
              "#f0f921"
             ]
            ],
            "type": "histogram2dcontour"
           }
          ],
          "mesh3d": [
           {
            "colorbar": {
             "outlinewidth": 0,
             "ticks": ""
            },
            "type": "mesh3d"
           }
          ],
          "parcoords": [
           {
            "line": {
             "colorbar": {
              "outlinewidth": 0,
              "ticks": ""
             }
            },
            "type": "parcoords"
           }
          ],
          "pie": [
           {
            "automargin": true,
            "type": "pie"
           }
          ],
          "scatter": [
           {
            "marker": {
             "colorbar": {
              "outlinewidth": 0,
              "ticks": ""
             }
            },
            "type": "scatter"
           }
          ],
          "scatter3d": [
           {
            "line": {
             "colorbar": {
              "outlinewidth": 0,
              "ticks": ""
             }
            },
            "marker": {
             "colorbar": {
              "outlinewidth": 0,
              "ticks": ""
             }
            },
            "type": "scatter3d"
           }
          ],
          "scattercarpet": [
           {
            "marker": {
             "colorbar": {
              "outlinewidth": 0,
              "ticks": ""
             }
            },
            "type": "scattercarpet"
           }
          ],
          "scattergeo": [
           {
            "marker": {
             "colorbar": {
              "outlinewidth": 0,
              "ticks": ""
             }
            },
            "type": "scattergeo"
           }
          ],
          "scattergl": [
           {
            "marker": {
             "colorbar": {
              "outlinewidth": 0,
              "ticks": ""
             }
            },
            "type": "scattergl"
           }
          ],
          "scattermapbox": [
           {
            "marker": {
             "colorbar": {
              "outlinewidth": 0,
              "ticks": ""
             }
            },
            "type": "scattermapbox"
           }
          ],
          "scatterpolar": [
           {
            "marker": {
             "colorbar": {
              "outlinewidth": 0,
              "ticks": ""
             }
            },
            "type": "scatterpolar"
           }
          ],
          "scatterpolargl": [
           {
            "marker": {
             "colorbar": {
              "outlinewidth": 0,
              "ticks": ""
             }
            },
            "type": "scatterpolargl"
           }
          ],
          "scatterternary": [
           {
            "marker": {
             "colorbar": {
              "outlinewidth": 0,
              "ticks": ""
             }
            },
            "type": "scatterternary"
           }
          ],
          "surface": [
           {
            "colorbar": {
             "outlinewidth": 0,
             "ticks": ""
            },
            "colorscale": [
             [
              0,
              "#0d0887"
             ],
             [
              0.1111111111111111,
              "#46039f"
             ],
             [
              0.2222222222222222,
              "#7201a8"
             ],
             [
              0.3333333333333333,
              "#9c179e"
             ],
             [
              0.4444444444444444,
              "#bd3786"
             ],
             [
              0.5555555555555556,
              "#d8576b"
             ],
             [
              0.6666666666666666,
              "#ed7953"
             ],
             [
              0.7777777777777778,
              "#fb9f3a"
             ],
             [
              0.8888888888888888,
              "#fdca26"
             ],
             [
              1,
              "#f0f921"
             ]
            ],
            "type": "surface"
           }
          ],
          "table": [
           {
            "cells": {
             "fill": {
              "color": "#EBF0F8"
             },
             "line": {
              "color": "white"
             }
            },
            "header": {
             "fill": {
              "color": "#C8D4E3"
             },
             "line": {
              "color": "white"
             }
            },
            "type": "table"
           }
          ]
         },
         "layout": {
          "annotationdefaults": {
           "arrowcolor": "#2a3f5f",
           "arrowhead": 0,
           "arrowwidth": 1
          },
          "coloraxis": {
           "colorbar": {
            "outlinewidth": 0,
            "ticks": ""
           }
          },
          "colorscale": {
           "diverging": [
            [
             0,
             "#8e0152"
            ],
            [
             0.1,
             "#c51b7d"
            ],
            [
             0.2,
             "#de77ae"
            ],
            [
             0.3,
             "#f1b6da"
            ],
            [
             0.4,
             "#fde0ef"
            ],
            [
             0.5,
             "#f7f7f7"
            ],
            [
             0.6,
             "#e6f5d0"
            ],
            [
             0.7,
             "#b8e186"
            ],
            [
             0.8,
             "#7fbc41"
            ],
            [
             0.9,
             "#4d9221"
            ],
            [
             1,
             "#276419"
            ]
           ],
           "sequential": [
            [
             0,
             "#0d0887"
            ],
            [
             0.1111111111111111,
             "#46039f"
            ],
            [
             0.2222222222222222,
             "#7201a8"
            ],
            [
             0.3333333333333333,
             "#9c179e"
            ],
            [
             0.4444444444444444,
             "#bd3786"
            ],
            [
             0.5555555555555556,
             "#d8576b"
            ],
            [
             0.6666666666666666,
             "#ed7953"
            ],
            [
             0.7777777777777778,
             "#fb9f3a"
            ],
            [
             0.8888888888888888,
             "#fdca26"
            ],
            [
             1,
             "#f0f921"
            ]
           ],
           "sequentialminus": [
            [
             0,
             "#0d0887"
            ],
            [
             0.1111111111111111,
             "#46039f"
            ],
            [
             0.2222222222222222,
             "#7201a8"
            ],
            [
             0.3333333333333333,
             "#9c179e"
            ],
            [
             0.4444444444444444,
             "#bd3786"
            ],
            [
             0.5555555555555556,
             "#d8576b"
            ],
            [
             0.6666666666666666,
             "#ed7953"
            ],
            [
             0.7777777777777778,
             "#fb9f3a"
            ],
            [
             0.8888888888888888,
             "#fdca26"
            ],
            [
             1,
             "#f0f921"
            ]
           ]
          },
          "colorway": [
           "#636efa",
           "#EF553B",
           "#00cc96",
           "#ab63fa",
           "#FFA15A",
           "#19d3f3",
           "#FF6692",
           "#B6E880",
           "#FF97FF",
           "#FECB52"
          ],
          "font": {
           "color": "#2a3f5f"
          },
          "geo": {
           "bgcolor": "white",
           "lakecolor": "white",
           "landcolor": "#E5ECF6",
           "showlakes": true,
           "showland": true,
           "subunitcolor": "white"
          },
          "hoverlabel": {
           "align": "left"
          },
          "hovermode": "closest",
          "mapbox": {
           "style": "light"
          },
          "paper_bgcolor": "white",
          "plot_bgcolor": "#E5ECF6",
          "polar": {
           "angularaxis": {
            "gridcolor": "white",
            "linecolor": "white",
            "ticks": ""
           },
           "bgcolor": "#E5ECF6",
           "radialaxis": {
            "gridcolor": "white",
            "linecolor": "white",
            "ticks": ""
           }
          },
          "scene": {
           "xaxis": {
            "backgroundcolor": "#E5ECF6",
            "gridcolor": "white",
            "gridwidth": 2,
            "linecolor": "white",
            "showbackground": true,
            "ticks": "",
            "zerolinecolor": "white"
           },
           "yaxis": {
            "backgroundcolor": "#E5ECF6",
            "gridcolor": "white",
            "gridwidth": 2,
            "linecolor": "white",
            "showbackground": true,
            "ticks": "",
            "zerolinecolor": "white"
           },
           "zaxis": {
            "backgroundcolor": "#E5ECF6",
            "gridcolor": "white",
            "gridwidth": 2,
            "linecolor": "white",
            "showbackground": true,
            "ticks": "",
            "zerolinecolor": "white"
           }
          },
          "shapedefaults": {
           "line": {
            "color": "#2a3f5f"
           }
          },
          "ternary": {
           "aaxis": {
            "gridcolor": "white",
            "linecolor": "white",
            "ticks": ""
           },
           "baxis": {
            "gridcolor": "white",
            "linecolor": "white",
            "ticks": ""
           },
           "bgcolor": "#E5ECF6",
           "caxis": {
            "gridcolor": "white",
            "linecolor": "white",
            "ticks": ""
           }
          },
          "title": {
           "x": 0.05
          },
          "xaxis": {
           "automargin": true,
           "gridcolor": "white",
           "linecolor": "white",
           "ticks": "",
           "title": {
            "standoff": 15
           },
           "zerolinecolor": "white",
           "zerolinewidth": 2
          },
          "yaxis": {
           "automargin": true,
           "gridcolor": "white",
           "linecolor": "white",
           "ticks": "",
           "title": {
            "standoff": 15
           },
           "zerolinecolor": "white",
           "zerolinewidth": 2
          }
         }
        },
        "title": {
         "text": "Hyperparameter Importances"
        },
        "xaxis": {
         "title": {
          "text": "Importance for Objective Value"
         }
        },
        "yaxis": {
         "title": {
          "text": "Hyperparameter"
         }
        }
       }
      }
     },
     "metadata": {},
     "output_type": "display_data"
    }
   ],
   "source": [
    "optuna.visualization.plot_param_importances(study)"
   ]
  }
 ],
 "metadata": {
  "language_info": {
   "name": "python"
  },
  "orig_nbformat": 4
 },
 "nbformat": 4,
 "nbformat_minor": 2
}
