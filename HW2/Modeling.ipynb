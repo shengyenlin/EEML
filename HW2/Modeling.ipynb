{
 "cells": [
  {
   "cell_type": "code",
   "execution_count": 1,
   "metadata": {},
   "outputs": [],
   "source": [
    "import numpy as np\n",
    "import pandas as pd\n",
    "import os\n",
    "import matplotlib.pyplot as plt\n",
    "from sklearn.model_selection import GridSearchCV\n",
    "from sklearn.neighbors import KNeighborsClassifier\n",
    "\n",
    "from helper import load_data, write_to_csv, set_sepcial_observation\n",
    "import DataPreprocessor \n",
    "#from handcraft_logistic_regression import LogisticRegression"
   ]
  },
  {
   "cell_type": "code",
   "execution_count": 19,
   "metadata": {},
   "outputs": [
    {
     "data": {
      "text/plain": [
       "<module 'DataPreprocessor' from 'd:\\\\Coding\\\\NTU\\\\110-1\\\\EEML\\\\HW2\\\\DataPreprocessor.py'>"
      ]
     },
     "execution_count": 19,
     "metadata": {},
     "output_type": "execute_result"
    }
   ],
   "source": [
    "import importlib\n",
    "importlib.reload(DataPreprocessor)"
   ]
  },
  {
   "cell_type": "code",
   "execution_count": 2,
   "metadata": {},
   "outputs": [],
   "source": [
    "data_path = \"./data/\"\n",
    "path_train = os.path.join(data_path, \"train.csv\")\n",
    "path_test = os.path.join(data_path, \"test.csv\")\n",
    "data_train, data_test = load_data(path_train, path_test)"
   ]
  },
  {
   "cell_type": "code",
   "execution_count": 3,
   "metadata": {},
   "outputs": [
    {
     "name": "stdout",
     "output_type": "stream",
     "text": [
      "(32561, 103)\n",
      "(16281, 103)\n"
     ]
    },
    {
     "name": "stderr",
     "output_type": "stream",
     "text": [
      "/content/gdrive/MyDrive/EEML/HW2/DataPreprocessor.py:32: SettingWithCopyWarning: \n",
      "A value is trying to be set on a copy of a slice from a DataFrame.\n",
      "Try using .loc[row_indexer,col_indexer] = value instead\n",
      "\n",
      "See the caveats in the documentation: https://pandas.pydata.org/pandas-docs/stable/user_guide/indexing.html#returning-a-view-versus-a-copy\n",
      "  data_cat[\"native_country\"] = data_cat[\"native_country\"].astype(pd.CategoricalDtype(categories=self.all_native_countries))\n"
     ]
    }
   ],
   "source": [
    "DP = DataPreprocessor.DataPreprocessor()\n",
    "X_train, y_train = DP.preprocess_train_data(data_train)\n",
    "X_test= DP.preprocess_test_data(data_test)"
   ]
  },
  {
   "cell_type": "code",
   "execution_count": 4,
   "metadata": {},
   "outputs": [
    {
     "name": "stdout",
     "output_type": "stream",
     "text": [
      "(32561, 108)\n",
      "(16281, 108)\n"
     ]
    }
   ],
   "source": [
    "print(X_train.shape)\n",
    "print(X_test.shape)"
   ]
  },
  {
   "cell_type": "markdown",
   "metadata": {},
   "source": [
    "# Modeling"
   ]
  },
  {
   "cell_type": "code",
   "execution_count": 24,
   "metadata": {},
   "outputs": [],
   "source": [
    "cond1 = (data_test[\"education_num\"] == 1)\n",
    "cond2 = (data_test[\"workclass\"] == \"Never-worked\")\n",
    "special_index = data_test[cond1 | cond2].index.tolist()"
   ]
  },
  {
   "cell_type": "markdown",
   "metadata": {},
   "source": [
    "# All features\n",
    "## Numerical\n",
    "- robust scaling\n",
    "## Categorical\n",
    "- one-hot"
   ]
  },
  {
   "cell_type": "markdown",
   "metadata": {},
   "source": [
    "## KNN\n"
   ]
  },
  {
   "cell_type": "code",
   "execution_count": 5,
   "metadata": {},
   "outputs": [],
   "source": [
    "k_max = round(np.sqrt(X_train.shape[0]))\n",
    "k_range = list(range(20, k_max, 3))\n",
    "param_grid = {\n",
    "    \"n_neighbors\": k_range,\n",
    "    \"weights\": [\"uniform\", \"distance\"],\n",
    "    \"metric\": [\"euclidean\", \"manhattan\"]\n",
    "}"
   ]
  },
  {
   "cell_type": "code",
   "execution_count": 6,
   "metadata": {},
   "outputs": [
    {
     "name": "stdout",
     "output_type": "stream",
     "text": [
      "Fitting 5 folds for each of 216 candidates, totalling 1080 fits\n"
     ]
    },
    {
     "name": "stderr",
     "output_type": "stream",
     "text": [
      "[Parallel(n_jobs=-1)]: Using backend LokyBackend with 2 concurrent workers.\n",
      "[Parallel(n_jobs=-1)]: Done  46 tasks      | elapsed:   59.3s\n",
      "[Parallel(n_jobs=-1)]: Done 196 tasks      | elapsed:  4.5min\n",
      "[Parallel(n_jobs=-1)]: Done 446 tasks      | elapsed: 11.6min\n",
      "[Parallel(n_jobs=-1)]: Done 796 tasks      | elapsed: 20.9min\n",
      "[Parallel(n_jobs=-1)]: Done 1080 out of 1080 | elapsed: 29.7min finished\n"
     ]
    }
   ],
   "source": [
    "KNN = KNeighborsClassifier()\n",
    "GS = GridSearchCV(KNN, \n",
    "    param_grid, \n",
    "    verbose = 1,\n",
    "    cv = 5, n_jobs = -1).fit(X_train, y_train)"
   ]
  },
  {
   "cell_type": "code",
   "execution_count": 10,
   "metadata": {},
   "outputs": [
    {
     "data": {
      "text/plain": [
       "0.9999692884125181"
      ]
     },
     "execution_count": 10,
     "metadata": {},
     "output_type": "execute_result"
    }
   ],
   "source": [
    "GS.score(X_train, y_train)"
   ]
  },
  {
   "cell_type": "code",
   "execution_count": 14,
   "metadata": {},
   "outputs": [
    {
     "data": {
      "text/plain": [
       "KNeighborsClassifier(algorithm='auto', leaf_size=30, metric='manhattan',\n",
       "                     metric_params=None, n_jobs=None, n_neighbors=32, p=2,\n",
       "                     weights='distance')"
      ]
     },
     "execution_count": 14,
     "metadata": {},
     "output_type": "execute_result"
    }
   ],
   "source": [
    "GS.best_estimator_"
   ]
  },
  {
   "cell_type": "code",
   "execution_count": 8,
   "metadata": {},
   "outputs": [
    {
     "name": "stdout",
     "output_type": "stream",
     "text": [
      "param_n_neighbors\n",
      "20     0.798517\n",
      "23     0.799008\n",
      "26     0.799177\n",
      "29     0.800152\n",
      "32     0.799876\n",
      "35     0.799929\n",
      "38     0.799192\n",
      "41     0.799162\n",
      "44     0.798440\n",
      "47     0.798263\n",
      "50     0.797672\n",
      "53     0.797557\n",
      "56     0.796843\n",
      "59     0.796666\n",
      "62     0.796336\n",
      "65     0.796144\n",
      "68     0.795653\n",
      "71     0.795215\n",
      "74     0.794578\n",
      "77     0.794301\n",
      "80     0.793664\n",
      "83     0.793334\n",
      "86     0.792904\n",
      "89     0.792651\n",
      "92     0.792274\n",
      "95     0.791998\n",
      "98     0.791468\n",
      "101    0.791253\n",
      "104    0.790693\n",
      "107    0.790347\n",
      "110    0.789925\n",
      "113    0.789710\n",
      "116    0.789388\n",
      "119    0.789104\n",
      "122    0.788666\n",
      "125    0.788466\n",
      "128    0.787975\n",
      "131    0.787576\n",
      "134    0.787031\n",
      "137    0.786754\n",
      "140    0.786316\n",
      "143    0.786094\n",
      "146    0.785633\n",
      "149    0.785395\n",
      "152    0.784904\n",
      "155    0.784681\n",
      "158    0.784259\n",
      "161    0.784113\n",
      "164    0.783675\n",
      "167    0.783476\n",
      "170    0.783192\n",
      "173    0.783046\n",
      "176    0.782792\n",
      "179    0.782554\n",
      "Name: mean_test_score, dtype: float64\n"
     ]
    },
    {
     "data": {
      "image/png": "[encoded data removed]",
      "text/plain": [
       "<Figure size 432x288 with 1 Axes>"
      ]
     },
     "metadata": {
      "needs_background": "light"
     },
     "output_type": "display_data"
    }
   ],
   "source": [
    "GS_result = pd.DataFrame(GS.cv_results_)\n",
    "print(GS_result.groupby([\"param_n_neighbors\"])['mean_test_score'].mean())\n",
    "\n",
    "k_idx = GS_result.groupby([\"param_n_neighbors\"])['mean_test_score'].mean().index\n",
    "acc = GS_result.groupby([\"param_n_neighbors\"])['mean_test_score'].mean().values\n",
    "\n",
    "plt.plot(k_idx, acc)\n",
    "plt.xlabel('Value of K for KNN')\n",
    "plt.ylabel('Cross-Validated Accuracy')\n",
    "plt.show()"
   ]
  },
  {
   "cell_type": "code",
   "execution_count": 26,
   "metadata": {},
   "outputs": [
    {
     "name": "stdout",
     "output_type": "stream",
     "text": [
      "Before hard labeling, ratio of income >50K = 0.07579387015539586\n",
      "After hard labeling, ratio of income >50K = 0.07573244886677723\n"
     ]
    }
   ],
   "source": [
    "y_pred = GS.predict(X_test)\n",
    "print(f\"Before hard labeling, ratio of income >50K = {y_pred.sum() / y_pred.shape[0]}\")\n",
    "y_pred = set_sepcial_observation(y_pred, special_index)\n",
    "print(f\"After hard labeling, ratio of income >50K = {y_pred.sum() / y_pred.shape[0]}\")"
   ]
  },
  {
   "cell_type": "code",
   "execution_count": 27,
   "metadata": {},
   "outputs": [],
   "source": [
    "#記得改名字\n",
    "file_name = 'submission_1025_4.csv'\n",
    "write_to_csv(y_pred, file_name)"
   ]
  },
  {
   "cell_type": "markdown",
   "metadata": {},
   "source": [
    "## K-means"
   ]
  },
  {
   "cell_type": "markdown",
   "metadata": {},
   "source": [
    "# Selected features\n",
    "## Numerical\n",
    "- robust scaling\n",
    "## Categorical\n",
    "- one-hot\n",
    "- remove some features and categories"
   ]
  },
  {
   "cell_type": "markdown",
   "metadata": {},
   "source": [
    "## KNN"
   ]
  },
  {
   "cell_type": "code",
   "execution_count": 66,
   "metadata": {},
   "outputs": [],
   "source": [
    "k_max = round(np.sqrt(X_train.shape[0]))\n",
    "k_range = list(range(20, k_max, 3))\n",
    "param_grid = {\n",
    "    \"n_neighbors\": k_range,\n",
    "    \"weights\": [\"uniform\", \"distance\"],\n",
    "    \"metric\": [\"euclidean\", \"manhattan\"]\n",
    "}"
   ]
  },
  {
   "cell_type": "code",
   "execution_count": 67,
   "metadata": {},
   "outputs": [],
   "source": [
    "KNN = KNeighborsClassifier()\n",
    "GS = GridSearchCV(KNN, \n",
    "    param_grid, \n",
    "    verbose = 1,\n",
    "    cv = 5)"
   ]
  },
  {
   "cell_type": "code",
   "execution_count": 68,
   "metadata": {},
   "outputs": [
    {
     "name": "stdout",
     "output_type": "stream",
     "text": [
      "Fitting 5 folds for each of 56 candidates, totalling 280 fits\n"
     ]
    },
    {
     "name": "stderr",
     "output_type": "stream",
     "text": [
      "[Parallel(n_jobs=1)]: Using backend SequentialBackend with 1 concurrent workers.\n",
      "[Parallel(n_jobs=1)]: Done 280 out of 280 | elapsed: 15.2min finished\n"
     ]
    },
    {
     "data": {
      "text/plain": [
       "GridSearchCV(cv=5, error_score=nan,\n",
       "             estimator=KNeighborsClassifier(algorithm='auto', leaf_size=30,\n",
       "                                            metric='minkowski',\n",
       "                                            metric_params=None, n_jobs=None,\n",
       "                                            n_neighbors=5, p=2,\n",
       "                                            weights='uniform'),\n",
       "             iid='deprecated', n_jobs=None,\n",
       "             param_grid={'metric': ['euclidean', 'manhattan'],\n",
       "                         'n_neighbors': [25, 27, 29, 31, 33, 35, 37, 39, 41, 43,\n",
       "                                         45, 47, 49, 51],\n",
       "                         'weights': ['uniform', 'distance']},\n",
       "             pre_dispatch='2*n_jobs', refit=True, return_train_score=False,\n",
       "             scoring=None, verbose=1)"
      ]
     },
     "execution_count": 68,
     "metadata": {},
     "output_type": "execute_result"
    }
   ],
   "source": [
    "GS.fit(X_train, y_train)"
   ]
  },
  {
   "cell_type": "code",
   "execution_count": 69,
   "metadata": {},
   "outputs": [
    {
     "data": {
      "text/plain": [
       "0.8689044088238009"
      ]
     },
     "execution_count": 69,
     "metadata": {},
     "output_type": "execute_result"
    }
   ],
   "source": [
    "GS.score(X_train, y_train)"
   ]
  },
  {
   "cell_type": "code",
   "execution_count": 72,
   "metadata": {},
   "outputs": [
    {
     "data": {
      "text/plain": [
       "KNeighborsClassifier(algorithm='auto', leaf_size=30, metric='manhattan',\n",
       "                     metric_params=None, n_jobs=None, n_neighbors=35, p=2,\n",
       "                     weights='uniform')"
      ]
     },
     "execution_count": 72,
     "metadata": {},
     "output_type": "execute_result"
    }
   ],
   "source": [
    "GS.best_estimator_"
   ]
  },
  {
   "cell_type": "code",
   "execution_count": 73,
   "metadata": {},
   "outputs": [
    {
     "name": "stdout",
     "output_type": "stream",
     "text": [
      "param_n_neighbors\n",
      "25    0.858213\n",
      "27    0.858175\n",
      "29    0.858013\n",
      "31    0.858136\n",
      "33    0.858167\n",
      "35    0.858321\n",
      "37    0.858190\n",
      "39    0.858121\n",
      "41    0.858090\n",
      "43    0.857859\n",
      "45    0.858313\n",
      "47    0.858344\n",
      "49    0.858136\n",
      "51    0.857959\n",
      "Name: mean_test_score, dtype: float64\n"
     ]
    },
    {
     "data": {
      "image/png": "[encoded data removed]",
      "text/plain": [
       "<Figure size 432x288 with 1 Axes>"
      ]
     },
     "metadata": {
      "needs_background": "light"
     },
     "output_type": "display_data"
    }
   ],
   "source": [
    "GS_result = pd.DataFrame(GS.cv_results_)\n",
    "print(GS_result.groupby([\"param_n_neighbors\"])['mean_test_score'].mean())\n",
    "\n",
    "k_idx = GS_result.groupby([\"param_n_neighbors\"])['mean_test_score'].mean().index\n",
    "acc = GS_result.groupby([\"param_n_neighbors\"])['mean_test_score'].mean().values\n",
    "\n",
    "plt.plot(k_idx, acc)\n",
    "plt.xlabel('Value of K for KNN')\n",
    "plt.ylabel('Cross-Validated Accuracy')\n",
    "plt.show()"
   ]
  },
  {
   "cell_type": "code",
   "execution_count": 74,
   "metadata": {},
   "outputs": [
    {
     "name": "stdout",
     "output_type": "stream",
     "text": [
      "Before hard labeling, ratio of income >50K = 0.19783797064062403\n",
      "After hard labeling, ratio of income >50K = 0.1977765493520054\n"
     ]
    }
   ],
   "source": [
    "y_pred = GS.predict(X_test)\n",
    "print(f\"Before hard labeling, ratio of income >50K = {y_pred.sum() / y_pred.shape[0]}\")\n",
    "y_pred = set_sepcial_observation(y_pred, special_index)\n",
    "print(f\"After hard labeling, ratio of income >50K = {y_pred.sum() / y_pred.shape[0]}\")"
   ]
  },
  {
   "cell_type": "code",
   "execution_count": null,
   "metadata": {},
   "outputs": [],
   "source": [
    "#記得改名字\n",
    "file_name = 'submission_1025_3.csv'\n",
    "write_to_csv(y_pred, file_name)"
   ]
  },
  {
   "cell_type": "markdown",
   "metadata": {},
   "source": [
    "## K-means"
   ]
  },
  {
   "cell_type": "markdown",
   "metadata": {},
   "source": [
    "# Selected featuers\n",
    "- Only use numerical features"
   ]
  },
  {
   "cell_type": "markdown",
   "metadata": {},
   "source": [
    "k_max = round(np.sqrt(X_train.shape[0]))\n",
    "k_range = list(range(20, k_max, 3))\n",
    "param_grid = {\n",
    "    \"n_neighbors\": k_range,\n",
    "    \"weights\": [\"uniform\", \"distance\"],\n",
    "    \"metric\": [\"euclidean\", \"manhattan\"]\n",
    "}"
   ]
  }
 ],
 "metadata": {
  "interpreter": {
   "hash": "949777d72b0d2535278d3dc13498b2535136f6dfe0678499012e853ee9abcab1"
  },
  "kernelspec": {
   "display_name": "Python 3.7.12 64-bit",
   "name": "python3"
  },
  "language_info": {
   "codemirror_mode": {
    "name": "ipython",
    "version": 3
   },
   "file_extension": ".py",
   "mimetype": "text/x-python",
   "name": "python",
   "nbconvert_exporter": "python",
   "pygments_lexer": "ipython3",
   "version": "3.7.12"
  },
  "orig_nbformat": 4
 },
 "nbformat": 4,
 "nbformat_minor": 2
}
